{
  "nbformat": 4,
  "nbformat_minor": 0,
  "metadata": {
    "accelerator": "GPU",
    "colab": {
      "name": "1laba.ipynb",
      "provenance": [],
      "collapsed_sections": [
        "nFgquqn9rJiw",
        "99_uXo-hbWxf",
        "wBsj20MKctCw",
        "2frdsDEu8ue9",
        "Qq231_kyVeB-"
      ],
      "authorship_tag": "ABX9TyNABVyGSHjBSu7avembsIkA",
      "include_colab_link": true
    },
    "kernelspec": {
      "display_name": "Python 3",
      "name": "python3"
    },
    "language_info": {
      "name": "python"
    },
    "widgets": {
      "application/vnd.jupyter.widget-state+json": {
        "a42b9a931fed454b82c3cc5c133c2bde": {
          "model_module": "@jupyter-widgets/controls",
          "model_name": "HBoxModel",
          "model_module_version": "1.5.0",
          "state": {
            "_view_name": "HBoxView",
            "_dom_classes": [],
            "_model_name": "HBoxModel",
            "_view_module": "@jupyter-widgets/controls",
            "_model_module_version": "1.5.0",
            "_view_count": null,
            "_view_module_version": "1.5.0",
            "box_style": "",
            "layout": "IPY_MODEL_210a637f9466441190d65e3c73df6055",
            "_model_module": "@jupyter-widgets/controls",
            "children": [
              "IPY_MODEL_72677fb6bfb748c2b5ff411f032ab614",
              "IPY_MODEL_6196c571c96c4985bf41c9ac5f0d853c",
              "IPY_MODEL_3a52e2f16d53454faabba195bee86554"
            ]
          }
        },
        "210a637f9466441190d65e3c73df6055": {
          "model_module": "@jupyter-widgets/base",
          "model_name": "LayoutModel",
          "model_module_version": "1.2.0",
          "state": {
            "_view_name": "LayoutView",
            "grid_template_rows": null,
            "right": null,
            "justify_content": null,
            "_view_module": "@jupyter-widgets/base",
            "overflow": null,
            "_model_module_version": "1.2.0",
            "_view_count": null,
            "flex_flow": null,
            "width": null,
            "min_width": null,
            "border": null,
            "align_items": null,
            "bottom": null,
            "_model_module": "@jupyter-widgets/base",
            "top": null,
            "grid_column": null,
            "overflow_y": null,
            "overflow_x": null,
            "grid_auto_flow": null,
            "grid_area": null,
            "grid_template_columns": null,
            "flex": null,
            "_model_name": "LayoutModel",
            "justify_items": null,
            "grid_row": null,
            "max_height": null,
            "align_content": null,
            "visibility": null,
            "align_self": null,
            "height": null,
            "min_height": null,
            "padding": null,
            "grid_auto_rows": null,
            "grid_gap": null,
            "max_width": null,
            "order": null,
            "_view_module_version": "1.2.0",
            "grid_template_areas": null,
            "object_position": null,
            "object_fit": null,
            "grid_auto_columns": null,
            "margin": null,
            "display": null,
            "left": null
          }
        },
        "72677fb6bfb748c2b5ff411f032ab614": {
          "model_module": "@jupyter-widgets/controls",
          "model_name": "HTMLModel",
          "model_module_version": "1.5.0",
          "state": {
            "_view_name": "HTMLView",
            "style": "IPY_MODEL_0aa527f9f8024d97a6e9ff9332ca33b0",
            "_dom_classes": [],
            "description": "",
            "_model_name": "HTMLModel",
            "placeholder": "​",
            "_view_module": "@jupyter-widgets/controls",
            "_model_module_version": "1.5.0",
            "value": "100%",
            "_view_count": null,
            "_view_module_version": "1.5.0",
            "description_tooltip": null,
            "_model_module": "@jupyter-widgets/controls",
            "layout": "IPY_MODEL_45a9b219bac24ce5a4c76d8fadbc2340"
          }
        },
        "6196c571c96c4985bf41c9ac5f0d853c": {
          "model_module": "@jupyter-widgets/controls",
          "model_name": "FloatProgressModel",
          "model_module_version": "1.5.0",
          "state": {
            "_view_name": "ProgressView",
            "style": "IPY_MODEL_1367b405a57d4780af02ba07e3ff9b26",
            "_dom_classes": [],
            "description": "",
            "_model_name": "FloatProgressModel",
            "bar_style": "success",
            "max": 8594,
            "_view_module": "@jupyter-widgets/controls",
            "_model_module_version": "1.5.0",
            "value": 8594,
            "_view_count": null,
            "_view_module_version": "1.5.0",
            "orientation": "horizontal",
            "min": 0,
            "description_tooltip": null,
            "_model_module": "@jupyter-widgets/controls",
            "layout": "IPY_MODEL_a9a8e2d774834565b7adcec83d4f50f7"
          }
        },
        "3a52e2f16d53454faabba195bee86554": {
          "model_module": "@jupyter-widgets/controls",
          "model_name": "HTMLModel",
          "model_module_version": "1.5.0",
          "state": {
            "_view_name": "HTMLView",
            "style": "IPY_MODEL_0ee40cbbdf344d169d48fd05ddcb53c7",
            "_dom_classes": [],
            "description": "",
            "_model_name": "HTMLModel",
            "placeholder": "​",
            "_view_module": "@jupyter-widgets/controls",
            "_model_module_version": "1.5.0",
            "value": " 8594/8594 [01:50&lt;00:00, 61.55it/s]",
            "_view_count": null,
            "_view_module_version": "1.5.0",
            "description_tooltip": null,
            "_model_module": "@jupyter-widgets/controls",
            "layout": "IPY_MODEL_007b8304fd2f48438724fb40b5c6251a"
          }
        },
        "0aa527f9f8024d97a6e9ff9332ca33b0": {
          "model_module": "@jupyter-widgets/controls",
          "model_name": "DescriptionStyleModel",
          "model_module_version": "1.5.0",
          "state": {
            "_view_name": "StyleView",
            "_model_name": "DescriptionStyleModel",
            "description_width": "",
            "_view_module": "@jupyter-widgets/base",
            "_model_module_version": "1.5.0",
            "_view_count": null,
            "_view_module_version": "1.2.0",
            "_model_module": "@jupyter-widgets/controls"
          }
        },
        "45a9b219bac24ce5a4c76d8fadbc2340": {
          "model_module": "@jupyter-widgets/base",
          "model_name": "LayoutModel",
          "model_module_version": "1.2.0",
          "state": {
            "_view_name": "LayoutView",
            "grid_template_rows": null,
            "right": null,
            "justify_content": null,
            "_view_module": "@jupyter-widgets/base",
            "overflow": null,
            "_model_module_version": "1.2.0",
            "_view_count": null,
            "flex_flow": null,
            "width": null,
            "min_width": null,
            "border": null,
            "align_items": null,
            "bottom": null,
            "_model_module": "@jupyter-widgets/base",
            "top": null,
            "grid_column": null,
            "overflow_y": null,
            "overflow_x": null,
            "grid_auto_flow": null,
            "grid_area": null,
            "grid_template_columns": null,
            "flex": null,
            "_model_name": "LayoutModel",
            "justify_items": null,
            "grid_row": null,
            "max_height": null,
            "align_content": null,
            "visibility": null,
            "align_self": null,
            "height": null,
            "min_height": null,
            "padding": null,
            "grid_auto_rows": null,
            "grid_gap": null,
            "max_width": null,
            "order": null,
            "_view_module_version": "1.2.0",
            "grid_template_areas": null,
            "object_position": null,
            "object_fit": null,
            "grid_auto_columns": null,
            "margin": null,
            "display": null,
            "left": null
          }
        },
        "1367b405a57d4780af02ba07e3ff9b26": {
          "model_module": "@jupyter-widgets/controls",
          "model_name": "ProgressStyleModel",
          "model_module_version": "1.5.0",
          "state": {
            "_view_name": "StyleView",
            "_model_name": "ProgressStyleModel",
            "description_width": "",
            "_view_module": "@jupyter-widgets/base",
            "_model_module_version": "1.5.0",
            "_view_count": null,
            "_view_module_version": "1.2.0",
            "bar_color": null,
            "_model_module": "@jupyter-widgets/controls"
          }
        },
        "a9a8e2d774834565b7adcec83d4f50f7": {
          "model_module": "@jupyter-widgets/base",
          "model_name": "LayoutModel",
          "model_module_version": "1.2.0",
          "state": {
            "_view_name": "LayoutView",
            "grid_template_rows": null,
            "right": null,
            "justify_content": null,
            "_view_module": "@jupyter-widgets/base",
            "overflow": null,
            "_model_module_version": "1.2.0",
            "_view_count": null,
            "flex_flow": null,
            "width": null,
            "min_width": null,
            "border": null,
            "align_items": null,
            "bottom": null,
            "_model_module": "@jupyter-widgets/base",
            "top": null,
            "grid_column": null,
            "overflow_y": null,
            "overflow_x": null,
            "grid_auto_flow": null,
            "grid_area": null,
            "grid_template_columns": null,
            "flex": null,
            "_model_name": "LayoutModel",
            "justify_items": null,
            "grid_row": null,
            "max_height": null,
            "align_content": null,
            "visibility": null,
            "align_self": null,
            "height": null,
            "min_height": null,
            "padding": null,
            "grid_auto_rows": null,
            "grid_gap": null,
            "max_width": null,
            "order": null,
            "_view_module_version": "1.2.0",
            "grid_template_areas": null,
            "object_position": null,
            "object_fit": null,
            "grid_auto_columns": null,
            "margin": null,
            "display": null,
            "left": null
          }
        },
        "0ee40cbbdf344d169d48fd05ddcb53c7": {
          "model_module": "@jupyter-widgets/controls",
          "model_name": "DescriptionStyleModel",
          "model_module_version": "1.5.0",
          "state": {
            "_view_name": "StyleView",
            "_model_name": "DescriptionStyleModel",
            "description_width": "",
            "_view_module": "@jupyter-widgets/base",
            "_model_module_version": "1.5.0",
            "_view_count": null,
            "_view_module_version": "1.2.0",
            "_model_module": "@jupyter-widgets/controls"
          }
        },
        "007b8304fd2f48438724fb40b5c6251a": {
          "model_module": "@jupyter-widgets/base",
          "model_name": "LayoutModel",
          "model_module_version": "1.2.0",
          "state": {
            "_view_name": "LayoutView",
            "grid_template_rows": null,
            "right": null,
            "justify_content": null,
            "_view_module": "@jupyter-widgets/base",
            "overflow": null,
            "_model_module_version": "1.2.0",
            "_view_count": null,
            "flex_flow": null,
            "width": null,
            "min_width": null,
            "border": null,
            "align_items": null,
            "bottom": null,
            "_model_module": "@jupyter-widgets/base",
            "top": null,
            "grid_column": null,
            "overflow_y": null,
            "overflow_x": null,
            "grid_auto_flow": null,
            "grid_area": null,
            "grid_template_columns": null,
            "flex": null,
            "_model_name": "LayoutModel",
            "justify_items": null,
            "grid_row": null,
            "max_height": null,
            "align_content": null,
            "visibility": null,
            "align_self": null,
            "height": null,
            "min_height": null,
            "padding": null,
            "grid_auto_rows": null,
            "grid_gap": null,
            "max_width": null,
            "order": null,
            "_view_module_version": "1.2.0",
            "grid_template_areas": null,
            "object_position": null,
            "object_fit": null,
            "grid_auto_columns": null,
            "margin": null,
            "display": null,
            "left": null
          }
        },
        "0a93eeeea831491b8f3837d07da37188": {
          "model_module": "@jupyter-widgets/controls",
          "model_name": "HBoxModel",
          "model_module_version": "1.5.0",
          "state": {
            "_view_name": "HBoxView",
            "_dom_classes": [],
            "_model_name": "HBoxModel",
            "_view_module": "@jupyter-widgets/controls",
            "_model_module_version": "1.5.0",
            "_view_count": null,
            "_view_module_version": "1.5.0",
            "box_style": "",
            "layout": "IPY_MODEL_f0ce4a0dca4541b8b1b7e24b258b19dd",
            "_model_module": "@jupyter-widgets/controls",
            "children": [
              "IPY_MODEL_3a3ee5b2b5fc4d2f8947b4d00ea0f857",
              "IPY_MODEL_cbdb1be808184304a4b5f12a5ae017cc",
              "IPY_MODEL_732721419e994827ae3596930f4225fe"
            ]
          }
        },
        "f0ce4a0dca4541b8b1b7e24b258b19dd": {
          "model_module": "@jupyter-widgets/base",
          "model_name": "LayoutModel",
          "model_module_version": "1.2.0",
          "state": {
            "_view_name": "LayoutView",
            "grid_template_rows": null,
            "right": null,
            "justify_content": null,
            "_view_module": "@jupyter-widgets/base",
            "overflow": null,
            "_model_module_version": "1.2.0",
            "_view_count": null,
            "flex_flow": null,
            "width": null,
            "min_width": null,
            "border": null,
            "align_items": null,
            "bottom": null,
            "_model_module": "@jupyter-widgets/base",
            "top": null,
            "grid_column": null,
            "overflow_y": null,
            "overflow_x": null,
            "grid_auto_flow": null,
            "grid_area": null,
            "grid_template_columns": null,
            "flex": null,
            "_model_name": "LayoutModel",
            "justify_items": null,
            "grid_row": null,
            "max_height": null,
            "align_content": null,
            "visibility": null,
            "align_self": null,
            "height": null,
            "min_height": null,
            "padding": null,
            "grid_auto_rows": null,
            "grid_gap": null,
            "max_width": null,
            "order": null,
            "_view_module_version": "1.2.0",
            "grid_template_areas": null,
            "object_position": null,
            "object_fit": null,
            "grid_auto_columns": null,
            "margin": null,
            "display": null,
            "left": null
          }
        },
        "3a3ee5b2b5fc4d2f8947b4d00ea0f857": {
          "model_module": "@jupyter-widgets/controls",
          "model_name": "HTMLModel",
          "model_module_version": "1.5.0",
          "state": {
            "_view_name": "HTMLView",
            "style": "IPY_MODEL_36d33946a3974c84a20ebd7a4eaf7e66",
            "_dom_classes": [],
            "description": "",
            "_model_name": "HTMLModel",
            "placeholder": "​",
            "_view_module": "@jupyter-widgets/controls",
            "_model_module_version": "1.5.0",
            "value": "100%",
            "_view_count": null,
            "_view_module_version": "1.5.0",
            "description_tooltip": null,
            "_model_module": "@jupyter-widgets/controls",
            "layout": "IPY_MODEL_db5b2e2644d94df2b999ac1acac93df6"
          }
        },
        "cbdb1be808184304a4b5f12a5ae017cc": {
          "model_module": "@jupyter-widgets/controls",
          "model_name": "FloatProgressModel",
          "model_module_version": "1.5.0",
          "state": {
            "_view_name": "ProgressView",
            "style": "IPY_MODEL_87d0ec46361748bf9fc05fd14f9a94af",
            "_dom_classes": [],
            "description": "",
            "_model_name": "FloatProgressModel",
            "bar_style": "success",
            "max": 74858,
            "_view_module": "@jupyter-widgets/controls",
            "_model_module_version": "1.5.0",
            "value": 74858,
            "_view_count": null,
            "_view_module_version": "1.5.0",
            "orientation": "horizontal",
            "min": 0,
            "description_tooltip": null,
            "_model_module": "@jupyter-widgets/controls",
            "layout": "IPY_MODEL_1686579b7ef5495683e63e8e2d14094d"
          }
        },
        "732721419e994827ae3596930f4225fe": {
          "model_module": "@jupyter-widgets/controls",
          "model_name": "HTMLModel",
          "model_module_version": "1.5.0",
          "state": {
            "_view_name": "HTMLView",
            "style": "IPY_MODEL_f5d0244e67534034bdf633247bed144d",
            "_dom_classes": [],
            "description": "",
            "_model_name": "HTMLModel",
            "placeholder": "​",
            "_view_module": "@jupyter-widgets/controls",
            "_model_module_version": "1.5.0",
            "value": " 74858/74858 [00:00&lt;00:00, 133311.42it/s]",
            "_view_count": null,
            "_view_module_version": "1.5.0",
            "description_tooltip": null,
            "_model_module": "@jupyter-widgets/controls",
            "layout": "IPY_MODEL_9f132f8d49054261b240847248829555"
          }
        },
        "36d33946a3974c84a20ebd7a4eaf7e66": {
          "model_module": "@jupyter-widgets/controls",
          "model_name": "DescriptionStyleModel",
          "model_module_version": "1.5.0",
          "state": {
            "_view_name": "StyleView",
            "_model_name": "DescriptionStyleModel",
            "description_width": "",
            "_view_module": "@jupyter-widgets/base",
            "_model_module_version": "1.5.0",
            "_view_count": null,
            "_view_module_version": "1.2.0",
            "_model_module": "@jupyter-widgets/controls"
          }
        },
        "db5b2e2644d94df2b999ac1acac93df6": {
          "model_module": "@jupyter-widgets/base",
          "model_name": "LayoutModel",
          "model_module_version": "1.2.0",
          "state": {
            "_view_name": "LayoutView",
            "grid_template_rows": null,
            "right": null,
            "justify_content": null,
            "_view_module": "@jupyter-widgets/base",
            "overflow": null,
            "_model_module_version": "1.2.0",
            "_view_count": null,
            "flex_flow": null,
            "width": null,
            "min_width": null,
            "border": null,
            "align_items": null,
            "bottom": null,
            "_model_module": "@jupyter-widgets/base",
            "top": null,
            "grid_column": null,
            "overflow_y": null,
            "overflow_x": null,
            "grid_auto_flow": null,
            "grid_area": null,
            "grid_template_columns": null,
            "flex": null,
            "_model_name": "LayoutModel",
            "justify_items": null,
            "grid_row": null,
            "max_height": null,
            "align_content": null,
            "visibility": null,
            "align_self": null,
            "height": null,
            "min_height": null,
            "padding": null,
            "grid_auto_rows": null,
            "grid_gap": null,
            "max_width": null,
            "order": null,
            "_view_module_version": "1.2.0",
            "grid_template_areas": null,
            "object_position": null,
            "object_fit": null,
            "grid_auto_columns": null,
            "margin": null,
            "display": null,
            "left": null
          }
        },
        "87d0ec46361748bf9fc05fd14f9a94af": {
          "model_module": "@jupyter-widgets/controls",
          "model_name": "ProgressStyleModel",
          "model_module_version": "1.5.0",
          "state": {
            "_view_name": "StyleView",
            "_model_name": "ProgressStyleModel",
            "description_width": "",
            "_view_module": "@jupyter-widgets/base",
            "_model_module_version": "1.5.0",
            "_view_count": null,
            "_view_module_version": "1.2.0",
            "bar_color": null,
            "_model_module": "@jupyter-widgets/controls"
          }
        },
        "1686579b7ef5495683e63e8e2d14094d": {
          "model_module": "@jupyter-widgets/base",
          "model_name": "LayoutModel",
          "model_module_version": "1.2.0",
          "state": {
            "_view_name": "LayoutView",
            "grid_template_rows": null,
            "right": null,
            "justify_content": null,
            "_view_module": "@jupyter-widgets/base",
            "overflow": null,
            "_model_module_version": "1.2.0",
            "_view_count": null,
            "flex_flow": null,
            "width": null,
            "min_width": null,
            "border": null,
            "align_items": null,
            "bottom": null,
            "_model_module": "@jupyter-widgets/base",
            "top": null,
            "grid_column": null,
            "overflow_y": null,
            "overflow_x": null,
            "grid_auto_flow": null,
            "grid_area": null,
            "grid_template_columns": null,
            "flex": null,
            "_model_name": "LayoutModel",
            "justify_items": null,
            "grid_row": null,
            "max_height": null,
            "align_content": null,
            "visibility": null,
            "align_self": null,
            "height": null,
            "min_height": null,
            "padding": null,
            "grid_auto_rows": null,
            "grid_gap": null,
            "max_width": null,
            "order": null,
            "_view_module_version": "1.2.0",
            "grid_template_areas": null,
            "object_position": null,
            "object_fit": null,
            "grid_auto_columns": null,
            "margin": null,
            "display": null,
            "left": null
          }
        },
        "f5d0244e67534034bdf633247bed144d": {
          "model_module": "@jupyter-widgets/controls",
          "model_name": "DescriptionStyleModel",
          "model_module_version": "1.5.0",
          "state": {
            "_view_name": "StyleView",
            "_model_name": "DescriptionStyleModel",
            "description_width": "",
            "_view_module": "@jupyter-widgets/base",
            "_model_module_version": "1.5.0",
            "_view_count": null,
            "_view_module_version": "1.2.0",
            "_model_module": "@jupyter-widgets/controls"
          }
        },
        "9f132f8d49054261b240847248829555": {
          "model_module": "@jupyter-widgets/base",
          "model_name": "LayoutModel",
          "model_module_version": "1.2.0",
          "state": {
            "_view_name": "LayoutView",
            "grid_template_rows": null,
            "right": null,
            "justify_content": null,
            "_view_module": "@jupyter-widgets/base",
            "overflow": null,
            "_model_module_version": "1.2.0",
            "_view_count": null,
            "flex_flow": null,
            "width": null,
            "min_width": null,
            "border": null,
            "align_items": null,
            "bottom": null,
            "_model_module": "@jupyter-widgets/base",
            "top": null,
            "grid_column": null,
            "overflow_y": null,
            "overflow_x": null,
            "grid_auto_flow": null,
            "grid_area": null,
            "grid_template_columns": null,
            "flex": null,
            "_model_name": "LayoutModel",
            "justify_items": null,
            "grid_row": null,
            "max_height": null,
            "align_content": null,
            "visibility": null,
            "align_self": null,
            "height": null,
            "min_height": null,
            "padding": null,
            "grid_auto_rows": null,
            "grid_gap": null,
            "max_width": null,
            "order": null,
            "_view_module_version": "1.2.0",
            "grid_template_areas": null,
            "object_position": null,
            "object_fit": null,
            "grid_auto_columns": null,
            "margin": null,
            "display": null,
            "left": null
          }
        },
        "61e1932e504e42828eeb0420155c8e89": {
          "model_module": "@jupyter-widgets/controls",
          "model_name": "HBoxModel",
          "model_module_version": "1.5.0",
          "state": {
            "_view_name": "HBoxView",
            "_dom_classes": [],
            "_model_name": "HBoxModel",
            "_view_module": "@jupyter-widgets/controls",
            "_model_module_version": "1.5.0",
            "_view_count": null,
            "_view_module_version": "1.5.0",
            "box_style": "",
            "layout": "IPY_MODEL_18f82e098fd44ab9a311203f7207825d",
            "_model_module": "@jupyter-widgets/controls",
            "children": [
              "IPY_MODEL_e0bb8d09a1d04deea9b55bbf9dc97200",
              "IPY_MODEL_17c7255c92db43dc9df3e4d5c2db8469",
              "IPY_MODEL_57e7fbd61fd943c39081626fc0ea152a"
            ]
          }
        },
        "18f82e098fd44ab9a311203f7207825d": {
          "model_module": "@jupyter-widgets/base",
          "model_name": "LayoutModel",
          "model_module_version": "1.2.0",
          "state": {
            "_view_name": "LayoutView",
            "grid_template_rows": null,
            "right": null,
            "justify_content": null,
            "_view_module": "@jupyter-widgets/base",
            "overflow": null,
            "_model_module_version": "1.2.0",
            "_view_count": null,
            "flex_flow": null,
            "width": null,
            "min_width": null,
            "border": null,
            "align_items": null,
            "bottom": null,
            "_model_module": "@jupyter-widgets/base",
            "top": null,
            "grid_column": null,
            "overflow_y": null,
            "overflow_x": null,
            "grid_auto_flow": null,
            "grid_area": null,
            "grid_template_columns": null,
            "flex": null,
            "_model_name": "LayoutModel",
            "justify_items": null,
            "grid_row": null,
            "max_height": null,
            "align_content": null,
            "visibility": null,
            "align_self": null,
            "height": null,
            "min_height": null,
            "padding": null,
            "grid_auto_rows": null,
            "grid_gap": null,
            "max_width": null,
            "order": null,
            "_view_module_version": "1.2.0",
            "grid_template_areas": null,
            "object_position": null,
            "object_fit": null,
            "grid_auto_columns": null,
            "margin": null,
            "display": null,
            "left": null
          }
        },
        "e0bb8d09a1d04deea9b55bbf9dc97200": {
          "model_module": "@jupyter-widgets/controls",
          "model_name": "HTMLModel",
          "model_module_version": "1.5.0",
          "state": {
            "_view_name": "HTMLView",
            "style": "IPY_MODEL_6e99cc2e87994662bd9994cfc030b328",
            "_dom_classes": [],
            "description": "",
            "_model_name": "HTMLModel",
            "placeholder": "​",
            "_view_module": "@jupyter-widgets/controls",
            "_model_module_version": "1.5.0",
            "value": "100%",
            "_view_count": null,
            "_view_module_version": "1.5.0",
            "description_tooltip": null,
            "_model_module": "@jupyter-widgets/controls",
            "layout": "IPY_MODEL_10d1210d29b84391abc17366c97c2783"
          }
        },
        "17c7255c92db43dc9df3e4d5c2db8469": {
          "model_module": "@jupyter-widgets/controls",
          "model_name": "FloatProgressModel",
          "model_module_version": "1.5.0",
          "state": {
            "_view_name": "ProgressView",
            "style": "IPY_MODEL_71f65bbb311d43f294659b1779a33352",
            "_dom_classes": [],
            "description": "",
            "_model_name": "FloatProgressModel",
            "bar_style": "success",
            "max": 200,
            "_view_module": "@jupyter-widgets/controls",
            "_model_module_version": "1.5.0",
            "value": 200,
            "_view_count": null,
            "_view_module_version": "1.5.0",
            "orientation": "horizontal",
            "min": 0,
            "description_tooltip": null,
            "_model_module": "@jupyter-widgets/controls",
            "layout": "IPY_MODEL_4e5f8cb296294073a5cabc99a45d37e6"
          }
        },
        "57e7fbd61fd943c39081626fc0ea152a": {
          "model_module": "@jupyter-widgets/controls",
          "model_name": "HTMLModel",
          "model_module_version": "1.5.0",
          "state": {
            "_view_name": "HTMLView",
            "style": "IPY_MODEL_fc6f18f21753476d8a197e7eef6ce95a",
            "_dom_classes": [],
            "description": "",
            "_model_name": "HTMLModel",
            "placeholder": "​",
            "_view_module": "@jupyter-widgets/controls",
            "_model_module_version": "1.5.0",
            "value": " 200/200 [00:01&lt;00:00, 145.09it/s]",
            "_view_count": null,
            "_view_module_version": "1.5.0",
            "description_tooltip": null,
            "_model_module": "@jupyter-widgets/controls",
            "layout": "IPY_MODEL_c0d3dc3329094749bddc9882e48c8709"
          }
        },
        "6e99cc2e87994662bd9994cfc030b328": {
          "model_module": "@jupyter-widgets/controls",
          "model_name": "DescriptionStyleModel",
          "model_module_version": "1.5.0",
          "state": {
            "_view_name": "StyleView",
            "_model_name": "DescriptionStyleModel",
            "description_width": "",
            "_view_module": "@jupyter-widgets/base",
            "_model_module_version": "1.5.0",
            "_view_count": null,
            "_view_module_version": "1.2.0",
            "_model_module": "@jupyter-widgets/controls"
          }
        },
        "10d1210d29b84391abc17366c97c2783": {
          "model_module": "@jupyter-widgets/base",
          "model_name": "LayoutModel",
          "model_module_version": "1.2.0",
          "state": {
            "_view_name": "LayoutView",
            "grid_template_rows": null,
            "right": null,
            "justify_content": null,
            "_view_module": "@jupyter-widgets/base",
            "overflow": null,
            "_model_module_version": "1.2.0",
            "_view_count": null,
            "flex_flow": null,
            "width": null,
            "min_width": null,
            "border": null,
            "align_items": null,
            "bottom": null,
            "_model_module": "@jupyter-widgets/base",
            "top": null,
            "grid_column": null,
            "overflow_y": null,
            "overflow_x": null,
            "grid_auto_flow": null,
            "grid_area": null,
            "grid_template_columns": null,
            "flex": null,
            "_model_name": "LayoutModel",
            "justify_items": null,
            "grid_row": null,
            "max_height": null,
            "align_content": null,
            "visibility": null,
            "align_self": null,
            "height": null,
            "min_height": null,
            "padding": null,
            "grid_auto_rows": null,
            "grid_gap": null,
            "max_width": null,
            "order": null,
            "_view_module_version": "1.2.0",
            "grid_template_areas": null,
            "object_position": null,
            "object_fit": null,
            "grid_auto_columns": null,
            "margin": null,
            "display": null,
            "left": null
          }
        },
        "71f65bbb311d43f294659b1779a33352": {
          "model_module": "@jupyter-widgets/controls",
          "model_name": "ProgressStyleModel",
          "model_module_version": "1.5.0",
          "state": {
            "_view_name": "StyleView",
            "_model_name": "ProgressStyleModel",
            "description_width": "",
            "_view_module": "@jupyter-widgets/base",
            "_model_module_version": "1.5.0",
            "_view_count": null,
            "_view_module_version": "1.2.0",
            "bar_color": null,
            "_model_module": "@jupyter-widgets/controls"
          }
        },
        "4e5f8cb296294073a5cabc99a45d37e6": {
          "model_module": "@jupyter-widgets/base",
          "model_name": "LayoutModel",
          "model_module_version": "1.2.0",
          "state": {
            "_view_name": "LayoutView",
            "grid_template_rows": null,
            "right": null,
            "justify_content": null,
            "_view_module": "@jupyter-widgets/base",
            "overflow": null,
            "_model_module_version": "1.2.0",
            "_view_count": null,
            "flex_flow": null,
            "width": null,
            "min_width": null,
            "border": null,
            "align_items": null,
            "bottom": null,
            "_model_module": "@jupyter-widgets/base",
            "top": null,
            "grid_column": null,
            "overflow_y": null,
            "overflow_x": null,
            "grid_auto_flow": null,
            "grid_area": null,
            "grid_template_columns": null,
            "flex": null,
            "_model_name": "LayoutModel",
            "justify_items": null,
            "grid_row": null,
            "max_height": null,
            "align_content": null,
            "visibility": null,
            "align_self": null,
            "height": null,
            "min_height": null,
            "padding": null,
            "grid_auto_rows": null,
            "grid_gap": null,
            "max_width": null,
            "order": null,
            "_view_module_version": "1.2.0",
            "grid_template_areas": null,
            "object_position": null,
            "object_fit": null,
            "grid_auto_columns": null,
            "margin": null,
            "display": null,
            "left": null
          }
        },
        "fc6f18f21753476d8a197e7eef6ce95a": {
          "model_module": "@jupyter-widgets/controls",
          "model_name": "DescriptionStyleModel",
          "model_module_version": "1.5.0",
          "state": {
            "_view_name": "StyleView",
            "_model_name": "DescriptionStyleModel",
            "description_width": "",
            "_view_module": "@jupyter-widgets/base",
            "_model_module_version": "1.5.0",
            "_view_count": null,
            "_view_module_version": "1.2.0",
            "_model_module": "@jupyter-widgets/controls"
          }
        },
        "c0d3dc3329094749bddc9882e48c8709": {
          "model_module": "@jupyter-widgets/base",
          "model_name": "LayoutModel",
          "model_module_version": "1.2.0",
          "state": {
            "_view_name": "LayoutView",
            "grid_template_rows": null,
            "right": null,
            "justify_content": null,
            "_view_module": "@jupyter-widgets/base",
            "overflow": null,
            "_model_module_version": "1.2.0",
            "_view_count": null,
            "flex_flow": null,
            "width": null,
            "min_width": null,
            "border": null,
            "align_items": null,
            "bottom": null,
            "_model_module": "@jupyter-widgets/base",
            "top": null,
            "grid_column": null,
            "overflow_y": null,
            "overflow_x": null,
            "grid_auto_flow": null,
            "grid_area": null,
            "grid_template_columns": null,
            "flex": null,
            "_model_name": "LayoutModel",
            "justify_items": null,
            "grid_row": null,
            "max_height": null,
            "align_content": null,
            "visibility": null,
            "align_self": null,
            "height": null,
            "min_height": null,
            "padding": null,
            "grid_auto_rows": null,
            "grid_gap": null,
            "max_width": null,
            "order": null,
            "_view_module_version": "1.2.0",
            "grid_template_areas": null,
            "object_position": null,
            "object_fit": null,
            "grid_auto_columns": null,
            "margin": null,
            "display": null,
            "left": null
          }
        },
        "26d9684c828445e380c6c57121170d6d": {
          "model_module": "@jupyter-widgets/controls",
          "model_name": "HBoxModel",
          "model_module_version": "1.5.0",
          "state": {
            "_view_name": "HBoxView",
            "_dom_classes": [],
            "_model_name": "HBoxModel",
            "_view_module": "@jupyter-widgets/controls",
            "_model_module_version": "1.5.0",
            "_view_count": null,
            "_view_module_version": "1.5.0",
            "box_style": "",
            "layout": "IPY_MODEL_2980a10867a7445f81664af3ee61604c",
            "_model_module": "@jupyter-widgets/controls",
            "children": [
              "IPY_MODEL_edaac40bdded4973a475284fd0ac95fa",
              "IPY_MODEL_9ee48ef6ca24489baff00203fcacb9f4",
              "IPY_MODEL_fc430ef36dbf46279b20e058a75c022a"
            ]
          }
        },
        "2980a10867a7445f81664af3ee61604c": {
          "model_module": "@jupyter-widgets/base",
          "model_name": "LayoutModel",
          "model_module_version": "1.2.0",
          "state": {
            "_view_name": "LayoutView",
            "grid_template_rows": null,
            "right": null,
            "justify_content": null,
            "_view_module": "@jupyter-widgets/base",
            "overflow": null,
            "_model_module_version": "1.2.0",
            "_view_count": null,
            "flex_flow": null,
            "width": null,
            "min_width": null,
            "border": null,
            "align_items": null,
            "bottom": null,
            "_model_module": "@jupyter-widgets/base",
            "top": null,
            "grid_column": null,
            "overflow_y": null,
            "overflow_x": null,
            "grid_auto_flow": null,
            "grid_area": null,
            "grid_template_columns": null,
            "flex": null,
            "_model_name": "LayoutModel",
            "justify_items": null,
            "grid_row": null,
            "max_height": null,
            "align_content": null,
            "visibility": null,
            "align_self": null,
            "height": null,
            "min_height": null,
            "padding": null,
            "grid_auto_rows": null,
            "grid_gap": null,
            "max_width": null,
            "order": null,
            "_view_module_version": "1.2.0",
            "grid_template_areas": null,
            "object_position": null,
            "object_fit": null,
            "grid_auto_columns": null,
            "margin": null,
            "display": null,
            "left": null
          }
        },
        "edaac40bdded4973a475284fd0ac95fa": {
          "model_module": "@jupyter-widgets/controls",
          "model_name": "HTMLModel",
          "model_module_version": "1.5.0",
          "state": {
            "_view_name": "HTMLView",
            "style": "IPY_MODEL_0fc5609e4f584f478112002570a86b7d",
            "_dom_classes": [],
            "description": "",
            "_model_name": "HTMLModel",
            "placeholder": "​",
            "_view_module": "@jupyter-widgets/controls",
            "_model_module_version": "1.5.0",
            "value": "100%",
            "_view_count": null,
            "_view_module_version": "1.5.0",
            "description_tooltip": null,
            "_model_module": "@jupyter-widgets/controls",
            "layout": "IPY_MODEL_66fd38441d2a4ec0b70434c1af0556e8"
          }
        },
        "9ee48ef6ca24489baff00203fcacb9f4": {
          "model_module": "@jupyter-widgets/controls",
          "model_name": "FloatProgressModel",
          "model_module_version": "1.5.0",
          "state": {
            "_view_name": "ProgressView",
            "style": "IPY_MODEL_74d36ee78ee54c9b910c5b9ae55279f5",
            "_dom_classes": [],
            "description": "",
            "_model_name": "FloatProgressModel",
            "bar_style": "success",
            "max": 3004,
            "_view_module": "@jupyter-widgets/controls",
            "_model_module_version": "1.5.0",
            "value": 3004,
            "_view_count": null,
            "_view_module_version": "1.5.0",
            "orientation": "horizontal",
            "min": 0,
            "description_tooltip": null,
            "_model_module": "@jupyter-widgets/controls",
            "layout": "IPY_MODEL_b47372795c8c4eaaa80f301ed94ddcb4"
          }
        },
        "fc430ef36dbf46279b20e058a75c022a": {
          "model_module": "@jupyter-widgets/controls",
          "model_name": "HTMLModel",
          "model_module_version": "1.5.0",
          "state": {
            "_view_name": "HTMLView",
            "style": "IPY_MODEL_aeae6f1cba424bc2ab2da831d2b15b60",
            "_dom_classes": [],
            "description": "",
            "_model_name": "HTMLModel",
            "placeholder": "​",
            "_view_module": "@jupyter-widgets/controls",
            "_model_module_version": "1.5.0",
            "value": " 3004/3004 [00:00&lt;00:00, 40308.04it/s]",
            "_view_count": null,
            "_view_module_version": "1.5.0",
            "description_tooltip": null,
            "_model_module": "@jupyter-widgets/controls",
            "layout": "IPY_MODEL_9a9548c7836849cdb354511fbeff7838"
          }
        },
        "0fc5609e4f584f478112002570a86b7d": {
          "model_module": "@jupyter-widgets/controls",
          "model_name": "DescriptionStyleModel",
          "model_module_version": "1.5.0",
          "state": {
            "_view_name": "StyleView",
            "_model_name": "DescriptionStyleModel",
            "description_width": "",
            "_view_module": "@jupyter-widgets/base",
            "_model_module_version": "1.5.0",
            "_view_count": null,
            "_view_module_version": "1.2.0",
            "_model_module": "@jupyter-widgets/controls"
          }
        },
        "66fd38441d2a4ec0b70434c1af0556e8": {
          "model_module": "@jupyter-widgets/base",
          "model_name": "LayoutModel",
          "model_module_version": "1.2.0",
          "state": {
            "_view_name": "LayoutView",
            "grid_template_rows": null,
            "right": null,
            "justify_content": null,
            "_view_module": "@jupyter-widgets/base",
            "overflow": null,
            "_model_module_version": "1.2.0",
            "_view_count": null,
            "flex_flow": null,
            "width": null,
            "min_width": null,
            "border": null,
            "align_items": null,
            "bottom": null,
            "_model_module": "@jupyter-widgets/base",
            "top": null,
            "grid_column": null,
            "overflow_y": null,
            "overflow_x": null,
            "grid_auto_flow": null,
            "grid_area": null,
            "grid_template_columns": null,
            "flex": null,
            "_model_name": "LayoutModel",
            "justify_items": null,
            "grid_row": null,
            "max_height": null,
            "align_content": null,
            "visibility": null,
            "align_self": null,
            "height": null,
            "min_height": null,
            "padding": null,
            "grid_auto_rows": null,
            "grid_gap": null,
            "max_width": null,
            "order": null,
            "_view_module_version": "1.2.0",
            "grid_template_areas": null,
            "object_position": null,
            "object_fit": null,
            "grid_auto_columns": null,
            "margin": null,
            "display": null,
            "left": null
          }
        },
        "74d36ee78ee54c9b910c5b9ae55279f5": {
          "model_module": "@jupyter-widgets/controls",
          "model_name": "ProgressStyleModel",
          "model_module_version": "1.5.0",
          "state": {
            "_view_name": "StyleView",
            "_model_name": "ProgressStyleModel",
            "description_width": "",
            "_view_module": "@jupyter-widgets/base",
            "_model_module_version": "1.5.0",
            "_view_count": null,
            "_view_module_version": "1.2.0",
            "bar_color": null,
            "_model_module": "@jupyter-widgets/controls"
          }
        },
        "b47372795c8c4eaaa80f301ed94ddcb4": {
          "model_module": "@jupyter-widgets/base",
          "model_name": "LayoutModel",
          "model_module_version": "1.2.0",
          "state": {
            "_view_name": "LayoutView",
            "grid_template_rows": null,
            "right": null,
            "justify_content": null,
            "_view_module": "@jupyter-widgets/base",
            "overflow": null,
            "_model_module_version": "1.2.0",
            "_view_count": null,
            "flex_flow": null,
            "width": null,
            "min_width": null,
            "border": null,
            "align_items": null,
            "bottom": null,
            "_model_module": "@jupyter-widgets/base",
            "top": null,
            "grid_column": null,
            "overflow_y": null,
            "overflow_x": null,
            "grid_auto_flow": null,
            "grid_area": null,
            "grid_template_columns": null,
            "flex": null,
            "_model_name": "LayoutModel",
            "justify_items": null,
            "grid_row": null,
            "max_height": null,
            "align_content": null,
            "visibility": null,
            "align_self": null,
            "height": null,
            "min_height": null,
            "padding": null,
            "grid_auto_rows": null,
            "grid_gap": null,
            "max_width": null,
            "order": null,
            "_view_module_version": "1.2.0",
            "grid_template_areas": null,
            "object_position": null,
            "object_fit": null,
            "grid_auto_columns": null,
            "margin": null,
            "display": null,
            "left": null
          }
        },
        "aeae6f1cba424bc2ab2da831d2b15b60": {
          "model_module": "@jupyter-widgets/controls",
          "model_name": "DescriptionStyleModel",
          "model_module_version": "1.5.0",
          "state": {
            "_view_name": "StyleView",
            "_model_name": "DescriptionStyleModel",
            "description_width": "",
            "_view_module": "@jupyter-widgets/base",
            "_model_module_version": "1.5.0",
            "_view_count": null,
            "_view_module_version": "1.2.0",
            "_model_module": "@jupyter-widgets/controls"
          }
        },
        "9a9548c7836849cdb354511fbeff7838": {
          "model_module": "@jupyter-widgets/base",
          "model_name": "LayoutModel",
          "model_module_version": "1.2.0",
          "state": {
            "_view_name": "LayoutView",
            "grid_template_rows": null,
            "right": null,
            "justify_content": null,
            "_view_module": "@jupyter-widgets/base",
            "overflow": null,
            "_model_module_version": "1.2.0",
            "_view_count": null,
            "flex_flow": null,
            "width": null,
            "min_width": null,
            "border": null,
            "align_items": null,
            "bottom": null,
            "_model_module": "@jupyter-widgets/base",
            "top": null,
            "grid_column": null,
            "overflow_y": null,
            "overflow_x": null,
            "grid_auto_flow": null,
            "grid_area": null,
            "grid_template_columns": null,
            "flex": null,
            "_model_name": "LayoutModel",
            "justify_items": null,
            "grid_row": null,
            "max_height": null,
            "align_content": null,
            "visibility": null,
            "align_self": null,
            "height": null,
            "min_height": null,
            "padding": null,
            "grid_auto_rows": null,
            "grid_gap": null,
            "max_width": null,
            "order": null,
            "_view_module_version": "1.2.0",
            "grid_template_areas": null,
            "object_position": null,
            "object_fit": null,
            "grid_auto_columns": null,
            "margin": null,
            "display": null,
            "left": null
          }
        }
      }
    }
  },
  "cells": [
    {
      "cell_type": "markdown",
      "metadata": {
        "id": "view-in-github",
        "colab_type": "text"
      },
      "source": [
        "<a href=\"https://colab.research.google.com/github/Stanislav98V/Speech_synthesis/blob/main/1laba.ipynb\" target=\"_parent\"><img src=\"https://colab.research.google.com/assets/colab-badge.svg\" alt=\"Open In Colab\"/></a>"
      ]
    },
    {
      "cell_type": "markdown",
      "metadata": {
        "id": "nFgquqn9rJiw"
      },
      "source": [
        "# Библиотеки"
      ]
    },
    {
      "cell_type": "code",
      "metadata": {
        "colab": {
          "base_uri": "https://localhost:8080/"
        },
        "id": "EpduOx7_B6Nv",
        "outputId": "0149c520-7ff6-49b2-f002-6b5958a20d95"
      },
      "source": [
        "!pip install lxml"
      ],
      "execution_count": 1,
      "outputs": [
        {
          "output_type": "stream",
          "name": "stdout",
          "text": [
            "Requirement already satisfied: lxml in /usr/local/lib/python3.7/dist-packages (4.2.6)\n"
          ]
        }
      ]
    },
    {
      "cell_type": "code",
      "metadata": {
        "colab": {
          "base_uri": "https://localhost:8080/"
        },
        "id": "amlV8QZIB-0u",
        "outputId": "f0a3b503-be65-4ccc-f51e-01519142873b"
      },
      "source": [
        "!pip install bs4"
      ],
      "execution_count": 2,
      "outputs": [
        {
          "output_type": "stream",
          "name": "stdout",
          "text": [
            "Requirement already satisfied: bs4 in /usr/local/lib/python3.7/dist-packages (0.0.1)\n",
            "Requirement already satisfied: beautifulsoup4 in /usr/local/lib/python3.7/dist-packages (from bs4) (4.6.3)\n"
          ]
        }
      ]
    },
    {
      "cell_type": "code",
      "metadata": {
        "id": "FUa2ZI6fbHFz"
      },
      "source": [
        "from google.colab import drive\n",
        "from html.parser import HTMLParser\n",
        "from bs4 import BeautifulSoup\n",
        "from tqdm.notebook import tqdm\n",
        "from sklearn import metrics\n",
        "from sklearn.metrics import classification_report, f1_score"
      ],
      "execution_count": 3,
      "outputs": []
    },
    {
      "cell_type": "markdown",
      "metadata": {
        "id": "bo6ObprfSI_u"
      },
      "source": [
        "Подключаем диск"
      ]
    },
    {
      "cell_type": "code",
      "metadata": {
        "colab": {
          "base_uri": "https://localhost:8080/"
        },
        "id": "GQsJSg_UZJK_",
        "outputId": "5ce0da96-6137-42f6-87e0-b6a70c174c4c"
      },
      "source": [
        "drive.mount('/content/drive')"
      ],
      "execution_count": 4,
      "outputs": [
        {
          "output_type": "stream",
          "name": "stdout",
          "text": [
            "Mounted at /content/drive\n"
          ]
        }
      ]
    },
    {
      "cell_type": "markdown",
      "metadata": {
        "id": "sivXDSdxSlnp"
      },
      "source": [
        "Загружаем файлы"
      ]
    },
    {
      "cell_type": "code",
      "metadata": {
        "id": "_GcsSv7RZ6An"
      },
      "source": [
        "with open('/content/drive/MyDrive/3_семестр/Синтез_речи/Text_Вобликов.xml', 'r') as f:\n",
        "    line = f.read()\n",
        "soup = BeautifulSoup(line, features=\"html.parser\")"
      ],
      "execution_count": 5,
      "outputs": []
    },
    {
      "cell_type": "code",
      "metadata": {
        "id": "9hGk0cWOeZIh"
      },
      "source": [
        "with open('/content/drive/MyDrive/3_семестр/Синтез_речи/Test!.xml', 'r') as f:\n",
        "    line = f.read()\n",
        "soup_test = BeautifulSoup(line, features=\"html.parser\")"
      ],
      "execution_count": 6,
      "outputs": []
    },
    {
      "cell_type": "markdown",
      "metadata": {
        "id": "99_uXo-hbWxf"
      },
      "source": [
        "# Функции"
      ]
    },
    {
      "cell_type": "markdown",
      "metadata": {
        "id": "EJCAiXx1TsfM"
      },
      "source": [
        "Фукция для выделения признаков из слов"
      ]
    },
    {
      "cell_type": "code",
      "metadata": {
        "id": "j1HAIS5nbRF3"
      },
      "source": [
        "def fea_word(tag_word):\n",
        "    feats = []\n",
        "    if 'subpart_of_speech' in tag_word.dictitem.attrs:\n",
        "        feats.append(tag_word.dictitem.attrs['subpart_of_speech'])\n",
        "    else:\n",
        "        feats.append(0)\n",
        "    if 'form' in tag_word.dictitem.attrs:\n",
        "        feats.append(tag_word.dictitem.attrs['form'])\n",
        "    else:\n",
        "        feats.append(0)\n",
        "    if 'genesys' in tag_word.dictitem.attrs:\n",
        "        feats.append(tag_word.dictitem.attrs['genesys'])\n",
        "    else:\n",
        "        feats.append(0)\n",
        "    if 'stress_dict' in tag_word.dictitem.attrs:\n",
        "        feats.append(tag_word.dictitem.attrs['stress_dict'])\n",
        "    else:\n",
        "        feats.append(0)\n",
        "    if 'semantics1' in tag_word.dictitem.attrs:\n",
        "        feats.append(tag_word.dictitem.attrs['semantics1'])\n",
        "    else:\n",
        "        feats.append(0)\n",
        "    if 'semantics2' in tag_word.dictitem.attrs:\n",
        "        feats.append(tag_word.dictitem.attrs['semantics2'])\n",
        "    else:\n",
        "        feats.append(0)\n",
        "    return feats"
      ],
      "execution_count": 7,
      "outputs": []
    },
    {
      "cell_type": "markdown",
      "metadata": {
        "id": "ETAJUcSVTzHc"
      },
      "source": [
        "Фукция для выделения признаков из пауз"
      ]
    },
    {
      "cell_type": "code",
      "metadata": {
        "id": "ZqqIPJDHbRI2"
      },
      "source": [
        "def fea_pause(tag_word):\n",
        "    feats = []\n",
        "    feats.append(['pause'])\n",
        "    feats.append(tag_word['time'])\n",
        "    return feats"
      ],
      "execution_count": 8,
      "outputs": []
    },
    {
      "cell_type": "markdown",
      "metadata": {
        "id": "S_D7kYKgUDrR"
      },
      "source": [
        "Фукция для выделения признаков из знаков препинания"
      ]
    },
    {
      "cell_type": "code",
      "metadata": {
        "id": "3WD-_1oRbRL-"
      },
      "source": [
        "def fea_content(tag_word):\n",
        "    feats = []\n",
        "    feats.append(['content'])\n",
        "    if len(tag_word.attrs) > 0:\n",
        "        if 'punktend' in tag_word.attrs:\n",
        "            feats.append(tag_word.attrs['punktend'])\n",
        "        else:\n",
        "            feats.append(0)\n",
        "        if 'punktbeg' in tag_word.attrs:\n",
        "            feats.append(tag_word.attrs['punktbeg'])\n",
        "        else:\n",
        "            feats.append(0)\n",
        "        if 'emphend' in tag_word.attrs:\n",
        "            feats.append(tag_word.attrs['emphend'])\n",
        "        else:\n",
        "            feats.append(0)\n",
        "        if 'emphbeg' in tag_word.attrs:\n",
        "            feats.append(tag_word.attrs['emphbeg'])\n",
        "        else:\n",
        "            feats.append(0)\n",
        "    else:\n",
        "        for i in range(4):\n",
        "            feats.append(0)\n",
        "    return feats"
      ],
      "execution_count": 9,
      "outputs": []
    },
    {
      "cell_type": "markdown",
      "metadata": {
        "id": "XFqc3fAnUN2c"
      },
      "source": [
        "Фукция для парсинга "
      ]
    },
    {
      "cell_type": "code",
      "metadata": {
        "id": "nkQTJtFWbiRj"
      },
      "source": [
        "def parse(soup):\n",
        "    sents = []\n",
        "    tags_sents = soup.find_all(['sentence'])\n",
        "    for tag_sent in tqdm(tags_sents):\n",
        "        tags_words = tag_sent.find_all(['pause', 'word', 'content'])\n",
        "        for i in range(len(tags_words)):\n",
        "            if tags_words[i].name == 'word':\n",
        "                if 'original' in tags_words[i].attrs:\n",
        "                    wor = []\n",
        "                    wor.append(['Слово= ', tags_words[i].attrs['original']])\n",
        "                    if tags_words[i].dictitem != None:\n",
        "                        feats_word = fea_word(tags_words[i])\n",
        "                    else:\n",
        "                        feats_word = []\n",
        "                        for i in range(6):\n",
        "                            feats_word.append(0)\n",
        "                    if 'nucleus' in tags_words[i].attrs:\n",
        "                        feats_word.append(tags_words[i].attrs['nucleus'])\n",
        "                    else:\n",
        "                        feats_word.append(0)\n",
        "                    if tags_words[i].letter != None:\n",
        "                        if 'flag' in tags_words[i].letter.attrs:\n",
        "                            feats_word.append(tags_words[i].letter.attrs['flag'])\n",
        "                        else:\n",
        "                            feats_word.append(0)\n",
        "                    else:\n",
        "                        feats_word.append(0)\n",
        "                    wor.append(feats_word)\n",
        "                    if len(tags_words) > i + 1:\n",
        "                        if tags_words[i + 1].name == 'pause':\n",
        "                            feats_pause = fea_pause(tags_words[i + 1])\n",
        "                            wor.append(feats_pause)\n",
        "                        elif tags_words[i + 1].name == 'content':\n",
        "                            feats_content = fea_content(tags_words[i + 1])\n",
        "                            wor.append(feats_content)\n",
        "                    if len(tags_words) > i + 2:\n",
        "                        if tags_words[i + 2].name == 'pause':\n",
        "                            feats_pause = fea_pause(tags_words[i + 2])\n",
        "                            wor.append(feats_pause)\n",
        "                        elif tags_words[i + 2].name == 'content':\n",
        "                            feats_content = fea_content(tags_words[i + 2])\n",
        "                            wor.append(feats_content)\n",
        "                    if len(wor) == 3:\n",
        "                        if wor[2][0] == ['content']:\n",
        "                            fe = []\n",
        "                            fe.append(['pause'])\n",
        "                            fe.append(0)\n",
        "                            wor.append(fe)\n",
        "                        elif wor[2][0] == ['pause']:\n",
        "                            copyz = wor[2]\n",
        "                            del wor[2]\n",
        "                            fe = []\n",
        "                            fe.append(['content'])\n",
        "                            for i in range(4):\n",
        "                                fe.append(0)\n",
        "                            wor.append(fe)\n",
        "                            fe = []\n",
        "                            fe.append(['pause'])\n",
        "                            fe.append(copyz[1])\n",
        "                            wor.append(fe)\n",
        "                    elif len(wor) == 2:\n",
        "                        fe = []\n",
        "                        fe.append(['content'])\n",
        "                        for i in range(4):\n",
        "                            fe.append(0)\n",
        "                        wor.append(fe)\n",
        "                        fe = []\n",
        "                        fe.append(['pause'])\n",
        "                        fe.append(0)\n",
        "                        wor.append(fe)\n",
        "                    elif len(wor) == 4:\n",
        "                        copyz = wor[2]\n",
        "                        del wor[2]\n",
        "                        fe = []\n",
        "                        fe.append(['pause'])\n",
        "                        fe.append(copyz[1])\n",
        "                        wor.append(fe)\n",
        "                    sents.append(wor)\n",
        "    print('Файл распарсин')\n",
        "    return sents"
      ],
      "execution_count": 10,
      "outputs": []
    },
    {
      "cell_type": "markdown",
      "metadata": {
        "id": "Evvq6bTdUiin"
      },
      "source": [
        "Функция для компенсации нулями недостающих признаков"
      ]
    },
    {
      "cell_type": "code",
      "metadata": {
        "id": "XVdT14FzbiUr"
      },
      "source": [
        "def completion(sents):\n",
        "    X = []\n",
        "    paus = []\n",
        "    dlin_paus = []\n",
        "    udar = []\n",
        "    for sent in tqdm(sents):\n",
        "        line = []\n",
        "        for i in range(8):\n",
        "            if i == 6:\n",
        "                if int(sent[1][i]) == 0:\n",
        "                    udar.append(0)\n",
        "                else:\n",
        "                    udar.append(1)\n",
        "            else:\n",
        "                line.append(int(sent[1][i]))\n",
        "        for i in range(1, 5):\n",
        "            line.append(int(sent[2][i]))\n",
        "        if int(sent[3][1]) == 0:\n",
        "            dlin_paus.append(0)\n",
        "        elif 300 > int(sent[3][1]) > 0:\n",
        "            dlin_paus.append(1)\n",
        "        else:\n",
        "            dlin_paus.append(2)\n",
        "        if sent[3][1] == 0:\n",
        "            paus.append(0)\n",
        "        else:\n",
        "            paus.append(1)\n",
        "        X.append(line)\n",
        "    return X, paus, dlin_paus, udar"
      ],
      "execution_count": 11,
      "outputs": []
    },
    {
      "cell_type": "markdown",
      "metadata": {
        "id": "wBsj20MKctCw"
      },
      "source": [
        "# Основа"
      ]
    },
    {
      "cell_type": "markdown",
      "metadata": {
        "id": "7QPVw3_5VI0R"
      },
      "source": [
        "Обработка тренировочного файла"
      ]
    },
    {
      "cell_type": "code",
      "metadata": {
        "colab": {
          "base_uri": "https://localhost:8080/",
          "height": 0,
          "referenced_widgets": [
            "a42b9a931fed454b82c3cc5c133c2bde",
            "210a637f9466441190d65e3c73df6055",
            "72677fb6bfb748c2b5ff411f032ab614",
            "6196c571c96c4985bf41c9ac5f0d853c",
            "3a52e2f16d53454faabba195bee86554",
            "0aa527f9f8024d97a6e9ff9332ca33b0",
            "45a9b219bac24ce5a4c76d8fadbc2340",
            "1367b405a57d4780af02ba07e3ff9b26",
            "a9a8e2d774834565b7adcec83d4f50f7",
            "0ee40cbbdf344d169d48fd05ddcb53c7",
            "007b8304fd2f48438724fb40b5c6251a",
            "0a93eeeea831491b8f3837d07da37188",
            "f0ce4a0dca4541b8b1b7e24b258b19dd",
            "3a3ee5b2b5fc4d2f8947b4d00ea0f857",
            "cbdb1be808184304a4b5f12a5ae017cc",
            "732721419e994827ae3596930f4225fe",
            "36d33946a3974c84a20ebd7a4eaf7e66",
            "db5b2e2644d94df2b999ac1acac93df6",
            "87d0ec46361748bf9fc05fd14f9a94af",
            "1686579b7ef5495683e63e8e2d14094d",
            "f5d0244e67534034bdf633247bed144d",
            "9f132f8d49054261b240847248829555"
          ]
        },
        "id": "-o_WzTNxcQA-",
        "outputId": "6b1ef7a7-bce6-4132-af53-49e39b8ec5e8"
      },
      "source": [
        "sents = parse(soup)\n",
        "print(len(sents))\n",
        "X, paus, dlin_paus, udar = completion(sents)"
      ],
      "execution_count": 12,
      "outputs": [
        {
          "output_type": "display_data",
          "data": {
            "application/vnd.jupyter.widget-view+json": {
              "model_id": "a42b9a931fed454b82c3cc5c133c2bde",
              "version_minor": 0,
              "version_major": 2
            },
            "text/plain": [
              "  0%|          | 0/8594 [00:00<?, ?it/s]"
            ]
          },
          "metadata": {}
        },
        {
          "output_type": "stream",
          "name": "stdout",
          "text": [
            "Файл распарсин\n",
            "74858\n"
          ]
        },
        {
          "output_type": "display_data",
          "data": {
            "application/vnd.jupyter.widget-view+json": {
              "model_id": "0a93eeeea831491b8f3837d07da37188",
              "version_minor": 0,
              "version_major": 2
            },
            "text/plain": [
              "  0%|          | 0/74858 [00:00<?, ?it/s]"
            ]
          },
          "metadata": {}
        }
      ]
    },
    {
      "cell_type": "markdown",
      "metadata": {
        "id": "C3XydC90VN4U"
      },
      "source": [
        "Обработка тестового файла"
      ]
    },
    {
      "cell_type": "code",
      "metadata": {
        "colab": {
          "base_uri": "https://localhost:8080/",
          "height": 0,
          "referenced_widgets": [
            "61e1932e504e42828eeb0420155c8e89",
            "18f82e098fd44ab9a311203f7207825d",
            "e0bb8d09a1d04deea9b55bbf9dc97200",
            "17c7255c92db43dc9df3e4d5c2db8469",
            "57e7fbd61fd943c39081626fc0ea152a",
            "6e99cc2e87994662bd9994cfc030b328",
            "10d1210d29b84391abc17366c97c2783",
            "71f65bbb311d43f294659b1779a33352",
            "4e5f8cb296294073a5cabc99a45d37e6",
            "fc6f18f21753476d8a197e7eef6ce95a",
            "c0d3dc3329094749bddc9882e48c8709",
            "26d9684c828445e380c6c57121170d6d",
            "2980a10867a7445f81664af3ee61604c",
            "edaac40bdded4973a475284fd0ac95fa",
            "9ee48ef6ca24489baff00203fcacb9f4",
            "fc430ef36dbf46279b20e058a75c022a",
            "0fc5609e4f584f478112002570a86b7d",
            "66fd38441d2a4ec0b70434c1af0556e8",
            "74d36ee78ee54c9b910c5b9ae55279f5",
            "b47372795c8c4eaaa80f301ed94ddcb4",
            "aeae6f1cba424bc2ab2da831d2b15b60",
            "9a9548c7836849cdb354511fbeff7838"
          ]
        },
        "id": "yPNrKCpXfK0F",
        "outputId": "f741ec0c-68b8-4825-af0a-2b311dbe204c"
      },
      "source": [
        "sents_test = parse(soup_test)\n",
        "print(len(sents_test))\n",
        "X_test, paus_test, dlin_paus_test, udar_test = completion(sents_test)"
      ],
      "execution_count": 13,
      "outputs": [
        {
          "output_type": "display_data",
          "data": {
            "application/vnd.jupyter.widget-view+json": {
              "model_id": "61e1932e504e42828eeb0420155c8e89",
              "version_minor": 0,
              "version_major": 2
            },
            "text/plain": [
              "  0%|          | 0/200 [00:00<?, ?it/s]"
            ]
          },
          "metadata": {}
        },
        {
          "output_type": "stream",
          "name": "stdout",
          "text": [
            "Файл распарсин\n",
            "3004\n"
          ]
        },
        {
          "output_type": "display_data",
          "data": {
            "application/vnd.jupyter.widget-view+json": {
              "model_id": "26d9684c828445e380c6c57121170d6d",
              "version_minor": 0,
              "version_major": 2
            },
            "text/plain": [
              "  0%|          | 0/3004 [00:00<?, ?it/s]"
            ]
          },
          "metadata": {}
        }
      ]
    },
    {
      "cell_type": "markdown",
      "metadata": {
        "id": "2frdsDEu8ue9"
      },
      "source": [
        "# Обучение"
      ]
    },
    {
      "cell_type": "markdown",
      "metadata": {
        "id": "Qq231_kyVeB-"
      },
      "source": [
        "### Отдельное обучение трёх Random Forest"
      ]
    },
    {
      "cell_type": "markdown",
      "metadata": {
        "id": "WREtYSVYVrQT"
      },
      "source": [
        "Random Forest для места пауз"
      ]
    },
    {
      "cell_type": "code",
      "metadata": {
        "colab": {
          "base_uri": "https://localhost:8080/"
        },
        "id": "GrMec7Lg8xbY",
        "outputId": "45cf0ab5-26e7-44da-994a-7d989559c071"
      },
      "source": [
        "from sklearn.ensemble import RandomForestClassifier\n",
        "\n",
        "clf_pause = RandomForestClassifier(max_depth=10, random_state=4)\n",
        "clf_pause.fit(X[:73000], paus[:73000])\n",
        "predicted = clf_pause.predict(X[73000:])\n",
        "print(metrics.classification_report(paus[73000:], predicted))"
      ],
      "execution_count": 14,
      "outputs": [
        {
          "output_type": "stream",
          "name": "stdout",
          "text": [
            "              precision    recall  f1-score   support\n",
            "\n",
            "           0       0.87      0.88      0.88      1401\n",
            "           1       0.62      0.60      0.61       457\n",
            "\n",
            "    accuracy                           0.81      1858\n",
            "   macro avg       0.75      0.74      0.74      1858\n",
            "weighted avg       0.81      0.81      0.81      1858\n",
            "\n"
          ]
        }
      ]
    },
    {
      "cell_type": "markdown",
      "metadata": {
        "id": "T5iMbq2jVwZa"
      },
      "source": [
        "Random Forest для длины пауз"
      ]
    },
    {
      "cell_type": "code",
      "metadata": {
        "colab": {
          "base_uri": "https://localhost:8080/"
        },
        "id": "16PfDro1KAtS",
        "outputId": "bd5c6ea3-4326-44f0-f9a0-14352a209b32"
      },
      "source": [
        "clf_dlin = RandomForestClassifier(max_depth=10, random_state=4)\n",
        "clf_dlin.fit(X[:73000], dlin_paus[:73000])\n",
        "predicted = clf_dlin.predict(X[73000:])\n",
        "print(metrics.classification_report(dlin_paus[73000:], predicted))"
      ],
      "execution_count": 15,
      "outputs": [
        {
          "output_type": "stream",
          "name": "stdout",
          "text": [
            "              precision    recall  f1-score   support\n",
            "\n",
            "           0       0.78      0.98      0.87      1401\n",
            "           1       0.86      0.04      0.07       161\n",
            "           2       0.57      0.17      0.26       296\n",
            "\n",
            "    accuracy                           0.77      1858\n",
            "   macro avg       0.74      0.40      0.40      1858\n",
            "weighted avg       0.75      0.77      0.71      1858\n",
            "\n"
          ]
        }
      ]
    },
    {
      "cell_type": "markdown",
      "metadata": {
        "id": "QvwPv1THV7Q8"
      },
      "source": [
        "Random Forest для места ударений"
      ]
    },
    {
      "cell_type": "code",
      "metadata": {
        "colab": {
          "base_uri": "https://localhost:8080/"
        },
        "id": "9dveZilFKA3Q",
        "outputId": "b3f25aef-7273-4848-e778-39f79266f80f"
      },
      "source": [
        "clf_udar = RandomForestClassifier(max_depth=10, random_state=4)\n",
        "clf_udar.fit(X[:73000], udar[:73000])\n",
        "predicted = clf_udar.predict(X[73000:])\n",
        "print(metrics.classification_report(udar[73000:], predicted))"
      ],
      "execution_count": 16,
      "outputs": [
        {
          "output_type": "stream",
          "name": "stdout",
          "text": [
            "              precision    recall  f1-score   support\n",
            "\n",
            "           0       0.87      0.88      0.87      1389\n",
            "           1       0.63      0.60      0.61       469\n",
            "\n",
            "    accuracy                           0.81      1858\n",
            "   macro avg       0.75      0.74      0.74      1858\n",
            "weighted avg       0.81      0.81      0.81      1858\n",
            "\n"
          ]
        }
      ]
    },
    {
      "cell_type": "markdown",
      "metadata": {
        "id": "OKcbfhgform3"
      },
      "source": [
        "# JSON"
      ]
    },
    {
      "cell_type": "code",
      "metadata": {
        "id": "BmwGI2O3sNts"
      },
      "source": [
        "udar_test = clf_udar.predict(X_test)\n",
        "pause_test = clf_dlin.predict(X_test) + clf_pause.predict(X_test)"
      ],
      "execution_count": 17,
      "outputs": []
    },
    {
      "cell_type": "markdown",
      "metadata": {
        "id": "GOJiHVV-WCDk"
      },
      "source": [
        "Функция для приведения результатов к нужному виду"
      ]
    },
    {
      "cell_type": "code",
      "metadata": {
        "id": "D1E4s_pGql04"
      },
      "source": [
        "def create_json(sents_test, X_test, udar_test, pause_test):\n",
        "    s = []\n",
        "    i = 0\n",
        "    while i < len(sents_test):\n",
        "        w = {'words': []}\n",
        "        count = 0\n",
        "        z = -1\n",
        "        while z != 0 and i < len(sents_test):\n",
        "            w_i = {\"content\": 0, \"phrasal_stress\": False, \"pause_len\": -1}\n",
        "            w_i[\"content\"] = sents_test[i][0][1]\n",
        "            if udar_test[i] == 1:\n",
        "                w_i[\"phrasal_stress\"] = True\n",
        "            if pause_test[i] == 1:\n",
        "                w_i[\"pause_len\"] = 200\n",
        "            elif pause_test[i] >= 2:\n",
        "                w_i[\"pause_len\"] = 500\n",
        "            w['words'].append(w_i)\n",
        "            if count != 0:\n",
        "                s.append(w)\n",
        "                z = 0\n",
        "            if X_test[i][7] == 1 or X_test[i][7] == 5 or X_test[i][7] == 6 or X_test[i][7] == 7:\n",
        "                count = 1\n",
        "            i += 1\n",
        "    return s"
      ],
      "execution_count": 18,
      "outputs": []
    },
    {
      "cell_type": "markdown",
      "metadata": {
        "id": "-K7Ay8uNWRCB"
      },
      "source": [
        "Сохранение результатов в формате json"
      ]
    },
    {
      "cell_type": "code",
      "metadata": {
        "id": "nXqOFt74x0qn"
      },
      "source": [
        "import json\n",
        "json_file = create_json(sents_test, X_test, udar_test, pause_test)"
      ],
      "execution_count": 41,
      "outputs": []
    },
    {
      "cell_type": "code",
      "metadata": {
        "id": "qqtsspcQyJ1B"
      },
      "source": [
        "with open('/content/drive/MyDrive/3_семестр/Синтез_речи/test_file.json', 'w') as file:\n",
        "    json.dump(json_file, file, sort_keys=False, ensure_ascii=False, separators=(',', ': '))"
      ],
      "execution_count": 43,
      "outputs": []
    }
  ]
}