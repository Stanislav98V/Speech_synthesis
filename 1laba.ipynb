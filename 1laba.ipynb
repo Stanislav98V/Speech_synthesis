{
  "nbformat": 4,
  "nbformat_minor": 0,
  "metadata": {
    "accelerator": "GPU",
    "colab": {
      "name": "1laba.ipynb",
      "provenance": [],
      "collapsed_sections": [
        "nFgquqn9rJiw",
        "99_uXo-hbWxf",
        "wBsj20MKctCw",
        "2frdsDEu8ue9",
        "Qq231_kyVeB-",
        "OKcbfhgform3"
      ],
      "authorship_tag": "ABX9TyMzHM4RY/G+f9PfJ82SB/G3",
      "include_colab_link": true
    },
    "kernelspec": {
      "display_name": "Python 3",
      "name": "python3"
    },
    "language_info": {
      "name": "python"
    },
    "widgets": {
      "application/vnd.jupyter.widget-state+json": {
        "67b5a4fabe784d12a84a482584d326a7": {
          "model_module": "@jupyter-widgets/controls",
          "model_name": "HBoxModel",
          "model_module_version": "1.5.0",
          "state": {
            "_view_name": "HBoxView",
            "_dom_classes": [],
            "_model_name": "HBoxModel",
            "_view_module": "@jupyter-widgets/controls",
            "_model_module_version": "1.5.0",
            "_view_count": null,
            "_view_module_version": "1.5.0",
            "box_style": "",
            "layout": "IPY_MODEL_e70c135573664e3295247e5d4b9a18d6",
            "_model_module": "@jupyter-widgets/controls",
            "children": [
              "IPY_MODEL_dba774b5211f4b11a2d006a34f555f75",
              "IPY_MODEL_56286cd5b2d34d3ebf212699954b7407",
              "IPY_MODEL_3b00dea37fd04721b4459e49c2a18db7"
            ]
          }
        },
        "e70c135573664e3295247e5d4b9a18d6": {
          "model_module": "@jupyter-widgets/base",
          "model_name": "LayoutModel",
          "model_module_version": "1.2.0",
          "state": {
            "_view_name": "LayoutView",
            "grid_template_rows": null,
            "right": null,
            "justify_content": null,
            "_view_module": "@jupyter-widgets/base",
            "overflow": null,
            "_model_module_version": "1.2.0",
            "_view_count": null,
            "flex_flow": null,
            "width": null,
            "min_width": null,
            "border": null,
            "align_items": null,
            "bottom": null,
            "_model_module": "@jupyter-widgets/base",
            "top": null,
            "grid_column": null,
            "overflow_y": null,
            "overflow_x": null,
            "grid_auto_flow": null,
            "grid_area": null,
            "grid_template_columns": null,
            "flex": null,
            "_model_name": "LayoutModel",
            "justify_items": null,
            "grid_row": null,
            "max_height": null,
            "align_content": null,
            "visibility": null,
            "align_self": null,
            "height": null,
            "min_height": null,
            "padding": null,
            "grid_auto_rows": null,
            "grid_gap": null,
            "max_width": null,
            "order": null,
            "_view_module_version": "1.2.0",
            "grid_template_areas": null,
            "object_position": null,
            "object_fit": null,
            "grid_auto_columns": null,
            "margin": null,
            "display": null,
            "left": null
          }
        },
        "dba774b5211f4b11a2d006a34f555f75": {
          "model_module": "@jupyter-widgets/controls",
          "model_name": "HTMLModel",
          "model_module_version": "1.5.0",
          "state": {
            "_view_name": "HTMLView",
            "style": "IPY_MODEL_f16f21f60c324b7baa4badf4cde24598",
            "_dom_classes": [],
            "description": "",
            "_model_name": "HTMLModel",
            "placeholder": "​",
            "_view_module": "@jupyter-widgets/controls",
            "_model_module_version": "1.5.0",
            "value": "100%",
            "_view_count": null,
            "_view_module_version": "1.5.0",
            "description_tooltip": null,
            "_model_module": "@jupyter-widgets/controls",
            "layout": "IPY_MODEL_06b035f7737f4548be39253f58aaec5a"
          }
        },
        "56286cd5b2d34d3ebf212699954b7407": {
          "model_module": "@jupyter-widgets/controls",
          "model_name": "FloatProgressModel",
          "model_module_version": "1.5.0",
          "state": {
            "_view_name": "ProgressView",
            "style": "IPY_MODEL_91af09d9851d4b968db1906d493d2ff3",
            "_dom_classes": [],
            "description": "",
            "_model_name": "FloatProgressModel",
            "bar_style": "success",
            "max": 8594,
            "_view_module": "@jupyter-widgets/controls",
            "_model_module_version": "1.5.0",
            "value": 8594,
            "_view_count": null,
            "_view_module_version": "1.5.0",
            "orientation": "horizontal",
            "min": 0,
            "description_tooltip": null,
            "_model_module": "@jupyter-widgets/controls",
            "layout": "IPY_MODEL_d4d13085b2ab44b1acf22795d3c77f2d"
          }
        },
        "3b00dea37fd04721b4459e49c2a18db7": {
          "model_module": "@jupyter-widgets/controls",
          "model_name": "HTMLModel",
          "model_module_version": "1.5.0",
          "state": {
            "_view_name": "HTMLView",
            "style": "IPY_MODEL_faf16aad4b024b6cb5d4f9ef9abdbfb4",
            "_dom_classes": [],
            "description": "",
            "_model_name": "HTMLModel",
            "placeholder": "​",
            "_view_module": "@jupyter-widgets/controls",
            "_model_module_version": "1.5.0",
            "value": " 8594/8594 [01:46&lt;00:00, 65.15it/s]",
            "_view_count": null,
            "_view_module_version": "1.5.0",
            "description_tooltip": null,
            "_model_module": "@jupyter-widgets/controls",
            "layout": "IPY_MODEL_c8628c0f91ea491fba8f78d7638526ff"
          }
        },
        "f16f21f60c324b7baa4badf4cde24598": {
          "model_module": "@jupyter-widgets/controls",
          "model_name": "DescriptionStyleModel",
          "model_module_version": "1.5.0",
          "state": {
            "_view_name": "StyleView",
            "_model_name": "DescriptionStyleModel",
            "description_width": "",
            "_view_module": "@jupyter-widgets/base",
            "_model_module_version": "1.5.0",
            "_view_count": null,
            "_view_module_version": "1.2.0",
            "_model_module": "@jupyter-widgets/controls"
          }
        },
        "06b035f7737f4548be39253f58aaec5a": {
          "model_module": "@jupyter-widgets/base",
          "model_name": "LayoutModel",
          "model_module_version": "1.2.0",
          "state": {
            "_view_name": "LayoutView",
            "grid_template_rows": null,
            "right": null,
            "justify_content": null,
            "_view_module": "@jupyter-widgets/base",
            "overflow": null,
            "_model_module_version": "1.2.0",
            "_view_count": null,
            "flex_flow": null,
            "width": null,
            "min_width": null,
            "border": null,
            "align_items": null,
            "bottom": null,
            "_model_module": "@jupyter-widgets/base",
            "top": null,
            "grid_column": null,
            "overflow_y": null,
            "overflow_x": null,
            "grid_auto_flow": null,
            "grid_area": null,
            "grid_template_columns": null,
            "flex": null,
            "_model_name": "LayoutModel",
            "justify_items": null,
            "grid_row": null,
            "max_height": null,
            "align_content": null,
            "visibility": null,
            "align_self": null,
            "height": null,
            "min_height": null,
            "padding": null,
            "grid_auto_rows": null,
            "grid_gap": null,
            "max_width": null,
            "order": null,
            "_view_module_version": "1.2.0",
            "grid_template_areas": null,
            "object_position": null,
            "object_fit": null,
            "grid_auto_columns": null,
            "margin": null,
            "display": null,
            "left": null
          }
        },
        "91af09d9851d4b968db1906d493d2ff3": {
          "model_module": "@jupyter-widgets/controls",
          "model_name": "ProgressStyleModel",
          "model_module_version": "1.5.0",
          "state": {
            "_view_name": "StyleView",
            "_model_name": "ProgressStyleModel",
            "description_width": "",
            "_view_module": "@jupyter-widgets/base",
            "_model_module_version": "1.5.0",
            "_view_count": null,
            "_view_module_version": "1.2.0",
            "bar_color": null,
            "_model_module": "@jupyter-widgets/controls"
          }
        },
        "d4d13085b2ab44b1acf22795d3c77f2d": {
          "model_module": "@jupyter-widgets/base",
          "model_name": "LayoutModel",
          "model_module_version": "1.2.0",
          "state": {
            "_view_name": "LayoutView",
            "grid_template_rows": null,
            "right": null,
            "justify_content": null,
            "_view_module": "@jupyter-widgets/base",
            "overflow": null,
            "_model_module_version": "1.2.0",
            "_view_count": null,
            "flex_flow": null,
            "width": null,
            "min_width": null,
            "border": null,
            "align_items": null,
            "bottom": null,
            "_model_module": "@jupyter-widgets/base",
            "top": null,
            "grid_column": null,
            "overflow_y": null,
            "overflow_x": null,
            "grid_auto_flow": null,
            "grid_area": null,
            "grid_template_columns": null,
            "flex": null,
            "_model_name": "LayoutModel",
            "justify_items": null,
            "grid_row": null,
            "max_height": null,
            "align_content": null,
            "visibility": null,
            "align_self": null,
            "height": null,
            "min_height": null,
            "padding": null,
            "grid_auto_rows": null,
            "grid_gap": null,
            "max_width": null,
            "order": null,
            "_view_module_version": "1.2.0",
            "grid_template_areas": null,
            "object_position": null,
            "object_fit": null,
            "grid_auto_columns": null,
            "margin": null,
            "display": null,
            "left": null
          }
        },
        "faf16aad4b024b6cb5d4f9ef9abdbfb4": {
          "model_module": "@jupyter-widgets/controls",
          "model_name": "DescriptionStyleModel",
          "model_module_version": "1.5.0",
          "state": {
            "_view_name": "StyleView",
            "_model_name": "DescriptionStyleModel",
            "description_width": "",
            "_view_module": "@jupyter-widgets/base",
            "_model_module_version": "1.5.0",
            "_view_count": null,
            "_view_module_version": "1.2.0",
            "_model_module": "@jupyter-widgets/controls"
          }
        },
        "c8628c0f91ea491fba8f78d7638526ff": {
          "model_module": "@jupyter-widgets/base",
          "model_name": "LayoutModel",
          "model_module_version": "1.2.0",
          "state": {
            "_view_name": "LayoutView",
            "grid_template_rows": null,
            "right": null,
            "justify_content": null,
            "_view_module": "@jupyter-widgets/base",
            "overflow": null,
            "_model_module_version": "1.2.0",
            "_view_count": null,
            "flex_flow": null,
            "width": null,
            "min_width": null,
            "border": null,
            "align_items": null,
            "bottom": null,
            "_model_module": "@jupyter-widgets/base",
            "top": null,
            "grid_column": null,
            "overflow_y": null,
            "overflow_x": null,
            "grid_auto_flow": null,
            "grid_area": null,
            "grid_template_columns": null,
            "flex": null,
            "_model_name": "LayoutModel",
            "justify_items": null,
            "grid_row": null,
            "max_height": null,
            "align_content": null,
            "visibility": null,
            "align_self": null,
            "height": null,
            "min_height": null,
            "padding": null,
            "grid_auto_rows": null,
            "grid_gap": null,
            "max_width": null,
            "order": null,
            "_view_module_version": "1.2.0",
            "grid_template_areas": null,
            "object_position": null,
            "object_fit": null,
            "grid_auto_columns": null,
            "margin": null,
            "display": null,
            "left": null
          }
        },
        "666860062cd14a248daef5ba216322e4": {
          "model_module": "@jupyter-widgets/controls",
          "model_name": "HBoxModel",
          "model_module_version": "1.5.0",
          "state": {
            "_view_name": "HBoxView",
            "_dom_classes": [],
            "_model_name": "HBoxModel",
            "_view_module": "@jupyter-widgets/controls",
            "_model_module_version": "1.5.0",
            "_view_count": null,
            "_view_module_version": "1.5.0",
            "box_style": "",
            "layout": "IPY_MODEL_89ebd3ad78aa4ace990cc787b2225b88",
            "_model_module": "@jupyter-widgets/controls",
            "children": [
              "IPY_MODEL_98320a2f84124e078dbc3ee50da3d45f",
              "IPY_MODEL_a50f825e470c46a8b7a2cd5246b3a858",
              "IPY_MODEL_c4d47d675d894a50a3f6160978155aed"
            ]
          }
        },
        "89ebd3ad78aa4ace990cc787b2225b88": {
          "model_module": "@jupyter-widgets/base",
          "model_name": "LayoutModel",
          "model_module_version": "1.2.0",
          "state": {
            "_view_name": "LayoutView",
            "grid_template_rows": null,
            "right": null,
            "justify_content": null,
            "_view_module": "@jupyter-widgets/base",
            "overflow": null,
            "_model_module_version": "1.2.0",
            "_view_count": null,
            "flex_flow": null,
            "width": null,
            "min_width": null,
            "border": null,
            "align_items": null,
            "bottom": null,
            "_model_module": "@jupyter-widgets/base",
            "top": null,
            "grid_column": null,
            "overflow_y": null,
            "overflow_x": null,
            "grid_auto_flow": null,
            "grid_area": null,
            "grid_template_columns": null,
            "flex": null,
            "_model_name": "LayoutModel",
            "justify_items": null,
            "grid_row": null,
            "max_height": null,
            "align_content": null,
            "visibility": null,
            "align_self": null,
            "height": null,
            "min_height": null,
            "padding": null,
            "grid_auto_rows": null,
            "grid_gap": null,
            "max_width": null,
            "order": null,
            "_view_module_version": "1.2.0",
            "grid_template_areas": null,
            "object_position": null,
            "object_fit": null,
            "grid_auto_columns": null,
            "margin": null,
            "display": null,
            "left": null
          }
        },
        "98320a2f84124e078dbc3ee50da3d45f": {
          "model_module": "@jupyter-widgets/controls",
          "model_name": "HTMLModel",
          "model_module_version": "1.5.0",
          "state": {
            "_view_name": "HTMLView",
            "style": "IPY_MODEL_82610f714c054fafb793aa7f277f80fd",
            "_dom_classes": [],
            "description": "",
            "_model_name": "HTMLModel",
            "placeholder": "​",
            "_view_module": "@jupyter-widgets/controls",
            "_model_module_version": "1.5.0",
            "value": "100%",
            "_view_count": null,
            "_view_module_version": "1.5.0",
            "description_tooltip": null,
            "_model_module": "@jupyter-widgets/controls",
            "layout": "IPY_MODEL_37fba0171d664c098821de6d7bf52c41"
          }
        },
        "a50f825e470c46a8b7a2cd5246b3a858": {
          "model_module": "@jupyter-widgets/controls",
          "model_name": "FloatProgressModel",
          "model_module_version": "1.5.0",
          "state": {
            "_view_name": "ProgressView",
            "style": "IPY_MODEL_df8a1cd7b1d84b4ba7a8a724508b47ed",
            "_dom_classes": [],
            "description": "",
            "_model_name": "FloatProgressModel",
            "bar_style": "success",
            "max": 74858,
            "_view_module": "@jupyter-widgets/controls",
            "_model_module_version": "1.5.0",
            "value": 74858,
            "_view_count": null,
            "_view_module_version": "1.5.0",
            "orientation": "horizontal",
            "min": 0,
            "description_tooltip": null,
            "_model_module": "@jupyter-widgets/controls",
            "layout": "IPY_MODEL_fbe4a53309dc415b8c9765f4bbbadf5b"
          }
        },
        "c4d47d675d894a50a3f6160978155aed": {
          "model_module": "@jupyter-widgets/controls",
          "model_name": "HTMLModel",
          "model_module_version": "1.5.0",
          "state": {
            "_view_name": "HTMLView",
            "style": "IPY_MODEL_6fb7c313cf9f48b8a26179fcb5ed722a",
            "_dom_classes": [],
            "description": "",
            "_model_name": "HTMLModel",
            "placeholder": "​",
            "_view_module": "@jupyter-widgets/controls",
            "_model_module_version": "1.5.0",
            "value": " 74858/74858 [00:00&lt;00:00, 132077.40it/s]",
            "_view_count": null,
            "_view_module_version": "1.5.0",
            "description_tooltip": null,
            "_model_module": "@jupyter-widgets/controls",
            "layout": "IPY_MODEL_34c607229dcf43869c846bb06a2ec4b1"
          }
        },
        "82610f714c054fafb793aa7f277f80fd": {
          "model_module": "@jupyter-widgets/controls",
          "model_name": "DescriptionStyleModel",
          "model_module_version": "1.5.0",
          "state": {
            "_view_name": "StyleView",
            "_model_name": "DescriptionStyleModel",
            "description_width": "",
            "_view_module": "@jupyter-widgets/base",
            "_model_module_version": "1.5.0",
            "_view_count": null,
            "_view_module_version": "1.2.0",
            "_model_module": "@jupyter-widgets/controls"
          }
        },
        "37fba0171d664c098821de6d7bf52c41": {
          "model_module": "@jupyter-widgets/base",
          "model_name": "LayoutModel",
          "model_module_version": "1.2.0",
          "state": {
            "_view_name": "LayoutView",
            "grid_template_rows": null,
            "right": null,
            "justify_content": null,
            "_view_module": "@jupyter-widgets/base",
            "overflow": null,
            "_model_module_version": "1.2.0",
            "_view_count": null,
            "flex_flow": null,
            "width": null,
            "min_width": null,
            "border": null,
            "align_items": null,
            "bottom": null,
            "_model_module": "@jupyter-widgets/base",
            "top": null,
            "grid_column": null,
            "overflow_y": null,
            "overflow_x": null,
            "grid_auto_flow": null,
            "grid_area": null,
            "grid_template_columns": null,
            "flex": null,
            "_model_name": "LayoutModel",
            "justify_items": null,
            "grid_row": null,
            "max_height": null,
            "align_content": null,
            "visibility": null,
            "align_self": null,
            "height": null,
            "min_height": null,
            "padding": null,
            "grid_auto_rows": null,
            "grid_gap": null,
            "max_width": null,
            "order": null,
            "_view_module_version": "1.2.0",
            "grid_template_areas": null,
            "object_position": null,
            "object_fit": null,
            "grid_auto_columns": null,
            "margin": null,
            "display": null,
            "left": null
          }
        },
        "df8a1cd7b1d84b4ba7a8a724508b47ed": {
          "model_module": "@jupyter-widgets/controls",
          "model_name": "ProgressStyleModel",
          "model_module_version": "1.5.0",
          "state": {
            "_view_name": "StyleView",
            "_model_name": "ProgressStyleModel",
            "description_width": "",
            "_view_module": "@jupyter-widgets/base",
            "_model_module_version": "1.5.0",
            "_view_count": null,
            "_view_module_version": "1.2.0",
            "bar_color": null,
            "_model_module": "@jupyter-widgets/controls"
          }
        },
        "fbe4a53309dc415b8c9765f4bbbadf5b": {
          "model_module": "@jupyter-widgets/base",
          "model_name": "LayoutModel",
          "model_module_version": "1.2.0",
          "state": {
            "_view_name": "LayoutView",
            "grid_template_rows": null,
            "right": null,
            "justify_content": null,
            "_view_module": "@jupyter-widgets/base",
            "overflow": null,
            "_model_module_version": "1.2.0",
            "_view_count": null,
            "flex_flow": null,
            "width": null,
            "min_width": null,
            "border": null,
            "align_items": null,
            "bottom": null,
            "_model_module": "@jupyter-widgets/base",
            "top": null,
            "grid_column": null,
            "overflow_y": null,
            "overflow_x": null,
            "grid_auto_flow": null,
            "grid_area": null,
            "grid_template_columns": null,
            "flex": null,
            "_model_name": "LayoutModel",
            "justify_items": null,
            "grid_row": null,
            "max_height": null,
            "align_content": null,
            "visibility": null,
            "align_self": null,
            "height": null,
            "min_height": null,
            "padding": null,
            "grid_auto_rows": null,
            "grid_gap": null,
            "max_width": null,
            "order": null,
            "_view_module_version": "1.2.0",
            "grid_template_areas": null,
            "object_position": null,
            "object_fit": null,
            "grid_auto_columns": null,
            "margin": null,
            "display": null,
            "left": null
          }
        },
        "6fb7c313cf9f48b8a26179fcb5ed722a": {
          "model_module": "@jupyter-widgets/controls",
          "model_name": "DescriptionStyleModel",
          "model_module_version": "1.5.0",
          "state": {
            "_view_name": "StyleView",
            "_model_name": "DescriptionStyleModel",
            "description_width": "",
            "_view_module": "@jupyter-widgets/base",
            "_model_module_version": "1.5.0",
            "_view_count": null,
            "_view_module_version": "1.2.0",
            "_model_module": "@jupyter-widgets/controls"
          }
        },
        "34c607229dcf43869c846bb06a2ec4b1": {
          "model_module": "@jupyter-widgets/base",
          "model_name": "LayoutModel",
          "model_module_version": "1.2.0",
          "state": {
            "_view_name": "LayoutView",
            "grid_template_rows": null,
            "right": null,
            "justify_content": null,
            "_view_module": "@jupyter-widgets/base",
            "overflow": null,
            "_model_module_version": "1.2.0",
            "_view_count": null,
            "flex_flow": null,
            "width": null,
            "min_width": null,
            "border": null,
            "align_items": null,
            "bottom": null,
            "_model_module": "@jupyter-widgets/base",
            "top": null,
            "grid_column": null,
            "overflow_y": null,
            "overflow_x": null,
            "grid_auto_flow": null,
            "grid_area": null,
            "grid_template_columns": null,
            "flex": null,
            "_model_name": "LayoutModel",
            "justify_items": null,
            "grid_row": null,
            "max_height": null,
            "align_content": null,
            "visibility": null,
            "align_self": null,
            "height": null,
            "min_height": null,
            "padding": null,
            "grid_auto_rows": null,
            "grid_gap": null,
            "max_width": null,
            "order": null,
            "_view_module_version": "1.2.0",
            "grid_template_areas": null,
            "object_position": null,
            "object_fit": null,
            "grid_auto_columns": null,
            "margin": null,
            "display": null,
            "left": null
          }
        },
        "43497834753341d5a68c1eaa958b7481": {
          "model_module": "@jupyter-widgets/controls",
          "model_name": "HBoxModel",
          "model_module_version": "1.5.0",
          "state": {
            "_view_name": "HBoxView",
            "_dom_classes": [],
            "_model_name": "HBoxModel",
            "_view_module": "@jupyter-widgets/controls",
            "_model_module_version": "1.5.0",
            "_view_count": null,
            "_view_module_version": "1.5.0",
            "box_style": "",
            "layout": "IPY_MODEL_a8c8e9e5297c4b53a1e0cdd99ea4110c",
            "_model_module": "@jupyter-widgets/controls",
            "children": [
              "IPY_MODEL_65511b5f69484fa9ad3fb57922b82dda",
              "IPY_MODEL_ed1423904f7b449aa673bcf94cd1b61a",
              "IPY_MODEL_7d790856f9744febb762b45b1e282bc4"
            ]
          }
        },
        "a8c8e9e5297c4b53a1e0cdd99ea4110c": {
          "model_module": "@jupyter-widgets/base",
          "model_name": "LayoutModel",
          "model_module_version": "1.2.0",
          "state": {
            "_view_name": "LayoutView",
            "grid_template_rows": null,
            "right": null,
            "justify_content": null,
            "_view_module": "@jupyter-widgets/base",
            "overflow": null,
            "_model_module_version": "1.2.0",
            "_view_count": null,
            "flex_flow": null,
            "width": null,
            "min_width": null,
            "border": null,
            "align_items": null,
            "bottom": null,
            "_model_module": "@jupyter-widgets/base",
            "top": null,
            "grid_column": null,
            "overflow_y": null,
            "overflow_x": null,
            "grid_auto_flow": null,
            "grid_area": null,
            "grid_template_columns": null,
            "flex": null,
            "_model_name": "LayoutModel",
            "justify_items": null,
            "grid_row": null,
            "max_height": null,
            "align_content": null,
            "visibility": null,
            "align_self": null,
            "height": null,
            "min_height": null,
            "padding": null,
            "grid_auto_rows": null,
            "grid_gap": null,
            "max_width": null,
            "order": null,
            "_view_module_version": "1.2.0",
            "grid_template_areas": null,
            "object_position": null,
            "object_fit": null,
            "grid_auto_columns": null,
            "margin": null,
            "display": null,
            "left": null
          }
        },
        "65511b5f69484fa9ad3fb57922b82dda": {
          "model_module": "@jupyter-widgets/controls",
          "model_name": "HTMLModel",
          "model_module_version": "1.5.0",
          "state": {
            "_view_name": "HTMLView",
            "style": "IPY_MODEL_98f1b167b6c34ae0bc43852bad679b3c",
            "_dom_classes": [],
            "description": "",
            "_model_name": "HTMLModel",
            "placeholder": "​",
            "_view_module": "@jupyter-widgets/controls",
            "_model_module_version": "1.5.0",
            "value": "100%",
            "_view_count": null,
            "_view_module_version": "1.5.0",
            "description_tooltip": null,
            "_model_module": "@jupyter-widgets/controls",
            "layout": "IPY_MODEL_84c7dfe7bcb54a4095f469842d960980"
          }
        },
        "ed1423904f7b449aa673bcf94cd1b61a": {
          "model_module": "@jupyter-widgets/controls",
          "model_name": "FloatProgressModel",
          "model_module_version": "1.5.0",
          "state": {
            "_view_name": "ProgressView",
            "style": "IPY_MODEL_246eeb731705408481607e0450cf72ba",
            "_dom_classes": [],
            "description": "",
            "_model_name": "FloatProgressModel",
            "bar_style": "success",
            "max": 200,
            "_view_module": "@jupyter-widgets/controls",
            "_model_module_version": "1.5.0",
            "value": 200,
            "_view_count": null,
            "_view_module_version": "1.5.0",
            "orientation": "horizontal",
            "min": 0,
            "description_tooltip": null,
            "_model_module": "@jupyter-widgets/controls",
            "layout": "IPY_MODEL_fc32ae3edae24a3ea230709c493a8ac6"
          }
        },
        "7d790856f9744febb762b45b1e282bc4": {
          "model_module": "@jupyter-widgets/controls",
          "model_name": "HTMLModel",
          "model_module_version": "1.5.0",
          "state": {
            "_view_name": "HTMLView",
            "style": "IPY_MODEL_096e348d5d7948b08535d196fd6e749e",
            "_dom_classes": [],
            "description": "",
            "_model_name": "HTMLModel",
            "placeholder": "​",
            "_view_module": "@jupyter-widgets/controls",
            "_model_module_version": "1.5.0",
            "value": " 200/200 [00:01&lt;00:00, 143.09it/s]",
            "_view_count": null,
            "_view_module_version": "1.5.0",
            "description_tooltip": null,
            "_model_module": "@jupyter-widgets/controls",
            "layout": "IPY_MODEL_f52f4b30b6a049c8ac80fbcdfa94fffc"
          }
        },
        "98f1b167b6c34ae0bc43852bad679b3c": {
          "model_module": "@jupyter-widgets/controls",
          "model_name": "DescriptionStyleModel",
          "model_module_version": "1.5.0",
          "state": {
            "_view_name": "StyleView",
            "_model_name": "DescriptionStyleModel",
            "description_width": "",
            "_view_module": "@jupyter-widgets/base",
            "_model_module_version": "1.5.0",
            "_view_count": null,
            "_view_module_version": "1.2.0",
            "_model_module": "@jupyter-widgets/controls"
          }
        },
        "84c7dfe7bcb54a4095f469842d960980": {
          "model_module": "@jupyter-widgets/base",
          "model_name": "LayoutModel",
          "model_module_version": "1.2.0",
          "state": {
            "_view_name": "LayoutView",
            "grid_template_rows": null,
            "right": null,
            "justify_content": null,
            "_view_module": "@jupyter-widgets/base",
            "overflow": null,
            "_model_module_version": "1.2.0",
            "_view_count": null,
            "flex_flow": null,
            "width": null,
            "min_width": null,
            "border": null,
            "align_items": null,
            "bottom": null,
            "_model_module": "@jupyter-widgets/base",
            "top": null,
            "grid_column": null,
            "overflow_y": null,
            "overflow_x": null,
            "grid_auto_flow": null,
            "grid_area": null,
            "grid_template_columns": null,
            "flex": null,
            "_model_name": "LayoutModel",
            "justify_items": null,
            "grid_row": null,
            "max_height": null,
            "align_content": null,
            "visibility": null,
            "align_self": null,
            "height": null,
            "min_height": null,
            "padding": null,
            "grid_auto_rows": null,
            "grid_gap": null,
            "max_width": null,
            "order": null,
            "_view_module_version": "1.2.0",
            "grid_template_areas": null,
            "object_position": null,
            "object_fit": null,
            "grid_auto_columns": null,
            "margin": null,
            "display": null,
            "left": null
          }
        },
        "246eeb731705408481607e0450cf72ba": {
          "model_module": "@jupyter-widgets/controls",
          "model_name": "ProgressStyleModel",
          "model_module_version": "1.5.0",
          "state": {
            "_view_name": "StyleView",
            "_model_name": "ProgressStyleModel",
            "description_width": "",
            "_view_module": "@jupyter-widgets/base",
            "_model_module_version": "1.5.0",
            "_view_count": null,
            "_view_module_version": "1.2.0",
            "bar_color": null,
            "_model_module": "@jupyter-widgets/controls"
          }
        },
        "fc32ae3edae24a3ea230709c493a8ac6": {
          "model_module": "@jupyter-widgets/base",
          "model_name": "LayoutModel",
          "model_module_version": "1.2.0",
          "state": {
            "_view_name": "LayoutView",
            "grid_template_rows": null,
            "right": null,
            "justify_content": null,
            "_view_module": "@jupyter-widgets/base",
            "overflow": null,
            "_model_module_version": "1.2.0",
            "_view_count": null,
            "flex_flow": null,
            "width": null,
            "min_width": null,
            "border": null,
            "align_items": null,
            "bottom": null,
            "_model_module": "@jupyter-widgets/base",
            "top": null,
            "grid_column": null,
            "overflow_y": null,
            "overflow_x": null,
            "grid_auto_flow": null,
            "grid_area": null,
            "grid_template_columns": null,
            "flex": null,
            "_model_name": "LayoutModel",
            "justify_items": null,
            "grid_row": null,
            "max_height": null,
            "align_content": null,
            "visibility": null,
            "align_self": null,
            "height": null,
            "min_height": null,
            "padding": null,
            "grid_auto_rows": null,
            "grid_gap": null,
            "max_width": null,
            "order": null,
            "_view_module_version": "1.2.0",
            "grid_template_areas": null,
            "object_position": null,
            "object_fit": null,
            "grid_auto_columns": null,
            "margin": null,
            "display": null,
            "left": null
          }
        },
        "096e348d5d7948b08535d196fd6e749e": {
          "model_module": "@jupyter-widgets/controls",
          "model_name": "DescriptionStyleModel",
          "model_module_version": "1.5.0",
          "state": {
            "_view_name": "StyleView",
            "_model_name": "DescriptionStyleModel",
            "description_width": "",
            "_view_module": "@jupyter-widgets/base",
            "_model_module_version": "1.5.0",
            "_view_count": null,
            "_view_module_version": "1.2.0",
            "_model_module": "@jupyter-widgets/controls"
          }
        },
        "f52f4b30b6a049c8ac80fbcdfa94fffc": {
          "model_module": "@jupyter-widgets/base",
          "model_name": "LayoutModel",
          "model_module_version": "1.2.0",
          "state": {
            "_view_name": "LayoutView",
            "grid_template_rows": null,
            "right": null,
            "justify_content": null,
            "_view_module": "@jupyter-widgets/base",
            "overflow": null,
            "_model_module_version": "1.2.0",
            "_view_count": null,
            "flex_flow": null,
            "width": null,
            "min_width": null,
            "border": null,
            "align_items": null,
            "bottom": null,
            "_model_module": "@jupyter-widgets/base",
            "top": null,
            "grid_column": null,
            "overflow_y": null,
            "overflow_x": null,
            "grid_auto_flow": null,
            "grid_area": null,
            "grid_template_columns": null,
            "flex": null,
            "_model_name": "LayoutModel",
            "justify_items": null,
            "grid_row": null,
            "max_height": null,
            "align_content": null,
            "visibility": null,
            "align_self": null,
            "height": null,
            "min_height": null,
            "padding": null,
            "grid_auto_rows": null,
            "grid_gap": null,
            "max_width": null,
            "order": null,
            "_view_module_version": "1.2.0",
            "grid_template_areas": null,
            "object_position": null,
            "object_fit": null,
            "grid_auto_columns": null,
            "margin": null,
            "display": null,
            "left": null
          }
        },
        "2e778d27ca1841889e2a9eb4d538cb24": {
          "model_module": "@jupyter-widgets/controls",
          "model_name": "HBoxModel",
          "model_module_version": "1.5.0",
          "state": {
            "_view_name": "HBoxView",
            "_dom_classes": [],
            "_model_name": "HBoxModel",
            "_view_module": "@jupyter-widgets/controls",
            "_model_module_version": "1.5.0",
            "_view_count": null,
            "_view_module_version": "1.5.0",
            "box_style": "",
            "layout": "IPY_MODEL_c6da141e324f4c58906d5ce642e08244",
            "_model_module": "@jupyter-widgets/controls",
            "children": [
              "IPY_MODEL_5e7466e088e64993b41c651903d5e944",
              "IPY_MODEL_88e94ab44f91473c83119fa9a5ef4d27",
              "IPY_MODEL_3113eeeb97aa4f98b6530dc975270bfc"
            ]
          }
        },
        "c6da141e324f4c58906d5ce642e08244": {
          "model_module": "@jupyter-widgets/base",
          "model_name": "LayoutModel",
          "model_module_version": "1.2.0",
          "state": {
            "_view_name": "LayoutView",
            "grid_template_rows": null,
            "right": null,
            "justify_content": null,
            "_view_module": "@jupyter-widgets/base",
            "overflow": null,
            "_model_module_version": "1.2.0",
            "_view_count": null,
            "flex_flow": null,
            "width": null,
            "min_width": null,
            "border": null,
            "align_items": null,
            "bottom": null,
            "_model_module": "@jupyter-widgets/base",
            "top": null,
            "grid_column": null,
            "overflow_y": null,
            "overflow_x": null,
            "grid_auto_flow": null,
            "grid_area": null,
            "grid_template_columns": null,
            "flex": null,
            "_model_name": "LayoutModel",
            "justify_items": null,
            "grid_row": null,
            "max_height": null,
            "align_content": null,
            "visibility": null,
            "align_self": null,
            "height": null,
            "min_height": null,
            "padding": null,
            "grid_auto_rows": null,
            "grid_gap": null,
            "max_width": null,
            "order": null,
            "_view_module_version": "1.2.0",
            "grid_template_areas": null,
            "object_position": null,
            "object_fit": null,
            "grid_auto_columns": null,
            "margin": null,
            "display": null,
            "left": null
          }
        },
        "5e7466e088e64993b41c651903d5e944": {
          "model_module": "@jupyter-widgets/controls",
          "model_name": "HTMLModel",
          "model_module_version": "1.5.0",
          "state": {
            "_view_name": "HTMLView",
            "style": "IPY_MODEL_0f276eab13fe43a8b439544515d15858",
            "_dom_classes": [],
            "description": "",
            "_model_name": "HTMLModel",
            "placeholder": "​",
            "_view_module": "@jupyter-widgets/controls",
            "_model_module_version": "1.5.0",
            "value": "100%",
            "_view_count": null,
            "_view_module_version": "1.5.0",
            "description_tooltip": null,
            "_model_module": "@jupyter-widgets/controls",
            "layout": "IPY_MODEL_97c5fdfb90ee4beb84d8c963dfe3991d"
          }
        },
        "88e94ab44f91473c83119fa9a5ef4d27": {
          "model_module": "@jupyter-widgets/controls",
          "model_name": "FloatProgressModel",
          "model_module_version": "1.5.0",
          "state": {
            "_view_name": "ProgressView",
            "style": "IPY_MODEL_4c008473e5e74c4b95c3c092e9096d28",
            "_dom_classes": [],
            "description": "",
            "_model_name": "FloatProgressModel",
            "bar_style": "success",
            "max": 3004,
            "_view_module": "@jupyter-widgets/controls",
            "_model_module_version": "1.5.0",
            "value": 3004,
            "_view_count": null,
            "_view_module_version": "1.5.0",
            "orientation": "horizontal",
            "min": 0,
            "description_tooltip": null,
            "_model_module": "@jupyter-widgets/controls",
            "layout": "IPY_MODEL_2d35e6384f404290882435e1c50dad76"
          }
        },
        "3113eeeb97aa4f98b6530dc975270bfc": {
          "model_module": "@jupyter-widgets/controls",
          "model_name": "HTMLModel",
          "model_module_version": "1.5.0",
          "state": {
            "_view_name": "HTMLView",
            "style": "IPY_MODEL_81128dda51064f1d9ab329efe1282a4f",
            "_dom_classes": [],
            "description": "",
            "_model_name": "HTMLModel",
            "placeholder": "​",
            "_view_module": "@jupyter-widgets/controls",
            "_model_module_version": "1.5.0",
            "value": " 3004/3004 [00:00&lt;00:00, 15166.47it/s]",
            "_view_count": null,
            "_view_module_version": "1.5.0",
            "description_tooltip": null,
            "_model_module": "@jupyter-widgets/controls",
            "layout": "IPY_MODEL_d8cc4b02f2d448589461c28572d2bb08"
          }
        },
        "0f276eab13fe43a8b439544515d15858": {
          "model_module": "@jupyter-widgets/controls",
          "model_name": "DescriptionStyleModel",
          "model_module_version": "1.5.0",
          "state": {
            "_view_name": "StyleView",
            "_model_name": "DescriptionStyleModel",
            "description_width": "",
            "_view_module": "@jupyter-widgets/base",
            "_model_module_version": "1.5.0",
            "_view_count": null,
            "_view_module_version": "1.2.0",
            "_model_module": "@jupyter-widgets/controls"
          }
        },
        "97c5fdfb90ee4beb84d8c963dfe3991d": {
          "model_module": "@jupyter-widgets/base",
          "model_name": "LayoutModel",
          "model_module_version": "1.2.0",
          "state": {
            "_view_name": "LayoutView",
            "grid_template_rows": null,
            "right": null,
            "justify_content": null,
            "_view_module": "@jupyter-widgets/base",
            "overflow": null,
            "_model_module_version": "1.2.0",
            "_view_count": null,
            "flex_flow": null,
            "width": null,
            "min_width": null,
            "border": null,
            "align_items": null,
            "bottom": null,
            "_model_module": "@jupyter-widgets/base",
            "top": null,
            "grid_column": null,
            "overflow_y": null,
            "overflow_x": null,
            "grid_auto_flow": null,
            "grid_area": null,
            "grid_template_columns": null,
            "flex": null,
            "_model_name": "LayoutModel",
            "justify_items": null,
            "grid_row": null,
            "max_height": null,
            "align_content": null,
            "visibility": null,
            "align_self": null,
            "height": null,
            "min_height": null,
            "padding": null,
            "grid_auto_rows": null,
            "grid_gap": null,
            "max_width": null,
            "order": null,
            "_view_module_version": "1.2.0",
            "grid_template_areas": null,
            "object_position": null,
            "object_fit": null,
            "grid_auto_columns": null,
            "margin": null,
            "display": null,
            "left": null
          }
        },
        "4c008473e5e74c4b95c3c092e9096d28": {
          "model_module": "@jupyter-widgets/controls",
          "model_name": "ProgressStyleModel",
          "model_module_version": "1.5.0",
          "state": {
            "_view_name": "StyleView",
            "_model_name": "ProgressStyleModel",
            "description_width": "",
            "_view_module": "@jupyter-widgets/base",
            "_model_module_version": "1.5.0",
            "_view_count": null,
            "_view_module_version": "1.2.0",
            "bar_color": null,
            "_model_module": "@jupyter-widgets/controls"
          }
        },
        "2d35e6384f404290882435e1c50dad76": {
          "model_module": "@jupyter-widgets/base",
          "model_name": "LayoutModel",
          "model_module_version": "1.2.0",
          "state": {
            "_view_name": "LayoutView",
            "grid_template_rows": null,
            "right": null,
            "justify_content": null,
            "_view_module": "@jupyter-widgets/base",
            "overflow": null,
            "_model_module_version": "1.2.0",
            "_view_count": null,
            "flex_flow": null,
            "width": null,
            "min_width": null,
            "border": null,
            "align_items": null,
            "bottom": null,
            "_model_module": "@jupyter-widgets/base",
            "top": null,
            "grid_column": null,
            "overflow_y": null,
            "overflow_x": null,
            "grid_auto_flow": null,
            "grid_area": null,
            "grid_template_columns": null,
            "flex": null,
            "_model_name": "LayoutModel",
            "justify_items": null,
            "grid_row": null,
            "max_height": null,
            "align_content": null,
            "visibility": null,
            "align_self": null,
            "height": null,
            "min_height": null,
            "padding": null,
            "grid_auto_rows": null,
            "grid_gap": null,
            "max_width": null,
            "order": null,
            "_view_module_version": "1.2.0",
            "grid_template_areas": null,
            "object_position": null,
            "object_fit": null,
            "grid_auto_columns": null,
            "margin": null,
            "display": null,
            "left": null
          }
        },
        "81128dda51064f1d9ab329efe1282a4f": {
          "model_module": "@jupyter-widgets/controls",
          "model_name": "DescriptionStyleModel",
          "model_module_version": "1.5.0",
          "state": {
            "_view_name": "StyleView",
            "_model_name": "DescriptionStyleModel",
            "description_width": "",
            "_view_module": "@jupyter-widgets/base",
            "_model_module_version": "1.5.0",
            "_view_count": null,
            "_view_module_version": "1.2.0",
            "_model_module": "@jupyter-widgets/controls"
          }
        },
        "d8cc4b02f2d448589461c28572d2bb08": {
          "model_module": "@jupyter-widgets/base",
          "model_name": "LayoutModel",
          "model_module_version": "1.2.0",
          "state": {
            "_view_name": "LayoutView",
            "grid_template_rows": null,
            "right": null,
            "justify_content": null,
            "_view_module": "@jupyter-widgets/base",
            "overflow": null,
            "_model_module_version": "1.2.0",
            "_view_count": null,
            "flex_flow": null,
            "width": null,
            "min_width": null,
            "border": null,
            "align_items": null,
            "bottom": null,
            "_model_module": "@jupyter-widgets/base",
            "top": null,
            "grid_column": null,
            "overflow_y": null,
            "overflow_x": null,
            "grid_auto_flow": null,
            "grid_area": null,
            "grid_template_columns": null,
            "flex": null,
            "_model_name": "LayoutModel",
            "justify_items": null,
            "grid_row": null,
            "max_height": null,
            "align_content": null,
            "visibility": null,
            "align_self": null,
            "height": null,
            "min_height": null,
            "padding": null,
            "grid_auto_rows": null,
            "grid_gap": null,
            "max_width": null,
            "order": null,
            "_view_module_version": "1.2.0",
            "grid_template_areas": null,
            "object_position": null,
            "object_fit": null,
            "grid_auto_columns": null,
            "margin": null,
            "display": null,
            "left": null
          }
        }
      }
    }
  },
  "cells": [
    {
      "cell_type": "markdown",
      "metadata": {
        "id": "view-in-github",
        "colab_type": "text"
      },
      "source": [
        "<a href=\"https://colab.research.google.com/github/Stanislav98V/Speech_synthesis/blob/main/1laba.ipynb\" target=\"_parent\"><img src=\"https://colab.research.google.com/assets/colab-badge.svg\" alt=\"Open In Colab\"/></a>"
      ]
    },
    {
      "cell_type": "markdown",
      "metadata": {
        "id": "nFgquqn9rJiw"
      },
      "source": [
        "# Библиотеки"
      ]
    },
    {
      "cell_type": "code",
      "metadata": {
        "colab": {
          "base_uri": "https://localhost:8080/"
        },
        "id": "EpduOx7_B6Nv",
        "outputId": "76e79b5c-909a-499d-9c15-af762aeac77d"
      },
      "source": [
        "!pip install lxml"
      ],
      "execution_count": 1,
      "outputs": [
        {
          "output_type": "stream",
          "name": "stdout",
          "text": [
            "Requirement already satisfied: lxml in /usr/local/lib/python3.7/dist-packages (4.2.6)\n"
          ]
        }
      ]
    },
    {
      "cell_type": "code",
      "metadata": {
        "colab": {
          "base_uri": "https://localhost:8080/"
        },
        "id": "amlV8QZIB-0u",
        "outputId": "ba934827-1e8e-49ef-dc4e-34130f94c684"
      },
      "source": [
        "!pip install bs4"
      ],
      "execution_count": 2,
      "outputs": [
        {
          "output_type": "stream",
          "name": "stdout",
          "text": [
            "Requirement already satisfied: bs4 in /usr/local/lib/python3.7/dist-packages (0.0.1)\n",
            "Requirement already satisfied: beautifulsoup4 in /usr/local/lib/python3.7/dist-packages (from bs4) (4.6.3)\n"
          ]
        }
      ]
    },
    {
      "cell_type": "code",
      "metadata": {
        "id": "FUa2ZI6fbHFz"
      },
      "source": [
        "from google.colab import drive\n",
        "from html.parser import HTMLParser\n",
        "from bs4 import BeautifulSoup\n",
        "from tqdm.notebook import tqdm\n",
        "from sklearn import metrics\n",
        "from sklearn.metrics import classification_report, f1_score"
      ],
      "execution_count": 3,
      "outputs": []
    },
    {
      "cell_type": "markdown",
      "metadata": {
        "id": "bo6ObprfSI_u"
      },
      "source": [
        "Подключаем диск"
      ]
    },
    {
      "cell_type": "code",
      "metadata": {
        "colab": {
          "base_uri": "https://localhost:8080/"
        },
        "id": "GQsJSg_UZJK_",
        "outputId": "4e037cf8-062f-4c83-956b-3d96fa9c0c31"
      },
      "source": [
        "drive.mount('/content/drive')"
      ],
      "execution_count": 4,
      "outputs": [
        {
          "output_type": "stream",
          "name": "stdout",
          "text": [
            "Mounted at /content/drive\n"
          ]
        }
      ]
    },
    {
      "cell_type": "markdown",
      "metadata": {
        "id": "sivXDSdxSlnp"
      },
      "source": [
        "Загружаем файлы"
      ]
    },
    {
      "cell_type": "code",
      "metadata": {
        "id": "_GcsSv7RZ6An"
      },
      "source": [
        "with open('/content/drive/MyDrive/3_семестр/Синтез_речи/Text_Вобликов.xml', 'r') as f:\n",
        "    line = f.read()\n",
        "soup = BeautifulSoup(line, features=\"html.parser\")"
      ],
      "execution_count": 5,
      "outputs": []
    },
    {
      "cell_type": "code",
      "metadata": {
        "id": "9hGk0cWOeZIh"
      },
      "source": [
        "with open('/content/drive/MyDrive/3_семестр/Синтез_речи/Test!.xml', 'r') as f:\n",
        "    line = f.read()\n",
        "soup_test = BeautifulSoup(line, features=\"html.parser\")"
      ],
      "execution_count": 18,
      "outputs": []
    },
    {
      "cell_type": "markdown",
      "metadata": {
        "id": "99_uXo-hbWxf"
      },
      "source": [
        "# Функции"
      ]
    },
    {
      "cell_type": "markdown",
      "metadata": {
        "id": "EJCAiXx1TsfM"
      },
      "source": [
        "Фукция для выделения признаков из слов"
      ]
    },
    {
      "cell_type": "code",
      "metadata": {
        "id": "j1HAIS5nbRF3"
      },
      "source": [
        "def fea_word(tag_word):\n",
        "    feats = []\n",
        "    if 'subpart_of_speech' in tag_word.dictitem.attrs:\n",
        "        feats.append(tag_word.dictitem.attrs['subpart_of_speech'])\n",
        "    else:\n",
        "        feats.append(0)\n",
        "    if 'form' in tag_word.dictitem.attrs:\n",
        "        feats.append(tag_word.dictitem.attrs['form'])\n",
        "    else:\n",
        "        feats.append(0)\n",
        "    if 'genesys' in tag_word.dictitem.attrs:\n",
        "        feats.append(tag_word.dictitem.attrs['genesys'])\n",
        "    else:\n",
        "        feats.append(0)\n",
        "    if 'stress_dict' in tag_word.dictitem.attrs:\n",
        "        feats.append(tag_word.dictitem.attrs['stress_dict'])\n",
        "    else:\n",
        "        feats.append(0)\n",
        "    if 'semantics1' in tag_word.dictitem.attrs:\n",
        "        feats.append(tag_word.dictitem.attrs['semantics1'])\n",
        "    else:\n",
        "        feats.append(0)\n",
        "    if 'semantics2' in tag_word.dictitem.attrs:\n",
        "        feats.append(tag_word.dictitem.attrs['semantics2'])\n",
        "    else:\n",
        "        feats.append(0)\n",
        "    return feats"
      ],
      "execution_count": 7,
      "outputs": []
    },
    {
      "cell_type": "markdown",
      "metadata": {
        "id": "ETAJUcSVTzHc"
      },
      "source": [
        "Фукция для выделения признаков из пауз"
      ]
    },
    {
      "cell_type": "code",
      "metadata": {
        "id": "ZqqIPJDHbRI2"
      },
      "source": [
        "def fea_pause(tag_word):\n",
        "    feats = []\n",
        "    feats.append(['pause'])\n",
        "    feats.append(tag_word['time'])\n",
        "    return feats"
      ],
      "execution_count": 8,
      "outputs": []
    },
    {
      "cell_type": "markdown",
      "metadata": {
        "id": "S_D7kYKgUDrR"
      },
      "source": [
        "Фукция для выделения признаков из знаков препинания"
      ]
    },
    {
      "cell_type": "code",
      "metadata": {
        "id": "3WD-_1oRbRL-"
      },
      "source": [
        "def fea_content(tag_word):\n",
        "    feats = []\n",
        "    feats.append(['content'])\n",
        "    if len(tag_word.attrs) > 0:\n",
        "        if 'punktend' in tag_word.attrs:\n",
        "            feats.append(tag_word.attrs['punktend'])\n",
        "        else:\n",
        "            feats.append(0)\n",
        "        if 'punktbeg' in tag_word.attrs:\n",
        "            feats.append(tag_word.attrs['punktbeg'])\n",
        "        else:\n",
        "            feats.append(0)\n",
        "        if 'emphend' in tag_word.attrs:\n",
        "            feats.append(tag_word.attrs['emphend'])\n",
        "        else:\n",
        "            feats.append(0)\n",
        "        if 'emphbeg' in tag_word.attrs:\n",
        "            feats.append(tag_word.attrs['emphbeg'])\n",
        "        else:\n",
        "            feats.append(0)\n",
        "    else:\n",
        "        for i in range(4):\n",
        "            feats.append(0)\n",
        "    return feats"
      ],
      "execution_count": 9,
      "outputs": []
    },
    {
      "cell_type": "markdown",
      "metadata": {
        "id": "XFqc3fAnUN2c"
      },
      "source": [
        "Фукция для парсинга "
      ]
    },
    {
      "cell_type": "code",
      "metadata": {
        "id": "nkQTJtFWbiRj"
      },
      "source": [
        "def parse(soup):\n",
        "    sents = []\n",
        "    tags_sents = soup.find_all(['sentence'])\n",
        "    for tag_sent in tqdm(tags_sents):\n",
        "        tags_words = tag_sent.find_all(['pause', 'word', 'content'])\n",
        "        for i in range(len(tags_words)):\n",
        "            if tags_words[i].name == 'word':\n",
        "                if 'original' in tags_words[i].attrs:\n",
        "                    wor = []\n",
        "                    wor.append(['Слово= ', tags_words[i].attrs['original']])\n",
        "                    if tags_words[i].dictitem != None:\n",
        "                        feats_word = fea_word(tags_words[i])\n",
        "                    else:\n",
        "                        feats_word = []\n",
        "                        for i in range(6):\n",
        "                            feats_word.append(0)\n",
        "                    if 'nucleus' in tags_words[i].attrs:\n",
        "                        feats_word.append(tags_words[i].attrs['nucleus'])\n",
        "                    else:\n",
        "                        feats_word.append(0)\n",
        "                    if tags_words[i].letter != None:\n",
        "                        if 'flag' in tags_words[i].letter.attrs:\n",
        "                            feats_word.append(tags_words[i].letter.attrs['flag'])\n",
        "                        else:\n",
        "                            feats_word.append(0)\n",
        "                    else:\n",
        "                        feats_word.append(0)\n",
        "                    wor.append(feats_word)\n",
        "                    if len(tags_words) > i + 1:\n",
        "                        if tags_words[i + 1].name == 'pause':\n",
        "                            feats_pause = fea_pause(tags_words[i + 1])\n",
        "                            wor.append(feats_pause)\n",
        "                        elif tags_words[i + 1].name == 'content':\n",
        "                            feats_content = fea_content(tags_words[i + 1])\n",
        "                            wor.append(feats_content)\n",
        "                    if len(tags_words) > i + 2:\n",
        "                        if tags_words[i + 2].name == 'pause':\n",
        "                            feats_pause = fea_pause(tags_words[i + 2])\n",
        "                            wor.append(feats_pause)\n",
        "                        elif tags_words[i + 2].name == 'content':\n",
        "                            feats_content = fea_content(tags_words[i + 2])\n",
        "                            wor.append(feats_content)\n",
        "                    if len(wor) == 3:\n",
        "                        if wor[2][0] == ['content']:\n",
        "                            fe = []\n",
        "                            fe.append(['pause'])\n",
        "                            fe.append(0)\n",
        "                            wor.append(fe)\n",
        "                        elif wor[2][0] == ['pause']:\n",
        "                            copyz = wor[2]\n",
        "                            del wor[2]\n",
        "                            fe = []\n",
        "                            fe.append(['content'])\n",
        "                            for i in range(4):\n",
        "                                fe.append(0)\n",
        "                            wor.append(fe)\n",
        "                            fe = []\n",
        "                            fe.append(['pause'])\n",
        "                            fe.append(copyz[1])\n",
        "                            wor.append(fe)\n",
        "                    elif len(wor) == 2:\n",
        "                        fe = []\n",
        "                        fe.append(['content'])\n",
        "                        for i in range(4):\n",
        "                            fe.append(0)\n",
        "                        wor.append(fe)\n",
        "                        fe = []\n",
        "                        fe.append(['pause'])\n",
        "                        fe.append(0)\n",
        "                        wor.append(fe)\n",
        "                    elif len(wor) == 4:\n",
        "                        copyz = wor[2]\n",
        "                        del wor[2]\n",
        "                        fe = []\n",
        "                        fe.append(['pause'])\n",
        "                        fe.append(copyz[1])\n",
        "                        wor.append(fe)\n",
        "                    sents.append(wor)\n",
        "    print('Файл распарсин')\n",
        "    return sents"
      ],
      "execution_count": 10,
      "outputs": []
    },
    {
      "cell_type": "markdown",
      "metadata": {
        "id": "Evvq6bTdUiin"
      },
      "source": [
        "Функция для компенсации нулями недостающих признаков"
      ]
    },
    {
      "cell_type": "code",
      "metadata": {
        "id": "XVdT14FzbiUr"
      },
      "source": [
        "def completion(sents):\n",
        "    X = []\n",
        "    paus = []\n",
        "    dlin_paus = []\n",
        "    udar = []\n",
        "    for sent in tqdm(sents):\n",
        "        line = []\n",
        "        for i in range(8):\n",
        "            if i == 6:\n",
        "                if int(sent[1][i]) == 0:\n",
        "                    udar.append(0)\n",
        "                else:\n",
        "                    udar.append(1)\n",
        "            else:\n",
        "                line.append(int(sent[1][i]))\n",
        "        for i in range(1, 5):\n",
        "            line.append(int(sent[2][i]))\n",
        "        if int(sent[3][1]) == 0:\n",
        "            dlin_paus.append(0)\n",
        "        elif 300 > int(sent[3][1]) > 0:\n",
        "            dlin_paus.append(1)\n",
        "        else:\n",
        "            dlin_paus.append(2)\n",
        "        if sent[3][1] == 0:\n",
        "            paus.append(0)\n",
        "        else:\n",
        "            paus.append(1)\n",
        "        X.append(line)\n",
        "    return X, paus, dlin_paus, udar"
      ],
      "execution_count": 11,
      "outputs": []
    },
    {
      "cell_type": "markdown",
      "metadata": {
        "id": "wBsj20MKctCw"
      },
      "source": [
        "# Основа"
      ]
    },
    {
      "cell_type": "markdown",
      "metadata": {
        "id": "7QPVw3_5VI0R"
      },
      "source": [
        "Обработка тренировочного файла"
      ]
    },
    {
      "cell_type": "code",
      "metadata": {
        "colab": {
          "base_uri": "https://localhost:8080/",
          "height": 0,
          "referenced_widgets": [
            "67b5a4fabe784d12a84a482584d326a7",
            "e70c135573664e3295247e5d4b9a18d6",
            "dba774b5211f4b11a2d006a34f555f75",
            "56286cd5b2d34d3ebf212699954b7407",
            "3b00dea37fd04721b4459e49c2a18db7",
            "f16f21f60c324b7baa4badf4cde24598",
            "06b035f7737f4548be39253f58aaec5a",
            "91af09d9851d4b968db1906d493d2ff3",
            "d4d13085b2ab44b1acf22795d3c77f2d",
            "faf16aad4b024b6cb5d4f9ef9abdbfb4",
            "c8628c0f91ea491fba8f78d7638526ff",
            "666860062cd14a248daef5ba216322e4",
            "89ebd3ad78aa4ace990cc787b2225b88",
            "98320a2f84124e078dbc3ee50da3d45f",
            "a50f825e470c46a8b7a2cd5246b3a858",
            "c4d47d675d894a50a3f6160978155aed",
            "82610f714c054fafb793aa7f277f80fd",
            "37fba0171d664c098821de6d7bf52c41",
            "df8a1cd7b1d84b4ba7a8a724508b47ed",
            "fbe4a53309dc415b8c9765f4bbbadf5b",
            "6fb7c313cf9f48b8a26179fcb5ed722a",
            "34c607229dcf43869c846bb06a2ec4b1"
          ]
        },
        "id": "-o_WzTNxcQA-",
        "outputId": "c65aeb5f-656c-4e7e-bfc2-40aa09bd2470"
      },
      "source": [
        "sents = parse(soup)\n",
        "print(len(sents))\n",
        "print(sents[:10])\n",
        "X, paus, dlin_paus, udar = completion(sents)"
      ],
      "execution_count": 12,
      "outputs": [
        {
          "output_type": "display_data",
          "data": {
            "application/vnd.jupyter.widget-view+json": {
              "model_id": "67b5a4fabe784d12a84a482584d326a7",
              "version_minor": 0,
              "version_major": 2
            },
            "text/plain": [
              "  0%|          | 0/8594 [00:00<?, ?it/s]"
            ]
          },
          "metadata": {}
        },
        {
          "output_type": "stream",
          "name": "stdout",
          "text": [
            "Файл распарсин\n",
            "74858\n",
            "[[['Слово= ', 'Многое'], ['1', '1', '6', '1', 0, '2', 0, '16'], [['content'], 0, 0, 0, 0], [['pause'], 0]], [['Слово= ', 'удивительное'], ['3', '33', '0', '3', 0, 0, 0, '8'], [['content'], 0, 0, 0, 0], [['pause'], 0]], [['Слово= ', 'в'], ['9', '0', '0', 0, 0, '100', 0, 0], [['content'], 0, 0, 0, 0], [['pause'], 0]], [['Слово= ', 'жизни'], ['2', '12', '5', '1', 0, 0, 0, 0], [['content'], 0, 0, 0, 0], [['pause'], 0]], [['Слово= ', 'начинается'], ['6', '63', '0', '3', 0, 0, 0, 0], [['content'], 0, 0, 0, 0], [['pause'], 0]], [['Слово= ', 'с'], ['9', '0', '0', 0, 0, '100', 0, 0], [['content'], '4', 0, 0, 0], [['pause'], 0]], [['Слово= ', 'пустяков;'], ['2', '10', '4', '3', 0, 0, '2', 0], [['content'], 0, 0, 0, 0], [['pause'], '383']], [['Слово= ', 'В'], ['9', '0', '0', 0, 0, '100', 0, '16'], [['content'], 0, 0, 0, 0], [['pause'], 0]], [['Слово= ', 'данном'], ['3', '26', '0', '1', 0, 0, 0, 0], [['content'], '12', 0, 0, 0], [['pause'], 0]], [['Слово= ', 'случае -'], ['1', '7', '4', '1', 0, 0, '2', 0], [['content'], 0, 0, 0, 0], [['pause'], '160']]]\n"
          ]
        },
        {
          "output_type": "display_data",
          "data": {
            "application/vnd.jupyter.widget-view+json": {
              "model_id": "666860062cd14a248daef5ba216322e4",
              "version_minor": 0,
              "version_major": 2
            },
            "text/plain": [
              "  0%|          | 0/74858 [00:00<?, ?it/s]"
            ]
          },
          "metadata": {}
        }
      ]
    },
    {
      "cell_type": "code",
      "metadata": {
        "colab": {
          "base_uri": "https://localhost:8080/"
        },
        "id": "8Vy1v9_sbiXj",
        "outputId": "c921007e-abd3-4111-c283-e5906222813a"
      },
      "source": [
        "print(len(dlin_paus), len(paus), len(udar), len(X), len(X[0]))"
      ],
      "execution_count": 13,
      "outputs": [
        {
          "output_type": "stream",
          "name": "stdout",
          "text": [
            "74858 74858 74858 74858 11\n"
          ]
        }
      ]
    },
    {
      "cell_type": "markdown",
      "metadata": {
        "id": "C3XydC90VN4U"
      },
      "source": [
        "Обработка тестового файла"
      ]
    },
    {
      "cell_type": "code",
      "metadata": {
        "colab": {
          "base_uri": "https://localhost:8080/",
          "height": 0,
          "referenced_widgets": [
            "43497834753341d5a68c1eaa958b7481",
            "a8c8e9e5297c4b53a1e0cdd99ea4110c",
            "65511b5f69484fa9ad3fb57922b82dda",
            "ed1423904f7b449aa673bcf94cd1b61a",
            "7d790856f9744febb762b45b1e282bc4",
            "98f1b167b6c34ae0bc43852bad679b3c",
            "84c7dfe7bcb54a4095f469842d960980",
            "246eeb731705408481607e0450cf72ba",
            "fc32ae3edae24a3ea230709c493a8ac6",
            "096e348d5d7948b08535d196fd6e749e",
            "f52f4b30b6a049c8ac80fbcdfa94fffc",
            "2e778d27ca1841889e2a9eb4d538cb24",
            "c6da141e324f4c58906d5ce642e08244",
            "5e7466e088e64993b41c651903d5e944",
            "88e94ab44f91473c83119fa9a5ef4d27",
            "3113eeeb97aa4f98b6530dc975270bfc",
            "0f276eab13fe43a8b439544515d15858",
            "97c5fdfb90ee4beb84d8c963dfe3991d",
            "4c008473e5e74c4b95c3c092e9096d28",
            "2d35e6384f404290882435e1c50dad76",
            "81128dda51064f1d9ab329efe1282a4f",
            "d8cc4b02f2d448589461c28572d2bb08"
          ]
        },
        "id": "yPNrKCpXfK0F",
        "outputId": "319c622f-4c17-4277-b20a-5a5b57cdf381"
      },
      "source": [
        "sents_test = parse(soup_test)\n",
        "print(len(sents_test))\n",
        "print(sents_test)\n",
        "X_test, paus_test, dlin_paus_test, udar_test = completion(sents_test)"
      ],
      "execution_count": 19,
      "outputs": [
        {
          "output_type": "display_data",
          "data": {
            "application/vnd.jupyter.widget-view+json": {
              "model_id": "43497834753341d5a68c1eaa958b7481",
              "version_minor": 0,
              "version_major": 2
            },
            "text/plain": [
              "  0%|          | 0/200 [00:00<?, ?it/s]"
            ]
          },
          "metadata": {}
        },
        {
          "output_type": "stream",
          "name": "stdout",
          "text": [
            "Файл распарсин\n",
            "3004\n",
            "[[['Слово= ', 'Реально'], ['10', 0, 0, '2', 0, 0, 0, '16'], [['content'], 0, 0, 0, 0], [['pause'], 0]], [['Слово= ', 'начать'], ['6', '60', 0, '2', '100', '10', 0, '8'], [['content'], 0, 0, 0, 0], [['pause'], 0]], [['Слово= ', 'день'], ['1', '5', '4', '1', 0, 0, 0, '8'], [['content'], 0, 0, 0, 0], [['pause'], 0]], [['Слово= ', 'с'], ['9', 0, 0, 0, 0, '100', 0, 0], [['content'], '12', 0, 0, 0], [['pause'], 0]], [['Слово= ', 'улыбки -'], ['1', '2', '5', '2', 0, 0, 0, '8'], [['content'], 0, 0, 0, 0], [['pause'], 0]], [['Слово= ', 'это'], ['9', 0, 0, '1', 0, '400', 0, '8'], [['content'], 0, 0, 0, 0], [['pause'], 0]], [['Слово= ', 'проснуться'], ['6', '60', 0, '2', '100', 0, 0, '8'], [['content'], 0, 0, 0, 0], [['pause'], 0]], [['Слово= ', 'от'], ['9', 0, 0, 0, 0, '100', 0, '8'], [['content'], 0, 0, 0, 0], [['pause'], 0]], [['Слово= ', 'звонка'], ['1', '2', '4', '2', 0, 0, 0, '8'], [['content'], 0, 0, 0, 0], [['pause'], 0]], [['Слово= ', 'будильника'], ['1', '2', '4', '2', 0, 0, 0, '8'], [['content'], 0, 0, 0, 0], [['pause'], 0]], [['Слово= ', 'в'], ['9', 0, 0, 0, 0, '100', 0, 0], [['content'], 0, 0, 0, 0], [['pause'], 0]], [['Слово= ', 'одну'], ['0', '5', '2', '2', 0, 0, 0, '8'], [['content'], 0, 0, 0, 0], [['pause'], 0]], [['Слово= ', 'минуту'], ['1', '5', '5', '2', 0, 0, 0, '8'], [['content'], 0, 0, 0, 0], [['pause'], 0]], [['Слово= ', 'первого'], ['1', '2', '6', '1', 0, '1', 0, '8'], [['content'], '2', 0, 0, 0], [['pause'], 0]], [['Слово= ', 'ночи,'], ['1', '2', '5', '1', 0, 0, 0, '8'], [['content'], 0, 0, 0, 0], [['pause'], 0]], [['Слово= ', 'широко'], ['10', 0, 0, '3', 0, 0, 0, '8'], [['content'], 0, 0, 0, 0], [['pause'], 0]], [['Слово= ', 'улыбнуться'], ['6', '60', 0, '3', '100', 0, 0, '8'], [['content'], 0, 0, 0, 0], [['pause'], 0]], [['Слово= ', 'и'], ['9', 0, 0, 0, 0, '200', 0, '8'], [['content'], 0, 0, 0, 0], [['pause'], 0]], [['Слово= ', 'спать'], ['6', '60', 0, '1', 0, 0, 0, '8'], [['content'], '1', 0, 0, 0], [['pause'], 0]], [['Слово= ', 'дальше.'], ['10', 0, 0, '1', 0, 0, 0, '8'], [['content'], 0, 0, 0, 0], [['pause'], 0]], [['Слово= ', 'Согласитесь,'], ['6', '72', 0, '3', '100', 0, 0, '16'], [['content'], 0, 0, 0, 0], [['pause'], 0]], [['Слово= ', 'было'], ['6', '69', 0, '1', 0, 0, 0, '8'], [['content'], 0, 0, 0, 0], [['pause'], 0]], [['Слово= ', 'бы'], ['9', 0, 0, 0, 0, '400', 0, '8'], [['content'], 0, 0, 0, 0], [['pause'], 0]], [['Слово= ', 'гораздо'], ['10', 0, 0, '2', 0, 0, 0, '8'], [['content'], '2', 0, 0, 0], [['pause'], 0]], [['Слово= ', 'лучше,'], ['5', '50', 0, '1', 0, 0, 0, '8'], [['content'], 0, 0, 0, 0], [['pause'], 0]], [['Слово= ', 'если'], ['9', 0, 0, 0, 0, '200', 0, '8'], [['content'], 0, 0, 0, 0], [['pause'], 0]], [['Слово= ', 'бы'], ['9', 0, 0, 0, 0, '400', 0, '8'], [['content'], 0, 0, 0, 0], [['pause'], 0]], [['Слово= ', 'во'], ['9', 0, 0, 0, 0, '100', 0, '8'], [['content'], 0, 0, 0, 0], [['pause'], 0]], [['Слово= ', 'всех'], ['3', '45', 0, '1', 0, '3', 0, '8'], [['content'], '2', 0, 0, 0], [['pause'], 0]], [['Слово= ', 'фильмах,'], ['2', '14', '4', '1', 0, 0, 0, '8'], [['content'], 0, 0, 0, 0], [['pause'], 0]], [['Слово= ', 'в'], ['9', 0, 0, 0, 0, '100', 0, 0], [['content'], 0, 0, 0, 0], [['pause'], 0]], [['Слово= ', 'которых'], ['3', '43', 0, '2', 0, '3', 0, '8'], [['content'], 0, 0, 0, 0], [['pause'], 0]], [['Слово= ', 'играет'], ['6', '63', 0, '2', 0, '10', 0, '8'], [['content'], '2', 0, 0, 0], [['pause'], 0]], [['Слово= ', 'Петров,'], ['1', '1', '1', '2', '20', 0, 0, '16'], [['content'], 0, 0, 0, 0], [['pause'], 0]], [['Слово= ', 'Петрова'], ['1', '5', '1', '2', '20', 0, 0, '16'], [['content'], 0, 0, 0, 0], [['pause'], 0]], [['Слово= ', 'бы'], ['9', 0, 0, 0, 0, '400', 0, '8'], [['content'], 0, 0, 0, 0], [['pause'], 0]], [['Слово= ', 'играл'], ['6', '67', 0, '2', 0, '10', 0, '8'], [['content'], '1', 0, 0, 0], [['pause'], 0]], [['Слово= ', 'Безруков.'], ['1', '1', '1', '2', '20', 0, 0, '16'], [['content'], 0, 0, 0, 0], [['pause'], 0]], [['Слово= ', 'Наконец-то'], ['10', 0, 0, '3', 0, 0, 0, '16'], [['content'], 0, 0, 0, 0], [['pause'], 0]], [['Слово= ', 'человечество'], ['1', '1', '6', '3', 0, '1', 0, '8'], [['content'], 0, 0, 0, 0], [['pause'], 0]], [['Слово= ', 'научилось'], ['6', '69', 0, '3', '100', 0, 0, '8'], [['content'], 0, 0, 0, 0], [['pause'], 0]], [['Слово= ', 'управлять'], ['6', '60', 0, '3', 0, 0, 0, '8'], [['content'], '3', 0, 0, 0], [['pause'], 0]], [['Слово= ', 'погодой:'], ['1', '6', '5', '2', 0, 0, 0, '8'], [['content'], 0, 0, 0, 0], [['pause'], 0]], [['Слово= ', 'стоит'], ['6', '63', 0, '1', 0, 0, 0, '8'], [['content'], 0, 0, 0, 0], [['pause'], 0]], [['Слово= ', 'помыть'], ['6', '60', 0, '2', '100', '10', 0, '8'], [['content'], 0, 0, 0, 0], [['pause'], 0]], [['Слово= ', 'машину'], ['1', '5', '5', '2', 0, 0, 0, '8'], [['content'], 0, 0, 0, 0], [['pause'], 0]], [['Слово= ', 'и'], ['9', 0, 0, 0, 0, '200', 0, '8'], [['content'], 0, 0, 0, 0], [['pause'], 0]], [['Слово= ', 'сразу'], ['10', 0, 0, '1', 0, 0, 0, '8'], [['content'], 0, 0, 0, 0], [['pause'], 0]], [['Слово= ', 'идет'], ['6', '63', 0, '2', 0, 0, 0, '8'], [['content'], '2', 0, 0, 0], [['pause'], 0]], [['Слово= ', 'дождь,'], ['1', '1', '4', '1', 0, 0, 0, '8'], [['content'], 0, 0, 0, 0], [['pause'], 0]], [['Слово= ', 'если'], ['9', 0, 0, 0, 0, '200', 0, '8'], [['content'], 0, 0, 0, 0], [['pause'], 0]], [['Слово= ', 'взять'], ['6', '60', 0, '1', '100', '10', 0, '8'], [['content'], 0, 0, 0, 0], [['pause'], 0]], [['Слово= ', 'с'], ['9', 0, 0, 0, 0, '100', 0, 0], [['content'], 0, 0, 0, 0], [['pause'], 0]], [['Слово= ', 'собой'], ['1', '6', 0, 0, 0, '2', 0, '8'], [['content'], '12', 0, 0, 0], [['pause'], 0]], [['Слово= ', 'зонт -'], ['1', '5', '4', '1', 0, 0, 0, '8'], [['content'], 0, 0, 0, 0], [['pause'], 0]], [['Слово= ', 'дождя'], ['1', '2', '4', '2', 0, 0, 0, '8'], [['content'], 0, 0, 0, 0], [['pause'], 0]], [['Слово= ', 'не'], ['9', 0, 0, 0, 0, '400', 0, '8'], [['content'], '1', 0, 0, 0], [['pause'], 0]], [['Слово= ', 'будет.'], ['6', '63', 0, '1', 0, 0, 0, '8'], [['content'], 0, 0, 0, 0], [['pause'], 0]], [['Слово= ', 'Позвонить'], ['6', '60', 0, '3', '100', 0, 0, '16'], [['content'], 0, 0, 0, 0], [['pause'], 0]], [['Слово= ', 'по'], ['9', 0, 0, 0, 0, '100', 0, '8'], [['content'], 0, 0, 0, 0], [['pause'], 0]], [['Слово= ', 'любому'], ['3', '22', 0, '2', 0, '3', 0, '8'], [['content'], 0, 0, 0, 0], [['pause'], 0]], [['Слово= ', 'случайному'], ['3', '22', 0, '2', 0, 0, 0, '8'], [['content'], 0, 0, 0, 0], [['pause'], 0]], [['Слово= ', 'номеру'], ['1', '4', '4', '1', 0, 0, 0, '8'], [['content'], 0, 0, 0, 0], [['pause'], 0]], [['Слово= ', 'и'], ['9', 0, 0, 0, 0, '200', 0, '8'], [['content'], '2', 0, 0, 0], [['pause'], 0]], [['Слово= ', 'попросить,'], ['6', '60', 0, '3', '100', '10', 0, '8'], [['content'], 0, 0, 0, 0], [['pause'], 0]], [['Слово= ', 'чтобы'], ['9', 0, 0, 0, 0, '200', 0, '8'], [['content'], 0, 0, 0, 0], [['pause'], 0]], [['Слово= ', 'в'], ['9', 0, 0, 0, 0, '100', 0, 0], [['content'], 0, 0, 0, 0], [['pause'], 0]], [['Слово= ', 'ближайшие'], ['3', '42', 0, '2', 0, 0, 0, '8'], [['content'], 0, 0, 0, 0], [['pause'], 0]], [['Слово= ', '5'], ['0', '1', 0, '1', 0, 0, 0, '9'], [['content'], 0, 0, 0, 0], [['pause'], 0]], [['Слово= ', 'минут'], ['2', '10', '5', '2', 0, 0, 0, '8'], [['content'], 0, 0, 0, 0], [['pause'], 0]], [['Слово= ', 'не'], ['9', 0, 0, 0, 0, '400', 0, '8'], [['content'], 0, 0, 0, 0], [['pause'], 0]], [['Слово= ', 'снимали'], ['6', '70', 0, '2', 0, '10', 0, '8'], [['content'], '2', 0, 0, 0], [['pause'], 0]], [['Слово= ', 'трубку,'], ['1', '5', '5', '1', 0, 0, 0, '8'], [['content'], 0, 0, 0, 0], [['pause'], 0]], [['Слово= ', 'так'], ['10', 0, 0, 0, 0, 0, 0, '8'], [['content'], 0, 0, 0, 0], [['pause'], 0]], [['Слово= ', 'как'], ['10', 0, 0, 0, 0, 0, 0, '8'], [['content'], 0, 0, 0, 0], [['pause'], 0]], [['Слово= ', 'идет'], ['6', '63', 0, '2', 0, 0, 0, '8'], [['content'], 0, 0, 0, 0], [['pause'], 0]], [['Слово= ', 'ремонт'], ['1', '1', '4', '2', 0, 0, 0, '8'], [['content'], '2', 0, 0, 0], [['pause'], 0]], [['Слово= ', 'линии,'], ['1', '2', '5', '1', 0, 0, 0, '8'], [['content'], 0, 0, 0, 0], [['pause'], 0]], [['Слово= ', 'и'], ['9', 0, 0, 0, 0, '200', 0, '8'], [['content'], 0, 0, 0, 0], [['pause'], 0]], [['Слово= ', 'мастер'], ['1', '1', '1', '1', 0, 0, 0, '8'], [['content'], 0, 0, 0, 0], [['pause'], 0]], [['Слово= ', 'работает'], ['6', '63', 0, '2', 0, 0, 0, '8'], [['content'], 0, 0, 0, 0], [['pause'], 0]], [['Слово= ', 'под'], ['9', 0, 0, 0, 0, '100', 0, '8'], [['content'], '1', 0, 0, 0], [['pause'], 0]], [['Слово= ', 'напряжением.'], ['1', '6', '6', '3', 0, 0, 0, '8'], [['content'], 0, 0, 0, 0], [['pause'], 0]], [['Слово= ', 'Сразу'], ['10', 0, 0, '1', 0, 0, 0, '16'], [['content'], 0, 0, 0, 0], [['pause'], 0]], [['Слово= ', 'же'], ['9', 0, 0, 0, 0, '400', 0, '8'], [['content'], 0, 0, 0, 0], [['pause'], 0]], [['Слово= ', 'перезвонить'], ['6', '60', 0, '4', '100', 0, 0, '8'], [['content'], '2', 0, 0, 0], [['pause'], 0]], [['Слово= ', 'и,'], ['9', 0, 0, 0, 0, '200', 0, '8'], [['content'], 0, 0, 0, 0], [['pause'], 0]], [['Слово= ', 'когда'], ['10', 0, 0, '2', 0, 0, 0, '8'], [['content'], 0, 0, 0, 0], [['pause'], 0]], [['Слово= ', 'снимут'], ['6', '66', 0, '1', '100', '10', 0, '8'], [['content'], '2', 0, 0, 0], [['pause'], 0]], [['Слово= ', 'трубку,'], ['1', '5', '5', '1', 0, 0, 0, '8'], [['content'], 0, 0, 0, 0], [['pause'], 0]], [['Слово= ', 'громко'], ['10', 0, 0, '1', 0, 0, 0, '8'], [['content'], '5', 0, 0, 0], [['pause'], 0]], [['Слово= ', 'заорать!'], ['6', '60', 0, '3', '100', 0, 0, '8'], [['content'], 0, 0, 0, 0], [['pause'], 0]], [['Слово= ', 'Деньги,'], ['2', '9', 0, '1', 0, 0, 0, '16'], [['content'], 0, 0, 0, 0], [['pause'], 0]], [['Слово= ', 'выброшенные'], ['7', '39', 0, '1', '100', '20', 0, '8'], [['content'], 0, 0, 0, 0], [['pause'], 0]], [['Слово= ', 'на'], ['9', 0, 0, 0, 0, '100', 0, '8'], [['content'], '2', 0, 0, 0], [['pause'], 0]], [['Слово= ', 'ветер,'], ['1', '5', '4', '1', 0, 0, 0, '8'], [['content'], 0, 0, 0, 0], [['pause'], 0]], [['Слово= ', 'приземляются'], ['6', '66', 0, '3', 0, 0, 0, '8'], [['content'], 0, 0, 0, 0], [['pause'], 0]], [['Слово= ', 'где'], ['10', 0, 0, 0, 0, 0, 0, '8'], [['content'], '2', 0, 0, 0], [['pause'], 0]], [['Слово= ', 'угодно,'], ['9', 0, 0, '2', 0, '400', 0, '8'], [['content'], 0, 0, 0, 0], [['pause'], 0]], [['Слово= ', 'кроме'], ['9', 0, 0, 0, 0, '100', 0, '8'], [['content'], 0, 0, 0, 0], [['pause'], 0]], [['Слово= ', 'карманов'], ['2', '10', '4', '2', 0, 0, 0, '8'], [['content'], 0, 0, 0, 0], [['pause'], 0]], [['Слово= ', 'их'], ['3', 0, 0, 0, 0, '3', 0, '8'], [['content'], 0, 0, 0, 0], [['pause'], 0]], [['Слово= ', 'бывшего'], ['3', '21', 0, '1', 0, 0, 0, '8'], [['content'], '1', 0, 0, 0], [['pause'], 0]], [['Слово= ', 'владельца.'], ['1', '2', '1', '2', 0, 0, 0, '8'], [['content'], 0, 0, 0, 0], [['pause'], 0]], [['Слово= ', 'Привычка'], ['1', '1', '5', '2', 0, 0, 0, '16'], [['content'], '12', 0, 0, 0], [['pause'], 0]], [['Слово= ', 'подвела -'], ['6', '68', 0, '3', '100', '10', 0, '8'], [['content'], 0, 0, 0, 0], [['pause'], 0]], [['Слово= ', 'это'], ['9', 0, 0, '1', 0, '400', 0, '8'], [['content'], 0, 0, 0, 0], [['pause'], 0]], [['Слово= ', 'когда'], ['10', 0, 0, '2', 0, 0, 0, '8'], [['content'], 0, 0, 0, 0], [['pause'], 0]], [['Слово= ', 'пылесосишь'], ['6', '62', 0, '3', 0, '10', 0, '8'], [['content'], '2', 0, 0, 0], [['pause'], 0]], [['Слово= ', 'пол,'], ['1', '5', '4', '1', 0, 0, 0, '8'], [['content'], 0, 0, 0, 0], [['pause'], 0]], [['Слово= ', 'звонит'], ['6', '63', 0, '2', 0, 0, 0, '8'], [['content'], '2', 0, 0, 0], [['pause'], 0]], [['Слово= ', 'мобильник,'], ['1', '1', '4', '2', 0, 0, 0, '8'], [['content'], 0, 0, 0, 0], [['pause'], 0]], [['Слово= ', 'и'], ['9', 0, 0, 0, 0, '200', 0, '8'], [['content'], 0, 0, 0, 0], [['pause'], 0]], [['Слово= ', 'ты'], ['11', '1', '8', 0, 0, '2', 0, '8'], [['content'], 0, 0, 0, 0], [['pause'], 0]], [['Слово= ', 'подносишь'], ['6', '62', 0, '2', 0, '10', 0, '8'], [['content'], 0, 0, 0, 0], [['pause'], 0]], [['Слово= ', 'к'], ['9', 0, 0, 0, 0, '100', 0, 0], [['content'], 0, 0, 0, 0], [['pause'], 0]], [['Слово= ', 'уху'], ['1', '4', '6', '1', 0, 0, 0, '8'], [['content'], '2', 0, 0, 0], [['pause'], 0]], [['Слово= ', 'то,'], ['9', 0, 0, '1', 0, '200', 0, '8'], [['content'], 0, 0, 0, 0], [['pause'], 0]], [['Слово= ', 'что'], ['9', 0, 0, '1', 0, '200', 0, '8'], [['content'], 0, 0, 0, 0], [['pause'], 0]], [['Слово= ', 'держишь'], ['6', '62', 0, '1', 0, '10', 0, '8'], [['content'], 0, 0, 0, 0], [['pause'], 0]], [['Слово= ', 'в'], ['9', 0, 0, 0, 0, '100', 0, 0], [['content'], '1', 0, 0, 0], [['pause'], 0]], [['Слово= ', 'руке.'], ['1', '7', '5', '2', 0, 0, 0, '8'], [['content'], 0, 0, 0, 0], [['pause'], 0]], [['Слово= ', 'Современная'], ['3', '27', 0, '3', 0, 0, 0, '16'], [['content'], 0, 0, 0, 0], [['pause'], 0]], [['Слово= ', 'наука'], ['1', '1', '5', '2', 0, 0, 0, '8'], [['content'], '2', 0, 0, 0], [['pause'], 0]], [['Слово= ', 'утверждает,'], ['6', '63', 0, '3', 0, 0, 0, '8'], [['content'], 0, 0, 0, 0], [['pause'], 0]], [['Слово= ', 'что'], ['9', 0, 0, '1', 0, '200', 0, '8'], [['content'], 0, 0, 0, 0], [['pause'], 0]], [['Слово= ', 'в'], ['9', 0, 0, 0, 0, '100', 0, 0], [['content'], 0, 0, 0, 0], [['pause'], 0]], [['Слово= ', 'дни'], ['2', '12', '4', '1', 0, 0, 0, '8'], [['content'], 0, 0, 0, 0], [['pause'], 0]], [['Слово= ', 'солнечных'], ['3', '40', 0, '1', 0, 0, 0, '8'], [['content'], 0, 0, 0, 0], [['pause'], 0]], [['Слово= ', 'затмений'], ['2', '10', '6', '2', 0, 0, 0, '8'], [['content'], 0, 0, 0, 0], [['pause'], 0]], [['Слово= ', 'наши'], ['3', '39', 0, '1', 0, '3', 0, '8'], [['content'], 0, 0, 0, 0], [['pause'], 0]], [['Слово= ', 'дикие'], ['3', '39', 0, '1', 0, 0, 0, '8'], [['content'], 0, 0, 0, 0], [['pause'], 0]], [['Слово= ', 'предки'], ['2', '9', '1', '1', 0, 0, 0, '8'], [['content'], 0, 0, 0, 0], [['pause'], 0]], [['Слово= ', 'выползали'], ['6', '70', 0, '3', 0, 0, 0, '8'], [['content'], 0, 0, 0, 0], [['pause'], 0]], [['Слово= ', 'из'], ['9', 0, 0, 0, 0, '100', 0, '8'], [['content'], 0, 0, 0, 0], [['pause'], 0]], [['Слово= ', 'своих'], ['3', '40', 0, '2', 0, '3', 0, '8'], [['content'], '2', 0, 0, 0], [['pause'], 0]], [['Слово= ', 'пещер,'], ['2', '10', '5', '2', 0, 0, 0, '8'], [['content'], 0, 0, 0, 0], [['pause'], 0]], [['Слово= ', 'слепо'], ['10', 0, 0, '1', 0, 0, 0, '8'], [['content'], 0, 0, 0, 0], [['pause'], 0]], [['Слово= ', 'таращились'], ['6', '70', 0, '2', 0, 0, 0, '8'], [['content'], 0, 0, 0, 0], [['pause'], 0]], [['Слово= ', 'на'], ['9', 0, 0, 0, 0, '100', 0, '8'], [['content'], '2', 0, 0, 0], [['pause'], 0]], [['Слово= ', 'солнце,'], ['1', '5', '6', '1', 0, 0, 0, '8'], [['content'], 0, 0, 0, 0], [['pause'], 0]], [['Слово= ', 'издавали'], ['6', '70', 0, '3', 0, '10', 0, '8'], [['content'], 0, 0, 0, 0], [['pause'], 0]], [['Слово= ', 'нечленораздельные'], ['3', '39', 0, '5', 0, 0, 0, '8'], [['content'], 0, 0, 0, 0], [['pause'], 0]], [['Слово= ', 'звуки'], ['2', '12', '4', '1', 0, 0, 0, '8'], [['content'], 0, 0, 0, 0], [['pause'], 0]], [['Слово= ', 'и'], ['9', 0, 0, 0, 0, '200', 0, '8'], [['content'], 0, 0, 0, 0], [['pause'], 0]], [['Слово= ', 'фотографировали'], ['6', '70', 0, '4', 0, '10', 0, '8'], [['content'], 0, 0, 0, 0], [['pause'], 0]], [['Слово= ', 'процесс'], ['1', '5', '4', '2', 0, 0, 0, '8'], [['content'], 0, 0, 0, 0], [['pause'], 0]], [['Слово= ', 'на'], ['9', 0, 0, 0, 0, '100', 0, '8'], [['content'], '1', 0, 0, 0], [['pause'], 0]], [['Слово= ', 'мобильники.'], ['2', '12', '4', '2', 0, 0, 0, '8'], [['content'], 0, 0, 0, 0], [['pause'], 0]], [['Слово= ', 'Самые'], ['3', '39', 0, '1', 0, '3', 0, '16'], [['content'], '12', 0, 0, 0], [['pause'], 0]], [['Слово= ', 'тупые -'], ['3', '39', 0, '2', 0, 0, 0, '8'], [['content'], 0, 0, 0, 0], [['pause'], 0]], [['Слово= ', 'со'], ['9', 0, 0, 0, 0, '100', 0, '8'], [['content'], '1', 0, 0, 0], [['pause'], 0]], [['Слово= ', 'вспышкой.'], ['1', '6', '5', '1', 0, 0, 0, '8'], [['content'], 0, 0, 0, 0], [['pause'], 0]], [['Слово= ', 'Не'], ['9', 0, 0, 0, 0, '400', 0, '16'], [['content'], 0, 0, 0, 0], [['pause'], 0]], [['Слово= ', 'люблю'], ['6', '61', 0, '2', 0, '10', 0, '8'], [['content'], 0, 0, 0, 0], [['pause'], 0]], [['Слово= ', 'ходить'], ['6', '60', 0, '2', 0, 0, 0, '8'], [['content'], 0, 0, 0, 0], [['pause'], 0]], [['Слово= ', 'на'], ['9', 0, 0, 0, 0, '100', 0, '8'], [['content'], 0, 0, 0, 0], [['pause'], 0]], [['Слово= ', 'почту'], ['1', '5', '5', '1', 0, 0, 0, '8'], [['content'], 0, 0, 0, 0], [['pause'], 0]], [['Слово= ', 'за'], ['9', 0, 0, 0, 0, '100', 0, '8'], [['content'], '2', 0, 0, 0], [['pause'], 0]], [['Слово= ', 'посылками,'], ['2', '13', '5', '2', 0, 0, 0, '8'], [['content'], 0, 0, 0, 0], [['pause'], 0]], [['Слово= ', 'потому'], ['10', 0, 0, '3', 0, 0, 0, '8'], [['content'], 0, 0, 0, 0], [['pause'], 0]], [['Слово= ', 'что'], ['9', 0, 0, 0, 0, '200', 0, '8'], [['content'], 0, 0, 0, 0], [['pause'], 0]], [['Слово= ', 'боюсь'], ['6', '61', 0, '2', 0, 0, 0, '8'], [['content'], 0, 0, 0, 0], [['pause'], 0]], [['Слово= ', 'помешать'], ['6', '60', 0, '3', '100', 0, 0, '8'], [['content'], 0, 0, 0, 0], [['pause'], 0]], [['Слово= ', 'людям'], ['2', '11', '1', '1', 0, 0, 0, '8'], [['content'], 0, 0, 0, 0], [['pause'], 0]], [['Слово= ', 'оплачивать'], ['6', '60', 0, '2', 0, '10', 0, '8'], [['content'], '2', 0, 0, 0], [['pause'], 0]], [['Слово= ', 'квитанции,'], ['2', '12', '5', '2', 0, 0, 0, '8'], [['content'], 0, 0, 0, 0], [['pause'], 0]], [['Слово= ', 'покупать'], ['6', '60', 0, '3', 0, '10', 0, '8'], [['content'], 0, 0, 0, 0], [['pause'], 0]], [['Слово= ', 'лотерейные'], ['3', '39', 0, '3', 0, 0, 0, '8'], [['content'], 0, 0, 0, 0], [['pause'], 0]], [['Слово= ', 'билеты'], ['2', '12', '4', '2', 0, 0, 0, '8'], [['content'], 0, 0, 0, 0], [['pause'], 0]], [['Слово= ', 'и'], ['9', 0, 0, 0, 0, '200', 0, '8'], [['content'], 0, 0, 0, 0], [['pause'], 0]], [['Слово= ', 'приобретать'], ['6', '60', 0, '4', 0, '10', 0, '8'], [['content'], '1', 0, 0, 0], [['pause'], 0]], [['Слово= ', 'макароны.'], ['2', '12', 0, '3', 0, 0, 0, '8'], [['content'], 0, 0, 0, 0], [['pause'], 0]], [['Слово= ', 'Хозяюшке'], ['1', '4', '2', '2', 0, 0, 0, '16'], [['content'], 0, 0, 0, 0], [['pause'], 0]], [['Слово= ', 'на'], ['9', 0, 0, 0, 0, '100', 0, '8'], [['content'], '3', 0, 0, 0], [['pause'], 0]], [['Слово= ', 'заметку:'], ['1', '5', '5', '2', 0, 0, 0, '8'], [['content'], 0, 0, 0, 0], [['pause'], 0]], [['Слово= ', 'если'], ['9', 0, 0, 0, 0, '200', 0, '8'], [['content'], 0, 0, 0, 0], [['pause'], 0]], [['Слово= ', 'налить'], ['6', '60', 0, '2', '100', '10', 0, '8'], [['content'], 0, 0, 0, 0], [['pause'], 0]], [['Слово= ', 'красное'], ['3', '33', 0, '1', 0, 0, 0, '8'], [['content'], 0, 0, 0, 0], [['pause'], 0]], [['Слово= ', 'вино'], ['1', '5', '6', '2', 0, 0, 0, '8'], [['content'], 0, 0, 0, 0], [['pause'], 0]], [['Слово= ', 'в'], ['9', 0, 0, 0, 0, '100', 0, 0], [['content'], 0, 0, 0, 0], [['pause'], 0]], [['Слово= ', 'стеклянную'], ['3', '30', 0, '2', 0, 0, 0, '8'], [['content'], '2', 0, 0, 0], [['pause'], 0]], [['Слово= ', 'банку,'], ['1', '5', '5', '1', 0, 0, 0, '8'], [['content'], 0, 0, 0, 0], [['pause'], 0]], [['Слово= ', 'взять'], ['6', '60', 0, '1', '100', '10', 0, '8'], [['content'], 0, 0, 0, 0], [['pause'], 0]], [['Слово= ', 'с'], ['9', 0, 0, 0, 0, '100', 0, 0], [['content'], 0, 0, 0, 0], [['pause'], 0]], [['Слово= ', 'собой'], ['1', '6', 0, 0, 0, '2', 0, '8'], [['content'], 0, 0, 0, 0], [['pause'], 0]], [['Слово= ', 'на'], ['9', 0, 0, 0, 0, '100', 0, '8'], [['content'], 0, 0, 0, 0], [['pause'], 0]], [['Слово= ', 'работу'], ['1', '5', '5', '2', 0, 0, 0, '8'], [['content'], 0, 0, 0, 0], [['pause'], 0]], [['Слово= ', 'и'], ['9', 0, 0, 0, 0, '200', 0, '8'], [['content'], 0, 0, 0, 0], [['pause'], 0]], [['Слово= ', 'сказать'], ['6', '60', 0, '2', '100', '10', 0, '8'], [['content'], '2', 0, 0, 0], [['pause'], 0]], [['Слово= ', 'всем,'], ['1', '6', '6', '1', 0, '2', 0, '8'], [['content'], 0, 0, 0, 0], [['pause'], 0]], [['Слово= ', 'что'], ['9', 0, 0, '1', 0, '200', 0, '8'], [['content'], 0, 0, 0, 0], [['pause'], 0]], [['Слово= ', 'это'], ['9', 0, 0, '1', 0, '400', 0, '8'], [['content'], '2', 0, 0, 0], [['pause'], 0]], [['Слово= ', 'борщ,'], ['1', '1', '4', '1', 0, 0, 0, '8'], [['content'], 0, 0, 0, 0], [['pause'], 0]], [['Слово= ', 'то'], ['9', 0, 0, '1', 0, '200', 0, '8'], [['content'], 0, 0, 0, 0], [['pause'], 0]], [['Слово= ', 'обед'], ['1', '1', '4', '2', 0, 0, 0, '8'], [['content'], 0, 0, 0, 0], [['pause'], 0]], [['Слово= ', 'пройдет'], ['6', '63', 0, '2', '100', '10', 0, '8'], [['content'], 0, 0, 0, 0], [['pause'], 0]], [['Слово= ', 'веселее'], ['5', '50', 0, '3', 0, 0, 0, '8'], [['content'], 0, 0, 0, 0], [['pause'], 0]], [['Слово= ', 'чем'], ['9', 0, 0, '1', 0, '200', 0, '8'], [['content'], '1', 0, 0, 0], [['pause'], 0]], [['Слово= ', 'обычно.'], ['4', '48', 0, '2', 0, 0, 0, '8'], [['content'], 0, 0, 0, 0], [['pause'], 0]], [['Слово= ', 'Старайся'], ['6', '71', 0, '2', 0, 0, 0, '16'], [['content'], 0, 0, 0, 0], [['pause'], 0]], [['Слово= ', 'поменьше'], ['10', 0, 0, '2', 0, 0, 0, '8'], [['content'], '1', 0, 0, 0], [['pause'], 0]], [['Слово= ', 'обещать.'], ['6', '60', 0, '3', '100', '10', 0, '8'], [['content'], 0, 0, 0, 0], [['pause'], 0]], [['Слово= ', 'Особенно'], ['10', 0, 0, '2', 0, 0, 0, '24'], [['content'], '1', 0, 0, 0], [['pause'], 0]], [['Слово= ', 'себе.'], ['9', 0, 0, 0, 0, '400', 0, '8'], [['content'], 0, 0, 0, 0], [['pause'], 0]], [['Слово= ', 'Другие-то'], ['2', '9', '1', '2', 0, 0, 0, '16'], [['content'], 0, 0, 0, 0], [['pause'], 0]], [['Слово= ', 'ладно,'], ['10', 0, 0, '1', 0, 0, 0, '8'], [['content'], 0, 0, 0, 0], [['pause'], 0]], [['Слово= ', 'а'], ['9', 0, 0, 0, 0, '200', 0, '8'], [['content'], 0, 0, 0, 0], [['pause'], 0]], [['Слово= ', 'вот'], ['9', 0, 0, 0, 0, '400', 0, '8'], [['content'], 0, 0, 0, 0], [['pause'], 0]], [['Слово= ', 'ты'], ['11', '1', '8', 0, 0, '2', 0, '8'], [['content'], 0, 0, 0, 0], [['pause'], 0]], [['Слово= ', 'себе'], ['9', 0, 0, 0, 0, '400', 0, '8'], [['content'], 0, 0, 0, 0], [['pause'], 0]], [['Слово= ', 'за'], ['9', 0, 0, 0, 0, '100', 0, '8'], [['content'], 0, 0, 0, 0], [['pause'], 0]], [['Слово= ', 'невыполненное'], ['3', '36', 0, '2', 0, 0, 0, '8'], [['content'], 0, 0, 0, 0], [['pause'], 0]], [['Слово= ', 'все'], ['1', '5', '6', '1', 0, '2', 0, '8'], [['content'], 0, 0, 0, 0], [['pause'], 0]], [['Слово= ', 'нервы'], ['2', '9', '4', '1', 0, 0, 0, '8'], [['content'], '1', 0, 0, 0], [['pause'], 0]], [['Слово= ', 'измотаешь.'], ['6', '62', 0, '3', '100', '10', 0, '8'], [['content'], 0, 0, 0, 0], [['pause'], 0]], [['Слово= ', 'Когда'], ['10', 0, 0, '2', 0, 0, 0, '16'], [['content'], 0, 0, 0, 0], [['pause'], 0]], [['Слово= ', 'берешь'], ['6', '62', 0, '2', 0, '10', 0, '8'], [['content'], '2', 0, 0, 0], [['pause'], 0]], [['Слово= ', 'трубку,'], ['1', '5', '5', '1', 0, 0, 0, '8'], [['content'], 0, 0, 0, 0], [['pause'], 0]], [['Слово= ', 'говори'], ['6', '71', 0, '3', 0, '10', 0, '8'], [['content'], '2', 0, 0, 0], [['pause'], 0]], [['Слово= ', 'сразу,'], ['10', 0, 0, '1', 0, 0, 0, '8'], [['content'], 0, 0, 0, 0], [['pause'], 0]], [['Слово= ', 'что'], ['9', 0, 0, '1', 0, '200', 0, '8'], [['content'], 0, 0, 0, 0], [['pause'], 0]], [['Слово= ', 'батарея'], ['1', '1', '5', '3', 0, 0, 0, '8'], [['content'], '1', 0, 0, 0], [['pause'], 0]], [['Слово= ', 'садится.'], ['6', '63', 0, '2', 0, 0, 0, '8'], [['content'], 0, 0, 0, 0], [['pause'], 0]], [['Слово= ', 'Тогда'], ['10', 0, 0, '2', 0, 0, 0, '16'], [['content'], 0, 0, 0, 0], [['pause'], 0]], [['Слово= ', 'сможешь'], ['6', '62', 0, '1', '100', 0, 0, '8'], [['content'], 0, 0, 0, 0], [['pause'], 0]], [['Слово= ', 'в'], ['9', 0, 0, 0, 0, '100', 0, 0], [['content'], 0, 0, 0, 0], [['pause'], 0]], [['Слово= ', 'любую'], ['3', '30', 0, '2', 0, '3', 0, '8'], [['content'], 0, 0, 0, 0], [['pause'], 0]], [['Слово= ', 'минуту'], ['1', '5', '5', '2', 0, 0, 0, '8'], [['content'], 0, 0, 0, 0], [['pause'], 0]], [['Слово= ', 'прекратить'], ['6', '60', 0, '3', '100', '10', 0, '8'], [['content'], 0, 0, 0, 0], [['pause'], 0]], [['Слово= ', 'любой'], ['3', '20', 0, '2', 0, '3', 0, '8'], [['content'], '1', 0, 0, 0], [['pause'], 0]], [['Слово= ', 'разговор.'], ['1', '5', '4', '3', 0, 0, 0, '8'], [['content'], 0, 0, 0, 0], [['pause'], 0]], [['Слово= ', 'Борщ'], ['1', '1', '4', '1', 0, 0, 0, '16'], [['content'], 0, 0, 0, 0], [['pause'], 0]], [['Слово= ', 'на'], ['9', 0, 0, 0, 0, '100', 0, '8'], [['content'], 0, 0, 0, 0], [['pause'], 0]], [['Слово= ', 'первом'], ['3', '38', 0, '1', 0, 0, 0, '8'], [['content'], '12', 0, 0, 0], [['pause'], 0]], [['Слово= ', 'свидании -'], ['1', '7', '6', '2', 0, 0, 0, '8'], [['content'], 0, 0, 0, 0], [['pause'], 0]], [['Слово= ', 'многие'], ['3', '39', 0, '1', 0, '3', 0, '8'], [['content'], 0, 0, 0, 0], [['pause'], 0]], [['Слово= ', 'ли'], ['9', 0, 0, 0, 0, '400', 0, '8'], [['content'], 0, 0, 0, 0], [['pause'], 0]], [['Слово= ', 'из'], ['9', 0, 0, 0, 0, '100', 0, '8'], [['content'], '2', 0, 0, 0], [['pause'], 0]], [['Слово= ', 'вас,'], ['12', '10', '8', 0, 0, '2', 0, '8'], [['content'], '2', 0, 0, 0], [['pause'], 0]], [['Слово= ', 'девушки,'], ['2', '9', '2', '1', 0, 0, 0, '8'], [['content'], 0, 0, 0, 0], [['pause'], 0]], [['Слово= ', 'на'], ['9', 0, 0, 0, 0, '100', 0, '8'], [['content'], 0, 0, 0, 0], [['pause'], 0]], [['Слово= ', 'такое'], ['3', '36', 0, '2', 0, '3', 0, '8'], [['content'], '6', 0, 0, 0], [['pause'], 0]], [['Слово= ', 'готовы?'], ['4', '49', 0, '2', 0, 0, 0, '8'], [['content'], 0, 0, 0, 0], [['pause'], 0]], [['Слово= ', 'В'], ['9', 0, 0, 0, 0, '100', 0, '16'], [['content'], 0, 0, 0, 0], [['pause'], 0]], [['Слово= ', 'наше'], ['3', '36', 0, '1', 0, '3', 0, '8'], [['content'], '2', 0, 0, 0], [['pause'], 0]], [['Слово= ', 'время,'], ['1', '5', '6', '1', 0, 0, 0, '8'], [['content'], 0, 0, 0, 0], [['pause'], 0]], [['Слово= ', 'ой'], ['9', 0, 0, '1', 0, '500', 0, '8'], [['content'], 0, 0, 0, 0], [['pause'], 0]], [['Слово= ', 'как'], ['10', 0, 0, '1', 0, 0, 0, '8'], [['content'], 0, 0, 0, 0], [['pause'], 0]], [['Слово= ', 'трудно'], ['10', 0, 0, '1', 0, 0, 0, '8'], [['content'], 0, 0, 0, 0], [['pause'], 0]], [['Слово= ', 'обойтись'], ['6', '60', 0, '3', '100', 0, 0, '8'], [['content'], 0, 0, 0, 0], [['pause'], 0]], [['Слово= ', 'без'], ['9', 0, 0, 0, 0, '100', 0, '8'], [['content'], '12', 0, 0, 0], [['pause'], 0]], [['Слово= ', 'мата -'], ['1', '2', '4', '1', 0, 0, 0, '8'], [['content'], 0, 0, 0, 0], [['pause'], 0]], [['Слово= ', 'могут'], ['6', '66', 0, '1', 0, 0, 0, '8'], [['content'], 0, 0, 0, 0], [['pause'], 0]], [['Слово= ', 'неправильно'], ['10', 0, 0, '2', 0, 0, 0, '8'], [['content'], '11', 0, 0, 0], [['pause'], 0]], [['Слово= ', 'понять...'], ['6', '60', 0, '2', '100', '10', 0, '8'], [['content'], 0, 0, 0, 0], [['pause'], 0]], [['Слово= ', 'Целый'], ['3', '20', 0, '1', 0, 0, 0, '16'], [['content'], 0, 0, 0, 0], [['pause'], 0]], [['Слово= ', 'день'], ['1', '1', '4', '1', 0, 0, 0, '8'], [['content'], 0, 0, 0, 0], [['pause'], 0]], [['Слово= ', 'ходил'], ['6', '67', 0, '2', 0, 0, 0, '8'], [['content'], 0, 0, 0, 0], [['pause'], 0]], [['Слово= ', 'немой'], ['3', '20', 0, '2', 0, 0, 0, '8'], [['content'], 0, 0, 0, 0], [['pause'], 0]], [['Слово= ', 'Герасим'], ['1', '1', '1', '2', '10', 0, 0, '16'], [['content'], 0, 0, 0, 0], [['pause'], 0]], [['Слово= ', 'возле'], ['9', 0, 0, 0, 0, '100', 0, '8'], [['content'], '2', 0, 0, 0], [['pause'], 0]], [['Слово= ', 'Титаника,'], ['1', '2', '4', '2', 0, 0, 0, '16'], [['content'], 0, 0, 0, 0], [['pause'], 0]], [['Слово= ', 'упрашивая'], ['6', '73', 0, '2', 0, '10', 0, '8'], [['content'], 0, 0, 0, 0], [['pause'], 0]], [['Слово= ', 'пассажиров'], ['2', '12', '1', '3', 0, 0, 0, '8'], [['content'], 0, 0, 0, 0], [['pause'], 0]], [['Слово= ', 'взять'], ['6', '60', 0, '1', '100', '10', 0, '8'], [['content'], 0, 0, 0, 0], [['pause'], 0]], [['Слово= ', 'с'], ['9', 0, 0, 0, 0, '100', 0, 0], [['content'], 0, 0, 0, 0], [['pause'], 0]], [['Слово= ', 'собой'], ['1', '6', 0, 0, 0, '2', 0, '8'], [['content'], '11', 0, 0, 0], [['pause'], 0]], [['Слово= ', 'собачку...'], ['1', '5', '2', '2', 0, 0, 0, '8'], [['content'], 0, 0, 0, 0], [['pause'], 0]], [['Слово= ', 'Археологи'], ['2', '9', '1', '3', 0, 0, 0, '24'], [['content'], 0, 0, 0, 0], [['pause'], 0]], [['Слово= ', 'раскопали'], ['6', '70', 0, '3', '100', '10', 0, '8'], [['content'], 0, 0, 0, 0], [['pause'], 0]], [['Слово= ', 'пещеру'], ['1', '5', '5', '2', 0, 0, 0, '8'], [['content'], 0, 0, 0, 0], [['pause'], 0]], [['Слово= ', 'каменного'], ['3', '21', 0, '1', 0, 0, 0, '8'], [['content'], 0, 0, 0, 0], [['pause'], 0]], [['Слово= ', 'века'], ['1', '2', '4', '1', 0, 0, 0, '8'], [['content'], 0, 0, 0, 0], [['pause'], 0]], [['Слово= ', 'с'], ['9', 0, 0, 0, 0, '100', 0, 0], [['content'], 0, 0, 0, 0], [['pause'], 0]], [['Слово= ', 'лозунгом'], ['1', '6', '4', '1', 0, 0, 0, '8'], [['content'], 0, 0, 0, 0], [['pause'], 0]], [['Слово= ', 'над'], ['9', 0, 0, 0, 0, '100', 0, '8'], [['content'], '3', 0, 0, 0], [['pause'], 0]], [['Слово= ', 'входом:'], ['1', '6', '4', '1', 0, 0, 0, '8'], [['content'], 0, 0, 0, '1'], [['pause'], 0]], [['Слово= ', '\"Да'], ['9', 0, 0, 0, 0, '200', 0, '16'], [['content'], 0, 0, 0, 0], [['pause'], 0]], [['Слово= ', 'здравствует'], ['6', '63', 0, '1', 0, 0, 0, '8'], [['content'], 0, 0, 0, 0], [['pause'], 0]], [['Слово= ', 'рабовладельческий'], ['3', '20', 0, '4', 0, 0, 0, '8'], [['content'], '12', 0, 0, 0], [['pause'], 0]], [['Слово= ', 'строй -'], ['1', '1', '4', '1', 0, 0, 0, '8'], [['content'], 0, 0, 0, 0], [['pause'], 0]], [['Слово= ', 'светлое'], ['3', '33', 0, '1', 0, 0, 0, '8'], [['content'], 0, 0, 0, 0], [['pause'], 0]], [['Слово= ', 'будущее'], ['1', '1', '6', '1', 0, 0, 0, '8'], [['content'], 0, 0, 0, 0], [['pause'], 0]], [['Слово= ', 'всего'], ['3', '34', 0, '2', 0, '3', 0, '8'], [['content'], '5', 0, '1', 0], [['pause'], 0]], [['Слово= ', 'человечества!\".'], ['1', '2', '6', '3', 0, '1', 0, '8'], [['content'], 0, 0, 0, 0], [['pause'], 0]], [['Слово= ', 'Частушки'], ['2', '9', '5', '2', 0, 0, 0, '16'], [['content'], 0, 0, 0, 0], [['pause'], 0]], [['Слово= ', 'и'], ['9', 0, 0, 0, 0, '200', 0, '8'], [['content'], 0, 0, 0, 0], [['pause'], 0]], [['Слово= ', 'страдания'], ['2', '9', '6', '2', 0, 0, 0, '8'], [['content'], 0, 0, 0, 0], [['pause'], 0]], [['Слово= ', 'на'], ['9', 0, 0, 0, 0, '100', 0, '8'], [['content'], 0, 0, 0, 0], [['pause'], 0]], [['Слово= ', 'современный'], ['3', '23', 0, '3', 0, 0, 0, '8'], [['content'], '12', 0, 0, 0], [['pause'], 0]], [['Слово= ', 'лад -'], ['1', '5', '4', '1', 0, 0, 0, '8'], [['content'], 0, 0, 0, 0], [['pause'], 0]], [['Слово= ', 'это'], ['9', 0, 0, '1', 0, '400', 0, '8'], [['content'], 0, 0, 0, 0], [['pause'], 0]], [['Слово= ', 'и'], ['9', 0, 0, 0, 0, '200', 0, '8'], [['content'], 0, 0, 0, 0], [['pause'], 0]], [['Слово= ', 'есть'], ['6', '63', 0, '1', 0, 0, 0, '8'], [['content'], 0, 0, 0, 0], [['pause'], 0]], [['Слово= ', 'так'], ['10', 0, 0, 0, 0, 0, 0, '8'], [['content'], 0, 0, 0, 0], [['pause'], 0]], [['Слово= ', 'называемый'], ['7', '20', 0, '3', 0, '20', 0, '8'], [['content'], 0, 0, 0, 0], [['pause'], 0]], [['Слово= ', 'русский'], ['3', '20', 0, '1', 0, 0, 0, '8'], [['content'], '1', 0, 0, 0], [['pause'], 0]], [['Слово= ', 'рэп.'], ['1', '5', '4', '1', 0, '1', 0, '8'], [['content'], 0, 0, 0, 0], [['pause'], 0]], [['Слово= ', 'Если'], ['9', 0, 0, 0, 0, '200', 0, '24'], [['content'], 0, 0, 0, 0], [['pause'], 0]], [['Слово= ', 'это'], ['9', 0, 0, '1', 0, '400', 0, '8'], [['content'], '2', 0, 0, 0], [['pause'], 0]], [['Слово= ', 'певица,'], ['1', '1', '2', '2', 0, 0, 0, '8'], [['content'], 0, 0, 0, 0], [['pause'], 0]], [['Слово= ', 'то'], ['9', 0, 0, '1', 0, '200', 0, '8'], [['content'], 0, 0, 0, 0], [['pause'], 0]], [['Слово= ', 'зачем'], ['10', 0, 0, '2', 0, 0, 0, '8'], [['content'], 0, 0, 0, 0], [['pause'], 0]], [['Слово= ', 'она'], ['11', '1', '2', 0, 0, '2', 0, '8'], [['content'], '6', 0, 0, 0], [['pause'], 0]], [['Слово= ', 'прыгает?'], ['6', '63', 0, '1', 0, 0, 0, '8'], [['content'], 0, 0, 0, 0], [['pause'], 0]], [['Слово= ', 'Если'], ['9', 0, 0, 0, 0, '200', 0, '24'], [['content'], 0, 0, 0, 0], [['pause'], 0]], [['Слово= ', 'это'], ['9', 0, 0, '1', 0, '400', 0, '8'], [['content'], '12', 0, 0, 0], [['pause'], 0]], [['Слово= ', 'прыгунья -'], ['1', '1', '2', '2', 0, 0, 0, '8'], [['content'], 0, 0, 0, 0], [['pause'], 0]], [['Слово= ', 'зачем'], ['10', 0, 0, '2', 0, 0, 0, '8'], [['content'], '6', 0, 0, 0], [['pause'], 0]], [['Слово= ', 'поет?'], ['6', '63', 0, '2', 0, '10', 0, '8'], [['content'], 0, 0, 0, 0], [['pause'], 0]], [['Слово= ', 'Время'], ['1', '1', '6', '1', 0, 0, 0, '16'], [['content'], 0, 0, 0, 0], [['pause'], 0]], [['Слово= ', 'одинаково'], ['10', 0, 0, '3', 0, 0, 0, '8'], [['content'], 0, 0, 0, 0], [['pause'], 0]], [['Слово= ', 'безжалостно'], ['4', '48', 0, '2', 0, 0, 0, '8'], [['content'], 0, 0, 0, 0], [['pause'], 0]], [['Слово= ', 'и'], ['9', 0, 0, 0, 0, '200', 0, '8'], [['content'], 0, 0, 0, 0], [['pause'], 0]], [['Слово= ', 'к'], ['9', 0, 0, 0, 0, '100', 0, 0], [['content'], '2', 0, 0, 0], [['pause'], 0]], [['Слово= ', 'тем,'], ['9', 0, 0, '1', 0, '200', 0, '8'], [['content'], 0, 0, 0, 0], [['pause'], 0]], [['Слово= ', 'у'], ['9', 0, 0, 0, 0, '100', 0, '8'], [['content'], 0, 0, 0, 0], [['pause'], 0]], [['Слово= ', 'кого'], ['1', '2', '1', '2', 0, '2', 0, '8'], [['content'], 0, 0, 0, 0], [['pause'], 0]], [['Слово= ', 'полно'], ['4', '48', 0, '2', 0, 0, 0, '8'], [['content'], 0, 0, 0, 0], [['pause'], 0]], [['Слово= ', 'свободного'], ['3', '34', 0, '2', 0, 0, 0, '8'], [['content'], 0, 0, 0, 0], [['pause'], 0]], [['Слово= ', 'времени'], ['1', '2', '6', '1', 0, 0, 0, '8'], [['content'], 0, 0, 0, 0], [['pause'], 0]], [['Слово= ', 'и'], ['9', 0, 0, 0, 0, '200', 0, '8'], [['content'], 0, 0, 0, 0], [['pause'], 0]], [['Слово= ', 'к'], ['9', 0, 0, 0, 0, '100', 0, 0], [['content'], '2', 0, 0, 0], [['pause'], 0]], [['Слово= ', 'тем,'], ['9', 0, 0, '1', 0, '200', 0, '8'], [['content'], 0, 0, 0, 0], [['pause'], 0]], [['Слово= ', 'у'], ['9', 0, 0, 0, 0, '100', 0, '8'], [['content'], 0, 0, 0, 0], [['pause'], 0]], [['Слово= ', 'кого'], ['1', '2', '1', '2', 0, '2', 0, '8'], [['content'], 0, 0, 0, 0], [['pause'], 0]], [['Слово= ', 'его'], ['11', '2', '1', 0, 0, '2', 0, '8'], [['content'], 0, 0, 0, 0], [['pause'], 0]], [['Слово= ', 'никогда'], ['10', 0, 0, '3', 0, 0, 0, '8'], [['content'], '11', 0, 0, 0], [['pause'], 0]], [['Слово= ', 'нет...'], ['9', 0, 0, '1', 0, '400', 0, '8'], [['content'], 0, 0, 0, 0], [['pause'], 0]], [['Слово= ', '- До'], ['9', 0, 0, 0, 0, '100', 0, '16'], [['content'], 0, 0, 0, 0], [['pause'], 0]], [['Слово= ', 'чего'], ['1', '2', '6', '2', 0, '2', 0, '8'], [['content'], 0, 0, 0, 0], [['pause'], 0]], [['Слово= ', 'же'], ['9', 0, 0, 0, 0, '400', 0, '8'], [['content'], 0, 0, 0, 0], [['pause'], 0]], [['Слово= ', 'жизнь'], ['1', '1', '5', '1', 0, 0, 0, '8'], [['content'], 0, 0, 0, 0], [['pause'], 0]], [['Слово= ', 'стала'], ['6', '68', 0, '1', '100', 0, 0, '8'], [['content'], '5', 0, 0, 0], [['pause'], 0]], [['Слово= ', 'однообразной!'], ['3', '31', 0, '4', 0, 0, 0, '8'], [['content'], 0, 0, 0, 0], [['pause'], 0]], [['Слово= ', '- Почему?'], ['10', 0, 0, '3', 0, 0, 0, '16'], [['content'], 0, 0, 0, 0], [['pause'], 0]], [['Слово= ', '- Да'], ['9', 0, 0, 0, 0, '200', 0, '16'], [['content'], 0, 0, 0, 0], [['pause'], 0]], [['Слово= ', 'вчера'], ['10', 0, 0, '2', 0, 0, 0, '8'], [['content'], 0, 0, 0, 0], [['pause'], 0]], [['Слово= ', 'не'], ['9', 0, 0, '1', 0, '400', 0, '8'], [['content'], 0, 0, 0, 0], [['pause'], 0]], [['Слово= ', 'было'], ['6', '69', 0, 0, 0, 0, 0, '8'], [['content'], 0, 0, 0, 0], [['pause'], 0]], [['Слово= ', 'в'], ['9', 0, 0, 0, 0, '100', 0, 0], [['content'], 0, 0, 0, 0], [['pause'], 0]], [['Слово= ', 'кармане'], ['1', '7', '4', '2', 0, 0, 0, '8'], [['content'], 0, 0, 0, 0], [['pause'], 0]], [['Слово= ', 'денег'], ['2', '10', 0, '1', 0, 0, 0, '8'], [['content'], 0, 0, 0, 0], [['pause'], 0]], [['Слово= ', 'и'], ['9', 0, 0, 0, 0, '200', 0, '8'], [['content'], 0, 0, 0, 0], [['pause'], 0]], [['Слово= ', 'сегодня'], ['10', 0, 0, '2', 0, 0, 0, '8'], [['content'], '1', 0, 0, 0], [['pause'], 0]], [['Слово= ', 'тоже.'], ['10', 0, 0, 0, 0, 0, 0, '8'], [['content'], 0, 0, 0, 0], [['pause'], 0]], [['Слово= ', 'Доктор,'], ['1', '1', '1', '1', 0, 0, 0, '16'], [['content'], 0, 0, 0, 0], [['pause'], 0]], [['Слово= ', 'я'], ['11', '1', '8', 0, 0, '2', 0, '8'], [['content'], 0, 0, 0, 0], [['pause'], 0]], [['Слово= ', 'хотел'], ['6', '67', 0, '2', 0, '10', 0, '8'], [['content'], 0, 0, 0, 0], [['pause'], 0]], [['Слово= ', 'бы'], ['9', 0, 0, 0, 0, '400', 0, '8'], [['content'], 0, 0, 0, 0], [['pause'], 0]], [['Слово= ', 'дожить'], ['6', '60', 0, '2', '100', '10', 0, '8'], [['content'], 0, 0, 0, 0], [['pause'], 0]], [['Слово= ', 'до'], ['9', 0, 0, 0, 0, '100', 0, '8'], [['content'], 0, 0, 0, 0], [['pause'], 0]], [['Слово= ', 'ста'], ['0', '2', 0, '1', 0, 0, 0, '8'], [['content'], '12', 0, 0, 0], [['pause'], 0]], [['Слово= ', 'лет.-'], ['2', '10', 0, '1', 0, 0, 0, '8'], [['content'], 0, 0, 0, 0], [['pause'], 0]], [['Слово= ', 'Да'], ['9', 0, 0, 0, 0, '200', 0, '16'], [['content'], 0, 0, 0, 0], [['pause'], 0]], [['Слово= ', 'это'], ['9', 0, 0, '1', 0, '400', 0, '8'], [['content'], 0, 0, 0, 0], [['pause'], 0]], [['Слово= ', 'же'], ['9', 0, 0, 0, 0, '400', 0, '8'], [['content'], 0, 0, 0, 0], [['pause'], 0]], [['Слово= ', 'очень'], ['10', 0, 0, '1', 0, 0, 0, '8'], [['content'], '3', 0, 0, 0], [['pause'], 0]], [['Слово= ', 'просто:'], ['4', '48', 0, '1', 0, 0, 0, '8'], [['content'], 0, 0, 0, 0], [['pause'], 0]], [['Слово= ', 'не'], ['9', 0, 0, 0, 0, '400', 0, '8'], [['content'], 0, 0, 0, 0], [['pause'], 0]], [['Слово= ', 'употрейте'], ['6', '72', 0, '3', 0, 0, 0, '8'], [['content'], '2', 0, 0, 0], [['pause'], 0]], [['Слово= ', 'алкоголь,'], ['1', '1', '4', '3', 0, 0, 0, '8'], [['content'], 0, 0, 0, 0], [['pause'], 0]], [['Слово= ', 'откажитесь'], ['6', '72', 0, '3', '100', 0, 0, '8'], [['content'], 0, 0, 0, 0], [['pause'], 0]], [['Слово= ', 'от'], ['9', 0, 0, 0, 0, '100', 0, '8'], [['content'], '2', 0, 0, 0], [['pause'], 0]], [['Слово= ', 'курения,'], ['1', '2', '6', '2', 0, '1', 0, '8'], [['content'], 0, 0, 0, 0], [['pause'], 0]], [['Слово= ', 'не'], ['9', 0, 0, 0, 0, '400', 0, '8'], [['content'], '5', 0, 0, 0], [['pause'], 0]], [['Слово= ', 'объедайтесь!'], ['6', '72', 0, '3', 0, 0, 0, '8'], [['content'], 0, 0, 0, 0], [['pause'], 0]], [['Слово= ', '- И'], ['9', 0, 0, 0, 0, '200', 0, '24'], [['content'], 0, 0, 0, 0], [['pause'], 0]], [['Слово= ', 'вы'], ['12', '9', '8', 0, 0, '2', 0, '8'], [['content'], '2', 0, 0, 0], [['pause'], 0]], [['Слово= ', 'уверены,'], ['4', '49', 0, '2', 0, 0, 0, '8'], [['content'], 0, 0, 0, 0], [['pause'], 0]], [['Слово= ', 'что'], ['9', 0, 0, '1', 0, '200', 0, '8'], [['content'], 0, 0, 0, 0], [['pause'], 0]], [['Слово= ', 'тогда'], ['10', 0, 0, '2', 0, 0, 0, '8'], [['content'], 0, 0, 0, 0], [['pause'], 0]], [['Слово= ', 'я'], ['11', '1', '8', 0, 0, '2', 0, '8'], [['content'], 0, 0, 0, 0], [['pause'], 0]], [['Слово= ', 'доживу'], ['6', '61', 0, '3', '100', '10', 0, '8'], [['content'], 0, 0, 0, 0], [['pause'], 0]], [['Слово= ', 'до'], ['9', 0, 0, 0, 0, '100', 0, '8'], [['content'], 0, 0, 0, 0], [['pause'], 0]], [['Слово= ', 'ста'], ['0', '2', 0, '1', 0, 0, 0, '8'], [['content'], '6', 0, 0, 0], [['pause'], 0]], [['Слово= ', 'лет?'], ['2', '10', 0, '1', 0, 0, 0, '8'], [['content'], 0, 0, 0, 0], [['pause'], 0]], [['Слово= ', '- Этого'], ['1', '2', '6', '1', 0, '2', 0, '24'], [['content'], 0, 0, 0, 0], [['pause'], 0]], [['Слово= ', 'я'], ['11', '1', '8', 0, 0, '2', 0, '8'], [['content'], 0, 0, 0, 0], [['pause'], 0]], [['Слово= ', 'не'], ['9', 0, 0, 0, 0, '400', 0, '8'], [['content'], '2', 0, 0, 0], [['pause'], 0]], [['Слово= ', 'знаю,'], ['6', '61', 0, '1', 0, '10', 0, '8'], [['content'], 0, 0, 0, 0], [['pause'], 0]], [['Слово= ', 'но'], ['9', 0, 0, 0, 0, '200', 0, '8'], [['content'], '2', 0, 0, 0], [['pause'], 0]], [['Слово= ', 'уверен,'], ['4', '46', 0, '2', 0, 0, 0, '8'], [['content'], 0, 0, 0, 0], [['pause'], 0]], [['Слово= ', 'что'], ['9', 0, 0, '1', 0, '200', 0, '8'], [['content'], 0, 0, 0, 0], [['pause'], 0]], [['Слово= ', 'жизнь'], ['1', '1', '5', '1', 0, 0, 0, '8'], [['content'], 0, 0, 0, 0], [['pause'], 0]], [['Слово= ', 'будет'], ['6', '63', 0, '1', 0, 0, 0, '8'], [['content'], 0, 0, 0, 0], [['pause'], 0]], [['Слово= ', 'казаться'], ['6', '60', 0, '2', 0, 0, 0, '8'], [['content'], 0, 0, 0, 0], [['pause'], 0]], [['Слово= ', 'вам'], ['12', '11', '8', 0, 0, '2', 0, '8'], [['content'], '11', 0, 0, 0], [['pause'], 0]], [['Слово= ', 'нескончаемой...'], ['3', '28', 0, '3', 0, 0, 0, '8'], [['content'], 0, 0, 0, 0], [['pause'], 0]], [['Слово= ', 'Телевизионная'], ['3', '27', 0, '5', 0, 0, 0, '16'], [['content'], 0, 0, 0, 0], [['pause'], 0]], [['Слово= ', 'реклама'], ['1', '1', '5', '2', 0, 0, 0, '8'], [['content'], '12', 0, 0, 0], [['pause'], 0]], [['Слово= ', 'Аэрофлота -'], ['1', '2', '4', '4', 0, 0, 0, '24'], [['content'], 0, 0, 0, 0], [['pause'], 0]], [['Слово= ', 'официального'], ['3', '21', 0, '4', 0, 0, 0, '8'], [['content'], 0, 0, 0, 0], [['pause'], 0]], [['Слово= ', 'перевозчика'], ['1', '2', '1', '3', 0, 0, 0, '8'], [['content'], 0, 0, 0, 0], [['pause'], 0]], [['Слово= ', 'сборной'], ['3', '28', 0, '1', 0, 0, 0, '8'], [['content'], 0, 0, 0, 0], [['pause'], 0]], [['Слово= ', 'России'], ['1', '2', '5', '2', '40', '1', 0, '16'], [['content'], 0, 0, 0, 0], [['pause'], 0]], [['Слово= ', 'по'], ['9', 0, 0, 0, 0, '100', 0, '8'], [['content'], '12', 0, 0, 0], [['pause'], 0]], [['Слово= ', 'футболу -'], ['1', '4', '4', '2', 0, 0, 0, '8'], [['content'], 0, 0, 0, 0], [['pause'], 0]], [['Слово= ', 'дополнена'], ['7', '47', 0, '2', '100', '20', 0, '8'], [['content'], 0, 0, 0, 0], [['pause'], 0]], [['Слово= ', 'слоганом'], ['1', '6', '4', '1', 0, 0, 0, '8'], [['content'], 0, 0, 0, '1'], [['pause'], 0]], [['Слово= ', '\"Вылетаем'], ['6', '64', 0, '3', 0, 0, 0, '16'], [['content'], 0, 0, 0, 0], [['pause'], 0]], [['Слово= ', 'при'], ['9', 0, 0, 0, 0, '100', 0, '8'], [['content'], 0, 0, 0, 0], [['pause'], 0]], [['Слово= ', 'первой'], ['3', '32', 0, '1', 0, 0, 0, '8'], [['content'], 0, 0, 0, 0], [['pause'], 0]], [['Слово= ', 'же'], ['9', 0, 0, 0, 0, '400', 0, '8'], [['content'], '5', 0, '1', 0], [['pause'], 0]], [['Слово= ', 'возможности!\".'], ['1', '7', '5', '2', 0, 0, 0, '8'], [['content'], 0, 0, 0, 0], [['pause'], 0]], [['Слово= ', 'Плохая'], ['3', '27', 0, '2', 0, 0, 0, '16'], [['content'], '2', 0, 0, 0], [['pause'], 0]], [['Слово= ', 'примета,'], ['1', '1', '5', '2', 0, 0, 0, '8'], [['content'], 0, 0, 0, 0], [['pause'], 0]], [['Слово= ', 'когда'], ['10', 0, 0, '2', 0, 0, 0, '8'], [['content'], 0, 0, 0, 0], [['pause'], 0]], [['Слово= ', 'приобретаешь'], ['6', '62', 0, '4', 0, '10', 0, '8'], [['content'], 0, 0, 0, 0], [['pause'], 0]], [['Слово= ', 'квартиру'], ['1', '5', '5', '2', 0, 0, 0, '8'], [['content'], 0, 0, 0, 0], [['pause'], 0]], [['Слово= ', 'в'], ['9', 0, 0, 0, 0, '100', 0, 0], [['content'], 0, 0, 0, 0], [['pause'], 0]], [['Слово= ', 'новом'], ['3', '26', 0, '1', 0, 0, 0, '8'], [['content'], '2', 0, 0, 0], [['pause'], 0]], [['Слово= ', 'доме,'], ['1', '7', '4', '1', 0, 0, 0, '8'], [['content'], 0, 0, 0, 0], [['pause'], 0]], [['Слово= ', 'в'], ['9', 0, 0, 0, 0, '100', 0, 0], [['content'], 0, 0, 0, 0], [['pause'], 0]], [['Слово= ', 'котором'], ['3', '26', 0, '2', 0, '3', 0, '8'], [['content'], 0, 0, 0, 0], [['pause'], 0]], [['Слово= ', 'сами'], ['3', '39', 0, '1', 0, '3', 0, '8'], [['content'], 0, 0, 0, 0], [['pause'], 0]], [['Слово= ', 'строители'], ['2', '9', '1', '2', 0, 0, 0, '8'], [['content'], 0, 0, 0, 0], [['pause'], 0]], [['Слово= ', 'отказались'], ['6', '70', 0, '3', '100', 0, 0, '8'], [['content'], 0, 0, 0, 0], [['pause'], 0]], [['Слово= ', 'от'], ['9', 0, 0, 0, 0, '100', 0, '8'], [['content'], 0, 0, 0, 0], [['pause'], 0]], [['Слово= ', 'льготного'], ['3', '34', 0, '1', 0, 0, 0, '8'], [['content'], '1', 0, 0, 0], [['pause'], 0]], [['Слово= ', 'жилья.'], ['1', '2', '6', '2', 0, '1', 0, '8'], [['content'], 0, 0, 0, 0], [['pause'], 0]], [['Слово= ', 'Мне'], ['11', '4', '8', 0, 0, '2', 0, '16'], [['content'], 0, 0, 0, 0], [['pause'], 0]], [['Слово= ', 'нравится'], ['6', '63', 0, '1', 0, 0, 0, '8'], [['content'], 0, 0, 0, 0], [['pause'], 0]], [['Слово= ', 'мыть'], ['6', '60', 0, '1', 0, '10', 0, '8'], [['content'], 0, 0, 0, 0], [['pause'], 0]], [['Слово= ', 'посуду'], ['1', '5', '5', '2', 0, 0, 0, '8'], [['content'], 0, 0, 0, 0], [['pause'], 0]], [['Слово= ', 'ровно'], ['10', 0, 0, '1', 0, 0, 0, '8'], [['content'], 0, 0, 0, 0], [['pause'], 0]], [['Слово= ', 'одну'], ['0', '5', '2', '2', 0, 0, 0, '8'], [['content'], '2', 0, 0, 0], [['pause'], 0]], [['Слово= ', 'секунду,'], ['1', '5', '5', '2', 0, 0, 0, '8'], [['content'], 0, 0, 0, 0], [['pause'], 0]], [['Слово= ', 'когда'], ['10', 0, 0, '2', 0, 0, 0, '8'], [['content'], 0, 0, 0, 0], [['pause'], 0]], [['Слово= ', 'горячую'], ['3', '30', 0, '2', 0, 0, 0, '8'], [['content'], 0, 0, 0, 0], [['pause'], 0]], [['Слово= ', 'сковородку'], ['1', '5', '5', '3', 0, 0, 0, '8'], [['content'], 0, 0, 0, 0], [['pause'], 0]], [['Слово= ', 'суешь'], ['6', '62', 0, '2', 0, '10', 0, '8'], [['content'], 0, 0, 0, 0], [['pause'], 0]], [['Слово= ', 'под'], ['9', 0, 0, 0, 0, '100', 0, '8'], [['content'], 0, 0, 0, 0], [['pause'], 0]], [['Слово= ', 'холодную'], ['3', '30', 0, '2', 0, 0, 0, '8'], [['content'], '2', 0, 0, 0], [['pause'], 0]], [['Слово= ', 'воду,'], ['1', '5', '5', '1', 0, 0, 0, '8'], [['content'], 0, 0, 0, 0], [['pause'], 0]], [['Слово= ', 'она'], ['11', '1', '2', 0, 0, '2', 0, '8'], [['content'], '2', 0, 0, 0], [['pause'], 0]], [['Слово= ', 'шипит,'], ['6', '63', 0, '2', 0, 0, 0, '8'], [['content'], 0, 0, 0, 0], [['pause'], 0]], [['Слово= ', 'и'], ['9', 0, 0, 0, 0, '200', 0, '8'], [['content'], 0, 0, 0, 0], [['pause'], 0]], [['Слово= ', 'ты'], ['11', '1', '8', 0, 0, '2', 0, '8'], [['content'], 0, 0, 0, 0], [['pause'], 0]], [['Слово= ', 'типа'], ['1', '2', '1', '1', 0, 0, 0, '8'], [['content'], '1', 0, 0, 0], [['pause'], 0]], [['Слово= ', 'кузнец.'], ['1', '1', '1', '2', 0, 0, 0, '8'], [['content'], 0, 0, 0, 0], [['pause'], 0]], [['Слово= ', 'Социологи'], ['2', '9', '1', '3', 0, 0, 0, '16'], [['content'], '2', 0, 0, 0], [['pause'], 0]], [['Слово= ', 'установили,'], ['6', '70', 0, '4', '100', '10', 0, '8'], [['content'], 0, 0, 0, 0], [['pause'], 0]], [['Слово= ', 'что'], ['9', 0, 0, '1', 0, '200', 0, '8'], [['content'], 0, 0, 0, 0], [['pause'], 0]], [['Слово= ', 'женатые'], ['3', '39', 0, '2', 0, 0, 0, '8'], [['content'], 0, 0, 0, 0], [['pause'], 0]], [['Слово= ', 'мужчины'], ['2', '9', '1', '2', 0, 0, 0, '8'], [['content'], 0, 0, 0, 0], [['pause'], 0]], [['Слово= ', 'живут'], ['6', '66', 0, '2', 0, 0, 0, '8'], [['content'], '2', 0, 0, 0], [['pause'], 0]], [['Слово= ', 'дольше,'], ['5', '50', 0, '1', 0, 0, 0, '8'], [['content'], 0, 0, 0, 0], [['pause'], 0]], [['Слово= ', 'а'], ['9', 0, 0, 0, 0, '200', 0, '8'], [['content'], '12', 0, 0, 0], [['pause'], 0]], [['Слово= ', 'холостые -'], ['3', '39', 0, '3', 0, 0, 0, '8'], [['content'], '1', 0, 0, 0], [['pause'], 0]], [['Слово= ', 'интереснее.'], ['5', '50', 0, '3', 0, 0, 0, '8'], [['content'], 0, 0, 0, 0], [['pause'], 0]], [['Слово= ', 'Если'], ['9', 0, 0, 0, 0, '200', 0, '24'], [['content'], 0, 0, 0, 0], [['pause'], 0]], [['Слово= ', 'бы'], ['9', 0, 0, 0, 0, '400', 0, '8'], [['content'], 0, 0, 0, 0], [['pause'], 0]], [['Слово= ', 'кошачье'], ['3', '33', 0, '2', 0, 0, 0, '8'], [['content'], 0, 0, 0, 0], [['pause'], 0]], [['Слово= ', 'мурлыканье'], ['1', '1', '6', '2', 0, '1', 0, '8'], [['content'], 0, 0, 0, 0], [['pause'], 0]], [['Слово= ', 'продавалось'], ['6', '69', 0, '3', 0, 0, 0, '8'], [['content'], 0, 0, 0, 0], [['pause'], 0]], [['Слово= ', 'в'], ['9', 0, 0, 0, 0, '100', 0, 0], [['content'], '2', 0, 0, 0], [['pause'], 0]], [['Слово= ', 'таблетках,'], ['2', '14', '5', '2', 0, 0, 0, '8'], [['content'], 0, 0, 0, 0], [['pause'], 0]], [['Слово= ', 'фармацевтический'], ['3', '20', 0, '4', 0, 0, 0, '8'], [['content'], 0, 0, 0, 0], [['pause'], 0]], [['Слово= ', 'рынок'], ['1', '1', '4', '1', 0, 0, 0, '8'], [['content'], 0, 0, 0, 0], [['pause'], 0]], [['Слово= ', 'получил'], ['6', '67', 0, '3', '100', '10', 0, '8'], [['content'], 0, 0, 0, 0], [['pause'], 0]], [['Слово= ', 'бы'], ['9', 0, 0, 0, 0, '400', 0, '8'], [['content'], 0, 0, 0, 0], [['pause'], 0]], [['Слово= ', 'идеальное'], ['3', '33', 0, '3', 0, 0, 0, '8'], [['content'], 0, 0, 0, 0], [['pause'], 0]], [['Слово= ', 'средство'], ['1', '1', '6', '1', 0, 0, 0, '8'], [['content'], 0, 0, 0, 0], [['pause'], 0]], [['Слово= ', 'против'], ['9', 0, 0, 0, 0, '100', 0, '8'], [['content'], '1', 0, 0, 0], [['pause'], 0]], [['Слово= ', 'депрессии.'], ['1', '2', '5', '2', 0, 0, 0, '8'], [['content'], 0, 0, 0, 0], [['pause'], 0]], [['Слово= ', 'Когда'], ['10', 0, 0, '2', 0, 0, 0, '16'], [['content'], 0, 0, 0, 0], [['pause'], 0]], [['Слово= ', 'начинаются'], ['6', '66', 0, '3', 0, 0, 0, '8'], [['content'], 0, 0, 0, 0], [['pause'], 0]], [['Слово= ', 'жизненные'], ['3', '39', 0, '1', 0, 0, 0, '8'], [['content'], '2', 0, 0, 0], [['pause'], 0]], [['Слово= ', 'проблемы,'], ['2', '9', '5', '2', 0, 0, 0, '8'], [['content'], 0, 0, 0, 0], [['pause'], 0]], [['Слово= ', 'нужно'], ['9', 0, 0, '1', 0, '600', 0, '8'], [['content'], '3', 0, 0, 0], [['pause'], 0]], [['Слово= ', 'помнить:'], ['6', '60', 0, '1', 0, '10', 0, '8'], [['content'], '12', 0, 0, 0], [['pause'], 0]], [['Слово= ', 'алкоголь -'], ['1', '1', '4', '3', 0, 0, 0, '8'], [['content'], 0, 0, 0, 0], [['pause'], 0]], [['Слово= ', 'не'], ['9', 0, 0, 0, 0, '400', 0, '8'], [['content'], 0, 0, 0, 0], [['pause'], 0]], [['Слово= ', 'выход'], ['1', '1', '4', '1', 0, 0, 0, '8'], [['content'], 0, 0, 0, 0], [['pause'], 0]], [['Слово= ', 'из'], ['9', 0, 0, 0, 0, '100', 0, '8'], [['content'], '2', 0, 0, 0], [['pause'], 0]], [['Слово= ', 'них,'], ['12', '10', '8', 0, 0, '2', 0, '8'], [['content'], '12', 0, 0, 0], [['pause'], 0]], [['Слово= ', 'алкоголь -'], ['1', '1', '4', '3', 0, 0, 0, '8'], [['content'], 0, 0, 0, 0], [['pause'], 0]], [['Слово= ', 'это'], ['9', 0, 0, '1', 0, '400', 0, '8'], [['content'], '1', 0, 0, 0], [['pause'], 0]], [['Слово= ', 'вход.'], ['1', '1', '4', '1', 0, 0, 0, '8'], [['content'], 0, 0, 0, 0], [['pause'], 0]], [['Слово= ', 'Патриотизм -'], ['1', '1', '4', '4', 0, 0, 0, '16'], [['content'], 0, 0, 0, 0], [['pause'], 0]], [['Слово= ', 'это'], ['9', 0, 0, '1', 0, '400', 0, '8'], [['content'], 0, 0, 0, 0], [['pause'], 0]], [['Слово= ', 'когда'], ['10', 0, 0, '2', 0, 0, 0, '8'], [['content'], 0, 0, 0, 0], [['pause'], 0]], [['Слово= ', 'дешевеющая'], ['7', '27', 0, '3', 0, 0, 0, '8'], [['content'], 0, 0, 0, 0], [['pause'], 0]], [['Слово= ', 'нефть'], ['1', '1', '5', '1', 0, '1', 0, '8'], [['content'], 0, 0, 0, 0], [['pause'], 0]], [['Слово= ', 'волнует'], ['6', '63', 0, '2', 0, '10', 0, '8'], [['content'], 0, 0, 0, 0], [['pause'], 0]], [['Слово= ', 'тебя'], ['11', '2', '8', 0, 0, '2', 0, '8'], [['content'], '2', 0, 0, 0], [['pause'], 0]], [['Слово= ', 'больше,'], ['5', '50', 0, '1', 0, 0, 0, '8'], [['content'], 0, 0, 0, 0], [['pause'], 0]], [['Слово= ', 'чем'], ['9', 0, 0, '1', 0, '200', 0, '8'], [['content'], 0, 0, 0, 0], [['pause'], 0]], [['Слово= ', 'дорожающая'], ['7', '27', 0, '3', 0, 0, 0, '8'], [['content'], '1', 0, 0, 0], [['pause'], 0]], [['Слово= ', 'водка.'], ['1', '1', '5', '1', 0, 0, 0, '8'], [['content'], 0, 0, 0, 0], [['pause'], 0]], [['Слово= ', 'Суровая'], ['3', '27', 0, '2', 0, 0, 0, '16'], [['content'], 0, 0, 0, 0], [['pause'], 0]], [['Слово= ', 'правда'], ['1', '1', '5', '1', 0, 0, 0, '8'], [['content'], 0, 0, 0, 0], [['pause'], 0]], [['Слово= ', 'жизни'], ['1', '2', '5', '1', 0, 0, 0, '8'], [['content'], 0, 0, 0, 0], [['pause'], 0]], [['Слово= ', 'в'], ['9', 0, 0, 0, 0, '100', 0, 0], [['content'], '2', 0, 0, 0], [['pause'], 0]], [['Слово= ', 'том,'], ['1', '5', '4', '1', 0, 0, 0, '8'], [['content'], 0, 0, 0, 0], [['pause'], 0]], [['Слово= ', 'что'], ['9', 0, 0, '1', 0, '200', 0, '8'], [['content'], 0, 0, 0, 0], [['pause'], 0]], [['Слово= ', 'у'], ['9', 0, 0, 0, 0, '100', 0, '8'], [['content'], '2', 0, 0, 0], [['pause'], 0]], [['Слово= ', 'тех,'], ['3', '40', 0, '1', 0, '3', 0, '8'], [['content'], 0, 0, 0, 0], [['pause'], 0]], [['Слово= ', 'кто'], ['1', '1', '1', 0, 0, '2', 0, '8'], [['content'], 0, 0, 0, 0], [['pause'], 0]], [['Слово= ', 'ест'], ['6', '63', 0, '1', 0, '10', 0, '8'], [['content'], 0, 0, 0, 0], [['pause'], 0]], [['Слово= ', 'кашу'], ['1', '5', '5', '1', 0, 0, 0, '8'], [['content'], 0, 0, 0, 0], [['pause'], 0]], [['Слово= ', 'каждый'], ['3', '20', 0, '1', 0, '3', 0, '8'], [['content'], 0, 0, 0, 0], [['pause'], 0]], [['Слово= ', 'день'], ['1', '1', '4', '1', 0, 0, 0, '8'], [['content'], 0, 0, 0, 0], [['pause'], 0]], [['Слово= ', 'не'], ['9', 0, 0, 0, 0, '400', 0, '8'], [['content'], '2', 0, 0, 0], [['pause'], 0]], [['Слово= ', 'сила,'], ['1', '1', '5', '1', 0, 0, 0, '8'], [['content'], 0, 0, 0, 0], [['pause'], 0]], [['Слово= ', 'а'], ['9', 0, 0, 0, 0, '200', 0, '8'], [['content'], '1', 0, 0, 0], [['pause'], 0]], [['Слово= ', 'пенсия.'], ['1', '1', '5', '1', 0, 0, 0, '8'], [['content'], 0, 0, 0, 0], [['pause'], 0]], [['Слово= ', 'Спор'], ['1', '1', '4', '1', 0, 0, 0, '16'], [['content'], 0, 0, 0, 0], [['pause'], 0]], [['Слово= ', 'перешел'], ['6', '67', 0, '3', '100', '10', 0, '8'], [['content'], 0, 0, 0, 0], [['pause'], 0]], [['Слово= ', 'в'], ['9', 0, 0, 0, 0, '100', 0, 0], [['content'], 0, 0, 0, 0], [['pause'], 0]], [['Слово= ', 'такую'], ['3', '30', 0, '2', 0, '3', 0, '8'], [['content'], 0, 0, 0, 0], [['pause'], 0]], [['Слово= ', 'вялую'], ['3', '30', 0, '1', 0, 0, 0, '8'], [['content'], '2', 0, 0, 0], [['pause'], 0]], [['Слово= ', 'фазу,'], ['1', '5', '5', '1', 0, 0, 0, '8'], [['content'], 0, 0, 0, 0], [['pause'], 0]], [['Слово= ', 'что'], ['9', 0, 0, '1', 0, '200', 0, '8'], [['content'], 0, 0, 0, 0], [['pause'], 0]], [['Слово= ', 'оба'], ['0', '1', '1', '1', 0, 0, 0, '8'], [['content'], 0, 0, 0, 0], [['pause'], 0]], [['Слово= ', 'спорщика'], ['1', '2', '1', '1', 0, 0, 0, '8'], [['content'], 0, 0, 0, 0], [['pause'], 0]], [['Слово= ', 'задремали'], ['6', '70', 0, '3', '100', 0, 0, '8'], [['content'], 0, 0, 0, 0], [['pause'], 0]], [['Слово= ', 'и'], ['9', 0, 0, 0, 0, '200', 0, '8'], [['content'], 0, 0, 0, 0], [['pause'], 0]], [['Слово= ', 'продолжали'], ['6', '70', 0, '3', 0, '10', 0, '8'], [['content'], 0, 0, 0, 0], [['pause'], 0]], [['Слово= ', 'в'], ['9', 0, 0, 0, 0, '100', 0, 0], [['content'], 0, 0, 0, 0], [['pause'], 0]], [['Слово= ', 'полудреме'], ['1', '7', '5', '3', 0, 0, 0, '8'], [['content'], 0, 0, 0, 0], [['pause'], 0]], [['Слово= ', 'бормотать'], ['6', '60', 0, '3', 0, '10', 0, '8'], [['content'], 0, 0, 0, 0], [['pause'], 0]], [['Слово= ', 'ругательства'], ['2', '12', '6', '2', 0, 0, 0, '8'], [['content'], 0, 0, 0, 0], [['pause'], 0]], [['Слово= ', 'в'], ['9', 0, 0, 0, 0, '100', 0, 0], [['content'], 0, 0, 0, 0], [['pause'], 0]], [['Слово= ', 'адрес'], ['1', '5', '4', '1', 0, 0, 0, '8'], [['content'], 0, 0, 0, 0], [['pause'], 0]], [['Слово= ', 'друг'], ['1', '1', '1', 0, 0, 0, 0, '8'], [['content'], '1', 0, 0, 0], [['pause'], 0]], [['Слово= ', 'друга.'], ['1', '2', '1', '1', 0, 0, 0, '8'], [['content'], 0, 0, 0, 0], [['pause'], 0]], [['Слово= ', 'Бабушка'], ['1', '1', '2', '1', 0, 0, 0, '16'], [['content'], '2', 0, 0, 0], [['pause'], 0]], [['Слово= ', 'Терминатора,'], ['1', '2', '4', '3', 0, 0, 0, '16'], [['content'], 0, 0, 0, 0], [['pause'], 0]], [['Слово= ', 'чтобы'], ['9', 0, 0, 0, 0, '200', 0, '8'], [['content'], 0, 0, 0, 0], [['pause'], 0]], [['Слово= ', 'уложить'], ['6', '60', 0, '3', '100', '10', 0, '8'], [['content'], 0, 0, 0, 0], [['pause'], 0]], [['Слово= ', 'малыша'], ['1', '5', '1', '3', 0, 0, 0, '8'], [['content'], '2', 0, 0, 0], [['pause'], 0]], [['Слово= ', 'спать,'], ['6', '60', 0, '1', 0, 0, 0, '8'], [['content'], 0, 0, 0, 0], [['pause'], 0]], [['Слово= ', 'качала'], ['6', '68', 0, '2', 0, '10', 0, '8'], [['content'], 0, 0, 0, 0], [['pause'], 0]], [['Слово= ', 'его'], ['11', '2', '1', 0, 0, '2', 0, '8'], [['content'], 0, 0, 0, 0], [['pause'], 0]], [['Слово= ', 'три'], ['0', '1', 0, '1', 0, 0, 0, '8'], [['content'], 0, 0, 0, 0], [['pause'], 0]], [['Слово= ', 'подхода'], ['1', '2', '4', '2', 0, 0, 0, '8'], [['content'], 0, 0, 0, 0], [['pause'], 0]], [['Слово= ', 'по'], ['9', 0, 0, 0, 0, '100', 0, '8'], [['content'], 0, 0, 0, 0], [['pause'], 0]], [['Слово= ', 'тридцать'], ['0', '1', 0, '1', 0, 0, 0, '8'], [['content'], 0, 0, 0, 0], [['pause'], 0]], [['Слово= ', 'раз'], ['2', '10', '4', '1', 0, 0, 0, '8'], [['content'], 0, 0, 0, 0], [['pause'], 0]], [['Слово= ', 'и'], ['9', 0, 0, 0, 0, '200', 0, '8'], [['content'], 0, 0, 0, 0], [['pause'], 0]], [['Слово= ', 'два'], ['0', '1', '1', '1', 0, 0, 0, '8'], [['content'], 0, 0, 0, 0], [['pause'], 0]], [['Слово= ', 'подхода'], ['1', '2', '4', '2', 0, 0, 0, '8'], [['content'], 0, 0, 0, 0], [['pause'], 0]], [['Слово= ', 'по'], ['9', 0, 0, 0, 0, '100', 0, '8'], [['content'], 0, 0, 0, 0], [['pause'], 0]], [['Слово= ', 'двадцать'], ['0', '1', 0, '1', 0, 0, 0, '8'], [['content'], '1', 0, 0, 0], [['pause'], 0]], [['Слово= ', 'раз.'], ['2', '10', '4', '1', 0, 0, 0, '8'], [['content'], 0, 0, 0, 0], [['pause'], 0]], [['Слово= ', 'Как'], ['10', 0, 0, '1', 0, 0, 0, '16'], [['content'], 0, 0, 0, 0], [['pause'], 0]], [['Слово= ', 'хорошо'], ['10', 0, 0, '3', 0, 0, 0, '8'], [['content'], 0, 0, 0, 0], [['pause'], 0]], [['Слово= ', 'быть'], ['6', '60', 0, '1', 0, 0, 0, '8'], [['content'], '12', 0, 0, 0], [['pause'], 0]], [['Слово= ', 'молодым -'], ['2', '11', '2', '3', 0, 0, 0, '8'], [['content'], '2', 0, 0, 0], [['pause'], 0]], [['Слово= ', 'поспишь,'], ['6', '62', 0, '2', '100', 0, 0, '8'], [['content'], '2', 0, 0, 0], [['pause'], 0]], [['Слово= ', 'бывает,'], ['6', '63', 0, '2', 0, 0, 0, '8'], [['content'], 0, 0, 0, 0], [['pause'], 0]], [['Слово= ', 'два'], ['0', '1', '1', '1', 0, 0, 0, '8'], [['content'], '2', 0, 0, 0], [['pause'], 0]], [['Слово= ', 'часа,'], ['1', '2', '4', '2', 0, 0, 0, '8'], [['content'], 0, 0, 0, 0], [['pause'], 0]], [['Слово= ', 'а'], ['9', 0, 0, 0, 0, '200', 0, '8'], [['content'], '2', 0, 0, 0], [['pause'], 0]], [['Слово= ', 'выглядишь,'], ['6', '62', 0, '1', 0, 0, 0, '8'], [['content'], 0, 0, 0, 0], [['pause'], 0]], [['Слово= ', 'будто'], ['9', 0, 0, 0, 0, '200', 0, '8'], [['content'], 0, 0, 0, 0], [['pause'], 0]], [['Слово= ', 'все'], ['3', '39', 0, '1', 0, '3', 0, '8'], [['content'], '1', 0, 0, 0], [['pause'], 0]], [['Слово= ', 'четыре.'], ['0', '1', 0, '2', 0, 0, 0, '8'], [['content'], 0, 0, 0, 0], [['pause'], 0]], [['Слово= ', 'Думается'], ['6', '63', 0, '1', 0, 0, 0, '16'], [['content'], '2', 0, 0, 0], [['pause'], 0]], [['Слово= ', 'мне,'], ['11', '4', '8', 0, 0, '2', 0, '8'], [['content'], 0, 0, 0, 0], [['pause'], 0]], [['Слово= ', 'что'], ['9', 0, 0, '1', 0, '200', 0, '8'], [['content'], 0, 0, 0, 0], [['pause'], 0]], [['Слово= ', 'в'], ['9', 0, 0, 0, 0, '100', 0, 0], [['content'], 0, 0, 0, 0], [['pause'], 0]], [['Слово= ', 'старые'], ['3', '42', 0, '1', 0, 0, 0, '8'], [['content'], 0, 0, 0, 0], [['pause'], 0]], [['Слово= ', 'времена'], ['2', '12', '6', '3', 0, 0, 0, '8'], [['content'], 0, 0, 0, 0], [['pause'], 0]], [['Слово= ', 'любой'], ['3', '20', 0, '2', 0, '3', 0, '8'], [['content'], 0, 0, 0, 0], [['pause'], 0]], [['Слово= ', 'деревенский'], ['3', '20', 0, '3', 0, 0, 0, '8'], [['content'], '2', 0, 0, 0], [['pause'], 0]], [['Слово= ', 'алкаш,'], ['1', '1', '1', '2', 0, 0, 0, '8'], [['content'], 0, 0, 0, 0], [['pause'], 0]], [['Слово= ', 'не'], ['9', 0, 0, 0, 0, '400', 0, '8'], [['content'], 0, 0, 0, 0], [['pause'], 0]], [['Слово= ', 'умеющий'], ['7', '20', 0, '2', 0, 0, 0, '8'], [['content'], 0, 0, 0, 0], [['pause'], 0]], [['Слово= ', 'толком'], ['10', 0, 0, '1', 0, 0, 0, '8'], [['content'], '2', 0, 0, 0], [['pause'], 0]], [['Слово= ', 'ничего,'], ['1', '2', '6', '3', 0, '2', 0, '8'], [['content'], 0, 0, 0, 0], [['pause'], 0]], [['Слово= ', 'кроме'], ['9', 0, 0, 0, 0, '100', 0, '8'], [['content'], 0, 0, 0, 0], [['pause'], 0]], [['Слово= ', 'критики'], ['1', '2', '5', '1', 0, '1', 0, '8'], [['content'], 0, 0, 0, 0], [['pause'], 0]], [['Слово= ', 'и'], ['9', 0, 0, 0, 0, '200', 0, '8'], [['content'], 0, 0, 0, 0], [['pause'], 0]], [['Слово= ', 'советов'], ['2', '10', '4', '2', 0, 0, 0, '8'], [['content'], '2', 0, 0, 0], [['pause'], 0]], [['Слово= ', 'другим,'], ['1', '6', '1', '2', 0, 0, 0, '8'], [['content'], 0, 0, 0, 0], [['pause'], 0]], [['Слово= ', 'был'], ['6', '67', 0, '1', 0, 0, 0, '8'], [['content'], 0, 0, 0, 0], [['pause'], 0]], [['Слово= ', 'потенциальным'], ['3', '25', 0, '4', 0, 0, 0, '8'], [['content'], 0, 0, 0, 0], [['pause'], 0]], [['Слово= ', 'топовым'], ['3', '25', 0, '1', 0, 0, 0, '8'], [['content'], '1', 0, 0, 0], [['pause'], 0]], [['Слово= ', 'блоггером.'], ['1', '6', '1', '1', 0, 0, 0, '8'], [['content'], 0, 0, 0, 0], [['pause'], 0]], [['Слово= ', 'Собаки'], ['2', '9', '2', '2', 0, 0, 0, '16'], [['content'], 0, 0, 0, 0], [['pause'], 0]], [['Слово= ', 'живут'], ['6', '66', 0, '2', 0, 0, 0, '8'], [['content'], 0, 0, 0, 0], [['pause'], 0]], [['Слово= ', 'при'], ['9', 0, 0, 0, 0, '100', 0, '8'], [['content'], 0, 0, 0, 0], [['pause'], 0]], [['Слово= ', 'рабовладельческом'], ['3', '26', 0, '4', 0, 0, 0, '8'], [['content'], '2', 0, 0, 0], [['pause'], 0]], [['Слово= ', 'строе,'], ['1', '7', '4', '1', 0, 0, 0, '8'], [['content'], '12', 0, 0, 0], [['pause'], 0]], [['Слово= ', 'коты -'], ['2', '9', 0, '2', 0, 0, 0, '8'], [['content'], 0, 0, 0, 0], [['pause'], 0]], [['Слово= ', 'при'], ['9', 0, 0, 0, 0, '100', 0, '8'], [['content'], '1', 0, 0, 0], [['pause'], 0]], [['Слово= ', 'феодальном.'], ['3', '26', 0, '3', 0, 0, 0, '8'], [['content'], 0, 0, 0, 0], [['pause'], 0]], [['Слово= ', 'Ну'], ['9', 0, 0, 0, 0, '400', 0, '16'], [['content'], 0, 0, 0, 0], [['pause'], 0]], [['Слово= ', 'а'], ['9', 0, 0, 0, 0, '200', 0, '8'], [['content'], 0, 0, 0, 0], [['pause'], 0]], [['Слово= ', 'тараканы'], ['2', '9', '1', '3', 0, 0, 0, '8'], [['content'], 0, 0, 0, 0], [['pause'], 0]], [['Слово= ', 'и'], ['9', 0, 0, 0, 0, '200', 0, '8'], [['content'], 0, 0, 0, 0], [['pause'], 0]], [['Слово= ', 'клопы'], ['2', '9', '1', '2', 0, 0, 0, '8'], [['content'], 0, 0, 0, 0], [['pause'], 0]], [['Слово= ', 'вообще'], ['10', 0, 0, '3', 0, 0, 0, '8'], [['content'], 0, 0, 0, 0], [['pause'], 0]], [['Слово= ', 'при'], ['9', 0, 0, 0, 0, '100', 0, '8'], [['content'], '5', 0, 0, 0], [['pause'], 0]], [['Слово= ', 'коммунизме!'], ['1', '7', '4', '3', 0, '1', 0, '8'], [['content'], 0, 0, 0, 0], [['pause'], 0]], [['Слово= ', 'Наполеон'], ['1', '1', '1', '4', '10', '1', 0, '16'], [['content'], 0, 0, 0, 0], [['pause'], 0]], [['Слово= ', 'напал'], ['6', '67', 0, '2', '100', 0, 0, '8'], [['content'], 0, 0, 0, 0], [['pause'], 0]], [['Слово= ', 'на'], ['9', 0, 0, 0, 0, '100', 0, '8'], [['content'], 0, 0, 0, 0], [['pause'], 0]], [['Слово= ', 'Россию'], ['1', '5', '5', '2', '40', '1', 0, '16'], [['content'], 0, 0, 0, 0], [['pause'], 0]], [['Слово= ', 'в'], ['9', 0, 0, 0, 0, '100', 0, 0], [['content'], 0, 0, 0, 0], [['pause'], 0]], [['Слово= ', 'основном'], ['3', '26', 0, '3', 0, 0, 0, '8'], [['content'], '2', 0, 0, 0], [['pause'], 0]], [['Слово= ', 'затем,'], ['10', 0, 0, '2', 0, 0, 0, '8'], [['content'], 0, 0, 0, 0], [['pause'], 0]], [['Слово= ', 'чтобы'], ['9', 0, 0, 0, 0, '200', 0, '8'], [['content'], 0, 0, 0, 0], [['pause'], 0]], [['Слово= ', 'помешать'], ['6', '60', 0, '3', '100', 0, 0, '8'], [['content'], 0, 0, 0, 0], [['pause'], 0]], [['Слово= ', 'нам'], ['12', '11', '8', 0, 0, '2', 0, '8'], [['content'], 0, 0, 0, 0], [['pause'], 0]], [['Слово= ', 'назвать'], ['6', '60', 0, '2', '100', '10', 0, '8'], [['content'], 0, 0, 0, 0], [['pause'], 0]], [['Слово= ', 'его'], ['11', '2', '1', 0, 0, '2', 0, '8'], [['content'], 0, 0, 0, 0], [['pause'], 0]], [['Слово= ', 'именем'], ['1', '6', '6', '1', 0, 0, 0, '8'], [['content'], 0, 0, 0, 0], [['pause'], 0]], [['Слово= ', 'торт'], ['1', '1', '4', '1', 0, 0, 0, '8'], [['content'], 0, 0, 0, 0], [['pause'], 0]], [['Слово= ', 'из'], ['9', 0, 0, 0, 0, '100', 0, '8'], [['content'], '2', 0, 0, 0], [['pause'], 0]], [['Слово= ', 'сои,'], ['1', '2', '5', '1', 0, 0, 0, '8'], [['content'], 0, 0, 0, 0], [['pause'], 0]], [['Слово= ', 'сахарина'], ['1', '2', '4', '3', 0, 0, 0, '8'], [['content'], 0, 0, 0, 0], [['pause'], 0]], [['Слово= ', 'и'], ['9', 0, 0, 0, 0, '200', 0, '8'], [['content'], 0, 0, 0, 0], [['pause'], 0]], [['Слово= ', 'машинного'], ['3', '34', 0, '2', 0, 0, 0, '8'], [['content'], '1', 0, 0, 0], [['pause'], 0]], [['Слово= ', 'масла.'], ['1', '2', '6', '1', 0, 0, 0, '8'], [['content'], 0, 0, 0, 0], [['pause'], 0]], [['Слово= ', 'Наполеон'], ['1', '1', '1', '4', '10', '1', 0, '16'], [['content'], '1', 0, 0, 0], [['pause'], 0]], [['Слово= ', 'проиграл.'], ['6', '67', 0, '3', '100', '10', 0, '8'], [['content'], 0, 0, 0, 0], [['pause'], 0]], [['Слово= ', 'Люди,'], ['2', '9', '1', '1', 0, 0, 0, '16'], [['content'], 0, 0, 0, 0], [['pause'], 0]], [['Слово= ', 'которые'], ['3', '39', 0, '2', 0, '3', 0, '8'], [['content'], 0, 0, 0, 0], [['pause'], 0]], [['Слово= ', 'толкаются'], ['6', '66', 0, '2', 0, 0, 0, '8'], [['content'], 0, 0, 0, 0], [['pause'], 0]], [['Слово= ', 'в'], ['9', 0, 0, 0, 0, '100', 0, 0], [['content'], 0, 0, 0, 0], [['pause'], 0]], [['Слово= ', 'общественном'], ['3', '26', 0, '2', 0, 0, 0, '8'], [['content'], '2', 0, 0, 0], [['pause'], 0]], [['Слово= ', 'транспорте,'], ['1', '7', '4', '1', 0, 0, 0, '8'], [['content'], 0, 0, 0, 0], [['pause'], 0]], [['Слово= ', 'просто'], ['10', 0, 0, '1', 0, 0, 0, '8'], [['content'], 0, 0, 0, 0], [['pause'], 0]], [['Слово= ', 'готовятся'], ['6', '66', 0, '2', 0, 0, 0, '8'], [['content'], 0, 0, 0, 0], [['pause'], 0]], [['Слово= ', 'к'], ['9', 0, 0, 0, 0, '100', 0, 0], [['content'], 0, 0, 0, 0], [['pause'], 0]], [['Слово= ', 'работе'], ['1', '4', '5', '2', 0, 0, 0, '8'], [['content'], '1', 0, 0, 0], [['pause'], 0]], [['Слово= ', 'кондуктора.'], ['1', '2', '1', '2', 0, 0, 0, '8'], [['content'], 0, 0, 0, 0], [['pause'], 0]], [['Слово= ', 'Несмотря'], ['9', 0, 0, '3', 0, '400', 0, '16'], [['content'], 0, 0, 0, 0], [['pause'], 0]], [['Слово= ', 'на'], ['9', 0, 0, 0, 0, '100', 0, '8'], [['content'], 0, 0, 0, 0], [['pause'], 0]], [['Слово= ', 'многочисленные'], ['3', '42', 0, '3', 0, 0, 0, '8'], [['content'], '2', 0, 0, 0], [['pause'], 0]], [['Слово= ', 'попытки,'], ['2', '12', '5', '2', 0, 0, 0, '8'], [['content'], 0, 0, 0, 0], [['pause'], 0]], [['Слово= ', 'Алена'], ['1', '1', '2', '2', '10', '1', 0, '24'], [['content'], 0, 0, 0, 0], [['pause'], 0]], [['Слово= ', 'Водонаева'], ['1', '1', '2', '3', '20', 0, 0, '16'], [['content'], 0, 0, 0, 0], [['pause'], 0]], [['Слово= ', 'не'], ['9', 0, 0, 0, 0, '400', 0, '8'], [['content'], 0, 0, 0, 0], [['pause'], 0]], [['Слово= ', 'смогла'], ['6', '68', 0, '2', '100', 0, 0, '8'], [['content'], 0, 0, 0, 0], [['pause'], 0]], [['Слово= ', 'окунуться'], ['6', '60', 0, '3', '100', 0, 0, '8'], [['content'], 0, 0, 0, 0], [['pause'], 0]], [['Слово= ', 'в'], ['9', 0, 0, 0, 0, '100', 0, 0], [['content'], 0, 0, 0, 0], [['pause'], 0]], [['Слово= ', 'прорубь'], ['1', '5', '5', '1', 0, 0, 0, '8'], [['content'], 0, 0, 0, 0], [['pause'], 0]], [['Слово= ', 'и'], ['9', 0, 0, 0, 0, '200', 0, '8'], [['content'], 0, 0, 0, 0], [['pause'], 0]], [['Слово= ', 'тихо'], ['10', 0, 0, '1', 0, 0, 0, '8'], [['content'], 0, 0, 0, 0], [['pause'], 0]], [['Слово= ', 'колыхалась'], ['6', '68', 0, '3', 0, 0, 0, '8'], [['content'], 0, 0, 0, 0], [['pause'], 0]], [['Слово= ', 'на'], ['9', 0, 0, 0, 0, '100', 0, '8'], [['content'], '1', 0, 0, 0], [['pause'], 0]], [['Слово= ', 'поверхности.'], ['1', '7', '5', '2', 0, 0, 0, '8'], [['content'], 0, 0, 0, 0], [['pause'], 0]], [['Слово= ', 'Один'], ['0', '1', '1', '2', 0, 0, 0, '24'], [['content'], 0, 0, 0, 0], [['pause'], 0]], [['Слово= ', 'пилот'], ['1', '1', '1', '2', 0, 0, 0, '8'], [['content'], 0, 0, 0, 0], [['pause'], 0]], [['Слово= ', 'говорит'], ['6', '63', 0, '3', 0, '10', 0, '8'], [['content'], '12', 0, 0, 0], [['pause'], 0]], [['Слово= ', 'другому:-'], ['1', '4', '1', '2', 0, 0, 0, '8'], [['content'], 0, 0, 0, 0], [['pause'], 0]], [['Слово= ', 'Скажи'], ['6', '71', 0, '2', '100', '10', 0, '16'], [['content'], '2', 0, 0, 0], [['pause'], 0]], [['Слово= ', 'парашютистам,'], ['2', '11', '1', '4', 0, 0, 0, '8'], [['content'], 0, 0, 0, 0], [['pause'], 0]], [['Слово= ', 'чтобы'], ['9', 0, 0, 0, 0, '200', 0, '8'], [['content'], 0, 0, 0, 0], [['pause'], 0]], [['Слово= ', 'перестали'], ['6', '70', 0, '3', '100', 0, 0, '8'], [['content'], '2', 0, 0, 0], [['pause'], 0]], [['Слово= ', 'прыгать,'], ['6', '60', 0, '1', 0, 0, 0, '8'], [['content'], 0, 0, 0, 0], [['pause'], 0]], [['Слово= ', 'мы'], ['12', '9', '8', 0, 0, '2', 0, '8'], [['content'], 0, 0, 0, 0], [['pause'], 0]], [['Слово= ', 'еще'], ['10', 0, 0, '2', 0, 0, 0, '8'], [['content'], 0, 0, 0, 0], [['pause'], 0]], [['Слово= ', 'не'], ['9', 0, 0, 0, 0, '400', 0, '8'], [['content'], '11', 0, 0, 0], [['pause'], 0]], [['Слово= ', 'взлетели...'], ['6', '70', 0, '2', '100', 0, 0, '8'], [['content'], 0, 0, 0, 0], [['pause'], 0]], [['Слово= ', 'Сильнее'], ['5', '50', 0, '2', 0, 0, 0, '16'], [['content'], 0, 0, 0, 0], [['pause'], 0]], [['Слово= ', 'женского'], ['3', '34', 0, '1', 0, 0, 0, '8'], [['content'], 0, 0, 0, 0], [['pause'], 0]], [['Слово= ', 'любопытства'], ['1', '2', '6', '3', 0, '1', 0, '8'], [['content'], 0, 0, 0, 0], [['pause'], 0]], [['Слово= ', 'может'], ['6', '63', 0, '1', 0, 0, 0, '8'], [['content'], 0, 0, 0, 0], [['pause'], 0]], [['Слово= ', 'быть'], ['6', '60', 0, '1', 0, 0, 0, '8'], [['content'], 0, 0, 0, 0], [['pause'], 0]], [['Слово= ', 'только'], ['9', 0, 0, 0, 0, '200', 0, '8'], [['content'], 0, 0, 0, 0], [['pause'], 0]], [['Слово= ', 'женское'], ['3', '33', 0, '1', 0, 0, 0, '8'], [['content'], 0, 0, 0, 0], [['pause'], 0]], [['Слово= ', 'желание'], ['1', '1', '6', '2', 0, 0, 0, '8'], [['content'], 0, 0, 0, 0], [['pause'], 0]], [['Слово= ', 'разболтать'], ['6', '60', 0, '3', '100', '10', 0, '8'], [['content'], '11', 0, 0, 0], [['pause'], 0]], [['Слово= ', 'тайну...'], ['1', '5', '5', '1', 0, 0, 0, '8'], [['content'], 0, 0, 0, 0], [['pause'], 0]], [['Слово= ', 'Зиму'], ['1', '5', '5', '1', 0, 0, 0, '16'], [['content'], 0, 0, 0, 0], [['pause'], 0]], [['Слово= ', 'можно'], ['9', 0, 0, '1', 0, '600', 0, '8'], [['content'], 0, 0, 0, 0], [['pause'], 0]], [['Слово= ', 'будет'], ['6', '63', 0, '1', 0, 0, 0, '8'], [['content'], 0, 0, 0, 0], [['pause'], 0]], [['Слово= ', 'назвать'], ['6', '60', 0, '2', '100', '10', 0, '8'], [['content'], 0, 0, 0, 0], [['pause'], 0]], [['Слово= ', 'по-настоящему'], ['10', 0, 0, '4', 0, 0, 0, '8'], [['content'], '2', 0, 0, 0], [['pause'], 0]], [['Слово= ', 'теплой,'], ['3', '28', 0, '1', 0, 0, 0, '8'], [['content'], 0, 0, 0, 0], [['pause'], 0]], [['Слово= ', 'когда'], ['10', 0, 0, '2', 0, 0, 0, '8'], [['content'], 0, 0, 0, 0], [['pause'], 0]], [['Слово= ', 'из'], ['9', 0, 0, 0, 0, '100', 0, '8'], [['content'], 0, 0, 0, 0], [['pause'], 0]], [['Слово= ', 'теплых'], ['3', '40', 0, '1', 0, 0, 0, '8'], [['content'], 0, 0, 0, 0], [['pause'], 0]], [['Слово= ', 'стран'], ['2', '10', '5', '1', 0, 0, 0, '8'], [['content'], 0, 0, 0, 0], [['pause'], 0]], [['Слово= ', 'начнут'], ['6', '66', 0, '2', '100', '10', 0, '8'], [['content'], 0, 0, 0, 0], [['pause'], 0]], [['Слово= ', 'возвращаться'], ['6', '60', 0, '3', 0, 0, 0, '8'], [['content'], '1', 0, 0, 0], [['pause'], 0]], [['Слово= ', 'дауншифтеры.'], ['2', '12', 0, '3', 0, 0, 0, '8'], [['content'], 0, 0, 0, 0], [['pause'], 0]], [['Слово= ', 'Самое'], ['3', '33', 0, '1', 0, '3', 0, '16'], [['content'], 0, 0, 0, 0], [['pause'], 0]], [['Слово= ', 'сложное'], ['3', '33', 0, '1', 0, 0, 0, '8'], [['content'], 0, 0, 0, 0], [['pause'], 0]], [['Слово= ', 'для'], ['9', 0, 0, 0, 0, '100', 0, '8'], [['content'], '2', 0, 0, 0], [['pause'], 0]], [['Слово= ', 'артиста,'], ['1', '2', '1', '2', 0, 0, 0, '8'], [['content'], 0, 0, 0, 0], [['pause'], 0]], [['Слово= ', 'пародирующего'], ['7', '21', 0, '3', '100', '10', 0, '8'], [['content'], '12', 0, 0, 0], [['pause'], 0]], [['Слово= ', 'Баскова -'], ['1', '5', '1', '1', '20', 0, 0, '16'], [['content'], 0, 0, 0, 0], [['pause'], 0]], [['Слово= ', 'также'], ['9', 0, 0, 0, 0, '200', 0, '8'], [['content'], 0, 0, 0, 0], [['pause'], 0]], [['Слово= ', 'не'], ['9', 0, 0, 0, 0, '400', 0, '8'], [['content'], 0, 0, 0, 0], [['pause'], 0]], [['Слово= ', 'попасть'], ['6', '60', 0, '2', '100', 0, 0, '8'], [['content'], 0, 0, 0, 0], [['pause'], 0]], [['Слово= ', 'в'], ['9', 0, 0, 0, 0, '100', 0, 0], [['content'], '1', 0, 0, 0], [['pause'], 0]], [['Слово= ', 'ноты.'], ['2', '12', '5', '1', 0, 0, 0, '8'], [['content'], 0, 0, 0, 0], [['pause'], 0]], [['Слово= ', 'Кошмар'], ['1', '1', '4', '2', 0, 0, 0, '16'], [['content'], '3', 0, 0, 0], [['pause'], 0]], [['Слово= ', 'иностранца:'], ['1', '2', '1', '3', 0, 0, 0, '8'], [['content'], '12', 0, 0, 0], [['pause'], 0]], [['Слово= ', 'утренник -'], ['1', '1', '4', '1', 0, 0, 0, '8'], [['content'], 0, 0, 0, 0], [['pause'], 0]], [['Слово= ', 'праздник'], ['1', '1', '4', '1', 0, 0, 0, '8'], [['content'], 0, 0, 0, 0], [['pause'], 0]], [['Слово= ', 'в'], ['9', 0, 0, 0, 0, '100', 0, 0], [['content'], 0, 0, 0, 0], [['pause'], 0]], [['Слово= ', 'детском'], ['3', '26', 0, '1', 0, 0, 0, '8'], [['content'], '2', 0, 0, 0], [['pause'], 0]], [['Слово= ', 'саду,'], ['1', '8', '4', '2', 0, 0, 0, '8'], [['content'], '12', 0, 0, 0], [['pause'], 0]], [['Слово= ', 'дневник -'], ['1', '1', '4', '2', 0, 0, 0, '8'], [['content'], '2', 0, 0, 0], [['pause'], 0]], [['Слово= ', 'книжка,'], ['1', '1', '5', '1', 0, 0, 0, '8'], [['content'], '12', 0, 0, 0], [['pause'], 0]], [['Слово= ', 'вечерник -'], ['1', '1', '1', '2', 0, 0, 0, '8'], [['content'], '2', 0, 0, 0], [['pause'], 0]], [['Слово= ', 'студент,'], ['1', '1', '1', '2', 0, 0, 0, '8'], [['content'], 0, 0, 0, 0], [['pause'], 0]], [['Слово= ', 'а'], ['9', 0, 0, 0, 0, '200', 0, '8'], [['content'], '12', 0, 0, 0], [['pause'], 0]], [['Слово= ', 'ночник -'], ['1', '1', '1', '2', 0, 0, 0, '8'], [['content'], '1', 0, 0, 0], [['pause'], 0]], [['Слово= ', 'лампа.'], ['1', '1', '5', '1', 0, 0, 0, '8'], [['content'], 0, 0, 0, 0], [['pause'], 0]], [['Слово= ', 'Если'], ['9', 0, 0, 0, 0, '200', 0, '24'], [['content'], 0, 0, 0, 0], [['pause'], 0]], [['Слово= ', 'падение'], ['1', '1', '6', '2', 0, 0, 0, '8'], [['content'], 0, 0, 0, 0], [['pause'], 0]], [['Слово= ', 'социальной'], ['3', '28', 0, '3', 0, 0, 0, '8'], [['content'], 0, 0, 0, 0], [['pause'], 0]], [['Слово= ', 'сети'], ['1', '2', '5', '2', 0, 0, 0, '8'], [['content'], 0, 0, 0, 0], [['pause'], 0]], [['Слово= ', 'беспокоит'], ['6', '63', 0, '3', 0, '10', 0, '8'], [['content'], 0, 0, 0, 0], [['pause'], 0]], [['Слово= ', 'гораздо'], ['10', 0, 0, '2', 0, 0, 0, '8'], [['content'], '2', 0, 0, 0], [['pause'], 0]], [['Слово= ', 'больше,'], ['5', '50', 0, '1', 0, 0, 0, '8'], [['content'], 0, 0, 0, 0], [['pause'], 0]], [['Слово= ', 'чем'], ['9', 0, 0, '1', 0, '200', 0, '8'], [['content'], 0, 0, 0, 0], [['pause'], 0]], [['Слово= ', 'падение'], ['1', '1', '6', '2', 0, 0, 0, '8'], [['content'], 0, 0, 0, 0], [['pause'], 0]], [['Слово= ', 'национальной'], ['3', '28', 0, '4', 0, 0, 0, '8'], [['content'], '2', 0, 0, 0], [['pause'], 0]], [['Слово= ', 'валюты,'], ['1', '2', '5', '2', 0, 0, 0, '8'], [['content'], 0, 0, 0, 0], [['pause'], 0]], [['Слово= ', 'значит'], ['6', '63', 0, '1', 0, '10', 0, '8'], [['content'], 0, 0, 0, 0], [['pause'], 0]], [['Слово= ', 'в'], ['9', 0, 0, 0, 0, '100', 0, 0], [['content'], 0, 0, 0, 0], [['pause'], 0]], [['Слово= ', 'стране'], ['1', '7', '5', '2', 0, 0, 0, '8'], [['content'], 0, 0, 0, 0], [['pause'], 0]], [['Слово= ', 'пока'], ['10', 0, 0, '2', 0, 0, 0, '8'], [['content'], 0, 0, 0, 0], [['pause'], 0]], [['Слово= ', 'все'], ['1', '1', '6', '1', 0, '2', 0, '8'], [['content'], '1', 0, 0, 0], [['pause'], 0]], [['Слово= ', 'хорошо.'], ['4', '48', 0, '3', 0, 0, 0, '8'], [['content'], 0, 0, 0, 0], [['pause'], 0]], [['Слово= ', 'Менталитет'], ['1', '1', '4', '4', 0, 0, 0, '16'], [['content'], 0, 0, 0, 0], [['pause'], 0]], [['Слово= ', 'российских'], ['3', '40', 0, '2', 0, 0, 0, '8'], [['content'], '3', 0, 0, 0], [['pause'], 0]], [['Слово= ', 'отдыхающих:'], ['2', '10', '1', '3', 0, 0, 0, '8'], [['content'], 0, 0, 0, 0], [['pause'], 0]], [['Слово= ', 'самолеты'], ['2', '9', '4', '3', 0, 0, 0, '8'], [['content'], '2', 0, 0, 0], [['pause'], 0]], [['Слово= ', 'неисправны,'], ['4', '49', 0, '3', 0, 0, 0, '8'], [['content'], 0, 0, 0, 0], [['pause'], 0]], [['Слово= ', 'жить'], ['6', '60', 0, '1', 0, 0, 0, '8'], [['content'], '2', 0, 0, 0], [['pause'], 0]], [['Слово= ', 'хочется,'], ['6', '63', 0, '1', 0, 0, 0, '8'], [['content'], 0, 0, 0, 0], [['pause'], 0]], [['Слово= ', 'но'], ['9', 0, 0, 0, 0, '200', 0, '8'], [['content'], 0, 0, 0, 0], [['pause'], 0]], [['Слово= ', 'отдыхать'], ['6', '60', 0, '3', 0, 0, 0, '8'], [['content'], 0, 0, 0, 0], [['pause'], 0]], [['Слово= ', 'все'], ['1', '1', '6', 0, 0, '2', 0, '8'], [['content'], 0, 0, 0, 0], [['pause'], 0]], [['Слово= ', 'равно'], ['10', 0, 0, '2', 0, 0, 0, '8'], [['content'], '5', 0, 0, 0], [['pause'], 0]], [['Слово= ', 'полетим!'], ['6', '72', 0, '3', '100', 0, 0, '8'], [['content'], 0, 0, 0, 0], [['pause'], 0]], [['Слово= ', 'Парадокс:'], ['1', '1', '4', '3', 0, 0, 0, '16'], [['content'], 0, 0, 0, 0], [['pause'], 0]], [['Слово= ', 'в'], ['9', 0, 0, 0, 0, '100', 0, 0], [['content'], 0, 0, 0, 0], [['pause'], 0]], [['Слово= ', 'марте'], ['1', '7', '4', '1', 0, 0, 0, '8'], [['content'], 0, 0, 0, 0], [['pause'], 0]], [['Слово= ', 'месяце'], ['1', '7', '4', '1', 0, 0, 0, '8'], [['content'], 0, 0, 0, 0], [['pause'], 0]], [['Слово= ', 'у'], ['9', 0, 0, 0, 0, '100', 0, '8'], [['content'], '2', 0, 0, 0], [['pause'], 0]], [['Слово= ', 'нас,'], ['12', '10', '8', 0, 0, '2', 0, '8'], [['content'], 0, 0, 0, 0], [['pause'], 0]], [['Слово= ', 'на'], ['9', 0, 0, 0, 0, '100', 0, '8'], [['content'], 0, 0, 0, 0], [['pause'], 0]], [['Слово= ', 'юге'], ['1', '7', '4', '1', 0, 0, 0, '8'], [['content'], '2', 0, 0, 0], [['pause'], 0]], [['Слово= ', 'России,'], ['1', '2', '5', '2', '40', '1', 0, '16'], [['content'], 0, 0, 0, 0], [['pause'], 0]], [['Слово= ', 'трава'], ['1', '1', '5', '2', 0, 0, 0, '8'], [['content'], 0, 0, 0, 0], [['pause'], 0]], [['Слово= ', 'в'], ['9', 0, 0, 0, 0, '100', 0, 0], [['content'], 0, 0, 0, 0], [['pause'], 0]], [['Слово= ', 'лучшем'], ['3', '38', 0, '1', 0, 0, 0, '8'], [['content'], '2', 0, 0, 0], [['pause'], 0]], [['Слово= ', 'состоянии,'], ['1', '7', '6', '3', 0, 0, 0, '8'], [['content'], 0, 0, 0, 0], [['pause'], 0]], [['Слово= ', 'чем'], ['9', 0, 0, '1', 0, '200', 0, '8'], [['content'], '11', 0, 0, 0], [['pause'], 0]], [['Слово= ', 'асфальт...'], ['1', '1', '4', '2', 0, 0, 0, '8'], [['content'], 0, 0, 0, 0], [['pause'], 0]], [['Слово= ', 'Благодаря'], ['9', 0, 0, '4', 0, '100', 0, '16'], [['content'], 0, 0, 0, 0], [['pause'], 0]], [['Слово= ', 'Инстаграму'], ['1', '4', '1', '3', 0, 0, 0, '24'], [['content'], 0, 0, 0, 0], [['pause'], 0]], [['Слово= ', 'я'], ['11', '1', '8', 0, 0, '2', 0, '8'], [['content'], '2', 0, 0, 0], [['pause'], 0]], [['Слово= ', 'знаю,'], ['6', '61', 0, '1', 0, '10', 0, '8'], [['content'], 0, 0, 0, 0], [['pause'], 0]], [['Слово= ', 'как'], ['10', 0, 0, '1', 0, 0, 0, '8'], [['content'], 0, 0, 0, 0], [['pause'], 0]], [['Слово= ', 'выглядят'], ['6', '66', 0, '1', 0, 0, 0, '8'], [['content'], 0, 0, 0, 0], [['pause'], 0]], [['Слово= ', 'авиабилеты'], ['2', '12', '4', '5', 0, 0, 0, '8'], [['content'], 0, 0, 0, 0], [['pause'], 0]], [['Слово= ', 'и'], ['9', 0, 0, 0, 0, '200', 0, '8'], [['content'], 0, 0, 0, 0], [['pause'], 0]], [['Слово= ', 'крылья'], ['2', '12', '6', '1', 0, 0, 0, '8'], [['content'], '1', 0, 0, 0], [['pause'], 0]], [['Слово= ', 'самолетов.'], ['2', '10', '4', '3', 0, 0, 0, '8'], [['content'], 0, 0, 0, 0], [['pause'], 0]], [['Слово= ', 'Я'], ['11', '1', '8', 0, 0, '2', 0, '24'], [['content'], 0, 0, 0, 0], [['pause'], 0]], [['Слово= ', 'многого'], ['1', '2', '6', '1', 0, '2', 0, '8'], [['content'], 0, 0, 0, 0], [['pause'], 0]], [['Слово= ', 'не'], ['9', 0, 0, 0, 0, '400', 0, '8'], [['content'], '2', 0, 0, 0], [['pause'], 0]], [['Слово= ', 'прошу,'], ['6', '61', 0, '2', 0, '10', 0, '8'], [['content'], 0, 0, 0, 0], [['pause'], 0]], [['Слово= ', 'мне'], ['11', '4', '8', 0, 0, '2', 0, '8'], [['content'], 0, 0, 0, 0], [['pause'], 0]], [['Слово= ', 'бы'], ['9', 0, 0, 0, 0, '400', 0, '8'], [['content'], 0, 0, 0, 0], [['pause'], 0]], [['Слово= ', 'только'], ['9', 0, 0, 0, 0, '200', 0, '8'], [['content'], 0, 0, 0, 0], [['pause'], 0]], [['Слово= ', 'шубку'], ['1', '5', '5', '1', 0, 0, 0, '8'], [['content'], 0, 0, 0, 0], [['pause'], 0]], [['Слово= ', 'согреться'], ['6', '60', 0, '2', '100', 0, 0, '8'], [['content'], 0, 0, 0, 0], [['pause'], 0]], [['Слово= ', 'и'], ['9', 0, 0, 0, 0, '200', 0, '8'], [['content'], 0, 0, '1', '1'], [['pause'], 0]], [['Слово= ', '\"Лексус\"'], ['1', '1', '4', '1', '1', '1', 0, '16'], [['content'], 0, 0, 0, 0], [['pause'], 0]], [['Слово= ', 'до'], ['9', 0, 0, 0, 0, '100', 0, '8'], [['content'], 0, 0, 0, 0], [['pause'], 0]], [['Слово= ', 'работы'], ['1', '2', '5', '2', 0, 0, 0, '8'], [['content'], '11', 0, 0, 0], [['pause'], 0]], [['Слово= ', 'доехать...'], ['6', '60', 0, '2', '100', 0, 0, '8'], [['content'], 0, 0, 0, 0], [['pause'], 0]], [['Слово= ', 'Раньше'], ['5', '50', 0, '1', 0, 0, 0, '16'], [['content'], 0, 0, 0, 0], [['pause'], 0]], [['Слово= ', 'не'], ['9', 0, 0, '1', 0, '400', 0, '8'], [['content'], 0, 0, 0, 0], [['pause'], 0]], [['Слово= ', 'было'], ['6', '69', 0, 0, 0, 0, 0, '8'], [['content'], 0, 0, 0, 0], [['pause'], 0]], [['Слово= ', 'прививок'], ['2', '10', '5', '2', 0, 0, 0, '8'], [['content'], 0, 0, 0, 0], [['pause'], 0]], [['Слово= ', 'и'], ['9', 0, 0, 0, 0, '200', 0, '8'], [['content'], 0, 0, 0, 0], [['pause'], 0]], [['Слово= ', 'химии'], ['1', '2', '5', '1', 0, '1', 0, '8'], [['content'], '2', 0, 0, 0], [['pause'], 0]], [['Слово= ', 'этой,'], ['3', '28', 0, '1', 0, '3', 0, '8'], [['content'], 0, 0, 0, 0], [['pause'], 0]], [['Слово= ', 'вся'], ['3', '27', 0, '1', 0, '3', 0, '8'], [['content'], 0, 0, 0, 0], [['pause'], 0]], [['Слово= ', 'еда'], ['1', '1', '5', '2', 0, '1', 0, '8'], [['content'], 0, 0, 0, 0], [['pause'], 0]], [['Слово= ', 'была'], ['6', '68', 0, '2', 0, 0, 0, '8'], [['content'], '2', 0, 0, 0], [['pause'], 0]], [['Слово= ', 'натуральная,'], ['3', '27', 0, '3', 0, 0, 0, '8'], [['content'], 0, 0, 0, 0], [['pause'], 0]], [['Слово= ', 'жили'], ['6', '70', 0, '1', 0, 0, 0, '8'], [['content'], 0, 0, 0, 0], [['pause'], 0]], [['Слово= ', 'люди'], ['2', '9', '1', '1', 0, 0, 0, '8'], [['content'], 0, 0, 0, 0], [['pause'], 0]], [['Слово= ', 'по'], ['9', 0, 0, 0, 0, '100', 0, '8'], [['content'], 0, 0, 0, 0], [['pause'], 0]], [['Слово= ', '38'], ['0', '5', 0, '1', 0, 0, 0, '9'], [['content'], 0, 0, 0, 0], [['pause'], 0]], [['Слово= ', 'лет,'], ['2', '10', 0, '1', 0, 0, 0, '8'], [['content'], 0, 0, 0, 0], [['pause'], 0]], [['Слово= ', 'горя'], ['6', '73', 0, '2', 0, 0, 0, '8'], [['content'], 0, 0, 0, 0], [['pause'], 0]], [['Слово= ', 'не'], ['9', 0, 0, 0, 0, '400', 0, '8'], [['content'], '1', 0, 0, 0], [['pause'], 0]], [['Слово= ', 'знали.'], ['6', '70', 0, '1', 0, '10', 0, '8'], [['content'], 0, 0, 0, 0], [['pause'], 0]], [['Слово= ', 'В'], ['9', 0, 0, 0, 0, '100', 0, '16'], [['content'], 0, 0, 0, 0], [['pause'], 0]], [['Слово= ', 'детстве'], ['1', '7', '6', '1', 0, 0, 0, '8'], [['content'], 0, 0, 0, 0], [['pause'], 0]], [['Слово= ', 'я'], ['11', '1', '8', 0, 0, '2', 0, '8'], [['content'], 0, 0, 0, 0], [['pause'], 0]], [['Слово= ', 'никак'], ['10', 0, 0, '2', 0, 0, 0, '8'], [['content'], 0, 0, 0, 0], [['pause'], 0]], [['Слово= ', 'не'], ['9', 0, 0, 0, 0, '400', 0, '8'], [['content'], 0, 0, 0, 0], [['pause'], 0]], [['Слово= ', 'мог'], ['6', '67', 0, '1', 0, 0, 0, '8'], [['content'], '2', 0, 0, 0], [['pause'], 0]], [['Слово= ', 'понять,'], ['6', '60', 0, '2', '100', '10', 0, '8'], [['content'], 0, 0, 0, 0], [['pause'], 0]], [['Слово= ', 'как'], ['10', 0, 0, '1', 0, 0, 0, '8'], [['content'], 0, 0, 0, 0], [['pause'], 0]], [['Слово= ', 'взрослые'], ['2', '9', '1', '1', 0, 0, 0, '8'], [['content'], 0, 0, 0, 0], [['pause'], 0]], [['Слово= ', 'могут'], ['6', '66', 0, '1', 0, 0, 0, '8'], [['content'], 0, 0, 0, 0], [['pause'], 0]], [['Слово= ', 'пить'], ['6', '60', 0, '1', 0, '10', 0, '8'], [['content'], 0, 0, 0, 0], [['pause'], 0]], [['Слово= ', 'эту'], ['3', '30', 0, '1', 0, '3', 0, '8'], [['content'], 0, 0, 0, 0], [['pause'], 0]], [['Слово= ', 'вонючую'], ['3', '30', 0, '2', 0, 0, 0, '8'], [['content'], '2', 0, 0, 0], [['pause'], 0]], [['Слово= ', 'водку,'], ['1', '5', '5', '1', 0, 0, 0, '8'], [['content'], 0, 0, 0, 0], [['pause'], 0]], [['Слово= ', 'когда'], ['10', 0, 0, '2', 0, 0, 0, '8'], [['content'], 0, 0, 0, 0], [['pause'], 0]], [['Слово= ', 'есть'], ['6', '60', 0, '1', 0, '10', 0, '8'], [['content'], 0, 0, 0, 0], [['pause'], 0]], [['Слово= ', 'такой'], ['3', '20', 0, '2', 0, '3', 0, '8'], [['content'], 0, 0, 0, 0], [['pause'], 0]], [['Слово= ', 'обалденно'], ['4', '48', 0, '3', 0, 0, 0, '8'], [['content'], 0, 0, 0, 0], [['pause'], 0]], [['Слово= ', 'вкусный'], ['3', '20', 0, '1', 0, 0, 0, '8'], [['content'], '1', 0, 0, 0], [['pause'], 0]], [['Слово= ', 'лимонад.'], ['1', '1', '4', '3', 0, 0, 0, '8'], [['content'], 0, 0, 0, 0], [['pause'], 0]], [['Слово= ', 'Если'], ['9', 0, 0, 0, 0, '200', 0, '24'], [['content'], '13', 0, 0, 0], [['pause'], 0]], [['Слово= ', 'долго-долго'], ['10', 0, 0, '1', 0, 0, 0, '8'], [['content'], 0, 0, 0, 0], [['pause'], 0]], [['Слово= ', 'смотреть'], ['6', '60', 0, '2', 0, '10', 0, '8'], [['content'], 0, 0, 0, 0], [['pause'], 0]], [['Слово= ', 'на'], ['9', 0, 0, 0, 0, '100', 0, '8'], [['content'], 0, 0, 0, 0], [['pause'], 0]], [['Слово= ', 'звездное'], ['3', '36', 0, '1', 0, 0, 0, '8'], [['content'], 0, 0, 0, 0], [['pause'], 0]], [['Слово= ', 'небо'], ['1', '5', '6', '1', 0, 0, 0, '8'], [['content'], 0, 0, 0, 0], [['pause'], 0]], [['Слово= ', 'со'], ['9', 0, 0, 0, 0, '100', 0, '8'], [['content'], 0, 0, 0, 0], [['pause'], 0]], [['Слово= ', 'дна'], ['1', '2', '6', '1', 0, 0, 0, '8'], [['content'], '2', 0, 0, 0], [['pause'], 0]], [['Слово= ', 'канавы,'], ['1', '2', '5', '2', 0, 0, 0, '8'], [['content'], 0, 0, 0, 0], [['pause'], 0]], [['Слово= ', 'то'], ['9', 0, 0, '1', 0, '200', 0, '8'], [['content'], 0, 0, 0, 0], [['pause'], 0]], [['Слово= ', 'к'], ['9', 0, 0, 0, 0, '100', 0, 0], [['content'], 0, 0, 0, 0], [['pause'], 0]], [['Слово= ', 'утру'], ['1', '4', '6', '2', 0, 0, 0, '8'], [['content'], '12', 0, 0, 0], [['pause'], 0]], [['Слово= ', 'догадаешься -'], ['6', '62', 0, '3', '100', 0, 0, '8'], [['content'], 0, 0, 0, 0], [['pause'], 0]], [['Слово= ', 'как'], ['10', 0, 0, '1', 0, 0, 0, '8'], [['content'], 0, 0, 0, 0], [['pause'], 0]], [['Слово= ', 'ты'], ['11', '1', '8', 0, 0, '2', 0, '8'], [['content'], 0, 0, 0, 0], [['pause'], 0]], [['Слово= ', 'там'], ['10', 0, 0, '1', 0, 0, 0, '8'], [['content'], '1', 0, 0, 0], [['pause'], 0]], [['Слово= ', 'оказался.'], ['6', '67', 0, '3', '100', 0, 0, '8'], [['content'], 0, 0, 0, 0], [['pause'], 0]], [['Слово= ', 'Чтобы'], ['9', 0, 0, 0, 0, '200', 0, '16'], [['content'], 0, 0, 0, 0], [['pause'], 0]], [['Слово= ', 'кошки'], ['2', '9', '2', '1', 0, 0, 0, '8'], [['content'], 0, 0, 0, 0], [['pause'], 0]], [['Слово= ', 'быстрее'], ['5', '50', 0, '2', 0, 0, 0, '8'], [['content'], 0, 0, 0, 0], [['pause'], 0]], [['Слово= ', 'поддавались'], ['6', '70', 0, '3', 0, 0, 0, '8'], [['content'], 0, 0, 0, 0], [['pause'], 0]], [['Слово= ', 'дрессировке'], ['1', '4', '5', '3', 0, 0, 0, '8'], [['content'], 0, 0, 0, 0], [['pause'], 0]], [['Слово= ', 'и'], ['9', 0, 0, 0, 0, '200', 0, '8'], [['content'], 0, 0, 0, 0], [['pause'], 0]], [['Слово= ', 'вообще'], ['10', 0, 0, '3', 0, 0, 0, '8'], [['content'], 0, 0, 0, 0], [['pause'], 0]], [['Слово= ', 'вели'], ['6', '70', 0, '2', 0, '10', 0, '8'], [['content'], 0, 0, 0, 0], [['pause'], 0]], [['Слово= ', 'себя'], ['1', '5', 0, 0, 0, '2', 0, '8'], [['content'], 0, 0, 0, 0], [['pause'], 0]], [['Слово= ', 'как'], ['10', 0, 0, '1', 0, 0, 0, '8'], [['content'], '2', 0, 0, 0], [['pause'], 0]], [['Слово= ', 'шелковые,'], ['3', '39', 0, '1', 0, 0, 0, '8'], [['content'], 0, 0, 0, 0], [['pause'], 0]], [['Слово= ', 'Юрий'], ['1', '1', '1', '1', '10', 0, 0, '24'], [['content'], 0, 0, 0, 0], [['pause'], 0]], [['Слово= ', 'Куклачев'], ['1', '1', '1', '3', '20', 0, 0, '16'], [['content'], 0, 0, 0, 0], [['pause'], 0]], [['Слово= ', 'заказывает'], ['6', '63', 0, '2', 0, '10', 0, '8'], [['content'], 0, 0, 0, 0], [['pause'], 0]], [['Слово= ', 'и'], ['9', 0, 0, 0, 0, '200', 0, '8'], [['content'], 0, 0, 0, 0], [['pause'], 0]], [['Слово= ', 'демонстративно'], ['10', 0, 0, '4', 0, 0, 0, '8'], [['content'], 0, 0, 0, 0], [['pause'], 0]], [['Слово= ', 'ест'], ['6', '63', 0, '1', 0, '10', 0, '8'], [['content'], '1', 0, 0, 0], [['pause'], 0]], [['Слово= ', 'шаурму.'], ['1', '5', '5', '3', 0, 0, 0, '8'], [['content'], 0, 0, 0, 0], [['pause'], 0]], [['Слово= ', 'Таран'], ['1', '5', '4', '2', 0, 0, 0, '16'], [['content'], 0, 0, 0, 0], [['pause'], 0]], [['Слово= ', 'носят'], ['6', '66', 0, '1', 0, '10', 0, '8'], [['content'], 0, 0, 0, 0], [['pause'], 0]], [['Слово= ', 'на'], ['9', 0, 0, 0, 0, '100', 0, '8'], [['content'], '2', 0, 0, 0], [['pause'], 0]], [['Слово= ', 'руках,'], ['2', '14', '5', '2', 0, 0, 0, '8'], [['content'], 0, 0, 0, 0], [['pause'], 0]], [['Слово= ', 'когда'], ['10', 0, 0, '2', 0, 0, 0, '8'], [['content'], 0, 0, 0, 0], [['pause'], 0]], [['Слово= ', 'нужно'], ['9', 0, 0, '1', 0, '600', 0, '8'], [['content'], 0, 0, 0, 0], [['pause'], 0]], [['Слово= ', 'пробить'], ['6', '60', 0, '2', '100', '10', 0, '8'], [['content'], 0, 0, 0, 0], [['pause'], 0]], [['Слово= ', 'стену'], ['1', '5', '5', '1', 0, 0, 0, '8'], [['content'], 0, 0, 0, 0], [['pause'], 0]], [['Слово= ', 'и'], ['9', 0, 0, 0, 0, '200', 0, '8'], [['content'], '2', 0, 0, 0], [['pause'], 0]], [['Слово= ', 'выбрасывают,'], ['6', '66', 0, '2', 0, '10', 0, '8'], [['content'], 0, 0, 0, 0], [['pause'], 0]], [['Слово= ', 'когда'], ['10', 0, 0, '2', 0, 0, 0, '8'], [['content'], 0, 0, 0, 0], [['pause'], 0]], [['Слово= ', 'она'], ['11', '1', '2', 0, 0, '2', 0, '8'], [['content'], '1', 0, 0, 0], [['pause'], 0]], [['Слово= ', 'рушится.'], ['6', '63', 0, '1', 0, 0, 0, '8'], [['content'], 0, 0, 0, 0], [['pause'], 0]], [['Слово= ', 'В'], ['9', 0, 0, 0, 0, '100', 0, '16'], [['content'], 0, 0, 0, 0], [['pause'], 0]], [['Слово= ', 'словах'], ['2', '14', '6', '2', 0, 0, 0, '8'], [['content'], 0, 0, 0, 0], [['pause'], 0]], [['Слово= ', 'и'], ['9', 0, 0, 0, 0, '200', 0, '8'], [['content'], 0, 0, 0, 0], [['pause'], 0]], [['Слово= ', 'клятвах'], ['2', '14', '5', '1', 0, 0, 0, '8'], [['content'], 0, 0, 0, 0], [['pause'], 0]], [['Слово= ', 'все'], ['3', '39', 0, '1', 0, '3', 0, '8'], [['content'], 0, 0, 0, 0], [['pause'], 0]], [['Слово= ', 'мужчины'], ['2', '9', '1', '2', 0, 0, 0, '8'], [['content'], '2', 0, 0, 0], [['pause'], 0]], [['Слово= ', 'одинаковы,'], ['4', '49', 0, '3', 0, 0, 0, '8'], [['content'], 0, 0, 0, 0], [['pause'], 0]], [['Слово= ', 'а'], ['9', 0, 0, 0, 0, '200', 0, '8'], [['content'], 0, 0, 0, 0], [['pause'], 0]], [['Слово= ', 'вот'], ['9', 0, 0, 0, 0, '400', 0, '8'], [['content'], 0, 0, 0, 0], [['pause'], 0]], [['Слово= ', 'их'], ['3', 0, 0, 0, 0, '3', 0, '8'], [['content'], 0, 0, 0, 0], [['pause'], 0]], [['Слово= ', 'поступки'], ['2', '9', '4', '2', 0, 0, 0, '8'], [['content'], 0, 0, 0, 0], [['pause'], 0]], [['Слово= ', 'показывают'], ['6', '66', 0, '2', 0, '10', 0, '8'], [['content'], 0, 0, 0, 0], [['pause'], 0]], [['Слово= ', 'разницу'], ['1', '5', '5', '1', 0, 0, 0, '8'], [['content'], 0, 0, 0, 0], [['pause'], 0]], [['Слово= ', 'между'], ['9', 0, 0, '1', 0, '100', 0, '8'], [['content'], '1', 0, 0, 0], [['pause'], 0]], [['Слово= ', 'ними.'], ['12', '13', '8', 0, 0, '2', 0, '8'], [['content'], 0, 0, 0, 0], [['pause'], 0]], [['Слово= ', 'Когда'], ['10', 0, 0, '2', 0, 0, 0, '16'], [['content'], 0, 0, 0, 0], [['pause'], 0]], [['Слово= ', 'на'], ['9', 0, 0, 0, 0, '100', 0, '8'], [['content'], 0, 0, 0, 0], [['pause'], 0]], [['Слово= ', 'Руси'], ['1', '7', '5', '2', '40', '1', 0, '16'], [['content'], 0, 0, 0, 0], [['pause'], 0]], [['Слово= ', 'еще'], ['10', 0, 0, '2', 0, 0, 0, '8'], [['content'], 0, 0, 0, 0], [['pause'], 0]], [['Слово= ', 'не'], ['9', 0, 0, '1', 0, '400', 0, '8'], [['content'], 0, 0, 0, 0], [['pause'], 0]], [['Слово= ', 'было'], ['6', '69', 0, 0, 0, 0, 0, '8'], [['content'], '2', 0, 0, 0], [['pause'], 0]], [['Слово= ', 'календарей,'], ['2', '10', '4', '4', 0, 0, 0, '8'], [['content'], 0, 0, 0, 0], [['pause'], 0]], [['Слово= ', 'время'], ['1', '1', '6', '1', 0, 0, 0, '8'], [['content'], 0, 0, 0, 0], [['pause'], 0]], [['Слово= ', 'года'], ['2', '9', '4', '2', 0, 0, 0, '8'], [['content'], 0, 0, 0, 0], [['pause'], 0]], [['Слово= ', 'определяли'], ['6', '70', 0, '4', 0, '10', 0, '8'], [['content'], 0, 0, 0, 0], [['pause'], 0]], [['Слово= ', 'по'], ['9', 0, 0, 0, 0, '100', 0, '8'], [['content'], '3', 0, 0, 0], [['pause'], 0]], [['Слово= ', 'оливье:'], ['1', 0, '4', '3', 0, 0, 0, '8'], [['content'], 0, 0, 0, 0], [['pause'], 0]], [['Слово= ', 'если'], ['9', 0, 0, 0, 0, '200', 0, '8'], [['content'], 0, 0, 0, 0], [['pause'], 0]], [['Слово= ', 'оливье'], ['1', 0, '4', '3', 0, 0, 0, '8'], [['content'], 0, 0, 0, 0], [['pause'], 0]], [['Слово= ', 'с'], ['9', 0, 0, 0, 0, '100', 0, 0], [['content'], '12', 0, 0, 0], [['pause'], 0]], [['Слово= ', 'майонезом -'], ['1', '6', '4', '3', 0, 0, 0, '8'], [['content'], '2', 0, 0, 0], [['pause'], 0]], [['Слово= ', 'зима,'], ['1', '1', '5', '2', 0, 0, 0, '8'], [['content'], 0, 0, 0, 0], [['pause'], 0]], [['Слово= ', 'если'], ['9', 0, 0, 0, 0, '200', 0, '8'], [['content'], 0, 0, 0, 0], [['pause'], 0]], [['Слово= ', 'оливье'], ['1', 0, '4', '3', 0, 0, 0, '8'], [['content'], 0, 0, 0, 0], [['pause'], 0]], [['Слово= ', 'с'], ['9', 0, 0, 0, 0, '100', 0, 0], [['content'], '12', 0, 0, 0], [['pause'], 0]], [['Слово= ', 'квасом -'], ['1', '6', '4', '1', 0, 0, 0, '8'], [['content'], '1', 0, 0, 0], [['pause'], 0]], [['Слово= ', 'лето.'], ['1', '1', '6', '1', 0, '1', 0, '8'], [['content'], 0, 0, 0, 0], [['pause'], 0]], [['Слово= ', 'Иностранцы'], ['2', '9', '1', '3', 0, 0, 0, '24'], [['content'], 0, 0, 0, 0], [['pause'], 0]], [['Слово= ', 'почему-то'], ['10', 0, 0, '3', 0, 0, 0, '8'], [['content'], 0, 0, 0, 0], [['pause'], 0]], [['Слово= ', 'все'], ['1', '1', '6', '1', 0, '2', 0, '8'], [['content'], '2', 0, 0, 0], [['pause'], 0]], [['Слово= ', 'считают,'], ['6', '66', 0, '2', 0, '10', 0, '8'], [['content'], 0, 0, 0, 0], [['pause'], 0]], [['Слово= ', 'что'], ['9', 0, 0, '1', 0, '200', 0, '8'], [['content'], 0, 0, 0, 0], [['pause'], 0]], [['Слово= ', 'в'], ['9', 0, 0, 0, 0, '100', 0, 0], [['content'], 0, 0, 0, 0], [['pause'], 0]], [['Слово= ', 'России'], ['1', '7', '5', '2', '40', '1', 0, '16'], [['content'], 0, 0, 0, 0], [['pause'], 0]], [['Слово= ', 'живут'], ['6', '66', 0, '2', 0, 0, 0, '8'], [['content'], 0, 0, 0, 0], [['pause'], 0]], [['Слово= ', 'одни'], ['0', '1', 0, '2', 0, 0, 0, '8'], [['content'], 0, 0, 0, 0], [['pause'], 0]], [['Слово= ', 'Иваны'], ['2', '9', '1', '2', '10', 0, 0, '24'], [['content'], 0, 0, 0, 0], [['pause'], 0]], [['Слово= ', 'и'], ['9', 0, 0, 0, 0, '200', 0, '8'], [['content'], '2', 0, 0, 0], [['pause'], 0]], [['Слово= ', 'Алексеи,'], ['2', '9', '1', '3', '10', 0, 0, '24'], [['content'], 0, 0, 0, 0], [['pause'], 0]], [['Слово= ', 'но'], ['9', 0, 0, 0, 0, '200', 0, '8'], [['content'], 0, 0, 0, 0], [['pause'], 0]], [['Слово= ', 'когда'], ['10', 0, 0, '2', 0, 0, 0, '8'], [['content'], 0, 0, 0, 0], [['pause'], 0]], [['Слово= ', 'приезжают'], ['6', '66', 0, '3', 0, 0, 0, '8'], [['content'], 0, 0, 0, 0], [['pause'], 0]], [['Слово= ', 'в'], ['9', 0, 0, 0, 0, '100', 0, 0], [['content'], '2', 0, 0, 0], [['pause'], 0]], [['Слово= ', 'Россию,'], ['1', '5', '5', '2', '40', '1', 0, '16'], [['content'], 0, 0, 0, 0], [['pause'], 0]], [['Слово= ', 'то'], ['9', 0, 0, '1', 0, '200', 0, '8'], [['content'], 0, 0, 0, 0], [['pause'], 0]], [['Слово= ', 'просто'], ['10', 0, 0, '1', 0, 0, 0, '8'], [['content'], '2', 0, 0, 0], [['pause'], 0]], [['Слово= ', 'охревают,'], ['6', '66', 0, '3', 0, 0, 0, '8'], [['content'], 0, 0, 0, 0], [['pause'], 0]], [['Слово= ', 'что'], ['9', 0, 0, '1', 0, '200', 0, '8'], [['content'], 0, 0, 0, 0], [['pause'], 0]], [['Слово= ', 'тут'], ['10', 0, 0, '1', 0, 0, 0, '8'], [['content'], 0, 0, 0, 0], [['pause'], 0]], [['Слово= ', 'живут'], ['6', '66', 0, '2', 0, 0, 0, '8'], [['content'], 0, 0, 0, 0], [['pause'], 0]], [['Слово= ', 'одни'], ['0', '1', 0, '2', 0, 0, 0, '8'], [['content'], 0, 0, 0, 0], [['pause'], 0]], [['Слово= ', 'Магомеды'], ['2', '9', '1', '3', '10', 0, 0, '16'], [['content'], 0, 0, 0, 0], [['pause'], 0]], [['Слово= ', 'и'], ['9', 0, 0, 0, 0, '200', 0, '8'], [['content'], '11', 0, 0, 0], [['pause'], 0]], [['Слово= ', 'Асланы...'], ['1', '2', '2', '3', '10', '1', 0, '24'], [['content'], 0, 0, 0, 0], [['pause'], 0]], [['Слово= ', 'Тенденция'], ['1', '1', '5', '2', 0, 0, 0, '16'], [['content'], 0, 0, 0, 0], [['pause'], 0]], [['Слово= ', 'последних'], ['3', '40', 0, '2', 0, 0, 0, '8'], [['content'], '3', 0, 0, 0], [['pause'], 0]], [['Слово= ', 'лет:'], ['2', '10', 0, '1', 0, 0, 0, '8'], [['content'], 0, 0, 0, 0], [['pause'], 0]], [['Слово= ', 'зимой'], ['10', 0, 0, '2', 0, 0, 0, '8'], [['content'], 0, 0, 0, 0], [['pause'], 0]], [['Слово= ', 'мы'], ['12', '9', '8', 0, 0, '2', 0, '8'], [['content'], 0, 0, 0, 0], [['pause'], 0]], [['Слово= ', 'страдаем'], ['6', '64', 0, '2', 0, 0, 0, '8'], [['content'], 0, 0, 0, 0], [['pause'], 0]], [['Слово= ', 'от'], ['9', 0, 0, 0, 0, '100', 0, '8'], [['content'], 0, 0, 0, 0], [['pause'], 0]], [['Слово= ', 'глобального'], ['3', '34', 0, '2', 0, 0, 0, '8'], [['content'], '2', 0, 0, 0], [['pause'], 0]], [['Слово= ', 'потепления,'], ['1', '2', '6', '3', 0, 0, 0, '8'], [['content'], 0, 0, 0, 0], [['pause'], 0]], [['Слово= ', 'а'], ['9', 0, 0, 0, 0, '200', 0, '8'], [['content'], '12', 0, 0, 0], [['pause'], 0]], [['Слово= ', 'летом -'], ['10', 0, 0, '1', 0, 0, 0, '8'], [['content'], 0, 0, 0, 0], [['pause'], 0]], [['Слово= ', 'от'], ['9', 0, 0, 0, 0, '100', 0, '8'], [['content'], 0, 0, 0, 0], [['pause'], 0]], [['Слово= ', 'глобального'], ['3', '34', 0, '2', 0, 0, 0, '8'], [['content'], '1', 0, 0, 0], [['pause'], 0]], [['Слово= ', 'похолодания.'], ['1', '2', '6', '4', 0, 0, 0, '8'], [['content'], 0, 0, 0, 0], [['pause'], 0]], [['Слово= ', 'Предлагаю'], ['6', '61', 0, '3', 0, '10', 0, '16'], [['content'], 0, 0, 0, 0], [['pause'], 0]], [['Слово= ', 'вообще'], ['10', 0, 0, '3', 0, 0, 0, '8'], [['content'], 0, 0, 0, 0], [['pause'], 0]], [['Слово= ', 'не'], ['9', 0, 0, 0, 0, '400', 0, '8'], [['content'], 0, 0, 0, 0], [['pause'], 0]], [['Слово= ', 'решать'], ['6', '60', 0, '2', 0, '10', 0, '8'], [['content'], 0, 0, 0, 0], [['pause'], 0]], [['Слово= ', 'никакие'], ['3', '39', 0, '3', 0, '3', 0, '8'], [['content'], '2', 0, 0, 0], [['pause'], 0]], [['Слово= ', 'проблемы,'], ['2', '12', '5', '2', 0, 0, 0, '8'], [['content'], 0, 0, 0, 0], [['pause'], 0]], [['Слово= ', 'а'], ['9', 0, 0, 0, 0, '200', 0, '8'], [['content'], 0, 0, 0, 0], [['pause'], 0]], [['Слово= ', 'просто'], ['10', 0, 0, '1', 0, 0, 0, '8'], [['content'], 0, 0, 0, 0], [['pause'], 0]], [['Слово= ', 'принимать'], ['6', '60', 0, '3', 0, '10', 0, '8'], [['content'], 0, 0, 0, 0], [['pause'], 0]], [['Слово= ', 'разные'], ['3', '39', 0, '1', 0, 0, 0, '8'], [['content'], 0, 0, 0, 0], [['pause'], 0]], [['Слово= ', 'психотропные'], ['3', '39', 0, '3', 0, 0, 0, '8'], [['content'], 0, 0, 0, 0], [['pause'], 0]], [['Слово= ', 'препараты'], ['2', '12', '4', '3', 0, 0, 0, '8'], [['content'], 0, 0, 0, 0], [['pause'], 0]], [['Слово= ', 'в'], ['9', 0, 0, 0, 0, '100', 0, 0], [['content'], 0, 0, 0, 0], [['pause'], 0]], [['Слово= ', 'зависимости'], ['1', '7', '5', '2', 0, 0, 0, '8'], [['content'], 0, 0, 0, 0], [['pause'], 0]], [['Слово= ', 'от'], ['9', 0, 0, 0, 0, '100', 0, '8'], [['content'], '1', 0, 0, 0], [['pause'], 0]], [['Слово= ', 'ситуации.'], ['1', '2', '5', '3', 0, 0, 0, '8'], [['content'], 0, 0, 0, 0], [['pause'], 0]], [['Слово= ', 'Даже'], ['9', 0, 0, 0, 0, '200', 0, '16'], [['content'], 0, 0, 0, 0], [['pause'], 0]], [['Слово= ', 'если'], ['9', 0, 0, 0, 0, '200', 0, '8'], [['content'], 0, 0, 0, 0], [['pause'], 0]], [['Слово= ', 'ты'], ['11', '1', '8', 0, 0, '2', 0, '8'], [['content'], 0, 0, 0, 0], [['pause'], 0]], [['Слово= ', 'пытаешься'], ['6', '62', 0, '2', 0, 0, 0, '8'], [['content'], 0, 0, 0, 0], [['pause'], 0]], [['Слово= ', 'остаться'], ['6', '60', 0, '2', '100', 0, 0, '8'], [['content'], 0, 0, 0, 0], [['pause'], 0]], [['Слово= ', 'в'], ['9', 0, 0, 0, 0, '100', 0, 0], [['content'], '2', 0, 0, 0], [['pause'], 0]], [['Слово= ', 'стороне,'], ['1', '7', '5', '3', 0, 0, 0, '8'], [['content'], 0, 0, 0, 0], [['pause'], 0]], [['Слово= ', 'то'], ['9', 0, 0, '1', 0, '200', 0, '8'], [['content'], 0, 0, 0, 0], [['pause'], 0]], [['Слово= ', 'оказываешься'], ['6', '62', 0, '2', 0, 0, 0, '8'], [['content'], 0, 0, 0, 0], [['pause'], 0]], [['Слово= ', 'на'], ['9', 0, 0, 0, 0, '100', 0, '8'], [['content'], 0, 0, 0, 0], [['pause'], 0]], [['Слово= ', 'стороне'], ['1', '7', '5', '3', 0, 0, 0, '8'], [['content'], '2', 0, 0, 0], [['pause'], 0]], [['Слово= ', 'тех,'], ['3', '40', 0, '1', 0, '3', 0, '8'], [['content'], 0, 0, 0, 0], [['pause'], 0]], [['Слово= ', 'кто'], ['1', '1', '1', 0, 0, '2', 0, '8'], [['content'], 0, 0, 0, 0], [['pause'], 0]], [['Слово= ', 'решил'], ['6', '67', 0, '2', '100', '10', 0, '8'], [['content'], 0, 0, 0, 0], [['pause'], 0]], [['Слово= ', 'соблюдать'], ['6', '60', 0, '3', 0, '10', 0, '8'], [['content'], '1', 0, 0, 0], [['pause'], 0]], [['Слово= ', 'нейтралитет.'], ['1', '5', '4', '4', 0, 0, 0, '8'], [['content'], 0, 0, 0, 0], [['pause'], 0]], [['Слово= ', 'Когда-то'], ['10', 0, 0, '2', 0, 0, 0, '16'], [['content'], 0, 0, 0, 0], [['pause'], 0]], [['Слово= ', 'говно'], ['1', '1', '6', '2', 0, 0, 0, '8'], [['content'], 0, 0, 0, 0], [['pause'], 0]], [['Слово= ', 'было'], ['6', '69', 0, '1', 0, 0, 0, '8'], [['content'], 0, 0, 0, 0], [['pause'], 0]], [['Слово= ', 'просто'], ['10', 0, 0, '1', 0, 0, 0, '8'], [['content'], '2', 0, 0, 0], [['pause'], 0]], [['Слово= ', 'говном,'], ['1', '6', '6', '2', 0, 0, 0, '8'], [['content'], 0, 0, 0, 0], [['pause'], 0]], [['Слово= ', 'но'], ['9', 0, 0, 0, 0, '200', 0, '8'], [['content'], 0, 0, 0, 0], [['pause'], 0]], [['Слово= ', 'со'], ['9', 0, 0, 0, 0, '100', 0, '8'], [['content'], 0, 0, 0, 0], [['pause'], 0]], [['Слово= ', 'временем'], ['1', '6', '6', '1', 0, 0, 0, '8'], [['content'], 0, 0, 0, 0], [['pause'], 0]], [['Слово= ', 'его'], ['11', '2', '1', 0, 0, '2', 0, '8'], [['content'], 0, 0, 0, 0], [['pause'], 0]], [['Слово= ', 'научились'], ['6', '70', 0, '3', '100', 0, 0, '8'], [['content'], '2', 0, 0, 0], [['pause'], 0]], [['Слово= ', 'слушать,'], ['6', '60', 0, '1', 0, '10', 0, '8'], [['content'], '2', 0, 0, 0], [['pause'], 0]], [['Слово= ', 'смотреть,'], ['6', '60', 0, '2', 0, '10', 0, '8'], [['content'], '2', 0, 0, 0], [['pause'], 0]], [['Слово= ', 'писать,'], ['6', '60', 0, '2', 0, '10', 0, '8'], [['content'], 0, 0, 0, 0], [['pause'], 0]], [['Слово= ', 'снимать'], ['6', '60', 0, '2', 0, '10', 0, '8'], [['content'], 0, 0, 0, 0], [['pause'], 0]], [['Слово= ', 'и'], ['9', 0, 0, 0, 0, '200', 0, '8'], [['content'], 0, 0, 0, 0], [['pause'], 0]], [['Слово= ', 'выгодно'], ['10', 0, 0, '1', 0, 0, 0, '8'], [['content'], '1', 0, 0, 0], [['pause'], 0]], [['Слово= ', 'продавать.'], ['6', '60', 0, '3', 0, '10', 0, '8'], [['content'], 0, 0, 0, 0], [['pause'], 0]], [['Слово= ', 'Лексикон'], ['1', '1', '4', '3', 0, 0, 0, '16'], [['content'], 0, 0, 0, 0], [['pause'], 0]], [['Слово= ', 'мужчины'], ['1', '2', '1', '2', 0, 0, 0, '8'], [['content'], 0, 0, 0, 0], [['pause'], 0]], [['Слово= ', 'составляет'], ['6', '63', 0, '3', 0, '10', 0, '8'], [['content'], 0, 0, 0, 0], [['pause'], 0]], [['Слово= ', 'около'], ['9', 0, 0, 0, 0, '100', 0, '8'], [['content'], 0, 0, 0, 0], [['pause'], 0]], [['Слово= ', 'трех'], ['0', '2', 0, '1', 0, 0, 0, '8'], [['content'], 0, 0, 0, 0], [['pause'], 0]], [['Слово= ', 'тысяч'], ['0', '2', 0, '1', 0, 0, 0, '8'], [['content'], '2', 0, 0, 0], [['pause'], 0]], [['Слово= ', 'слов,'], ['2', '10', '6', '1', 0, 0, 0, '8'], [['content'], 0, 0, 0, 0], [['pause'], 0]], [['Слово= ', 'а'], ['9', 0, 0, 0, 0, '200', 0, '8'], [['content'], '12', 0, 0, 0], [['pause'], 0]], [['Слово= ', 'женщины -'], ['2', '9', '2', '1', 0, 0, 0, '8'], [['content'], 0, 0, 0, 0], [['pause'], 0]], [['Слово= ', 'десять'], ['0', '1', 0, '1', 0, 0, 0, '8'], [['content'], 0, 0, 0, 0], [['pause'], 0]], [['Слово= ', 'тысяч'], ['0', '2', 0, '1', 0, 0, 0, '8'], [['content'], '1', 0, 0, 0], [['pause'], 0]], [['Слово= ', 'слов.'], ['2', '10', '6', '1', 0, 0, 0, '8'], [['content'], 0, 0, 0, 0], [['pause'], 0]], [['Слово= ', 'Но'], ['9', 0, 0, 0, 0, '200', 0, '16'], [['content'], 0, 0, 0, 0], [['pause'], 0]], [['Слово= ', 'преимущество'], ['1', '1', '6', '3', 0, 0, 0, '8'], [['content'], 0, 0, 0, 0], [['pause'], 0]], [['Слово= ', 'женщины'], ['1', '2', '2', '1', 0, 0, 0, '8'], [['content'], 0, 0, 0, 0], [['pause'], 0]], [['Слово= ', 'состоит'], ['6', '63', 0, '3', 0, 0, 0, '8'], [['content'], 0, 0, 0, 0], [['pause'], 0]], [['Слово= ', 'еще'], ['10', 0, 0, '2', 0, 0, 0, '8'], [['content'], 0, 0, 0, 0], [['pause'], 0]], [['Слово= ', 'и'], ['9', 0, 0, 0, 0, '200', 0, '8'], [['content'], 0, 0, 0, 0], [['pause'], 0]], [['Слово= ', 'в'], ['9', 0, 0, 0, 0, '100', 0, 0], [['content'], '2', 0, 0, 0], [['pause'], 0]], [['Слово= ', 'том,'], ['1', '5', '4', '1', 0, 0, 0, '8'], [['content'], 0, 0, 0, 0], [['pause'], 0]], [['Слово= ', 'что'], ['9', 0, 0, '1', 0, '200', 0, '8'], [['content'], 0, 0, 0, 0], [['pause'], 0]], [['Слово= ', 'при'], ['9', 0, 0, 0, 0, '100', 0, '8'], [['content'], 0, 0, 0, 0], [['pause'], 0]], [['Слово= ', 'желании'], ['1', '7', '6', '2', 0, 0, 0, '8'], [['content'], 0, 0, 0, 0], [['pause'], 0]], [['Слово= ', 'она'], ['11', '1', '2', 0, 0, '2', 0, '8'], [['content'], 0, 0, 0, 0], [['pause'], 0]], [['Слово= ', 'может'], ['6', '63', 0, '1', 0, 0, 0, '8'], [['content'], 0, 0, 0, 0], [['pause'], 0]], [['Слово= ', 'высказать'], ['6', '60', 0, '1', '100', '10', 0, '8'], [['content'], 0, 0, 0, 0], [['pause'], 0]], [['Слово= ', 'их'], ['12', '10', '8', 0, 0, '2', 0, '8'], [['content'], 0, 0, 0, 0], [['pause'], 0]], [['Слово= ', 'за'], ['9', 0, 0, 0, 0, '100', 0, '8'], [['content'], 0, 0, 0, 0], [['pause'], 0]], [['Слово= ', 'одну'], ['0', '5', '2', '2', 0, 0, 0, '8'], [['content'], '1', 0, 0, 0], [['pause'], 0]], [['Слово= ', 'минуту.'], ['1', '5', '5', '2', 0, 0, 0, '8'], [['content'], 0, 0, 0, 0], [['pause'], 0]], [['Слово= ', 'Когда'], ['10', 0, 0, '2', 0, 0, 0, '16'], [['content'], 0, 0, 0, 0], [['pause'], 0]], [['Слово= ', 'через'], ['9', 0, 0, 0, 0, '100', 0, '8'], [['content'], 0, 0, 0, 0], [['pause'], 0]], [['Слово= ', 'тысячу'], ['0', '5', 0, '1', 0, 0, 0, '8'], [['content'], 0, 0, 0, 0], [['pause'], 0]], [['Слово= ', 'лет'], ['2', '10', 0, '1', 0, 0, 0, '8'], [['content'], 0, 0, 0, 0], [['pause'], 0]], [['Слово= ', 'археологи'], ['2', '9', '1', '3', 0, 0, 0, '8'], [['content'], 0, 0, 0, 0], [['pause'], 0]], [['Слово= ', 'откопают'], ['6', '66', 0, '3', '100', '10', 0, '8'], [['content'], 0, 0, 0, 0], [['pause'], 0]], [['Слово= ', 'наш'], ['3', '20', 0, '1', 0, '3', 0, '8'], [['content'], 0, 0, 0, 0], [['pause'], 0]], [['Слово= ', 'культурный'], ['3', '20', 0, '2', 0, 0, 0, '8'], [['content'], '2', 0, 0, 0], [['pause'], 0]], [['Слово= ', 'слой,'], ['1', '5', '4', '1', 0, 0, 0, '8'], [['content'], 0, 0, 0, 0], [['pause'], 0]], [['Слово= ', 'то'], ['9', 0, 0, '1', 0, '200', 0, '8'], [['content'], 0, 0, 0, 0], [['pause'], 0]], [['Слово= ', 'будет'], ['6', '63', 0, '1', 0, 0, 0, '8'], [['content'], 0, 0, 0, 0], [['pause'], 0]], [['Слово= ', 'выдвинута'], ['7', '47', 0, '1', '100', '20', 0, '8'], [['content'], '2', 0, 0, 0], [['pause'], 0]], [['Слово= ', 'гипотеза,'], ['1', '1', '5', '2', 0, 0, 0, '8'], [['content'], 0, 0, 0, 0], [['pause'], 0]], [['Слово= ', 'что'], ['9', 0, 0, '1', 0, '200', 0, '8'], [['content'], 0, 0, 0, 0], [['pause'], 0]], [['Слово= ', 'мы'], ['12', '9', '8', 0, 0, '2', 0, '8'], [['content'], 0, 0, 0, 0], [['pause'], 0]], [['Слово= ', 'поклонялись'], ['6', '70', 0, '3', 0, 0, 0, '8'], [['content'], '1', 0, 0, 0], [['pause'], 0]], [['Слово= ', 'яблокам.'], ['2', '11', '6', '1', 0, 0, 0, '8'], [['content'], 0, 0, 0, 0], [['pause'], 0]], [['Слово= ', 'В'], ['9', 0, 0, 0, 0, '100', 0, '16'], [['content'], 0, 0, 0, 0], [['pause'], 0]], [['Слово= ', 'индийском'], ['3', '26', 0, '2', 0, 0, 0, '8'], [['content'], 0, 0, 0, 0], [['pause'], 0]], [['Слово= ', 'фильме'], ['1', '7', '4', '1', 0, 0, 0, '8'], [['content'], 0, 0, 0, 0], [['pause'], 0]], [['Слово= ', 'ужасов'], ['2', '10', '4', '1', 0, 0, 0, '8'], [['content'], 0, 0, 0, 0], [['pause'], 0]], [['Слово= ', 'никто'], ['1', '1', '1', '2', 0, '2', 0, '8'], [['content'], 0, 0, 0, 0], [['pause'], 0]], [['Слово= ', 'не'], ['9', 0, 0, 0, 0, '400', 0, '8'], [['content'], '2', 0, 0, 0], [['pause'], 0]], [['Слово= ', 'умер,'], ['6', '67', 0, '1', '100', 0, 0, '8'], [['content'], 0, 0, 0, 0], [['pause'], 0]], [['Слово= ', 'потому'], ['10', 0, 0, '3', 0, 0, 0, '8'], [['content'], 0, 0, 0, 0], [['pause'], 0]], [['Слово= ', 'что'], ['9', 0, 0, 0, 0, '200', 0, '8'], [['content'], 0, 0, 0, 0], [['pause'], 0]], [['Слово= ', 'главный'], ['3', '20', 0, '1', 0, 0, 0, '8'], [['content'], 0, 0, 0, 0], [['pause'], 0]], [['Слово= ', 'герой'], ['1', '1', '1', '2', 0, 0, 0, '8'], [['content'], 0, 0, 0, 0], [['pause'], 0]], [['Слово= ', 'перетанцевал'], ['6', '67', 0, '5', '100', '10', 0, '8'], [['content'], 0, 0, 0, 0], [['pause'], 0]], [['Слово= ', 'всех'], ['3', '40', 0, '1', 0, '3', 0, '8'], [['content'], '5', 0, 0, 0], [['pause'], 0]], [['Слово= ', 'маньяков!'], ['2', '12', '1', '2', 0, 0, 0, '8'], [['content'], 0, 0, 0, 0], [['pause'], 0]], [['Слово= ', 'Как'], ['10', 0, 0, '1', 0, 0, 0, '16'], [['content'], 0, 0, 0, 0], [['pause'], 0]], [['Слово= ', 'сказал'], ['6', '67', 0, '2', '100', '10', 0, '8'], [['content'], 0, 0, 0, 0], [['pause'], 0]], [['Слово= ', 'один'], ['0', '1', '1', '2', 0, 0, 0, '8'], [['content'], 0, 0, 0, 0], [['pause'], 0]], [['Слово= ', 'умный'], ['3', '20', 0, '1', 0, 0, 0, '8'], [['content'], '2', 0, 0, 0], [['pause'], 0]], [['Слово= ', 'человек,'], ['1', '1', '1', '3', 0, 0, 0, '8'], [['content'], 0, 0, 0, 0], [['pause'], 0]], [['Слово= ', 'не'], ['9', 0, 0, 0, 0, '400', 0, '8'], [['content'], 0, 0, 0, 0], [['pause'], 0]], [['Слово= ', 'помню'], ['6', '61', 0, '1', 0, '10', 0, '8'], [['content'], 0, 0, 0, 0], [['pause'], 0]], [['Слово= ', 'уже'], ['10', 0, 0, '2', 0, 0, 0, '8'], [['content'], 0, 0, 0, 0], [['pause'], 0]], [['Слово= ', 'как'], ['10', 0, 0, '1', 0, 0, 0, '8'], [['content'], 0, 0, 0, 0], [['pause'], 0]], [['Слово= ', 'его'], ['3', 0, 0, 0, 0, '3', 0, '8'], [['content'], '2', 0, 0, 0], [['pause'], 0]], [['Слово= ', 'звали,'], ['6', '70', 0, '1', 0, '10', 0, '8'], [['content'], 0, 0, 0, 0], [['pause'], 0]], [['Слово= ', 'и'], ['9', 0, 0, 0, 0, '200', 0, '8'], [['content'], 0, 0, 0, 0], [['pause'], 0]], [['Слово= ', 'забыл'], ['6', '67', 0, '2', '100', '10', 0, '8'], [['content'], '2', 0, 0, 0], [['pause'], 0]], [['Слово= ', 'уже,'], ['10', 0, 0, '2', 0, 0, 0, '8'], [['content'], 0, 0, 0, 0], [['pause'], 0]], [['Слово= ', 'что'], ['9', 0, 0, '1', 0, '200', 0, '8'], [['content'], 0, 0, 0, 0], [['pause'], 0]], [['Слово= ', 'он'], ['11', '1', '1', 0, 0, '2', 0, '8'], [['content'], '2', 0, 0, 0], [['pause'], 0]], [['Слово= ', 'сказал,'], ['6', '67', 0, '2', '100', '10', 0, '8'], [['content'], 0, 0, 0, 0], [['pause'], 0]], [['Слово= ', 'но'], ['9', 0, 0, 0, 0, '200', 0, '8'], [['content'], 0, 0, 0, 0], [['pause'], 0]], [['Слово= ', 'мысль'], ['1', '1', '5', '1', 0, 0, 0, '8'], [['content'], 0, 0, 0, 0], [['pause'], 0]], [['Слово= ', 'была'], ['6', '68', 0, '2', 0, 0, 0, '8'], [['content'], '1', 0, 0, 0], [['pause'], 0]], [['Слово= ', 'хорошая.'], ['3', '27', 0, '2', 0, 0, 0, '8'], [['content'], 0, 0, 0, 0], [['pause'], 0]], [['Слово= ', 'На'], ['9', 0, 0, 0, 0, '100', 0, '16'], [['content'], 0, 0, 0, 0], [['pause'], 0]], [['Слово= ', 'ковре'], ['1', '7', '4', '2', 0, 0, 0, '8'], [['content'], 0, 0, 0, 0], [['pause'], 0]], [['Слово= ', 'из'], ['9', 0, 0, 0, 0, '100', 0, '8'], [['content'], 0, 0, 0, 0], [['pause'], 0]], [['Слово= ', 'желтых'], ['3', '40', 0, '1', 0, 0, 0, '8'], [['content'], '2', 0, 0, 0], [['pause'], 0]], [['Слово= ', 'листьев,'], ['2', '10', '4', '1', 0, 0, 0, '8'], [['content'], 0, 0, 0, 0], [['pause'], 0]], [['Слово= ', 'в'], ['9', 0, 0, 0, 0, '100', 0, 0], [['content'], 0, 0, 0, 0], [['pause'], 0]], [['Слово= ', 'платьице'], ['1', '7', '6', '1', 0, 0, 0, '8'], [['content'], '2', 0, 0, 0], [['pause'], 0]], [['Слово= ', 'простом,'], ['3', '38', 0, '2', 0, 0, 0, '8'], [['content'], 0, 0, 0, 0], [['pause'], 0]], [['Слово= ', 'мерзнет'], ['6', '63', 0, '1', 0, 0, 0, '8'], [['content'], 0, 0, 0, 0], [['pause'], 0]], [['Слово= ', 'ради'], ['9', 0, 0, 0, 0, '100', 0, '8'], [['content'], '2', 0, 0, 0], [['pause'], 0]], [['Слово= ', 'аватарки,'], ['1', '2', '5', '3', 0, 0, 0, '8'], [['content'], 0, 0, 0, 0], [['pause'], 0]], [['Слово= ', 'девочка'], ['1', '1', '2', '1', 0, 0, 0, '8'], [['content'], 0, 0, 0, 0], [['pause'], 0]], [['Слово= ', 'в'], ['9', 0, 0, 0, 0, '100', 0, 0], [['content'], 0, 0, 0, 0], [['pause'], 0]], [['Слово= ', 'лесу'], ['1', '8', '4', '2', 0, 0, 0, '8'], [['content'], '1', 0, 0, 0], [['pause'], 0]], [['Слово= ', 'глухом.'], ['3', '26', 0, '2', 0, 0, 0, '8'], [['content'], 0, 0, 0, 0], [['pause'], 0]], [['Слово= ', 'В'], ['9', 0, 0, 0, 0, '100', 0, '16'], [['content'], 0, 0, 0, 0], [['pause'], 0]], [['Слово= ', 'России'], ['1', '7', '5', '2', '40', '1', 0, '16'], [['content'], 0, 0, 0, 0], [['pause'], 0]], [['Слово= ', 'начали'], ['6', '70', 0, '1', '100', '10', 0, '8'], [['content'], 0, 0, 0, 0], [['pause'], 0]], [['Слово= ', 'бороться'], ['6', '60', 0, '2', 0, 0, 0, '8'], [['content'], 0, 0, 0, 0], [['pause'], 0]], [['Слово= ', 'с'], ['9', 0, 0, 0, 0, '100', 0, 0], [['content'], 0, 0, 0, 0], [['pause'], 0]], [['Слово= ', 'матом'], ['1', '6', '4', '1', 0, 0, 0, '8'], [['content'], 0, 0, 0, 0], [['pause'], 0]], [['Слово= ', 'в'], ['9', 0, 0, 0, 0, '100', 0, 0], [['content'], '2', 0, 0, 0], [['pause'], 0]], [['Слово= ', 'армии,'], ['1', '7', '5', '1', 0, 0, 0, '8'], [['content'], 0, 0, 0, 0], [['pause'], 0]], [['Слово= ', 'а'], ['9', 0, 0, 0, 0, '200', 0, '8'], [['content'], '12', 0, 0, 0], [['pause'], 0]], [['Слово= ', 'зря -'], ['6', '73', 0, '1', 0, '10', 0, '8'], [['content'], 0, 0, 0, 0], [['pause'], 0]], [['Слово= ', 'управление'], ['1', '1', '6', '3', 0, 0, 0, '8'], [['content'], 0, 0, 0, 0], [['pause'], 0]], [['Слово= ', 'войсками'], ['2', '13', '6', '2', 0, 0, 0, '8'], [['content'], 0, 0, 0, 0], [['pause'], 0]], [['Слово= ', 'будет'], ['6', '63', 0, '1', 0, 0, 0, '8'], [['content'], 0, 0, 0, 0], [['pause'], 0]], [['Слово= ', 'полностью'], ['10', 0, 0, '1', 0, 0, 0, '8'], [['content'], '1', 0, 0, 0], [['pause'], 0]], [['Слово= ', 'потеряно.'], ['7', '48', 0, '2', '100', '20', 0, '8'], [['content'], 0, 0, 0, 0], [['pause'], 0]], [['Слово= ', 'Есть'], ['6', '63', 0, '1', 0, 0, 0, '24'], [['content'], '2', 0, 0, 0], [['pause'], 0]], [['Слово= ', 'догадка,'], ['1', '1', '5', '2', 0, 0, 0, '8'], [['content'], 0, 0, 0, 0], [['pause'], 0]], [['Слово= ', 'что'], ['9', 0, 0, '1', 0, '200', 0, '8'], [['content'], 0, 0, 0, 0], [['pause'], 0]], [['Слово= ', 'чем'], ['9', 0, 0, '1', 0, '200', 0, '8'], [['content'], 0, 0, 0, 0], [['pause'], 0]], [['Слово= ', 'меньше'], ['5', '50', 0, '1', 0, 0, 0, '8'], [['content'], 0, 0, 0, 0], [['pause'], 0]], [['Слово= ', 'девушка'], ['1', '1', '2', '1', 0, 0, 0, '8'], [['content'], 0, 0, 0, 0], [['pause'], 0]], [['Слово= ', 'прочитала'], ['6', '68', 0, '3', '100', '10', 0, '8'], [['content'], '2', 0, 0, 0], [['pause'], 0]], [['Слово= ', 'книг,'], ['2', '10', '5', '1', 0, 0, 0, '8'], [['content'], 0, 0, 0, 0], [['pause'], 0]], [['Слово= ', 'тем'], ['9', 0, 0, 0, 0, '200', 0, '8'], [['content'], 0, 0, 0, 0], [['pause'], 0]], [['Слово= ', 'сложнее'], ['5', '50', 0, '2', 0, 0, 0, '8'], [['content'], 0, 0, 0, 0], [['pause'], 0]], [['Слово= ', 'дизайн'], ['1', '1', '4', '2', 0, 0, 0, '8'], [['content'], 0, 0, 0, 0], [['pause'], 0]], [['Слово= ', 'ее'], ['3', 0, 0, 0, 0, '3', 0, '8'], [['content'], '1', 0, 0, 0], [['pause'], 0]], [['Слово= ', 'маникюра.'], ['1', '2', '4', '3', 0, 0, 0, '8'], [['content'], 0, 0, 0, 0], [['pause'], 0]], [['Слово= ', 'Когда'], ['10', 0, 0, '2', 0, 0, 0, '16'], [['content'], 0, 0, 0, 0], [['pause'], 0]], [['Слово= ', 'летом'], ['10', 0, 0, '1', 0, 0, 0, '8'], [['content'], 0, 0, 0, 0], [['pause'], 0]], [['Слово= ', 'к'], ['9', 0, 0, 0, 0, '100', 0, 0], [['content'], 0, 0, 0, 0], [['pause'], 0]], [['Слово= ', 'вам'], ['12', '11', '8', 0, 0, '2', 0, '8'], [['content'], 0, 0, 0, 0], [['pause'], 0]], [['Слово= ', 'приезжают'], ['6', '66', 0, '3', 0, 0, 0, '8'], [['content'], 0, 0, 0, 0], [['pause'], 0]], [['Слово= ', 'гости'], ['2', '9', '1', '1', 0, 0, 0, '8'], [['content'], 0, 0, 0, 0], [['pause'], 0]], [['Слово= ', 'с'], ['9', 0, 0, 0, 0, '100', 0, 0], [['content'], 0, 0, 0, 0], [['pause'], 0]], [['Слово= ', 'комплектом'], ['1', '6', '4', '2', 0, 0, 0, '8'], [['content'], 0, 0, 0, 0], [['pause'], 0]], [['Слово= ', 'зимней'], ['3', '28', 0, '1', 0, 0, 0, '8'], [['content'], '2', 0, 0, 0], [['pause'], 0]], [['Слово= ', 'одежды,'], ['1', '2', '5', '2', 0, 0, 0, '8'], [['content'], 0, 0, 0, 0], [['pause'], 0]], [['Слово= ', 'глупо'], ['10', 0, 0, '1', 0, 0, 0, '8'], [['content'], 0, 0, 0, 0], [['pause'], 0]], [['Слово= ', 'их'], ['3', 0, 0, 0, 0, '3', 0, '8'], [['content'], '2', 0, 0, 0], [['pause'], 0]], [['Слово= ', 'спрашивать,'], ['6', '60', 0, '1', 0, '10', 0, '8'], [['content'], 0, 0, 0, 0], [['pause'], 0]], [['Слово= ', 'надолго'], ['10', 0, 0, '2', 0, 0, 0, '8'], [['content'], 0, 0, 0, 0], [['pause'], 0]], [['Слово= ', 'ли'], ['9', 0, 0, 0, 0, '400', 0, '8'], [['content'], '1', 0, 0, 0], [['pause'], 0]], [['Слово= ', 'они.'], ['12', '9', '8', 0, 0, '2', 0, '8'], [['content'], 0, 0, 0, 0], [['pause'], 0]], [['Слово= ', 'В'], ['9', 0, 0, 0, 0, '100', 0, '16'], [['content'], 0, 0, 0, 0], [['pause'], 0]], [['Слово= ', 'конфликте'], ['1', '7', '4', '2', 0, 0, 0, '8'], [['content'], 0, 0, 0, 0], [['pause'], 0]], [['Слово= ', 'поколений'], ['2', '10', '6', '3', 0, 0, 0, '8'], [['content'], 0, 0, 0, 0], [['pause'], 0]], [['Слово= ', 'всегда'], ['10', 0, 0, '2', 0, 0, 0, '8'], [['content'], 0, 0, 0, 0], [['pause'], 0]], [['Слово= ', 'побеждают'], ['6', '66', 0, '3', 0, '10', 0, '8'], [['content'], '2', 0, 0, 0], [['pause'], 0]], [['Слово= ', 'молодые,'], ['2', '9', '2', '3', 0, 0, 0, '8'], [['content'], '2', 0, 0, 0], [['pause'], 0]], [['Слово= ', 'но,'], ['9', 0, 0, '1', 0, '200', 0, '8'], [['content'], 0, 0, 0, 0], [['pause'], 0]], [['Слово= ', 'чаще'], ['5', '50', 0, '1', 0, 0, 0, '8'], [['content'], '2', 0, 0, 0], [['pause'], 0]], [['Слово= ', 'всего,'], ['1', '2', '6', '2', 0, '2', 0, '8'], [['content'], 0, 0, 0, 0], [['pause'], 0]], [['Слово= ', 'когда'], ['10', 0, 0, '2', 0, 0, 0, '8'], [['content'], '1', 0, 0, 0], [['pause'], 0]], [['Слово= ', 'состарятся.'], ['6', '66', 0, '2', '100', 0, 0, '8'], [['content'], 0, 0, 0, 0], [['pause'], 0]], [['Слово= ', 'Настоящая'], ['3', '27', 0, '3', 0, 0, 0, '16'], [['content'], 0, 0, 0, 0], [['pause'], 0]], [['Слово= ', 'мания'], ['1', '1', '5', '1', 0, 0, 0, '8'], [['content'], '12', 0, 0, 0], [['pause'], 0]], [['Слово= ', 'величия -'], ['1', '2', '6', '2', 0, '1', 0, '8'], [['content'], 0, 0, 0, 0], [['pause'], 0]], [['Слово= ', 'когда'], ['10', 0, 0, '2', 0, 0, 0, '8'], [['content'], 0, 0, 0, 0], [['pause'], 0]], [['Слово= ', 'ищут'], ['6', '66', 0, '1', 0, '10', 0, '8'], [['content'], 0, 0, 0, 0], [['pause'], 0]], [['Слово= ', 'место'], ['1', '5', '6', '1', 0, 0, 0, '8'], [['content'], 0, 0, 0, 0], [['pause'], 0]], [['Слово= ', 'не'], ['9', 0, 0, 0, 0, '400', 0, '8'], [['content'], 0, 0, 0, 0], [['pause'], 0]], [['Слово= ', 'под'], ['9', 0, 0, 0, 0, '100', 0, '8'], [['content'], '2', 0, 0, 0], [['pause'], 0]], [['Слово= ', 'солнцем,'], ['1', '6', '6', '1', 0, 0, 0, '8'], [['content'], 0, 0, 0, 0], [['pause'], 0]], [['Слово= ', 'а'], ['9', 0, 0, 0, 0, '200', 0, '8'], [['content'], 0, 0, 0, 0], [['pause'], 0]], [['Слово= ', 'над'], ['9', 0, 0, 0, 0, '100', 0, '8'], [['content'], '1', 0, 0, 0], [['pause'], 0]], [['Слово= ', 'ним.'], ['11', '6', '1', 0, 0, '2', 0, '8'], [['content'], 0, 0, 0, 0], [['pause'], 0]], [['Слово= ', 'Какую'], ['3', '30', 0, '2', 0, '3', 0, '16'], [['content'], 0, 0, 0, 0], [['pause'], 0]], [['Слово= ', 'бы'], ['9', 0, 0, 0, 0, '400', 0, '8'], [['content'], 0, 0, 0, 0], [['pause'], 0]], [['Слово= ', 'глупость'], ['1', '1', '5', '1', 0, 0, 0, '8'], [['content'], 0, 0, 0, 0], [['pause'], 0]], [['Слово= ', 'не'], ['9', 0, 0, 0, 0, '400', 0, '8'], [['content'], 0, 0, 0, 0], [['pause'], 0]], [['Слово= ', 'придумала'], ['6', '68', 0, '2', '100', '10', 0, '8'], [['content'], '2', 0, 0, 0], [['pause'], 0]], [['Слово= ', 'голова,'], ['1', '1', '1', '3', 0, 0, 0, '8'], [['content'], 0, 0, 0, 0], [['pause'], 0]], [['Слово= ', 'что'], ['9', 0, 0, 0, 0, '200', 0, '8'], [['content'], 0, 0, 0, 0], [['pause'], 0]], [['Слово= ', 'бы'], ['9', 0, 0, 0, 0, '400', 0, '8'], [['content'], 0, 0, 0, 0], [['pause'], 0]], [['Слово= ', 'не'], ['9', 0, 0, 0, 0, '400', 0, '8'], [['content'], 0, 0, 0, 0], [['pause'], 0]], [['Слово= ', 'сказал'], ['6', '67', 0, '2', '100', '10', 0, '8'], [['content'], 0, 0, 0, 0], [['pause'], 0]], [['Слово= ', 'злой'], ['3', '20', 0, '1', 0, 0, 0, '8'], [['content'], '2', 0, 0, 0], [['pause'], 0]], [['Слово= ', 'язык,'], ['1', '1', '1', '2', 0, 0, 0, '8'], [['content'], 0, 0, 0, 0], [['pause'], 0]], [['Слово= ', 'что'], ['9', 0, 0, 0, 0, '200', 0, '8'], [['content'], 0, 0, 0, 0], [['pause'], 0]], [['Слово= ', 'бы'], ['9', 0, 0, 0, 0, '400', 0, '8'], [['content'], 0, 0, 0, 0], [['pause'], 0]], [['Слово= ', 'не'], ['9', 0, 0, 0, 0, '400', 0, '8'], [['content'], 0, 0, 0, 0], [['pause'], 0]], [['Слово= ', 'сделали'], ['6', '70', 0, '1', '100', '10', 0, '8'], [['content'], 0, 0, 0, 0], [['pause'], 0]], [['Слово= ', 'кривые'], ['3', '39', 0, '2', 0, 0, 0, '8'], [['content'], '2', 0, 0, 0], [['pause'], 0]], [['Слово= ', 'руки,'], ['2', '12', '5', '1', 0, 0, 0, '8'], [['content'], 0, 0, 0, 0], [['pause'], 0]], [['Слово= ', 'куда'], ['10', 0, 0, '2', 0, 0, 0, '8'], [['content'], 0, 0, 0, 0], [['pause'], 0]], [['Слово= ', 'бы'], ['9', 0, 0, 0, 0, '400', 0, '8'], [['content'], 0, 0, 0, 0], [['pause'], 0]], [['Слово= ', 'не'], ['9', 0, 0, 0, 0, '400', 0, '8'], [['content'], 0, 0, 0, 0], [['pause'], 0]], [['Слово= ', 'принесли'], ['6', '70', 0, '3', '100', '10', 0, '8'], [['content'], 0, 0, 0, 0], [['pause'], 0]], [['Слово= ', 'бешеные'], ['3', '39', 0, '1', 0, 0, 0, '8'], [['content'], '2', 0, 0, 0], [['pause'], 0]], [['Слово= ', 'ноги,'], ['2', '9', '5', '1', 0, 0, 0, '8'], [['content'], 0, 0, 0, 0], [['pause'], 0]], [['Слово= ', 'за'], ['9', 0, 0, 0, 0, '100', 0, '8'], [['content'], 0, 0, 0, 0], [['pause'], 0]], [['Слово= ', 'все'], ['1', '5', '6', '1', 0, '2', 0, '8'], [['content'], 0, 0, 0, 0], [['pause'], 0]], [['Слово= ', 'достается'], ['6', '63', 0, '3', 0, 0, 0, '8'], [['content'], '11', 0, 0, 0], [['pause'], 0]], [['Слово= ', 'жопе...'], ['1', '4', '5', '1', 0, 0, 0, '8'], [['content'], 0, 0, 0, 0], [['pause'], 0]], [['Слово= ', 'Молодость -'], ['1', '1', '5', '1', 0, '1', 0, '16'], [['content'], '2', 0, 0, 0], [['pause'], 0]], [['Слово= ', 'время,'], ['1', '1', '6', '1', 0, 0, 0, '8'], [['content'], 0, 0, 0, 0], [['pause'], 0]], [['Слово= ', 'когда'], ['10', 0, 0, '2', 0, 0, 0, '8'], [['content'], 0, 0, 0, 0], [['pause'], 0]], [['Слово= ', 'у'], ['9', 0, 0, 0, 0, '100', 0, '8'], [['content'], 0, 0, 0, 0], [['pause'], 0]], [['Слово= ', 'тебя'], ['11', '2', '8', 0, 0, '2', 0, '8'], [['content'], 0, 0, 0, 0], [['pause'], 0]], [['Слово= ', 'куча'], ['1', '1', '5', '1', 0, 0, 0, '8'], [['content'], '2', 0, 0, 0], [['pause'], 0]], [['Слово= ', 'энергии,'], ['1', '2', '5', '2', 0, 0, 0, '8'], [['content'], 0, 0, 0, 0], [['pause'], 0]], [['Слово= ', 'которую'], ['3', '30', 0, '2', 0, '3', 0, '8'], [['content'], 0, 0, 0, 0], [['pause'], 0]], [['Слово= ', 'ты'], ['11', '1', '8', 0, 0, '2', 0, '8'], [['content'], 0, 0, 0, 0], [['pause'], 0]], [['Слово= ', 'можешь'], ['6', '62', 0, '1', 0, 0, 0, '8'], [['content'], 0, 0, 0, 0], [['pause'], 0]], [['Слово= ', 'потратить'], ['6', '60', 0, '2', '100', '10', 0, '8'], [['content'], 0, 0, 0, 0], [['pause'], 0]], [['Слово= ', 'на'], ['9', 0, 0, 0, 0, '100', 0, '8'], [['content'], 0, 0, 0, 0], [['pause'], 0]], [['Слово= ', 'что'], ['1', '5', '6', '1', 0, '2', 0, '8'], [['content'], '5', 0, 0, 0], [['pause'], 0]], [['Слово= ', 'угодно!'], ['9', 0, 0, '2', 0, '400', 0, '8'], [['content'], 0, 0, 0, 0], [['pause'], 0]], [['Слово= ', 'Например,'], ['9', 0, 0, '3', 0, '300', 0, '16'], [['content'], 0, 0, 0, 0], [['pause'], 0]], [['Слово= ', 'неделями'], ['2', '13', '5', '2', 0, 0, 0, '8'], [['content'], 0, 0, 0, 0], [['pause'], 0]], [['Слово= ', 'не'], ['9', 0, 0, 0, 0, '400', 0, '8'], [['content'], 0, 0, 0, 0], [['pause'], 0]], [['Слово= ', 'выходить'], ['6', '60', 0, '3', 0, 0, 0, '8'], [['content'], 0, 0, 0, 0], [['pause'], 0]], [['Слово= ', 'из'], ['9', 0, 0, 0, 0, '100', 0, '8'], [['content'], '2', 0, 0, 0], [['pause'], 0]], [['Слово= ', 'дома,'], ['1', '2', '4', '1', 0, 0, 0, '8'], [['content'], 0, 0, 0, 0], [['pause'], 0]], [['Слово= ', 'сидя'], ['6', '73', 0, '1', 0, 0, 0, '8'], [['content'], 0, 0, 0, 0], [['pause'], 0]], [['Слово= ', 'в'], ['9', 0, 0, 0, 0, '100', 0, 0], [['content'], '1', 0, 0, 0], [['pause'], 0]], [['Слово= ', 'интернете.'], ['1', '7', '4', '3', 0, 0, 0, '8'], [['content'], 0, 0, 0, 0], [['pause'], 0]], [['Слово= ', 'Замечено,'], ['7', '48', 0, '2', '100', '20', 0, '16'], [['content'], 0, 0, 0, 0], [['pause'], 0]], [['Слово= ', 'что'], ['9', 0, 0, '1', 0, '200', 0, '8'], [['content'], 0, 0, 0, 0], [['pause'], 0]], [['Слово= ', 'у'], ['9', 0, 0, 0, 0, '100', 0, '8'], [['content'], 0, 0, 0, 0], [['pause'], 0]], [['Слово= ', 'каждой'], ['3', '28', 0, '1', 0, '3', 0, '8'], [['content'], 0, 0, 0, 0], [['pause'], 0]], [['Слово= ', 'опытной'], ['3', '28', 0, '1', 0, 0, 0, '8'], [['content'], 0, 0, 0, 0], [['pause'], 0]], [['Слово= ', 'жены'], ['1', '2', '2', '2', 0, 0, 0, '8'], [['content'], 0, 0, 0, 0], [['pause'], 0]], [['Слово= ', 'идеальный'], ['3', '20', 0, '3', 0, 0, 0, '8'], [['content'], '12', 0, 0, 0], [['pause'], 0]], [['Слово= ', 'слух -'], ['1', '1', '4', '1', 0, 0, 0, '8'], [['content'], 0, 0, 0, 0], [['pause'], 0]], [['Слово= ', 'она'], ['11', '1', '2', 0, 0, '2', 0, '8'], [['content'], 0, 0, 0, 0], [['pause'], 0]], [['Слово= ', 'даже'], ['9', 0, 0, 0, 0, '200', 0, '8'], [['content'], '2', 0, 0, 0], [['pause'], 0]], [['Слово= ', 'слышит,'], ['6', '63', 0, '1', 0, '10', 0, '8'], [['content'], 0, 0, 0, 0], [['pause'], 0]], [['Слово= ', 'когда'], ['10', 0, 0, '2', 0, 0, 0, '8'], [['content'], 0, 0, 0, 0], [['pause'], 0]], [['Слово= ', 'на'], ['9', 0, 0, 0, 0, '100', 0, '8'], [['content'], 0, 0, 0, 0], [['pause'], 0]], [['Слово= ', 'карточку'], ['1', '5', '5', '1', 0, 0, 0, '8'], [['content'], 0, 0, 0, 0], [['pause'], 0]], [['Слово= ', 'мужа'], ['1', '2', '1', '1', 0, 0, 0, '8'], [['content'], 0, 0, 0, 0], [['pause'], 0]], [['Слово= ', 'приходят'], ['6', '66', 0, '2', 0, 0, 0, '8'], [['content'], '5', 0, 0, 0], [['pause'], 0]], [['Слово= ', 'деньги!'], ['2', '9', 0, '1', 0, 0, 0, '8'], [['content'], 0, 0, 0, 0], [['pause'], 0]], [['Слово= ', 'Если'], ['9', 0, 0, 0, 0, '200', 0, '24'], [['content'], 0, 0, 0, 0], [['pause'], 0]], [['Слово= ', 'черная'], ['3', '27', 0, '1', 0, 0, 0, '8'], [['content'], 0, 0, 0, 0], [['pause'], 0]], [['Слово= ', 'кошка'], ['1', '1', '2', '1', 0, 0, 0, '8'], [['content'], 0, 0, 0, 0], [['pause'], 0]], [['Слово= ', 'решила'], ['6', '68', 0, '2', '100', '10', 0, '8'], [['content'], 0, 0, 0, 0], [['pause'], 0]], [['Слово= ', 'перебежать'], ['6', '60', 0, '4', '100', '10', 0, '8'], [['content'], 0, 0, 0, 0], [['pause'], 0]], [['Слово= ', 'вам'], ['12', '11', '8', 0, 0, '2', 0, '8'], [['content'], '2', 0, 0, 0], [['pause'], 0]], [['Слово= ', 'дорогу,'], ['1', '5', '5', '2', 0, 0, 0, '8'], [['content'], 0, 0, 0, 0], [['pause'], 0]], [['Слово= ', 'у'], ['9', 0, 0, 0, 0, '100', 0, '8'], [['content'], 0, 0, 0, 0], [['pause'], 0]], [['Слово= ', 'вас'], ['12', '10', '8', 0, 0, '2', 0, '8'], [['content'], 0, 0, 0, 0], [['pause'], 0]], [['Слово= ', 'есть'], ['6', '60', 0, '1', 0, '10', 0, '8'], [['content'], 0, 0, 0, 0], [['pause'], 0]], [['Слово= ', 'шанс'], ['1', '5', '4', '1', 0, 0, 0, '8'], [['content'], 0, 0, 0, 0], [['pause'], 0]], [['Слово= ', 'доказать'], ['6', '60', 0, '3', '100', '10', 0, '8'], [['content'], '2', 0, 0, 0], [['pause'], 0]], [['Слово= ', 'ей,'], ['11', '4', '1', 0, 0, '2', 0, '8'], [['content'], 0, 0, 0, 0], [['pause'], 0]], [['Слово= ', 'что'], ['9', 0, 0, '1', 0, '200', 0, '8'], [['content'], 0, 0, 0, 0], [['pause'], 0]], [['Слово= ', 'вы'], ['12', '9', '8', 0, 0, '2', 0, '8'], [['content'], 0, 0, 0, 0], [['pause'], 0]], [['Слово= ', 'бегаете'], ['6', '65', 0, '1', 0, 0, 0, '8'], [['content'], 0, 0, 0, 0], [['pause'], 0]], [['Слово= ', 'быстрее'], ['5', '50', 0, '2', 0, 0, 0, '8'], [['content'], '1', 0, 0, 0], [['pause'], 0]], [['Слово= ', 'нее.'], ['11', '2', '1', 0, 0, '2', 0, '8'], [['content'], 0, 0, 0, 0], [['pause'], 0]], [['Слово= ', 'Я'], ['11', '1', '8', 0, 0, '2', 0, '24'], [['content'], 0, 0, 0, 0], [['pause'], 0]], [['Слово= ', 'долго'], ['10', 0, 0, '1', 0, 0, 0, '8'], [['content'], '2', 0, 0, 0], [['pause'], 0]], [['Слово= ', 'гадал,'], ['6', '67', 0, '2', 0, 0, 0, '8'], [['content'], 0, 0, 0, 0], [['pause'], 0]], [['Слово= ', 'что'], ['9', 0, 0, '1', 0, '200', 0, '8'], [['content'], 0, 0, 0, 0], [['pause'], 0]], [['Слово= ', 'он'], ['11', '1', '1', 0, 0, '2', 0, '8'], [['content'], 0, 0, 0, 0], [['pause'], 0]], [['Слово= ', 'за'], ['9', 0, 0, 0, 0, '100', 0, '8'], [['content'], '2', 0, 0, 0], [['pause'], 0]], [['Слово= ', 'фрукт,'], ['1', '5', '4', '1', 0, 0, 0, '8'], [['content'], 0, 0, 0, 0], [['pause'], 0]], [['Слово= ', 'пока'], ['10', 0, 0, '2', 0, 0, 0, '8'], [['content'], 0, 0, 0, 0], [['pause'], 0]], [['Слово= ', 'не'], ['9', 0, 0, 0, 0, '400', 0, '8'], [['content'], '2', 0, 0, 0], [['pause'], 0]], [['Слово= ', 'понял,'], ['6', '67', 0, '1', '100', '10', 0, '8'], [['content'], 0, 0, 0, 0], [['pause'], 0]], [['Слово= ', 'что'], ['9', 0, 0, '1', 0, '200', 0, '8'], [['content'], 0, 0, 0, 0], [['pause'], 0]], [['Слово= ', 'он'], ['11', '1', '1', 0, 0, '2', 0, '8'], [['content'], 0, 0, 0, 0], [['pause'], 0]], [['Слово= ', 'просто'], ['10', 0, 0, '1', 0, 0, 0, '8'], [['content'], '1', 0, 0, 0], [['pause'], 0]], [['Слово= ', 'овощ.'], ['1', '1', '4', '1', 0, 0, 0, '8'], [['content'], 0, 0, 0, 0], [['pause'], 0]], [['Слово= ', 'Если'], ['9', 0, 0, 0, 0, '200', 0, '24'], [['content'], 0, 0, 0, 0], [['pause'], 0]], [['Слово= ', 'по'], ['9', 0, 0, 0, 0, '100', 0, '8'], [['content'], 0, 0, 0, 0], [['pause'], 0]], [['Слово= ', 'прошествии'], ['1', '7', '6', '2', 0, 0, 0, '8'], [['content'], 0, 0, 0, 0], [['pause'], 0]], [['Слово= ', 'многих'], ['0', '2', 0, '1', 0, 0, 0, '8'], [['content'], 0, 0, 0, 0], [['pause'], 0]], [['Слово= ', 'десятилетий'], ['2', '10', '6', '4', 0, 0, 0, '8'], [['content'], 0, 0, 0, 0], [['pause'], 0]], [['Слово= ', 'знакомые'], ['2', '9', '1', '2', 0, 0, 0, '8'], [['content'], 0, 0, 0, 0], [['pause'], 0]], [['Слово= ', 'безошибочно'], ['10', 0, 0, '3', 0, 0, 0, '8'], [['content'], 0, 0, 0, 0], [['pause'], 0]], [['Слово= ', 'узнают'], ['6', '66', 0, '2', '100', '10', 0, '8'], [['content'], 0, 0, 0, 0], [['pause'], 0]], [['Слово= ', 'вас'], ['12', '10', '8', 0, 0, '2', 0, '8'], [['content'], 0, 0, 0, 0], [['pause'], 0]], [['Слово= ', 'на'], ['9', 0, 0, 0, 0, '100', 0, '8'], [['content'], '2', 0, 0, 0], [['pause'], 0]], [['Слово= ', 'улице,'], ['1', '7', '5', '1', 0, 0, 0, '8'], [['content'], 0, 0, 0, 0], [['pause'], 0]], [['Слово= ', 'это'], ['9', 0, 0, '1', 0, '400', 0, '8'], [['content'], 0, 0, 0, 0], [['pause'], 0]], [['Слово= ', 'не'], ['9', 0, 0, 0, 0, '400', 0, '8'], [['content'], 0, 0, 0, 0], [['pause'], 0]], [['Слово= ', 'признак'], ['1', '1', '4', '1', 0, 0, 0, '8'], [['content'], 0, 0, 0, 0], [['pause'], 0]], [['Слово= ', 'вечной'], ['3', '28', 0, '1', 0, 0, 0, '8'], [['content'], '2', 0, 0, 0], [['pause'], 0]], [['Слово= ', 'молодости,'], ['1', '2', '5', '1', 0, '1', 0, '8'], [['content'], 0, 0, 0, 0], [['pause'], 0]], [['Слово= ', 'просто'], ['10', 0, 0, '1', 0, 0, 0, '8'], [['content'], 0, 0, 0, 0], [['pause'], 0]], [['Слово= ', 'пора'], ['1', '1', '5', '2', 0, 0, 0, '8'], [['content'], 0, 0, 0, 0], [['pause'], 0]], [['Слово= ', 'наконец'], ['10', 0, 0, '3', 0, 0, 0, '8'], [['content'], 0, 0, 0, 0], [['pause'], 0]], [['Слово= ', 'поменять'], ['6', '60', 0, '3', '100', '10', 0, '8'], [['content'], '1', 0, 0, 0], [['pause'], 0]], [['Слово= ', 'гардероб.'], ['1', '5', '4', '3', 0, 0, 0, '8'], [['content'], 0, 0, 0, 0], [['pause'], 0]], [['Слово= ', 'Я'], ['11', '1', '8', 0, 0, '2', 0, '24'], [['content'], 0, 0, 0, 0], [['pause'], 0]], [['Слово= ', 'чуть'], ['10', 0, 0, 0, 0, 0, 0, '8'], [['content'], 0, 0, 0, 0], [['pause'], 0]], [['Слово= ', 'не'], ['9', 0, 0, 0, 0, '400', 0, '8'], [['content'], 0, 0, 0, 0], [['pause'], 0]], [['Слово= ', 'уронил'], ['6', '67', 0, '3', '100', '10', 0, '8'], [['content'], 0, 0, 0, 0], [['pause'], 0]], [['Слово= ', 'свой'], ['3', '20', 0, '1', 0, '3', 0, '8'], [['content'], 0, 0, 0, 0], [['pause'], 0]], [['Слово= ', 'телефон'], ['1', '5', '4', '3', 0, 0, 0, '8'], [['content'], 0, 0, 0, 0], [['pause'], 0]], [['Слово= ', 'на'], ['9', 0, 0, 0, 0, '100', 0, '8'], [['content'], 0, 0, 0, 0], [['pause'], 0]], [['Слово= ', 'мягкое'], ['3', '36', 0, '1', 0, 0, 0, '8'], [['content'], 0, 0, 0, 0], [['pause'], 0]], [['Слово= ', 'ковровое'], ['3', '33', 0, '2', 0, 0, 0, '8'], [['content'], 0, 0, 0, 0], [['pause'], 0]], [['Слово= ', 'покрытие'], ['1', '5', '6', '2', 0, 0, 0, '8'], [['content'], '2', 0, 0, 0], [['pause'], 0]], [['Слово= ', 'пола,'], ['1', '2', '4', '1', 0, 0, 0, '8'], [['content'], '2', 0, 0, 0], [['pause'], 0]], [['Слово= ', 'но,'], ['9', 0, 0, '1', 0, '200', 0, '8'], [['content'], 0, 0, 0, 0], [['pause'], 0]], [['Слово= ', 'слава'], ['1', '1', '5', '1', 0, 0, 0, '8'], [['content'], '2', 0, 0, 0], [['pause'], 0]], [['Слово= ', 'богу,'], ['1', '4', '1', '1', 0, 0, 0, '8'], [['content'], 0, 0, 0, 0], [['pause'], 0]], [['Слово= ', 'у'], ['9', 0, 0, 0, 0, '100', 0, '8'], [['content'], 0, 0, 0, 0], [['pause'], 0]], [['Слово= ', 'меня'], ['11', '2', '8', 0, 0, '2', 0, '8'], [['content'], 0, 0, 0, 0], [['pause'], 0]], [['Слово= ', 'молниеносная'], ['3', '27', 0, '4', 0, 0, 0, '8'], [['content'], '2', 0, 0, 0], [['pause'], 0]], [['Слово= ', 'реакция,'], ['1', '1', '5', '2', 0, 0, 0, '8'], [['content'], 0, 0, 0, 0], [['pause'], 0]], [['Слово= ', 'и'], ['9', 0, 0, 0, 0, '200', 0, '8'], [['content'], 0, 0, 0, 0], [['pause'], 0]], [['Слово= ', 'я'], ['11', '1', '8', 0, 0, '2', 0, '8'], [['content'], 0, 0, 0, 0], [['pause'], 0]], [['Слово= ', 'смог'], ['6', '67', 0, '1', '100', 0, 0, '8'], [['content'], 0, 0, 0, 0], [['pause'], 0]], [['Слово= ', 'вместо'], ['9', 0, 0, 0, 0, '100', 0, '8'], [['content'], 0, 0, 0, 0], [['pause'], 0]], [['Слово= ', 'этого'], ['1', '2', '6', '1', 0, '2', 0, '8'], [['content'], 0, 0, 0, 0], [['pause'], 0]], [['Слово= ', 'ударить'], ['6', '60', 0, '2', '100', '10', 0, '8'], [['content'], 0, 0, 0, 0], [['pause'], 0]], [['Слово= ', 'его'], ['11', '2', '1', 0, 0, '2', 0, '8'], [['content'], 0, 0, 0, 0], [['pause'], 0]], [['Слово= ', 'об'], ['9', 0, 0, 0, 0, '100', 0, '8'], [['content'], '1', 0, 0, 0], [['pause'], 0]], [['Слово= ', 'стену.'], ['1', '5', '5', '1', 0, 0, 0, '8'], [['content'], 0, 0, 0, 0], [['pause'], 0]], [['Слово= ', 'Лишний'], ['3', '20', 0, '1', 0, 0, 0, '16'], [['content'], '12', 0, 0, 0], [['pause'], 0]], [['Слово= ', 'вес -'], ['1', '1', '4', '1', 0, 0, 0, '8'], [['content'], 0, 0, 0, 0], [['pause'], 0]], [['Слово= ', 'это'], ['9', 0, 0, '1', 0, '400', 0, '8'], [['content'], 0, 0, 0, 0], [['pause'], 0]], [['Слово= ', 'проблема'], ['1', '1', '5', '2', 0, 0, 0, '8'], [['content'], 0, 0, 0, 0], [['pause'], 0]], [['Слово= ', 'для'], ['9', 0, 0, 0, 0, '100', 0, '8'], [['content'], '2', 0, 0, 0], [['pause'], 0]], [['Слово= ', 'ног,'], ['2', '10', '5', '1', 0, 0, 0, '8'], [['content'], 0, 0, 0, 0], [['pause'], 0]], [['Слово= ', 'которую'], ['3', '30', 0, '2', 0, '3', 0, '8'], [['content'], 0, 0, 0, 0], [['pause'], 0]], [['Слово= ', 'создают'], ['6', '66', 0, '3', 0, '10', 0, '8'], [['content'], '2', 0, 0, 0], [['pause'], 0]], [['Слово= ', 'руки,'], ['2', '9', '5', '1', 0, 0, 0, '8'], [['content'], 0, 0, 0, 0], [['pause'], 0]], [['Слово= ', 'несущие'], ['7', '39', 0, '2', 0, '10', 0, '8'], [['content'], 0, 0, 0, 0], [['pause'], 0]], [['Слово= ', 'в'], ['9', 0, 0, 0, 0, '100', 0, 0], [['content'], 0, 0, 0, 0], [['pause'], 0]], [['Слово= ', 'рот'], ['1', '5', '4', '1', 0, 0, 0, '8'], [['content'], 0, 0, 0, 0], [['pause'], 0]], [['Слово= ', 'все'], ['1', '1', '6', '1', 0, '2', 0, '8'], [['content'], 0, 0, 0, 0], [['pause'], 0]], [['Слово= ', 'что'], ['1', '1', '6', '1', 0, '2', 0, '8'], [['content'], '1', 0, 0, 0], [['pause'], 0]], [['Слово= ', 'попало.'], ['6', '69', 0, '2', '100', 0, 0, '8'], [['content'], 0, 0, 0, 0], [['pause'], 0]], [['Слово= ', 'Если'], ['9', 0, 0, 0, 0, '200', 0, '24'], [['content'], 0, 0, 0, 0], [['pause'], 0]], [['Слово= ', 'достигнутая'], ['7', '27', 0, '2', '100', '20', 0, '8'], [['content'], 0, 0, 0, 0], [['pause'], 0]], [['Слово= ', 'вами'], ['12', '13', '8', 0, 0, '2', 0, '8'], [['content'], 0, 0, 0, 0], [['pause'], 0]], [['Слово= ', 'цель'], ['1', '1', '5', '1', 0, 0, 0, '8'], [['content'], 0, 0, 0, 0], [['pause'], 0]], [['Слово= ', 'плохо'], ['10', 0, 0, '1', 0, 0, 0, '8'], [['content'], 0, 0, 0, 0], [['pause'], 0]], [['Слово= ', 'вас'], ['12', '10', '8', 0, 0, '2', 0, '8'], [['content'], '2', 0, 0, 0], [['pause'], 0]], [['Слово= ', 'кормит,'], ['6', '63', 0, '1', 0, '10', 0, '8'], [['content'], '12', 0, 0, 0], [['pause'], 0]], [['Слово= ', 'значит -'], ['9', 0, 0, '1', 0, '200', 0, '8'], [['content'], 0, 0, 0, 0], [['pause'], 0]], [['Слово= ', 'это'], ['9', 0, 0, '1', 0, '400', 0, '8'], [['content'], 0, 0, 0, 0], [['pause'], 0]], [['Слово= ', 'была'], ['6', '68', 0, '2', 0, 0, 0, '8'], [['content'], 0, 0, 0, 0], [['pause'], 0]], [['Слово= ', 'не'], ['9', 0, 0, 0, 0, '400', 0, '8'], [['content'], 0, 0, 0, 0], [['pause'], 0]], [['Слово= ', 'ваша'], ['3', '27', 0, '1', 0, '3', 0, '8'], [['content'], '2', 0, 0, 0], [['pause'], 0]], [['Слово= ', 'цель,'], ['1', '1', '5', '1', 0, 0, 0, '8'], [['content'], 0, 0, 0, 0], [['pause'], 0]], [['Слово= ', 'либо'], ['9', 0, 0, 0, 0, '200', 0, '8'], [['content'], 0, 0, 0, 0], [['pause'], 0]], [['Слово= ', 'вы'], ['12', '9', '8', 0, 0, '2', 0, '8'], [['content'], 0, 0, 0, 0], [['pause'], 0]], [['Слово= ', 'слишком'], ['10', 0, 0, '1', 0, 0, 0, '8'], [['content'], 0, 0, 0, 0], [['pause'], 0]], [['Слово= ', 'много'], ['10', 0, 0, '1', 0, 0, 0, '8'], [['content'], '1', 0, 0, 0], [['pause'], 0]], [['Слово= ', 'жрете.'], ['6', '65', 0, '1', 0, '10', 0, '8'], [['content'], 0, 0, 0, 0], [['pause'], 0]], [['Слово= ', 'Удивительно,'], ['10', 0, 0, '3', 0, 0, 0, '24'], [['content'], 0, 0, 0, 0], [['pause'], 0]], [['Слово= ', 'что'], ['9', 0, 0, '1', 0, '200', 0, '8'], [['content'], 0, 0, 0, 0], [['pause'], 0]], [['Слово= ', 'до'], ['9', 0, 0, 0, 0, '100', 0, '8'], [['content'], 0, 0, 0, 0], [['pause'], 0]], [['Слово= ', 'сих'], ['3', '40', 0, 0, 0, '3', 0, '8'], [['content'], 0, 0, 0, 0], [['pause'], 0]], [['Слово= ', 'пор'], ['2', '10', '5', '1', 0, 0, 0, '8'], [['content'], 0, 0, 0, 0], [['pause'], 0]], [['Слово= ', 'ни'], ['9', 0, 0, 0, 0, '200', 0, '8'], [['content'], 0, 0, 0, 0], [['pause'], 0]], [['Слово= ', 'один'], ['0', '1', '1', '2', 0, 0, 0, '8'], [['content'], 0, 0, 0, 0], [['pause'], 0]], [['Слово= ', 'завод'], ['1', '1', '4', '2', 0, 0, 0, '8'], [['content'], 0, 0, 0, 0], [['pause'], 0]], [['Слово= ', 'по'], ['9', 0, 0, 0, 0, '100', 0, '8'], [['content'], 0, 0, 0, 0], [['pause'], 0]], [['Слово= ', 'производству'], ['1', '4', '6', '3', 0, 0, 0, '8'], [['content'], 0, 0, 0, 0], [['pause'], 0]], [['Слово= ', 'шпагатов'], ['2', '10', '4', '2', 0, 0, 0, '8'], [['content'], 0, 0, 0, 0], [['pause'], 0]], [['Слово= ', 'не'], ['9', 0, 0, 0, 0, '400', 0, '8'], [['content'], 0, 0, 0, 0], [['pause'], 0]], [['Слово= ', 'предложил'], ['6', '67', 0, '3', '100', '10', 0, '8'], [['content'], 0, 0, 0, 0], [['pause'], 0]], [['Слово= ', 'Анастасии'], ['1', '2', '2', '4', '10', '1', 0, '24'], [['content'], 0, 0, 0, 0], [['pause'], 0]], [['Слово= ', 'Волочковой'], ['1', '2', '2', '3', '20', 0, 0, '16'], [['content'], 0, 0, 0, 0], [['pause'], 0]], [['Слово= ', 'стать'], ['6', '60', 0, '1', '100', 0, 0, '8'], [['content'], 0, 0, 0, 0], [['pause'], 0]], [['Слово= ', 'его'], ['3', 0, 0, 0, 0, '3', 0, '8'], [['content'], '1', 0, 0, 0], [['pause'], 0]], [['Слово= ', 'лицом.'], ['1', '6', '3', '2', 0, 0, 0, '8'], [['content'], 0, 0, 0, 0], [['pause'], 0]], [['Слово= ', 'В'], ['9', 0, 0, 0, 0, '100', 0, '16'], [['content'], 0, 0, 0, 0], [['pause'], 0]], [['Слово= ', 'последнее'], ['3', '36', 0, '2', 0, 0, 0, '8'], [['content'], 0, 0, 0, 0], [['pause'], 0]], [['Слово= ', 'время'], ['1', '5', '6', '1', 0, 0, 0, '8'], [['content'], 0, 0, 0, 0], [['pause'], 0]], [['Слово= ', 'единственный'], ['3', '20', 0, '2', 0, 0, 0, '8'], [['content'], 0, 0, 0, 0], [['pause'], 0]], [['Слово= ', 'шанс'], ['1', '5', '4', '1', 0, 0, 0, '8'], [['content'], 0, 0, 0, 0], [['pause'], 0]], [['Слово= ', 'увидеть'], ['6', '60', 0, '2', '100', '10', 0, '8'], [['content'], 0, 0, 0, 0], [['pause'], 0]], [['Слово= ', 'в'], ['9', 0, 0, 0, 0, '100', 0, 0], [['content'], 0, 0, 0, 0], [['pause'], 0]], [['Слово= ', 'кинотеатре'], ['1', '7', '4', '4', 0, 0, 0, '8'], [['content'], 0, 0, 0, 0], [['pause'], 0]], [['Слово= ', 'что-то'], ['1', '1', '6', '1', 0, '2', 0, '8'], [['content'], '12', 0, 0, 0], [['pause'], 0]], [['Слово= ', 'интересное -'], ['3', '33', 0, '3', 0, 0, 0, '8'], [['content'], 0, 0, 0, 0], [['pause'], 0]], [['Слово= ', 'уснуть'], ['6', '60', 0, '2', '100', 0, 0, '8'], [['content'], 0, 0, 0, 0], [['pause'], 0]], [['Слово= ', 'во'], ['9', 0, 0, 0, 0, '100', 0, '8'], [['content'], 0, 0, 0, 0], [['pause'], 0]], [['Слово= ', 'время'], ['1', '5', '6', '1', 0, 0, 0, '8'], [['content'], '1', 0, 0, 0], [['pause'], 0]], [['Слово= ', 'сеанса.'], ['1', '2', '4', '2', 0, 0, 0, '8'], [['content'], 0, 0, 0, 0], [['pause'], 0]], [['Слово= ', 'В'], ['9', 0, 0, 0, 0, '100', 0, '16'], [['content'], 0, 0, 0, 0], [['pause'], 0]], [['Слово= ', 'магазине'], ['1', '7', '4', '3', 0, 0, 0, '8'], [['content'], 0, 0, 0, 0], [['pause'], 0]], [['Слово= ', 'рекламная'], ['3', '27', 0, '2', 0, 0, 0, '8'], [['content'], '3', 0, 0, 0], [['pause'], 0]], [['Слово= ', 'акция:'], ['1', '1', '5', '1', 0, 0, 0, '8'], [['content'], 0, 0, 0, 0], [['pause'], 0]], [['Слово= ', 'нашедшему'], ['7', '22', 0, '2', '100', '10', 0, '8'], [['content'], 0, 0, 0, 0], [['pause'], 0]], [['Слово= ', 'бутылку'], ['1', '5', '5', '2', 0, 0, 0, '8'], [['content'], 0, 0, 0, 0], [['pause'], 0]], [['Слово= ', 'просроченного'], ['7', '34', 0, '2', '100', '20', 0, '8'], [['content'], '2', 0, 0, 0], [['pause'], 0]], [['Слово= ', 'молока,'], ['1', '2', '6', '3', 0, '1', 0, '8'], [['content'], 0, 0, 0, 0], [['pause'], 0]], [['Слово= ', 'вторая'], ['3', '27', 0, '2', 0, 0, 0, '8'], [['content'], 0, 0, 0, 0], [['pause'], 0]], [['Слово= ', 'в'], ['9', 0, 0, 0, 0, '100', 0, 0], [['content'], '5', 0, 0, 0], [['pause'], 0]], [['Слово= ', 'подарок!'], ['1', '5', '4', '2', 0, 0, 0, '8'], [['content'], 0, 0, 0, 0], [['pause'], 0]], [['Слово= ', 'С'], ['9', 0, 0, 0, 0, '100', 0, '16'], [['content'], 0, 0, 0, 0], [['pause'], 0]], [['Слово= ', 'момента'], ['1', '2', '4', '2', 0, 0, 0, '8'], [['content'], 0, 0, 0, 0], [['pause'], 0]], [['Слово= ', 'изобретения'], ['1', '2', '6', '4', 0, 0, 0, '8'], [['content'], 0, 0, 0, 0], [['pause'], 0]], [['Слово= ', 'водки'], ['1', '2', '5', '1', 0, 0, 0, '8'], [['content'], 0, 0, 0, 0], [['pause'], 0]], [['Слово= ', 'для'], ['9', 0, 0, 0, 0, '100', 0, '8'], [['content'], 0, 0, 0, 0], [['pause'], 0]], [['Слово= ', 'русского'], ['3', '21', 0, '1', 0, 0, 0, '8'], [['content'], 0, 0, 0, 0], [['pause'], 0]], [['Слово= ', 'человека'], ['1', '2', '1', '3', 0, 0, 0, '8'], [['content'], 0, 0, 0, 0], [['pause'], 0]], [['Слово= ', 'проблема'], ['1', '1', '5', '2', 0, 0, 0, '8'], [['content'], 0, 0, 0, 0], [['pause'], 0]], [['Слово= ', 'искривления'], ['1', '2', '6', '3', 0, 0, 0, '8'], [['content'], 0, 0, 0, 0], [['pause'], 0]], [['Слово= ', 'пространства'], ['1', '2', '6', '2', 0, 0, 0, '8'], [['content'], 0, 0, 0, 0], [['pause'], 0]], [['Слово= ', 'и'], ['9', 0, 0, 0, 0, '200', 0, '8'], [['content'], 0, 0, 0, 0], [['pause'], 0]], [['Слово= ', 'относительности'], ['1', '2', '5', '3', 0, '1', 0, '8'], [['content'], 0, 0, 0, 0], [['pause'], 0]], [['Слово= ', 'времени'], ['1', '2', '6', '1', 0, 0, 0, '8'], [['content'], 0, 0, 0, 0], [['pause'], 0]], [['Слово= ', 'перешла'], ['6', '68', 0, '3', '100', '10', 0, '8'], [['content'], 0, 0, 0, 0], [['pause'], 0]], [['Слово= ', 'в'], ['9', 0, 0, 0, 0, '100', 0, 0], [['content'], 0, 0, 0, 0], [['pause'], 0]], [['Слово= ', 'разряд'], ['1', '5', '4', '2', 0, 0, 0, '8'], [['content'], '3', 0, 0, 0], [['pause'], 0]], [['Слово= ', 'малозначительных:'], ['3', '40', 0, '4', 0, 0, 0, '8'], [['content'], 0, 0, 0, 0], [['pause'], 0]], [['Слово= ', 'само'], ['3', '33', 0, '2', 0, '3', 0, '8'], [['content'], 0, 0, 0, 0], [['pause'], 0]], [['Слово= ', 'собой'], ['1', '6', 0, '2', 0, '2', 0, '8'], [['content'], 0, 0, 0, 0], [['pause'], 0]], [['Слово= ', 'все'], ['1', '1', '6', '1', 0, '2', 0, '8'], [['content'], '2', 0, 0, 0], [['pause'], 0]], [['Слово= ', 'искривляется,'], ['6', '63', 0, '3', '100', 0, 0, '8'], [['content'], 0, 0, 0, 0], [['pause'], 0]], [['Слово= ', 'и'], ['9', 0, 0, 0, 0, '200', 0, '8'], [['content'], 0, 0, 0, 0], [['pause'], 0]], [['Слово= ', 'само'], ['3', '33', 0, '2', 0, '3', 0, '8'], [['content'], 0, 0, 0, 0], [['pause'], 0]], [['Слово= ', 'с'], ['9', 0, 0, 0, 0, '100', 0, 0], [['content'], 0, 0, 0, 0], [['pause'], 0]], [['Слово= ', 'собой'], ['1', '6', 0, 0, 0, '2', 0, '8'], [['content'], '1', 0, 0, 0], [['pause'], 0]], [['Слово= ', 'соотносится.'], ['6', '63', 0, '3', 0, 0, 0, '8'], [['content'], 0, 0, 0, 0], [['pause'], 0]], [['Слово= ', 'За'], ['9', 0, 0, 0, 0, '100', 0, '16'], [['content'], 0, 0, 0, 0], [['pause'], 0]], [['Слово= ', 'небольшую'], ['3', '30', 0, '3', 0, 0, 0, '8'], [['content'], 0, 0, 0, 0], [['pause'], 0]], [['Слово= ', 'плату'], ['1', '5', '5', '1', 0, 0, 0, '8'], [['content'], 0, 0, 0, 0], [['pause'], 0]], [['Слово= ', 'уступлю'], ['6', '61', 0, '3', '100', '10', 0, '8'], [['content'], 0, 0, 0, 0], [['pause'], 0]], [['Слово= ', 'свое'], ['3', '33', 0, '2', 0, '3', 0, '8'], [['content'], 0, 0, 0, 0], [['pause'], 0]], [['Слово= ', 'право'], ['1', '5', '6', '1', 0, 0, 0, '8'], [['content'], 0, 0, 0, 0], [['pause'], 0]], [['Слово= ', 'на'], ['9', 0, 0, 0, 0, '100', 0, '8'], [['content'], 0, 0, 0, 0], [['pause'], 0]], [['Слово= ', 'ошибку'], ['1', '5', '5', '2', 0, 0, 0, '8'], [['content'], '2', 0, 0, 0], [['pause'], 0]], [['Слово= ', 'тому,'], ['3', '22', 0, '2', 0, '3', 0, '8'], [['content'], 0, 0, 0, 0], [['pause'], 0]], [['Слово= ', 'кто'], ['1', '1', '1', 0, 0, '2', 0, '8'], [['content'], 0, 0, 0, 0], [['pause'], 0]], [['Слово= ', 'любит'], ['6', '63', 0, '1', 0, '10', 0, '8'], [['content'], 0, 0, 0, 0], [['pause'], 0]], [['Слово= ', 'учиться'], ['6', '60', 0, '2', 0, 0, 0, '8'], [['content'], 0, 0, 0, 0], [['pause'], 0]], [['Слово= ', 'на'], ['9', 0, 0, 0, 0, '100', 0, '8'], [['content'], '1', 0, 0, 0], [['pause'], 0]], [['Слово= ', 'ошибках.'], ['2', '14', '5', '2', 0, 0, 0, '8'], [['content'], 0, 0, 0, 0], [['pause'], 0]], [['Слово= ', 'Совет'], ['1', '1', '4', '2', 0, 0, 0, '16'], [['content'], '2', 0, 0, 0], [['pause'], 0]], [['Слово= ', 'тем,'], ['2', '10', '5', '1', 0, 0, 0, '8'], [['content'], 0, 0, 0, 0], [['pause'], 0]], [['Слово= ', 'кто'], ['1', '1', '1', 0, 0, '2', 0, '8'], [['content'], 0, 0, 0, 0], [['pause'], 0]], [['Слово= ', 'выбирает'], ['6', '63', 0, '3', 0, '10', 0, '8'], [['content'], 0, 0, 0, 0], [['pause'], 0]], [['Слово= ', 'свою'], ['3', '30', 0, '2', 0, '3', 0, '8'], [['content'], 0, 0, 0, 0], [['pause'], 0]], [['Слово= ', 'будущую'], ['3', '30', 0, '1', 0, 0, 0, '8'], [['content'], '3', 0, 0, 0], [['pause'], 0]], [['Слово= ', 'профессию:'], ['1', '5', '5', '2', 0, 0, 0, '8'], [['content'], 0, 0, 0, 0], [['pause'], 0]], [['Слово= ', 'уже'], ['10', 0, 0, '2', 0, 0, 0, '8'], [['content'], 0, 0, 0, 0], [['pause'], 0]], [['Слово= ', 'в'], ['9', 0, 0, 0, 0, '100', 0, 0], [['content'], 0, 0, 0, 0], [['pause'], 0]], [['Слово= ', 'этом'], ['3', '38', 0, '1', 0, '3', 0, '8'], [['content'], 0, 0, 0, 0], [['pause'], 0]], [['Слово= ', 'поколении'], ['1', '7', '6', '3', 0, 0, 0, '8'], [['content'], 0, 0, 0, 0], [['pause'], 0]], [['Слово= ', 'юристов'], ['2', '10', '1', '2', 0, 0, 0, '8'], [['content'], 0, 0, 0, 0], [['pause'], 0]], [['Слово= ', 'заменят'], ['6', '66', 0, '2', '100', '10', 0, '8'], [['content'], '2', 0, 0, 0], [['pause'], 0]], [['Слово= ', 'блокчейном,'], ['1', '6', '4', '2', 0, 0, 0, '10'], [['content'], 0, 0, 0, 0], [['pause'], 0]], [['Слово= ', 'программистов'], ['2', '10', '1', '3', 0, 0, 0, '8'], [['content'], 0, 0, 0, 0], [['pause'], 0]], [['Слово= ', 'и'], ['9', 0, 0, 0, 0, '200', 0, '8'], [['content'], '13', 0, 0, 0], [['pause'], 0]], [['Слово= ', 'ученых-нейросетями,'], ['2', '10', '1', '2', 0, 0, 0, '8'], [['content'], '2', 0, 0, 0], [['pause'], 0]], [['Слово= ', 'водителей'], ['2', '12', '1', '2', 0, 0, 0, '8'], [['content'], 0, 0, 0, 0], [['pause'], 0]], [['Слово= ', 'скоро'], ['10', 0, 0, '1', 0, 0, 0, '8'], [['content'], 0, 0, 0, 0], [['pause'], 0]], [['Слово= ', 'заменит'], ['6', '63', 0, '2', '100', '10', 0, '8'], [['content'], '2', 0, 0, 0], [['pause'], 0]], [['Слово= ', 'ИИ,'], ['1', '2', '2', '1', '10', '1', 0, '24'], [['content'], 0, 0, 0, 0], [['pause'], 0]], [['Слово= ', 'врачей'], ['2', '10', '8', '2', 0, 0, 0, '8'], [['content'], 0, 0, 0, 0], [['pause'], 0]], [['Слово= ', 'и'], ['9', 0, 0, 0, 0, '200', 0, '8'], [['content'], '13', 0, 0, 0], [['pause'], 0]], [['Слово= ', 'военных-роботы,'], ['2', '10', '1', '2', 0, 0, 0, '8'], [['content'], '2', 0, 0, 0], [['pause'], 0]], [['Слово= ', 'тридэпринтеры'], ['2', '9', 0, '3', 0, 0, 0, '8'], [['content'], 0, 0, 0, 0], [['pause'], 0]], [['Слово= ', 'вытеснят'], ['6', '66', 0, '1', '100', '10', 0, '8'], [['content'], '1', 0, 0, 0], [['pause'], 0]], [['Слово= ', 'строителей.'], ['2', '12', '1', '2', 0, 0, 0, '8'], [['content'], 0, 0, 0, 0], [['pause'], 0]], [['Слово= ', 'Умного'], ['3', '21', 0, '1', 0, 0, 0, '24'], [['content'], 0, 0, 0, 0], [['pause'], 0]], [['Слово= ', 'от'], ['9', 0, 0, 0, 0, '100', 0, '8'], [['content'], 0, 0, 0, 0], [['pause'], 0]], [['Слово= ', 'дурака'], ['1', '2', '1', '3', 0, 0, 0, '8'], [['content'], 0, 0, 0, 0], [['pause'], 0]], [['Слово= ', 'отличает'], ['6', '63', 0, '3', 0, '10', 0, '8'], [['content'], 0, 0, 0, 0], [['pause'], 0]], [['Слово= ', 'лишь'], ['9', 0, 0, 0, 0, '200', 0, '8'], [['content'], '2', 0, 0, 0], [['pause'], 0]], [['Слово= ', 'знание,'], ['1', '1', '6', '1', 0, 0, 0, '8'], [['content'], 0, 0, 0, 0], [['pause'], 0]], [['Слово= ', 'что'], ['9', 0, 0, '1', 0, '200', 0, '8'], [['content'], 0, 0, 0, 0], [['pause'], 0]], [['Слово= ', 'быть'], ['6', '60', 0, '1', 0, 0, 0, '8'], [['content'], 0, 0, 0, 0], [['pause'], 0]], [['Слово= ', 'в'], ['9', 0, 0, 0, 0, '100', 0, 0], [['content'], '12', 0, 0, 0], [['pause'], 0]], [['Слово= ', 'дураках -'], ['2', '14', '1', '3', 0, 0, 0, '8'], [['content'], 0, 0, 0, 0], [['pause'], 0]], [['Слово= ', 'это'], ['3', '33', 0, '1', 0, '3', 0, '8'], [['content'], '2', 0, 0, 0], [['pause'], 0]], [['Слово= ', 'право,'], ['1', '1', '6', '1', 0, 0, 0, '8'], [['content'], 0, 0, 0, 0], [['pause'], 0]], [['Слово= ', 'а'], ['9', 0, 0, 0, 0, '200', 0, '8'], [['content'], 0, 0, 0, 0], [['pause'], 0]], [['Слово= ', 'не'], ['9', 0, 0, 0, 0, '400', 0, '8'], [['content'], '1', 0, 0, 0], [['pause'], 0]], [['Слово= ', 'обязанность.'], ['1', '1', '5', '2', 0, 0, 0, '8'], [['content'], 0, 0, 0, 0], [['pause'], 0]], [['Слово= ', 'Либерал -'], ['1', '1', '1', '3', 0, 0, 0, '16'], [['content'], 0, 0, 0, 0], [['pause'], 0]], [['Слово= ', 'это'], ['9', 0, 0, '1', 0, '400', 0, '8'], [['content'], '2', 0, 0, 0], [['pause'], 0]], [['Слово= ', 'человек,'], ['1', '1', '1', '3', 0, 0, 0, '8'], [['content'], 0, 0, 0, 0], [['pause'], 0]], [['Слово= ', 'который'], ['3', '20', 0, '2', 0, '3', 0, '8'], [['content'], 0, 0, 0, 0], [['pause'], 0]], [['Слово= ', 'свято'], ['10', 0, 0, '1', 0, 0, 0, '8'], [['content'], '2', 0, 0, 0], [['pause'], 0]], [['Слово= ', 'верует,'], ['6', '63', 0, '1', 0, 0, 0, '8'], [['content'], 0, 0, 0, 0], [['pause'], 0]], [['Слово= ', 'что'], ['9', 0, 0, '1', 0, '200', 0, '8'], [['content'], 0, 0, 0, 0], [['pause'], 0]], [['Слово= ', 'если'], ['9', 0, 0, 0, 0, '200', 0, '8'], [['content'], 0, 0, 0, 0], [['pause'], 0]], [['Слово= ', 'дерьмо'], ['1', '5', '6', '2', 0, '1', 0, '8'], [['content'], 0, 0, 0, 0], [['pause'], 0]], [['Слово= ', 'переименовать'], ['6', '60', 0, '6', '100', '10', 0, '8'], [['content'], 0, 0, 0, 0], [['pause'], 0]], [['Слово= ', 'в'], ['9', 0, 0, 0, 0, '100', 0, 0], [['content'], 0, 0, 0, 0], [['pause'], 0]], [['Слово= ', 'фекалии'], ['1', '7', '5', '2', 0, 0, 0, '8'], [['content'], 0, 0, 0, 0], [['pause'], 0]], [['Слово= ', 'и'], ['9', 0, 0, 0, 0, '200', 0, '8'], [['content'], 0, 0, 0, 0], [['pause'], 0]], [['Слово= ', 'заручиться'], ['6', '60', 0, '3', '100', 0, 0, '8'], [['content'], 0, 0, 0, 0], [['pause'], 0]], [['Слово= ', 'поддержкой'], ['1', '6', '5', '2', 0, 0, 0, '8'], [['content'], 0, 0, 0, 0], [['pause'], 0]], [['Слово= ', 'мирового'], ['3', '34', 0, '3', 0, 0, 0, '8'], [['content'], '2', 0, 0, 0], [['pause'], 0]], [['Слово= ', 'сообщества,'], ['1', '2', '6', '2', 0, 0, 0, '8'], [['content'], 0, 0, 0, 0], [['pause'], 0]], [['Слово= ', 'сразу'], ['10', 0, 0, '1', 0, 0, 0, '8'], [['content'], 0, 0, 0, 0], [['pause'], 0]], [['Слово= ', 'станет'], ['6', '63', 0, '1', '100', 0, 0, '8'], [['content'], 0, 0, 0, 0], [['pause'], 0]], [['Слово= ', 'в'], ['9', 0, 0, 0, 0, '100', 0, 0], [['content'], 0, 0, 0, 0], [['pause'], 0]], [['Слово= ', 'разы'], ['2', '12', '4', '2', 0, 0, 0, '8'], [['content'], '1', 0, 0, 0], [['pause'], 0]], [['Слово= ', 'вкуснее.'], ['5', '50', 0, '2', 0, 0, 0, '8'], [['content'], 0, 0, 0, 0], [['pause'], 0]], [['Слово= ', 'В'], ['9', 0, 0, 0, 0, '100', 0, '16'], [['content'], 0, 0, 0, 0], [['pause'], 0]], [['Слово= ', 'фильмах'], ['2', '14', '4', '1', 0, 0, 0, '8'], [['content'], 0, 0, 0, 0], [['pause'], 0]], [['Слово= ', 'про'], ['9', 0, 0, 0, 0, '100', 0, '8'], [['content'], 0, 0, 0, 0], [['pause'], 0]], [['Слово= ', 'зомби'], ['1', 0, '1', '1', 0, '1', 0, '8'], [['content'], 0, 0, 0, 0], [['pause'], 0]], [['Слово= ', 'герои'], ['2', '9', '1', '2', 0, 0, 0, '8'], [['content'], 0, 0, 0, 0], [['pause'], 0]], [['Слово= ', 'ведут'], ['6', '66', 0, '2', 0, '10', 0, '8'], [['content'], 0, 0, 0, 0], [['pause'], 0]], [['Слово= ', 'себя'], ['1', '5', 0, 0, 0, '2', 0, '8'], [['content'], '2', 0, 0, 0], [['pause'], 0]], [['Слово= ', 'так,'], ['10', 0, 0, 0, 0, 0, 0, '8'], [['content'], 0, 0, 0, 0], [['pause'], 0]], [['Слово= ', 'как'], ['10', 0, 0, '1', 0, 0, 0, '8'], [['content'], 0, 0, 0, 0], [['pause'], 0]], [['Слово= ', 'будто'], ['9', 0, 0, 0, 0, '200', 0, '8'], [['content'], 0, 0, 0, 0], [['pause'], 0]], [['Слово= ', 'бы'], ['9', 0, 0, 0, 0, '400', 0, '8'], [['content'], 0, 0, 0, 0], [['pause'], 0]], [['Слово= ', 'никогда'], ['10', 0, 0, '3', 0, 0, 0, '8'], [['content'], 0, 0, 0, 0], [['pause'], 0]], [['Слово= ', 'не'], ['9', 0, 0, 0, 0, '400', 0, '8'], [['content'], 0, 0, 0, 0], [['pause'], 0]], [['Слово= ', 'смотрели'], ['6', '70', 0, '2', 0, '10', 0, '8'], [['content'], 0, 0, 0, 0], [['pause'], 0]], [['Слово= ', 'фильмов'], ['2', '10', '4', '1', 0, 0, 0, '8'], [['content'], 0, 0, 0, 0], [['pause'], 0]], [['Слово= ', 'про'], ['9', 0, 0, 0, 0, '100', 0, '8'], [['content'], '5', 0, 0, 0], [['pause'], 0]], [['Слово= ', 'зомби!'], ['1', 0, '1', '1', 0, '1', 0, '8'], [['content'], 0, 0, 0, 0], [['pause'], 0]], [['Слово= ', 'Самый'], ['3', '20', 0, '1', 0, '3', 0, '16'], [['content'], 0, 0, 0, 0], [['pause'], 0]], [['Слово= ', 'дружный'], ['3', '20', 0, '1', 0, 0, 0, '8'], [['content'], 0, 0, 0, 0], [['pause'], 0]], [['Слово= ', 'коллектив'], ['1', '1', '4', '3', 0, 0, 0, '8'], [['content'], 0, 0, 0, 0], [['pause'], 0]], [['Слово= ', 'создается'], ['6', '63', 0, '3', 0, 0, 0, '8'], [['content'], 0, 0, 0, 0], [['pause'], 0]], [['Слово= ', 'в'], ['9', 0, 0, 0, 0, '100', 0, 0], [['content'], 0, 0, 0, 0], [['pause'], 0]], [['Слово= ', 'общественной'], ['3', '32', 0, '2', 0, 0, 0, '8'], [['content'], '3', 0, 0, 0], [['pause'], 0]], [['Слово= ', 'бане:'], ['1', '7', '5', '1', 0, 0, 0, '8'], [['content'], 0, 0, 0, 0], [['pause'], 0]], [['Слово= ', 'все'], ['1', '1', '6', '1', 0, '2', 0, '8'], [['content'], 0, 0, 0, 0], [['pause'], 0]], [['Слово= ', 'в'], ['9', 0, 0, 0, 0, '100', 0, 0], [['content'], 0, 0, 0, 0], [['pause'], 0]], [['Слово= ', 'единой'], ['3', '32', 0, '2', 0, 0, 0, '8'], [['content'], '2', 0, 0, 0], [['pause'], 0]], [['Слово= ', 'униформе,'], ['1', '7', '5', '3', 0, 0, 0, '8'], [['content'], 0, 0, 0, 0], [['pause'], 0]], [['Слово= ', 'заняты'], ['4', '49', 0, '1', 0, 0, 0, '8'], [['content'], 0, 0, 0, 0], [['pause'], 0]], [['Слово= ', 'одним'], ['0', '6', '3', '2', 0, 0, 0, '8'], [['content'], 0, 0, 0, 0], [['pause'], 0]], [['Слово= ', 'делом'], ['1', '6', '6', '1', 0, 0, 0, '8'], [['content'], 0, 0, 0, 0], [['pause'], 0]], [['Слово= ', 'и'], ['9', 0, 0, 0, 0, '200', 0, '8'], [['content'], 0, 0, 0, 0], [['pause'], 0]], [['Слово= ', 'никто'], ['1', '1', '1', '2', 0, '2', 0, '8'], [['content'], 0, 0, 0, 0], [['pause'], 0]], [['Слово= ', 'в'], ['9', 0, 0, 0, 0, '100', 0, 0], [['content'], 0, 0, 0, 0], [['pause'], 0]], [['Слово= ', 'души'], ['2', '12', '4', '1', 0, 0, 0, '8'], [['content'], 0, 0, 0, 0], [['pause'], 0]], [['Слово= ', 'без'], ['9', 0, 0, 0, 0, '100', 0, '8'], [['content'], 0, 0, 0, 0], [['pause'], 0]], [['Слово= ', 'мыла'], ['1', '2', '6', '1', 0, 0, 0, '8'], [['content'], 0, 0, 0, 0], [['pause'], 0]], [['Слово= ', 'не'], ['9', 0, 0, 0, 0, '400', 0, '8'], [['content'], '1', 0, 0, 0], [['pause'], 0]], [['Слово= ', 'лезет.'], ['6', '63', 0, '1', 0, 0, 0, '8'], [['content'], 0, 0, 0, 0], [['pause'], 0]], [['Слово= ', 'Слишком'], ['10', 0, 0, '1', 0, 0, 0, '16'], [['content'], 0, 0, 0, 0], [['pause'], 0]], [['Слово= ', 'многие'], ['3', '39', 0, '1', 0, '3', 0, '8'], [['content'], 0, 0, 0, 0], [['pause'], 0]], [['Слово= ', 'сейчас'], ['10', 0, 0, '2', 0, 0, 0, '8'], [['content'], 0, 0, 0, 0], [['pause'], 0]], [['Слово= ', 'тратят'], ['6', '66', 0, '1', 0, '10', 0, '8'], [['content'], '2', 0, 0, 0], [['pause'], 0]], [['Слово= ', 'деньги,'], ['2', '12', 0, '1', 0, 0, 0, '8'], [['content'], 0, 0, 0, 0], [['pause'], 0]], [['Слово= ', 'которых'], ['3', '40', 0, '2', 0, '3', 0, '8'], [['content'], 0, 0, 0, 0], [['pause'], 0]], [['Слово= ', 'они'], ['12', '9', '8', 0, 0, '2', 0, '8'], [['content'], 0, 0, 0, 0], [['pause'], 0]], [['Слово= ', 'не'], ['9', 0, 0, 0, 0, '400', 0, '8'], [['content'], '2', 0, 0, 0], [['pause'], 0]], [['Слово= ', 'заработали,'], ['6', '70', 0, '3', '100', 0, 0, '8'], [['content'], 0, 0, 0, 0], [['pause'], 0]], [['Слово= ', 'на'], ['9', 0, 0, 0, 0, '100', 0, '8'], [['content'], '2', 0, 0, 0], [['pause'], 0]], [['Слово= ', 'вещи,'], ['2', '12', '5', '1', 0, 0, 0, '8'], [['content'], 0, 0, 0, 0], [['pause'], 0]], [['Слово= ', 'которые'], ['3', '39', 0, '2', 0, '3', 0, '8'], [['content'], 0, 0, 0, 0], [['pause'], 0]], [['Слово= ', 'им'], ['11', '6', '1', 0, 0, '2', 0, '8'], [['content'], 0, 0, 0, 0], [['pause'], 0]], [['Слово= ', 'не'], ['9', 0, 0, 0, 0, '400', 0, '8'], [['content'], '2', 0, 0, 0], [['pause'], 0]], [['Слово= ', 'нужны,'], ['4', '49', 0, '2', 0, 0, 0, '8'], [['content'], 0, 0, 0, 0], [['pause'], 0]], [['Слово= ', 'чтобы'], ['9', 0, 0, 0, 0, '200', 0, '8'], [['content'], 0, 0, 0, 0], [['pause'], 0]], [['Слово= ', 'произвести'], ['6', '60', 0, '4', '100', '10', 0, '8'], [['content'], 0, 0, 0, 0], [['pause'], 0]], [['Слово= ', 'впечатление'], ['1', '5', '6', '3', 0, 0, 0, '8'], [['content'], 0, 0, 0, 0], [['pause'], 0]], [['Слово= ', 'на'], ['9', 0, 0, 0, 0, '100', 0, '8'], [['content'], '2', 0, 0, 0], [['pause'], 0]], [['Слово= ', 'людей,'], ['2', '12', '1', '2', 0, 0, 0, '8'], [['content'], 0, 0, 0, 0], [['pause'], 0]], [['Слово= ', 'которые'], ['3', '39', 0, '2', 0, '3', 0, '8'], [['content'], 0, 0, 0, 0], [['pause'], 0]], [['Слово= ', 'им'], ['11', '6', '1', 0, 0, '2', 0, '8'], [['content'], 0, 0, 0, 0], [['pause'], 0]], [['Слово= ', 'не'], ['9', 0, 0, 0, 0, '400', 0, '8'], [['content'], '1', 0, 0, 0], [['pause'], 0]], [['Слово= ', 'нравятся.'], ['6', '66', 0, '1', 0, 0, 0, '8'], [['content'], 0, 0, 0, 0], [['pause'], 0]], [['Слово= ', 'Сэкономить -'], ['6', '60', 0, '3', '100', '10', 0, '16'], [['content'], 0, 0, 0, 0], [['pause'], 0]], [['Слово= ', 'это'], ['9', 0, 0, '1', 0, '400', 0, '8'], [['content'], 0, 0, 0, 0], [['pause'], 0]], [['Слово= ', 'не'], ['9', 0, 0, 0, 0, '400', 0, '8'], [['content'], 0, 0, 0, 0], [['pause'], 0]], [['Слово= ', 'купить'], ['6', '60', 0, '2', '100', '10', 0, '8'], [['content'], 0, 0, 0, 0], [['pause'], 0]], [['Слово= ', 'приглянувшуюся'], ['7', '30', 0, '3', '100', 0, 0, '8'], [['content'], 0, 0, 0, 0], [['pause'], 0]], [['Слово= ', 'дорогую'], ['3', '30', 0, '3', 0, 0, 0, '8'], [['content'], 0, 0, 0, 0], [['pause'], 0]], [['Слово= ', 'вещь'], ['1', '5', '5', '1', 0, 0, 0, '8'], [['content'], 0, 0, 0, 0], [['pause'], 0]], [['Слово= ', 'из-за'], ['9', 0, 0, 0, 0, '100', 0, '8'], [['content'], 0, 0, 0, 0], [['pause'], 0]], [['Слово= ', 'страха'], ['1', '2', '4', '1', 0, 0, 0, '8'], [['content'], 0, 0, 0, 0], [['pause'], 0]], [['Слово= ', 'потратить'], ['6', '60', 0, '2', '100', '10', 0, '8'], [['content'], 0, 0, 0, 0], [['pause'], 0]], [['Слово= ', 'огромную'], ['3', '30', 0, '2', 0, 0, 0, '8'], [['content'], 0, 0, 0, 0], [['pause'], 0]], [['Слово= ', 'сумму'], ['1', '5', '5', '1', 0, 0, 0, '8'], [['content'], 0, 0, 0, 0], [['pause'], 0]], [['Слово= ', 'и'], ['9', 0, 0, 0, 0, '200', 0, '8'], [['content'], 0, 0, 0, 0], [['pause'], 0]], [['Слово= ', 'сидеть'], ['6', '60', 0, '2', 0, 0, 0, '8'], [['content'], 0, 0, 0, 0], [['pause'], 0]], [['Слово= ', 'до'], ['9', 0, 0, 0, 0, '100', 0, '8'], [['content'], 0, 0, 0, 0], [['pause'], 0]], [['Слово= ', 'зарплаты'], ['1', '2', '5', '2', 0, 0, 0, '8'], [['content'], 0, 0, 0, 0], [['pause'], 0]], [['Слово= ', 'без'], ['9', 0, 0, 0, 0, '100', 0, '8'], [['content'], '1', 0, 0, 0], [['pause'], 0]], [['Слово= ', 'денег.'], ['2', '10', 0, '1', 0, 0, 0, '8'], [['content'], 0, 0, 0, 0], [['pause'], 0]], [['Слово= ', 'Извините,'], ['6', '72', 0, '3', '100', '10', 0, '24'], [['content'], 0, 0, 0, 0], [['pause'], 0]], [['Слово= ', 'а'], ['9', 0, 0, 0, 0, '200', 0, '8'], [['content'], 0, 0, 0, 0], [['pause'], 0]], [['Слово= ', 'когда'], ['10', 0, 0, '2', 0, 0, 0, '8'], [['content'], 0, 0, 0, 0], [['pause'], 0]], [['Слово= ', 'снег'], ['1', '1', '4', '1', 0, 0, 0, '8'], [['content'], 0, 0, 0, 0], [['pause'], 0]], [['Слово= ', 'в'], ['9', 0, 0, 0, 0, '100', 0, 0], [['content'], 0, 0, 0, 0], [['pause'], 0]], [['Слово= ', 'Краснодаре'], ['1', '7', '4', '3', '40', '1', 0, '16'], [['content'], 0, 0, 0, 0], [['pause'], 0]], [['Слово= ', 'выпадает'], ['6', '63', 0, '3', 0, 0, 0, '8'], [['content'], '2', 0, 0, 0], [['pause'], 0]], [['Слово= ', 'раньше,'], ['5', '50', 0, '1', 0, 0, 0, '8'], [['content'], 0, 0, 0, 0], [['pause'], 0]], [['Слово= ', 'чем'], ['9', 0, 0, '1', 0, '200', 0, '8'], [['content'], 0, 0, 0, 0], [['pause'], 0]], [['Слово= ', 'в'], ['9', 0, 0, 0, 0, '100', 0, 0], [['content'], '12', 0, 0, 0], [['pause'], 0]], [['Слово= ', 'Москве -'], ['1', '7', '5', '2', '40', '1', 0, '16'], [['content'], 0, 0, 0, 0], [['pause'], 0]], [['Слово= ', 'это'], ['3', '33', 0, '1', 0, '3', 0, '8'], [['content'], 0, 0, 0, 0], [['pause'], 0]], [['Слово= ', 'глобальное'], ['3', '33', 0, '2', 0, 0, 0, '8'], [['content'], 0, 0, 0, 0], [['pause'], 0]], [['Слово= ', 'потепление'], ['1', '1', '6', '3', 0, 0, 0, '8'], [['content'], 0, 0, 0, 0], [['pause'], 0]], [['Слово= ', 'или'], ['9', 0, 0, 0, 0, '200', 0, '8'], [['content'], '6', 0, 0, 0], [['pause'], 0]], [['Слово= ', 'похолодание?'], ['1', '1', '6', '4', 0, 0, 0, '8'], [['content'], 0, 0, 0, 0], [['pause'], 0]], [['Слово= ', 'Зрелость'], ['1', '1', '5', '1', 0, '1', 0, '16'], [['content'], '2', 0, 0, 0], [['pause'], 0]], [['Слово= ', 'наступает,'], ['6', '63', 0, '3', 0, 0, 0, '8'], [['content'], 0, 0, 0, 0], [['pause'], 0]], [['Слово= ', 'когда'], ['10', 0, 0, '2', 0, 0, 0, '8'], [['content'], 0, 0, 0, 0], [['pause'], 0]], [['Слово= ', 'наигрался'], ['6', '67', 0, '3', '100', 0, 0, '8'], [['content'], 0, 0, 0, 0], [['pause'], 0]], [['Слово= ', 'во'], ['9', 0, 0, 0, 0, '100', 0, '8'], [['content'], 0, 0, 0, 0], [['pause'], 0]], [['Слово= ', 'все'], ['3', '42', 0, '1', 0, '3', 0, '8'], [['content'], 0, 0, 0, 0], [['pause'], 0]], [['Слово= ', 'игрушки'], ['2', '12', '5', '2', 0, 0, 0, '8'], [['content'], 0, 0, 0, 0], [['pause'], 0]], [['Слово= ', 'и'], ['9', 0, 0, 0, 0, '200', 0, '8'], [['content'], '2', 0, 0, 0], [['pause'], 0]], [['Слово= ', 'понял,'], ['6', '67', 0, '1', '100', '10', 0, '8'], [['content'], 0, 0, 0, 0], [['pause'], 0]], [['Слово= ', 'что'], ['9', 0, 0, '1', 0, '200', 0, '8'], [['content'], 0, 0, 0, 0], [['pause'], 0]], [['Слово= ', 'нет'], ['9', 0, 0, '1', 0, '400', 0, '8'], [['content'], 0, 0, 0, 0], [['pause'], 0]], [['Слово= ', 'ничего'], ['1', '2', '6', '3', 0, '2', 0, '8'], [['content'], '2', 0, 0, 0], [['pause'], 0]], [['Слово= ', 'лучше,'], ['5', '50', 0, '1', 0, 0, 0, '8'], [['content'], 0, 0, 0, 0], [['pause'], 0]], [['Слово= ', 'чем'], ['9', 0, 0, '1', 0, '200', 0, '8'], [['content'], 0, 0, 0, 0], [['pause'], 0]], [['Слово= ', 'самому'], ['3', '22', 0, '3', 0, '3', 0, '8'], [['content'], 0, 0, 0, 0], [['pause'], 0]], [['Слово= ', 'создавать'], ['6', '60', 0, '3', 0, '10', 0, '8'], [['content'], '1', 0, 0, 0], [['pause'], 0]], [['Слово= ', 'новые.'], ['3', '39', 0, '1', 0, 0, 0, '8'], [['content'], 0, 0, 0, 0], [['pause'], 0]], [['Слово= ', 'Одиночество -'], ['1', '1', '6', '3', 0, 0, 0, '24'], [['content'], 0, 0, 0, 0], [['pause'], 0]], [['Слово= ', 'это'], ['9', 0, 0, '1', 0, '400', 0, '8'], [['content'], 0, 0, 0, 0], [['pause'], 0]], [['Слово= ', 'когда'], ['10', 0, 0, '2', 0, 0, 0, '8'], [['content'], 0, 0, 0, 0], [['pause'], 0]], [['Слово= ', 'ты'], ['11', '1', '8', 0, 0, '2', 0, '8'], [['content'], '2', 0, 0, 0], [['pause'], 0]], [['Слово= ', 'слышишь,'], ['6', '62', 0, '1', 0, '10', 0, '8'], [['content'], 0, 0, 0, 0], [['pause'], 0]], [['Слово= ', 'как'], ['10', 0, 0, '1', 0, 0, 0, '8'], [['content'], 0, 0, 0, 0], [['pause'], 0]], [['Слово= ', 'приходят'], ['6', '66', 0, '2', 0, 0, 0, '8'], [['content'], 0, 0, 0, 0], [['pause'], 0]], [['Слово= ', 'сообщения'], ['2', '9', '6', '3', 0, 0, 0, '8'], [['content'], 0, 0, 0, 0], [['pause'], 0]], [['Слово= ', 'на'], ['9', 0, 0, 0, 0, '100', 0, '8'], [['content'], 0, 0, 0, 0], [['pause'], 0]], [['Слово= ', 'телефон'], ['1', '5', '4', '3', 0, 0, 0, '8'], [['content'], 0, 0, 0, 0], [['pause'], 0]], [['Слово= ', 'у'], ['9', 0, 0, 0, 0, '100', 0, '8'], [['content'], '1', 0, 0, 0], [['pause'], 0]], [['Слово= ', 'соседей.'], ['2', '10', '1', '2', 0, 0, 0, '8'], [['content'], 0, 0, 0, 0], [['pause'], 0]], [['Слово= ', 'Чтобы'], ['9', 0, 0, 0, 0, '200', 0, '16'], [['content'], 0, 0, 0, 0], [['pause'], 0]], [['Слово= ', 'жить'], ['6', '60', 0, '1', 0, 0, 0, '8'], [['content'], 0, 0, 0, 0], [['pause'], 0]], [['Слово= ', 'в'], ['9', 0, 0, 0, 0, '100', 0, 0], [['content'], 0, 0, 0, 0], [['pause'], 0]], [['Слово= ', 'дружбе'], ['1', '7', '5', '1', 0, 0, 0, '8'], [['content'], 0, 0, 0, 0], [['pause'], 0]], [['Слово= ', 'с'], ['9', 0, 0, 0, 0, '100', 0, 0], [['content'], '2', 0, 0, 0], [['pause'], 0]], [['Слово= ', 'теми,'], ['1', '2', '5', '1', 0, 0, 0, '8'], [['content'], 0, 0, 0, 0], [['pause'], 0]], [['Слово= ', 'с'], ['9', 0, 0, 0, 0, '100', 0, 0], [['content'], 0, 0, 0, 0], [['pause'], 0]], [['Слово= ', 'кем'], ['1', '6', '1', '1', 0, '2', 0, '8'], [['content'], 0, 0, 0, 0], [['pause'], 0]], [['Слово= ', 'живешь'], ['6', '62', 0, '2', 0, 0, 0, '8'], [['content'], '2', 0, 0, 0], [['pause'], 0]], [['Слово= ', 'постоянно,'], ['10', 0, 0, '3', 0, 0, 0, '8'], [['content'], 0, 0, 0, 0], [['pause'], 0]], [['Слово= ', 'надо'], ['9', 0, 0, '1', 0, '100', 0, '8'], [['content'], 0, 0, 0, 0], [['pause'], 0]], [['Слово= ', 'вести'], ['6', '60', 0, '2', 0, '10', 0, '8'], [['content'], 0, 0, 0, 0], [['pause'], 0]], [['Слово= ', 'себя'], ['1', '2', 0, 0, 0, '2', 0, '8'], [['content'], 0, 0, 0, 0], [['pause'], 0]], [['Слово= ', 'с'], ['9', 0, 0, 0, 0, '100', 0, 0], [['content'], 0, 0, 0, 0], [['pause'], 0]], [['Слово= ', 'ними'], ['12', '13', '8', 0, 0, '2', 0, '8'], [['content'], '2', 0, 0, 0], [['pause'], 0]], [['Слово= ', 'так,'], ['10', 0, 0, 0, 0, 0, 0, '8'], [['content'], 0, 0, 0, 0], [['pause'], 0]], [['Слово= ', 'будто'], ['9', 0, 0, 0, 0, '200', 0, '8'], [['content'], 0, 0, 0, 0], [['pause'], 0]], [['Слово= ', 'вы'], ['12', '9', '8', 0, 0, '2', 0, '8'], [['content'], 0, 0, 0, 0], [['pause'], 0]], [['Слово= ', 'видитесь'], ['6', '65', 0, '1', 0, 0, 0, '8'], [['content'], 0, 0, 0, 0], [['pause'], 0]], [['Слово= ', 'всего'], ['10', 0, 0, '2', 0, 0, 0, '8'], [['content'], 0, 0, 0, 0], [['pause'], 0]], [['Слово= ', 'раз'], ['10', 0, 0, '1', 0, 0, 0, '8'], [['content'], 0, 0, 0, 0], [['pause'], 0]], [['Слово= ', 'в'], ['9', 0, 0, 0, 0, '100', 0, 0], [['content'], 0, 0, 0, 0], [['pause'], 0]], [['Слово= ', 'три'], ['0', '5', 0, '1', 0, 0, 0, '8'], [['content'], '1', 0, 0, 0], [['pause'], 0]], [['Слово= ', 'месяца.'], ['1', '2', '4', '1', 0, 0, 0, '8'], [['content'], 0, 0, 0, 0], [['pause'], 0]], [['Слово= ', 'Нет'], ['9', 0, 0, '1', 0, '400', 0, '16'], [['content'], 0, 0, 0, 0], [['pause'], 0]], [['Слово= ', 'ничего'], ['1', '2', '6', '3', 0, '2', 0, '8'], [['content'], 0, 0, 0, 0], [['pause'], 0]], [['Слово= ', 'более'], ['5', '50', 0, '1', 0, 0, 0, '8'], [['content'], '2', 0, 0, 0], [['pause'], 0]], [['Слово= ', 'странного,'], ['3', '34', 0, '1', 0, 0, 0, '8'], [['content'], 0, 0, 0, 0], [['pause'], 0]], [['Слово= ', 'чем'], ['9', 0, 0, '1', 0, '200', 0, '8'], [['content'], '1', 0, 0, 0], [['pause'], 0]], [['Слово= ', 'футбол.'], ['1', '1', '4', '2', 0, 0, 0, '8'], [['content'], 0, 0, 0, 0], [['pause'], 0]], [['Слово= ', 'Этим'], ['3', '25', 0, '1', 0, '3', 0, '24'], [['content'], 0, 0, 0, 0], [['pause'], 0]], [['Слово= ', 'видом'], ['1', '6', '4', '1', 0, 0, 0, '8'], [['content'], 0, 0, 0, 0], [['pause'], 0]], [['Слово= ', 'спорта'], ['1', '2', '4', '1', 0, 0, 0, '8'], [['content'], 0, 0, 0, 0], [['pause'], 0]], [['Слово= ', 'занимаются'], ['6', '66', 0, '3', 0, 0, 0, '8'], [['content'], 0, 0, 0, 0], [['pause'], 0]], [['Слово= ', 'двадцать'], ['0', '1', 0, '1', 0, 0, 0, '8'], [['content'], 0, 0, 0, 0], [['pause'], 0]], [['Слово= ', 'два'], ['0', '1', '1', '1', 0, 0, 0, '8'], [['content'], '2', 0, 0, 0], [['pause'], 0]], [['Слово= ', 'человека,'], ['1', '2', '1', '3', 0, 0, 0, '8'], [['content'], 0, 0, 0, 0], [['pause'], 0]], [['Слово= ', 'которым'], ['3', '25', 0, '2', 0, '3', 0, '8'], [['content'], 0, 0, 0, 0], [['pause'], 0]], [['Слово= ', 'вовсе'], ['10', 0, 0, 0, 0, 0, 0, '8'], [['content'], 0, 0, 0, 0], [['pause'], 0]], [['Слово= ', 'не'], ['9', 0, 0, 0, 0, '400', 0, '8'], [['content'], 0, 0, 0, 0], [['pause'], 0]], [['Слово= ', 'нужны'], ['4', '49', 0, '2', 0, 0, 0, '8'], [['content'], 0, 0, 0, 0], [['pause'], 0]], [['Слово= ', 'физические'], ['3', '39', 0, '2', 0, 0, 0, '8'], [['content'], '2', 0, 0, 0], [['pause'], 0]], [['Слово= ', 'упражнения,'], ['2', '9', '6', '3', 0, 0, 0, '8'], [['content'], 0, 0, 0, 0], [['pause'], 0]], [['Слово= ', 'перед'], ['9', 0, 0, 0, 0, '100', 0, '8'], [['content'], 0, 0, 0, 0], [['pause'], 0]], [['Слово= ', 'десятками'], ['2', '13', '4', '2', 0, 0, 0, '8'], [['content'], 0, 0, 0, 0], [['pause'], 0]], [['Слово= ', 'тысяч'], ['0', '2', 0, '1', 0, 0, 0, '8'], [['content'], '2', 0, 0, 0], [['pause'], 0]], [['Слово= ', 'людей,'], ['2', '10', '1', '2', 0, 0, 0, '8'], [['content'], 0, 0, 0, 0], [['pause'], 0]], [['Слово= ', 'которым'], ['3', '25', 0, '2', 0, '3', 0, '8'], [['content'], 0, 0, 0, 0], [['pause'], 0]], [['Слово= ', 'они'], ['12', '9', '8', 0, 0, '2', 0, '8'], [['content'], 0, 0, 0, 0], [['pause'], 0]], [['Слово= ', 'просто'], ['10', 0, 0, '1', 0, 0, 0, '8'], [['content'], '1', 0, 0, 0], [['pause'], 0]], [['Слово= ', 'необходимы.'], ['4', '49', 0, '4', 0, 0, 0, '8'], [['content'], 0, 0, 0, 0], [['pause'], 0]], [['Слово= ', 'Мой'], ['3', '20', 0, '1', 0, '3', 0, '16'], [['content'], '13', 0, 0, 0], [['pause'], 0]], [['Слово= ', 'робот-пылесос'], ['1', '1', '1', '1', 0, 0, 0, '8'], [['content'], 0, 0, 0, 0], [['pause'], 0]], [['Слово= ', 'только'], ['9', 0, 0, 0, 0, '200', 0, '8'], [['content'], 0, 0, 0, 0], [['pause'], 0]], [['Слово= ', 'что'], ['9', 0, 0, '1', 0, '200', 0, '8'], [['content'], 0, 0, 0, 0], [['pause'], 0]], [['Слово= ', 'опередил'], ['6', '67', 0, '4', '100', '10', 0, '8'], [['content'], 0, 0, 0, 0], [['pause'], 0]], [['Слово= ', 'меня'], ['11', '2', '8', 0, 0, '2', 0, '8'], [['content'], 0, 0, 0, 0], [['pause'], 0]], [['Слово= ', 'и'], ['9', 0, 0, 0, 0, '200', 0, '8'], [['content'], 0, 0, 0, 0], [['pause'], 0]], [['Слово= ', 'сожрал'], ['6', '67', 0, '2', '100', '10', 0, '8'], [['content'], '2', 0, 0, 0], [['pause'], 0]], [['Слово= ', 'попкорнину,'], ['1', '5', '2', '2', 0, 0, 0, '8'], [['content'], 0, 0, 0, 0], [['pause'], 0]], [['Слово= ', 'которую'], ['3', '30', 0, '2', 0, '3', 0, '8'], [['content'], 0, 0, 0, 0], [['pause'], 0]], [['Слово= ', 'я'], ['11', '1', '8', 0, 0, '2', 0, '8'], [['content'], 0, 0, 0, 0], [['pause'], 0]], [['Слово= ', 'хотел'], ['6', '67', 0, '2', 0, '10', 0, '8'], [['content'], '1', 0, 0, 0], [['pause'], 0]], [['Слово= ', 'поднять.'], ['6', '60', 0, '2', '100', '10', 0, '8'], [['content'], 0, 0, 0, 0], [['pause'], 0]], [['Слово= ', 'Война'], ['1', '1', '5', '2', 0, 0, 0, '16'], [['content'], 0, 0, 0, 0], [['pause'], 0]], [['Слово= ', 'людей'], ['2', '10', '1', '2', 0, 0, 0, '8'], [['content'], 0, 0, 0, 0], [['pause'], 0]], [['Слово= ', 'и'], ['9', 0, 0, 0, 0, '200', 0, '8'], [['content'], 0, 0, 0, 0], [['pause'], 0]], [['Слово= ', 'машин'], ['2', '10', '5', '2', 0, 0, 0, '8'], [['content'], 0, 0, 0, 0], [['pause'], 0]], [['Слово= ', 'уже'], ['10', 0, 0, '2', 0, 0, 0, '8'], [['content'], '1', 0, 0, 0], [['pause'], 0]], [['Слово= ', 'началась.'], ['6', '68', 0, '3', '100', 0, 0, '8'], [['content'], 0, 0, 0, 0], [['pause'], 0]], [['Слово= ', 'Если'], ['9', 0, 0, 0, 0, '200', 0, '24'], [['content'], 0, 0, 0, 0], [['pause'], 0]], [['Слово= ', 'жена'], ['1', '1', '2', '2', 0, 0, 0, '8'], [['content'], '2', 0, 0, 0], [['pause'], 0]], [['Слово= ', 'жалуется,'], ['6', '63', 0, '1', 0, 0, 0, '8'], [['content'], 0, 0, 0, 0], [['pause'], 0]], [['Слово= ', 'что'], ['9', 0, 0, '1', 0, '200', 0, '8'], [['content'], 0, 0, 0, 0], [['pause'], 0]], [['Слово= ', 'вы'], ['12', '9', '8', 0, 0, '2', 0, '8'], [['content'], 0, 0, 0, 0], [['pause'], 0]], [['Слово= ', 'нигде'], ['10', 0, 0, '2', 0, 0, 0, '8'], [['content'], 0, 0, 0, 0], [['pause'], 0]], [['Слово= ', 'не'], ['9', 0, 0, 0, 0, '400', 0, '8'], [['content'], '2', 0, 0, 0], [['pause'], 0]], [['Слово= ', 'бываете,'], ['6', '65', 0, '2', 0, 0, 0, '8'], [['content'], 0, 0, 0, 0], [['pause'], 0]], [['Слово= ', 'предложите'], ['6', '72', 0, '3', '100', '10', 0, '8'], [['content'], 0, 0, 0, 0], [['pause'], 0]], [['Слово= ', 'ей'], ['11', '4', '1', 0, 0, '2', 0, '8'], [['content'], 0, 0, 0, 0], [['pause'], 0]], [['Слово= ', 'вместе'], ['10', 0, 0, '1', 0, 0, 0, '8'], [['content'], 0, 0, 0, 0], [['pause'], 0]], [['Слово= ', 'сходить'], ['6', '60', 0, '2', 0, 0, 0, '8'], [['content'], 0, 0, 0, 0], [['pause'], 0]], [['Слово= ', 'за'], ['9', 0, 0, 0, 0, '100', 0, '8'], [['content'], '1', 0, 0, 0], [['pause'], 0]], [['Слово= ', 'пивом.'], ['1', '6', '6', '1', 0, '1', 0, '8'], [['content'], 0, 0, 0, 0], [['pause'], 0]], [['Слово= ', 'Когда-то'], ['10', 0, 0, '2', 0, 0, 0, '16'], [['content'], 0, 0, 0, 0], [['pause'], 0]], [['Слово= ', 'эти'], ['3', '39', 0, '1', 0, '3', 0, '8'], [['content'], 0, 0, 0, 0], [['pause'], 0]], [['Слово= ', 'атомы'], ['2', '9', '4', '1', 0, 0, 0, '8'], [['content'], 0, 0, 0, 0], [['pause'], 0]], [['Слово= ', 'возникли'], ['6', '70', 0, '2', '100', 0, 0, '8'], [['content'], 0, 0, 0, 0], [['pause'], 0]], [['Слово= ', 'в'], ['9', 0, 0, 0, 0, '100', 0, 0], [['content'], 0, 0, 0, 0], [['pause'], 0]], [['Слово= ', 'самом'], ['3', '26', 0, '1', 0, '3', 0, '8'], [['content'], 0, 0, 0, 0], [['pause'], 0]], [['Слово= ', 'центре'], ['1', '7', '4', '1', 0, 0, 0, '8'], [['content'], '2', 0, 0, 0], [['pause'], 0]], [['Слово= ', 'звезды,'], ['1', '2', '2', '2', 0, 0, 0, '8'], [['content'], 0, 0, 0, 0], [['pause'], 0]], [['Слово= ', 'они'], ['12', '9', '8', 0, 0, '2', 0, '8'], [['content'], 0, 0, 0, 0], [['pause'], 0]], [['Слово= ', 'излучали'], ['6', '70', 0, '3', 0, '10', 0, '8'], [['content'], 0, 0, 0, 0], [['pause'], 0]], [['Слово= ', 'энергию'], ['1', '5', '5', '2', 0, 0, 0, '8'], [['content'], 0, 0, 0, 0], [['pause'], 0]], [['Слово= ', 'и'], ['9', 0, 0, 0, 0, '200', 0, '8'], [['content'], 0, 0, 0, 0], [['pause'], 0]], [['Слово= ', 'согревали'], ['6', '70', 0, '3', 0, '10', 0, '8'], [['content'], 0, 0, 0, 0], [['pause'], 0]], [['Слово= ', 'кусок'], ['1', '5', '4', '2', 0, 0, 0, '8'], [['content'], '2', 0, 0, 0], [['pause'], 0]], [['Слово= ', 'вселенной,'], ['1', '2', '5', '2', 0, 0, 0, '8'], [['content'], 0, 0, 0, 0], [['pause'], 0]], [['Слово= ', 'а'], ['9', 0, 0, 0, 0, '200', 0, '8'], [['content'], 0, 0, 0, 0], [['pause'], 0]], [['Слово= ', 'потом'], ['10', 0, 0, '2', 0, 0, 0, '8'], [['content'], 0, 0, 0, 0], [['pause'], 0]], [['Слово= ', 'сложились'], ['6', '70', 0, '2', '100', 0, 0, '8'], [['content'], 0, 0, 0, 0], [['pause'], 0]], [['Слово= ', 'в'], ['9', 0, 0, 0, 0, '100', 0, 0], [['content'], 0, 0, 0, 0], [['pause'], 0]], [['Слово= ', 'алкоголика'], ['1', '5', '1', '3', 0, 0, 0, '8'], [['content'], 0, 0, 0, 0], [['pause'], 0]], [['Слово= ', 'под'], ['9', 0, 0, 0, 0, '100', 0, '8'], [['content'], 0, 0, 0, 0], [['pause'], 0]], [['Слово= ', 'моим'], ['3', '37', 0, '2', 0, '3', 0, '8'], [['content'], '11', 0, 0, 0], [['pause'], 0]], [['Слово= ', 'окном...'], ['1', '6', '6', '2', 0, 0, 0, '8'], [['content'], 0, 0, 0, 0], [['pause'], 0]], [['Слово= ', 'Смешала'], ['6', '68', 0, '2', '100', '10', 0, '16'], [['content'], 0, 0, 0, 0], [['pause'], 0]], [['Слово= ', 'злая'], ['3', '27', 0, '1', 0, 0, 0, '8'], [['content'], 0, 0, 0, 0], [['pause'], 0]], [['Слово= ', 'мачеха'], ['1', '1', '2', '1', 0, 0, 0, '8'], [['content'], 0, 0, 0, 0], [['pause'], 0]], [['Слово= ', 'водку'], ['1', '5', '5', '1', 0, 0, 0, '8'], [['content'], 0, 0, 0, 0], [['pause'], 0]], [['Слово= ', 'с'], ['9', 0, 0, 0, 0, '100', 0, 0], [['content'], '2', 0, 0, 0], [['pause'], 0]], [['Слово= ', 'пивом,'], ['1', '6', '6', '1', 0, '1', 0, '8'], [['content'], 0, 0, 0, 0], [['pause'], 0]], [['Слово= ', 'а'], ['9', 0, 0, 0, 0, '200', 0, '8'], [['content'], 0, 0, 0, 0], [['pause'], 0]], [['Слово= ', 'потом'], ['10', 0, 0, '2', 0, 0, 0, '8'], [['content'], 0, 0, 0, 0], [['pause'], 0]], [['Слово= ', 'велела'], ['6', '68', 0, '2', '100', 0, 0, '8'], [['content'], 0, 0, 0, 0], [['pause'], 0]], [['Слово= ', 'Золушке'], ['1', '4', '2', '1', 0, 0, 0, '16'], [['content'], 0, 0, 0, 0], [['pause'], 0]], [['Слово= ', 'разобрать'], ['6', '60', 0, '3', '100', '10', 0, '8'], [['content'], 0, 0, 0, 0], [['pause'], 0]], [['Слово= ', 'это'], ['9', 0, 0, '1', 0, '400', 0, '8'], [['content'], 0, 0, 0, 0], [['pause'], 0]], [['Слово= ', 'по'], ['9', 0, 0, 0, 0, '100', 0, '8'], [['content'], 0, 0, 0, 0], [['pause'], 0]], [['Слово= ', 'разным'], ['3', '41', 0, '1', 0, 0, 0, '8'], [['content'], '11', 0, 0, 0], [['pause'], 0]], [['Слово= ', 'стаканам...'], ['2', '11', '4', '2', 0, 0, 0, '8'], [['content'], 0, 0, 0, 0], [['pause'], 0]], [['Слово= ', 'Во'], ['9', 0, 0, 0, 0, '100', 0, '16'], [['content'], 0, 0, 0, 0], [['pause'], 0]], [['Слово= ', 'всех'], ['3', '45', 0, '1', 0, '3', 0, '8'], [['content'], 0, 0, 0, 0], [['pause'], 0]], [['Слово= ', 'частях'], ['2', '14', '5', '2', 0, 0, 0, '8'], [['content'], 0, 0, 0, 0], [['pause'], 0]], [['Слово= ', 'земного'], ['3', '21', 0, '2', 0, 0, 0, '8'], [['content'], 0, 0, 0, 0], [['pause'], 0]], [['Слово= ', 'шара'], ['1', '2', '4', '1', 0, 0, 0, '8'], [['content'], 0, 0, 0, 0], [['pause'], 0]], [['Слово= ', 'имеются'], ['6', '66', 0, '2', 0, 0, 0, '8'], [['content'], '2', 0, 0, 0], [['pause'], 0]], [['Слово= ', 'свои,'], ['2', '9', 0, '2', 0, '2', 0, '8'], [['content'], 0, 0, 0, 0], [['pause'], 0]], [['Слово= ', 'даже'], ['9', 0, 0, 0, 0, '200', 0, '8'], [['content'], 0, 0, 0, 0], [['pause'], 0]], [['Слово= ', 'иногда'], ['10', 0, 0, '3', 0, 0, 0, '8'], [['content'], 0, 0, 0, 0], [['pause'], 0]], [['Слово= ', 'очень'], ['10', 0, 0, '1', 0, 0, 0, '8'], [['content'], '2', 0, 0, 0], [['pause'], 0]], [['Слово= ', 'любопытные,'], ['2', '9', '1', '3', 0, 0, 0, '8'], [['content'], 0, 0, 0, 0], [['pause'], 0]], [['Слово= ', 'другие'], ['3', '39', 0, '2', 0, '3', 0, '8'], [['content'], '1', 0, 0, 0], [['pause'], 0]], [['Слово= ', 'части.'], ['2', '9', '5', '1', 0, 0, 0, '8'], [['content'], 0, 0, 0, 0], [['pause'], 0]], [['Слово= ', 'Встреча'], ['1', '1', '5', '1', 0, 0, 0, '16'], [['content'], 0, 0, 0, 0], [['pause'], 0]], [['Слово= ', 'двух'], ['0', '2', '1', '1', 0, 0, 0, '8'], [['content'], '2', 0, 0, 0], [['pause'], 0]], [['Слово= ', 'людей,'], ['2', '10', '1', '2', 0, 0, 0, '8'], [['content'], 0, 0, 0, 0], [['pause'], 0]], [['Слово= ', 'как'], ['10', 0, 0, '1', 0, 0, 0, '8'], [['content'], 0, 0, 0, 0], [['pause'], 0]], [['Слово= ', 'встреча'], ['1', '1', '5', '1', 0, 0, 0, '8'], [['content'], 0, 0, 0, 0], [['pause'], 0]], [['Слово= ', 'двух'], ['0', '2', '1', '1', 0, 0, 0, '8'], [['content'], 0, 0, 0, 0], [['pause'], 0]], [['Слово= ', 'химических'], ['3', '40', 0, '2', 0, 0, 0, '8'], [['content'], '3', 0, 0, 0], [['pause'], 0]], [['Слово= ', 'элементов:'], ['2', '10', '4', '3', 0, 0, 0, '8'], [['content'], 0, 0, 0, 0], [['pause'], 0]], [['Слово= ', 'реакция'], ['1', '1', '5', '2', 0, 0, 0, '8'], [['content'], 0, 0, 0, 0], [['pause'], 0]], [['Слово= ', 'может'], ['6', '63', 0, '1', 0, 0, 0, '8'], [['content'], 0, 0, 0, 0], [['pause'], 0]], [['Слово= ', 'и'], ['9', 0, 0, 0, 0, '200', 0, '8'], [['content'], 0, 0, 0, 0], [['pause'], 0]], [['Слово= ', 'не'], ['9', 0, 0, 0, 0, '400', 0, '8'], [['content'], '2', 0, 0, 0], [['pause'], 0]], [['Слово= ', 'произойти,'], ['6', '60', 0, '4', '100', 0, 0, '8'], [['content'], 0, 0, 0, 0], [['pause'], 0]], [['Слово= ', 'но'], ['9', 0, 0, 0, 0, '200', 0, '8'], [['content'], 0, 0, 0, 0], [['pause'], 0]], [['Слово= ', 'если'], ['9', 0, 0, 0, 0, '200', 0, '8'], [['content'], '12', 0, 0, 0], [['pause'], 0]], [['Слово= ', 'происходит -'], ['6', '63', 0, '3', 0, 0, 0, '8'], [['content'], 0, 0, 0, 0], [['pause'], 0]], [['Слово= ', 'изменяются'], ['6', '66', 0, '3', 0, 0, 0, '8'], [['content'], '1', 0, 0, 0], [['pause'], 0]], [['Слово= ', 'оба.'], ['0', '5', '1', '1', 0, 0, 0, '8'], [['content'], 0, 0, 0, 0], [['pause'], 0]], [['Слово= ', 'Вы'], ['12', '9', '8', 0, 0, '2', 0, '16'], [['content'], '2', 0, 0, 0], [['pause'], 0]], [['Слово= ', 'заметили,'], ['6', '70', 0, '2', '100', '10', 0, '8'], [['content'], 0, 0, 0, 0], [['pause'], 0]], [['Слово= ', 'что'], ['9', 0, 0, '1', 0, '200', 0, '8'], [['content'], 0, 0, 0, 0], [['pause'], 0]], [['Слово= ', 'программисты'], ['2', '9', '1', '3', 0, 0, 0, '8'], [['content'], 0, 0, 0, 0], [['pause'], 0]], [['Слово= ', 'в'], ['9', 0, 0, 0, 0, '100', 0, 0], [['content'], 0, 0, 0, 0], [['pause'], 0]], [['Слово= ', 'большинстве'], ['1', '7', '6', '3', 0, '1', 0, '8'], [['content'], '12', 0, 0, 0], [['pause'], 0]], [['Слово= ', 'свооем -'], ['3', '38', 0, '2', 0, '3', 0, '8'], [['content'], 0, 0, 0, 0], [['pause'], 0]], [['Слово= ', 'спокойные'], ['3', '39', 0, '2', 0, 0, 0, '8'], [['content'], '2', 0, 0, 0], [['pause'], 0]], [['Слово= ', 'люди,'], ['2', '9', '1', '1', 0, 0, 0, '8'], [['content'], '2', 0, 0, 0], [['pause'], 0]], [['Слово= ', 'наверное,'], ['9', 0, 0, '2', 0, '300', 0, '8'], [['content'], 0, 0, 0, 0], [['pause'], 0]], [['Слово= ', 'Windows'], ['1', 0, 0, '1', 0, 0, 0, '16'], [['content'], 0, 0, 0, 0], [['pause'], 0]], [['Слово= ', 'воспитывает'], ['6', '63', 0, '2', 0, '10', 0, '8'], [['content'], 0, 0, 0, 0], [['pause'], 0]], [['Слово= ', 'в'], ['9', 0, 0, 0, 0, '100', 0, 0], [['content'], 0, 0, 0, 0], [['pause'], 0]], [['Слово= ', 'человеке'], ['1', '7', '1', '3', 0, 0, 0, '8'], [['content'], '1', 0, 0, 0], [['pause'], 0]], [['Слово= ', 'терпение.'], ['1', '5', '6', '2', 0, '1', 0, '8'], [['content'], 0, 0, 0, 0], [['pause'], 0]], [['Слово= ', 'Если'], ['9', 0, 0, 0, 0, '200', 0, '24'], [['content'], 0, 0, 0, 0], [['pause'], 0]], [['Слово= ', 'вы'], ['12', '9', '8', 0, 0, '2', 0, '8'], [['content'], 0, 0, 0, 0], [['pause'], 0]], [['Слово= ', 'хотите'], ['6', '65', 0, '2', 0, '10', 0, '8'], [['content'], 0, 0, 0, 0], [['pause'], 0]], [['Слово= ', 'постирать'], ['6', '60', 0, '3', '100', '10', 0, '8'], [['content'], 0, 0, 0, 0], [['pause'], 0]], [['Слово= ', 'в'], ['9', 0, 0, 0, 0, '100', 0, 0], [['content'], 0, 0, 0, 0], [['pause'], 0]], [['Слово= ', 'стиральной'], ['3', '32', 0, '2', 0, 0, 0, '8'], [['content'], 0, 0, 0, 0], [['pause'], 0]], [['Слово= ', 'машине'], ['1', '7', '5', '2', 0, 0, 0, '8'], [['content'], '2', 0, 0, 0], [['pause'], 0]], [['Слово= ', 'кота,'], ['1', '5', '1', '2', 0, 0, 0, '8'], [['content'], 0, 0, 0, 0], [['pause'], 0]], [['Слово= ', 'то'], ['9', 0, 0, '1', 0, '200', 0, '8'], [['content'], 0, 0, 0, 0], [['pause'], 0]], [['Слово= ', 'ставьте'], ['6', '72', 0, '1', 0, '10', 0, '8'], [['content'], 0, 0, 0, 0], [['pause'], 0]], [['Слово= ', 'хотя'], ['6', '73', 0, 0, 0, '10', 0, '8'], [['content'], 0, 0, 0, 0], [['pause'], 0]], [['Слово= ', 'бы'], ['9', 0, 0, 0, 0, '400', 0, '8'], [['content'], 0, 0, 0, 0], [['pause'], 0]], [['Слово= ', 'режим'], ['1', '5', '4', '2', 0, 0, 0, '8'], [['content'], '2', 0, '1', '1'], [['pause'], 0]], [['Слово= ', '\"Шерсть\",'], ['1', '1', '5', '1', 0, 0, 0, '16'], [['content'], 0, 0, 0, 0], [['pause'], 0]], [['Слово= ', '40'], ['0', '1', 0, '1', 0, 0, 0, '9'], [['content'], 0, 0, 0, 0], [['pause'], 0]], [['Слово= ', 'градусов'], ['2', '10', '4', '1', 0, 0, 0, '8'], [['content'], 0, 0, 0, 0], [['pause'], 0]], [['Слово= ', 'без'], ['9', 0, 0, 0, 0, '100', 0, '8'], [['content'], '1', 0, 0, 0], [['pause'], 0]], [['Слово= ', 'отжима.'], ['1', '2', '4', '2', 0, 0, 0, '8'], [['content'], 0, 0, 0, 0], [['pause'], 0]], [['Слово= ', 'Независимо'], ['10', 0, 0, '3', 0, 0, 0, '16'], [['content'], 0, 0, 0, 0], [['pause'], 0]], [['Слово= ', 'от'], ['9', 0, 0, 0, 0, '100', 0, '8'], [['content'], '2', 0, 0, 0], [['pause'], 0]], [['Слово= ', 'того,'], ['3', '21', 0, '2', 0, '3', 0, '8'], [['content'], 0, 0, 0, 0], [['pause'], 0]], [['Слово= ', 'пуст'], ['4', '46', 0, '1', 0, 0, 0, '8'], [['content'], 0, 0, 0, 0], [['pause'], 0]], [['Слово= ', 'твой'], ['3', '20', 0, '1', 0, '3', 0, '8'], [['content'], 0, 0, 0, 0], [['pause'], 0]], [['Слово= ', 'стакан'], ['1', '1', '4', '2', 0, 0, 0, '8'], [['content'], 0, 0, 0, 0], [['pause'], 0]], [['Слово= ', 'наполовину'], ['10', 0, 0, '4', 0, 0, 0, '8'], [['content'], 0, 0, 0, 0], [['pause'], 0]], [['Слово= ', 'или'], ['9', 0, 0, 0, 0, '200', 0, '8'], [['content'], 0, 0, 0, 0], [['pause'], 0]], [['Слово= ', 'наполовину'], ['10', 0, 0, '4', 0, 0, 0, '8'], [['content'], '2', 0, 0, 0], [['pause'], 0]], [['Слово= ', 'полон,'], ['4', '46', 0, '1', 0, 0, 0, '8'], [['content'], 0, 0, 0, 0], [['pause'], 0]], [['Слово= ', 'пить'], ['6', '60', 0, '1', 0, '10', 0, '8'], [['content'], 0, 0, 0, 0], [['pause'], 0]], [['Слово= ', 'надо'], ['9', 0, 0, '1', 0, '100', 0, '8'], [['content'], '1', 0, 0, 0], [['pause'], 0]], [['Слово= ', 'меньше.'], ['5', '50', 0, '1', 0, 0, 0, '8'], [['content'], 0, 0, 0, 0], [['pause'], 0]], [['Слово= ', 'Молдавские'], ['3', '39', 0, '2', 0, 0, 0, '16'], [['content'], '2', 0, 0, 0], [['pause'], 0]], [['Слово= ', 'ученые,'], ['2', '9', '1', '2', 0, 0, 0, '8'], [['content'], 0, 0, 0, 0], [['pause'], 0]], [['Слово= ', 'проведя'], ['6', '73', 0, '3', '100', '10', 0, '8'], [['content'], 0, 0, 0, 0], [['pause'], 0]], [['Слово= ', 'серию'], ['1', '5', '5', '1', 0, 0, 0, '8'], [['content'], 0, 0, 0, 0], [['pause'], 0]], [['Слово= ', 'экспериментов'], ['2', '10', '4', '4', 0, 0, 0, '8'], [['content'], 0, 0, 0, 0], [['pause'], 0]], [['Слово= ', 'на'], ['9', 0, 0, 0, 0, '100', 0, '8'], [['content'], 0, 0, 0, 0], [['pause'], 0]], [['Слово= ', 'подопытных'], ['3', '45', 0, '2', 0, 0, 0, '8'], [['content'], '2', 0, 0, 0], [['pause'], 0]], [['Слово= ', 'кроликах,'], ['2', '14', '1', '1', 0, 0, 0, '8'], [['content'], 0, 0, 0, 0], [['pause'], 0]], [['Слово= ', 'пришли'], ['6', '70', 0, '2', '100', 0, 0, '8'], [['content'], 0, 0, 0, 0], [['pause'], 0]], [['Слово= ', 'к'], ['9', 0, 0, 0, 0, '100', 0, 0], [['content'], '2', 0, 0, 0], [['pause'], 0]], [['Слово= ', 'выводу,'], ['1', '4', '4', '1', 0, 0, 0, '8'], [['content'], 0, 0, 0, 0], [['pause'], 0]], [['Слово= ', 'что'], ['9', 0, 0, '1', 0, '200', 0, '8'], [['content'], 0, 0, 0, 0], [['pause'], 0]], [['Слово= ', 'надо'], ['9', 0, 0, '1', 0, '100', 0, '8'], [['content'], 0, 0, 0, 0], [['pause'], 0]], [['Слово= ', 'класть'], ['6', '60', 0, '1', 0, '10', 0, '8'], [['content'], 0, 0, 0, 0], [['pause'], 0]], [['Слово= ', 'больше'], ['5', '50', 0, '1', 0, 0, 0, '8'], [['content'], '1', 0, 0, 0], [['pause'], 0]], [['Слово= ', 'чеснока.'], ['1', '2', '4', '3', 0, 0, 0, '8'], [['content'], 0, 0, 0, 0], [['pause'], 0]], [['Слово= ', 'Ничто'], ['1', '1', '6', '2', 0, '2', 0, '16'], [['content'], 0, 0, 0, 0], [['pause'], 0]], [['Слово= ', 'так'], ['10', 0, 0, 0, 0, 0, 0, '8'], [['content'], 0, 0, 0, 0], [['pause'], 0]], [['Слово= ', 'не'], ['9', 0, 0, 0, 0, '400', 0, '8'], [['content'], 0, 0, 0, 0], [['pause'], 0]], [['Слово= ', 'заставляет'], ['6', '63', 0, '3', 0, '10', 0, '8'], [['content'], 0, 0, 0, 0], [['pause'], 0]], [['Слово= ', 'человека'], ['1', '5', '1', '3', 0, 0, 0, '8'], [['content'], 0, 0, 0, 0], [['pause'], 0]], [['Слово= ', 'выглядеть'], ['6', '60', 0, '1', 0, 0, 0, '8'], [['content'], '2', 0, 0, 0], [['pause'], 0]], [['Слово= ', 'дебилом,'], ['1', '6', '1', '2', 0, 0, 0, '8'], [['content'], 0, 0, 0, 0], [['pause'], 0]], [['Слово= ', 'как'], ['10', 0, 0, '1', 0, 0, 0, '8'], [['content'], 0, 0, 0, 0], [['pause'], 0]], [['Слово= ', 'его'], ['3', 0, 0, 0, 0, '3', 0, '8'], [['content'], 0, 0, 0, 0], [['pause'], 0]], [['Слово= ', 'боязнь'], ['1', '5', '5', '2', 0, 0, 0, '8'], [['content'], 0, 0, 0, 0], [['pause'], 0]], [['Слово= ', 'выглядеть'], ['6', '60', 0, '1', 0, 0, 0, '8'], [['content'], '1', 0, 0, 0], [['pause'], 0]], [['Слово= ', 'дебилом.'], ['1', '6', '1', '2', 0, 0, 0, '8'], [['content'], 0, 0, 0, 0], [['pause'], 0]], [['Слово= ', 'Всякая'], ['3', '27', 0, '1', 0, '3', 0, '16'], [['content'], 0, 0, 0, 0], [['pause'], 0]], [['Слово= ', 'женщина'], ['1', '1', '2', '1', 0, 0, 0, '8'], [['content'], '2', 0, 0, 0], [['pause'], 0]], [['Слово= ', 'знает,'], ['6', '63', 0, '1', 0, '10', 0, '8'], [['content'], 0, 0, 0, 0], [['pause'], 0]], [['Слово= ', 'что'], ['9', 0, 0, '1', 0, '200', 0, '8'], [['content'], 0, 0, 0, 0], [['pause'], 0]], [['Слово= ', 'нет'], ['9', 0, 0, '1', 0, '400', 0, '8'], [['content'], 0, 0, 0, 0], [['pause'], 0]], [['Слово= ', 'ничего'], ['1', '2', '6', '3', 0, '2', 0, '8'], [['content'], 0, 0, 0, 0], [['pause'], 0]], [['Слово= ', 'полезнее'], ['5', '50', 0, '2', 0, 0, 0, '8'], [['content'], 0, 0, 0, 0], [['pause'], 0]], [['Слово= ', 'в'], ['9', 0, 0, 0, 0, '100', 0, 0], [['content'], '2', 0, 0, 0], [['pause'], 0]], [['Слово= ', 'хозяйстве,'], ['1', '7', '6', '2', 0, 0, 0, '8'], [['content'], 0, 0, 0, 0], [['pause'], 0]], [['Слово= ', 'чем'], ['9', 0, 0, '1', 0, '200', 0, '8'], [['content'], '2', 0, 0, 0], [['pause'], 0]], [['Слово= ', 'мужчина,'], ['1', '1', '1', '2', 0, 0, 0, '8'], [['content'], 0, 0, 0, 0], [['pause'], 0]], [['Слово= ', 'чувствующий'], ['7', '20', 0, '1', 0, '10', 0, '8'], [['content'], 0, 0, 0, 0], [['pause'], 0]], [['Слово= ', 'свою'], ['3', '30', 0, '2', 0, '3', 0, '8'], [['content'], '1', 0, 0, 0], [['pause'], 0]], [['Слово= ', 'вину.'], ['1', '5', '5', '2', 0, 0, 0, '8'], [['content'], 0, 0, 0, 0], [['pause'], 0]], [['Слово= ', 'Мужчина'], ['1', '1', '1', '2', 0, 0, 0, '16'], [['content'], 0, 0, 0, 0], [['pause'], 0]], [['Слово= ', 'отличается'], ['6', '63', 0, '3', 0, 0, 0, '8'], [['content'], 0, 0, 0, 0], [['pause'], 0]], [['Слово= ', 'от'], ['9', 0, 0, 0, 0, '100', 0, '8'], [['content'], 0, 0, 0, 0], [['pause'], 0]], [['Слово= ', 'женщины'], ['1', '2', '2', '1', 0, 0, 0, '8'], [['content'], '2', 0, 0, 0], [['pause'], 0]], [['Слово= ', 'тем,'], ['2', '10', '5', '1', 0, 0, 0, '8'], [['content'], 0, 0, 0, 0], [['pause'], 0]], [['Слово= ', 'что'], ['9', 0, 0, '1', 0, '200', 0, '8'], [['content'], 0, 0, 0, 0], [['pause'], 0]], [['Слово= ', 'перед'], ['9', 0, 0, 0, 0, '100', 0, '8'], [['content'], 0, 0, 0, 0], [['pause'], 0]], [['Слово= ', 'совершением'], ['1', '6', '6', '3', 0, 0, 0, '8'], [['content'], 0, 0, 0, 0], [['pause'], 0]], [['Слово= ', 'глупости'], ['1', '2', '5', '1', 0, 0, 0, '8'], [['content'], 0, 0, 0, 0], [['pause'], 0]], [['Слово= ', 'он'], ['11', '1', '1', 0, 0, '2', 0, '8'], [['content'], 0, 0, 0, 0], [['pause'], 0]], [['Слово= ', 'тщательно'], ['4', '48', 0, '1', 0, 0, 0, '8'], [['content'], 0, 0, 0, 0], [['pause'], 0]], [['Слово= ', 'ее'], ['3', 0, 0, 0, 0, '3', 0, '8'], [['content'], '1', 0, 0, 0], [['pause'], 0]], [['Слово= ', 'обдумывает.'], ['6', '63', 0, '2', 0, '10', 0, '8'], [['content'], 0, 0, 0, 0], [['pause'], 0]], [['Слово= ', 'О'], ['9', 0, 0, 0, 0, '100', 0, '24'], [['content'], 0, 0, 0, 0], [['pause'], 0]], [['Слово= ', 'это'], ['3', '36', 0, '1', 0, '3', 0, '8'], [['content'], 0, 0, 0, 0], [['pause'], 0]], [['Слово= ', 'неловкое'], ['3', '33', 0, '2', 0, 0, 0, '8'], [['content'], '2', 0, 0, 0], [['pause'], 0]], [['Слово= ', 'чувство,'], ['1', '5', '6', '1', 0, 0, 0, '8'], [['content'], 0, 0, 0, 0], [['pause'], 0]], [['Слово= ', 'когда'], ['10', 0, 0, '2', 0, 0, 0, '8'], [['content'], '2', 0, 0, 0], [['pause'], 0]], [['Слово= ', 'понимаешь,'], ['6', '62', 0, '3', 0, '10', 0, '8'], [['content'], 0, 0, 0, 0], [['pause'], 0]], [['Слово= ', 'что'], ['9', 0, 0, '1', 0, '200', 0, '8'], [['content'], 0, 0, 0, 0], [['pause'], 0]], [['Слово= ', 'полдороги'], ['1', '1', '6', '3', 0, 0, 0, '10'], [['content'], 0, 0, 0, 0], [['pause'], 0]], [['Слово= ', 'шел'], ['6', '67', 0, '1', 0, 0, 0, '8'], [['content'], 0, 0, 0, 0], [['pause'], 0]], [['Слово= ', 'в'], ['9', 0, 0, 0, 0, '100', 0, 0], [['content'], '1', 0, 0, 0], [['pause'], 0]], [['Слово= ', 'бахилах.'], ['2', '14', 0, '2', 0, 0, 0, '8'], [['content'], 0, 0, 0, 0], [['pause'], 0]], [['Слово= ', 'Чтобы'], ['9', 0, 0, 0, 0, '200', 0, '16'], [['content'], 0, 0, 0, 0], [['pause'], 0]], [['Слово= ', 'проверить'], ['6', '60', 0, '2', '100', '10', 0, '8'], [['content'], 0, 0, 0, 0], [['pause'], 0]], [['Слово= ', 'курю'], ['6', '61', 0, '2', 0, '10', 0, '8'], [['content'], 0, 0, 0, 0], [['pause'], 0]], [['Слово= ', 'я'], ['11', '1', '8', 0, 0, '2', 0, '8'], [['content'], 0, 0, 0, 0], [['pause'], 0]], [['Слово= ', 'или'], ['9', 0, 0, 0, 0, '200', 0, '8'], [['content'], '2', 0, 0, 0], [['pause'], 0]], [['Слово= ', 'нет,'], ['9', 0, 0, '1', 0, '400', 0, '8'], [['content'], 0, 0, 0, 0], [['pause'], 0]], [['Слово= ', 'родители'], ['2', '9', '1', '2', 0, 0, 0, '8'], [['content'], 0, 0, 0, 0], [['pause'], 0]], [['Слово= ', 'перед'], ['9', 0, 0, 0, 0, '100', 0, '8'], [['content'], 0, 0, 0, 0], [['pause'], 0]], [['Слово= ', 'уходом'], ['1', '6', '4', '2', 0, 0, 0, '8'], [['content'], 0, 0, 0, 0], [['pause'], 0]], [['Слово= ', 'оставляли'], ['6', '70', 0, '3', 0, '10', 0, '8'], [['content'], 0, 0, 0, 0], [['pause'], 0]], [['Слово= ', 'газ'], ['1', '5', '4', '1', 0, 0, 0, '8'], [['content'], '1', 0, 0, 0], [['pause'], 0]], [['Слово= ', 'включенным.'], ['7', '25', 0, '2', '100', '20', 0, '8'], [['content'], 0, 0, 0, 0], [['pause'], 0]], [['Слово= ', 'Завтра -'], ['10', 0, 0, '1', 0, 0, 0, '16'], [['content'], 0, 0, 0, 0], [['pause'], 0]], [['Слово= ', 'это'], ['3', '33', 0, '1', 0, '3', 0, '8'], [['content'], 0, 0, 0, 0], [['pause'], 0]], [['Слово= ', 'мистическое'], ['3', '33', 0, '2', 0, 0, 0, '8'], [['content'], '2', 0, 0, 0], [['pause'], 0]], [['Слово= ', 'место,'], ['1', '1', '6', '1', 0, 0, 0, '8'], [['content'], 0, 0, 0, 0], [['pause'], 0]], [['Слово= ', 'где'], ['10', 0, 0, 0, 0, 0, 0, '8'], [['content'], 0, 0, 0, 0], [['pause'], 0]], [['Слово= ', 'хранится'], ['6', '63', 0, '2', 0, 0, 0, '8'], [['content'], 0, 0, 0, 0], [['pause'], 0]], [['Слово= ', 'вся'], ['3', '27', 0, '1', 0, '3', 0, '8'], [['content'], 0, 0, 0, 0], [['pause'], 0]], [['Слово= ', 'человеческая'], ['3', '27', 0, '3', 0, 0, 0, '8'], [['content'], '2', 0, 0, 0], [['pause'], 0]], [['Слово= ', 'продуктивность,'], ['1', '1', '5', '3', 0, '1', 0, '8'], [['content'], 0, 0, 0, 0], [['pause'], 0]], [['Слово= ', 'мотивация'], ['1', '1', '5', '3', 0, 0, 0, '8'], [['content'], 0, 0, 0, 0], [['pause'], 0]], [['Слово= ', 'и'], ['9', 0, 0, 0, 0, '200', 0, '8'], [['content'], '1', 0, 0, 0], [['pause'], 0]], [['Слово= ', 'достижения.'], ['2', '9', '6', '3', 0, 0, 0, '8'], [['content'], 0, 0, 0, 0], [['pause'], 0]], [['Слово= ', 'Когда'], ['10', 0, 0, '2', 0, 0, 0, '16'], [['content'], '2', 0, 0, 0], [['pause'], 0]], [['Слово= ', 'историк,'], ['1', '1', '1', '2', 0, 0, 0, '8'], [['content'], 0, 0, 0, 0], [['pause'], 0]], [['Слово= ', 'синоптик'], ['1', '1', '1', '2', 0, 0, 0, '8'], [['content'], 0, 0, 0, 0], [['pause'], 0]], [['Слово= ', 'и'], ['9', 0, 0, 0, 0, '200', 0, '8'], [['content'], 0, 0, 0, 0], [['pause'], 0]], [['Слово= ', 'диетолог'], ['1', '1', '1', '3', 0, 0, 0, '8'], [['content'], '2', 0, 0, 0], [['pause'], 0]], [['Слово= ', 'встречаются,'], ['6', '66', 0, '2', 0, 0, 0, '8'], [['content'], 0, 0, 0, 0], [['pause'], 0]], [['Слово= ', 'первый'], ['3', '20', 0, '1', 0, 0, 0, '8'], [['content'], 0, 0, 0, 0], [['pause'], 0]], [['Слово= ', 'говорит'], ['6', '63', 0, '3', 0, '10', 0, '8'], [['content'], 0, 0, 0, 0], [['pause'], 0]], [['Слово= ', 'о'], ['9', 0, 0, 0, 0, '100', 0, '8'], [['content'], '2', 0, 0, 0], [['pause'], 0]], [['Слово= ', 'том,'], ['1', '5', '4', '1', 0, 0, 0, '8'], [['content'], 0, 0, 0, 0], [['pause'], 0]], [['Слово= ', 'что'], ['9', 0, 0, '1', 0, '200', 0, '8'], [['content'], '2', 0, 0, 0], [['pause'], 0]], [['Слово= ', 'было,'], ['6', '69', 0, '1', 0, 0, 0, '8'], [['content'], '12', 0, 0, 0], [['pause'], 0]], [['Слово= ', 'второй -'], ['3', '20', 0, '2', 0, 0, 0, '8'], [['content'], 0, 0, 0, 0], [['pause'], 0]], [['Слово= ', 'о'], ['9', 0, 0, 0, 0, '100', 0, '8'], [['content'], '2', 0, 0, 0], [['pause'], 0]], [['Слово= ', 'том,'], ['1', '5', '4', '1', 0, 0, 0, '8'], [['content'], 0, 0, 0, 0], [['pause'], 0]], [['Слово= ', 'что'], ['9', 0, 0, '1', 0, '200', 0, '8'], [['content'], '2', 0, 0, 0], [['pause'], 0]], [['Слово= ', 'будет,'], ['6', '63', 0, '1', 0, 0, 0, '8'], [['content'], 0, 0, 0, 0], [['pause'], 0]], [['Слово= ', 'а'], ['9', 0, 0, 0, 0, '200', 0, '8'], [['content'], '12', 0, 0, 0], [['pause'], 0]], [['Слово= ', 'третий -'], ['1', '1', '1', '1', 0, 0, 0, '8'], [['content'], 0, 0, 0, 0], [['pause'], 0]], [['Слово= ', 'о'], ['9', 0, 0, 0, 0, '100', 0, '8'], [['content'], '2', 0, 0, 0], [['pause'], 0]], [['Слово= ', 'том,'], ['1', '5', '4', '1', 0, 0, 0, '8'], [['content'], 0, 0, 0, 0], [['pause'], 0]], [['Слово= ', 'что'], ['9', 0, 0, '1', 0, '200', 0, '8'], [['content'], '1', 0, 0, 0], [['pause'], 0]], [['Слово= ', 'есть.'], ['6', '63', 0, '1', 0, 0, 0, '8'], [['content'], 0, 0, 0, 0], [['pause'], 0]], [['Слово= ', 'Напоминание'], ['1', '1', '6', '4', 0, 0, 0, '16'], [['content'], 0, 0, 0, 0], [['pause'], 0]], [['Слово= ', 'для'], ['9', 0, 0, 0, 0, '100', 0, '8'], [['content'], 0, 0, 0, 0], [['pause'], 0]], [['Слово= ', 'молодых'], ['3', '40', 0, '3', 0, 0, 0, '8'], [['content'], '3', 0, 0, 0], [['pause'], 0]], [['Слово= ', 'леди:'], ['1', 0, '2', '1', 0, 0, 0, '8'], [['content'], 0, 0, 0, 0], [['pause'], 0]], [['Слово= ', 'если'], ['9', 0, 0, 0, 0, '200', 0, '8'], [['content'], 0, 0, 0, 0], [['pause'], 0]], [['Слово= ', 'вы'], ['12', '9', '8', 0, 0, '2', 0, '8'], [['content'], 0, 0, 0, 0], [['pause'], 0]], [['Слово= ', 'носите'], ['6', '65', 0, '1', 0, '10', 0, '8'], [['content'], 0, 0, 0, 0], [['pause'], 0]], [['Слово= ', 'свободную'], ['3', '30', 0, '2', 0, 0, 0, '8'], [['content'], '12', 0, 0, 0], [['pause'], 0]], [['Слово= ', 'одежду -'], ['1', '5', '5', '2', 0, 0, 0, '8'], [['content'], 0, 0, 0, 0], [['pause'], 0]], [['Слово= ', 'остерегайтесь'], ['6', '72', 0, '4', 0, 0, 0, '8'], [['content'], '2', 0, 0, 0], [['pause'], 0]], [['Слово= ', 'механизмов,'], ['2', '10', '4', '3', 0, 0, 0, '8'], [['content'], 0, 0, 0, 0], [['pause'], 0]], [['Слово= ', 'а'], ['9', 0, 0, 0, 0, '200', 0, '8'], [['content'], 0, 0, 0, 0], [['pause'], 0]], [['Слово= ', 'если'], ['9', 0, 0, 0, 0, '200', 0, '8'], [['content'], '12', 0, 0, 0], [['pause'], 0]], [['Слово= ', 'облегающую -'], ['7', '30', 0, '3', 0, '10', 0, '8'], [['content'], '1', 0, 0, 0], [['pause'], 0]], [['Слово= ', 'механиков.'], ['2', '10', '1', '2', 0, 0, 0, '8'], [['content'], 0, 0, 0, 0], [['pause'], 0]], [['Слово= ', 'Сначала'], ['10', 0, 0, '2', 0, 0, 0, '16'], [['content'], 0, 0, 0, 0], [['pause'], 0]], [['Слово= ', 'ты'], ['11', '1', '8', 0, 0, '2', 0, '8'], [['content'], 0, 0, 0, 0], [['pause'], 0]], [['Слово= ', 'впускаешь'], ['6', '62', 0, '2', 0, '10', 0, '8'], [['content'], 0, 0, 0, 0], [['pause'], 0]], [['Слово= ', 'людей'], ['2', '12', '1', '2', 0, 0, 0, '8'], [['content'], 0, 0, 0, 0], [['pause'], 0]], [['Слово= ', 'в'], ['9', 0, 0, 0, 0, '100', 0, 0], [['content'], 0, 0, 0, 0], [['pause'], 0]], [['Слово= ', 'свою'], ['3', '30', 0, '2', 0, '3', 0, '8'], [['content'], '2', 0, 0, 0], [['pause'], 0]], [['Слово= ', 'жизнь,'], ['1', '5', '5', '1', 0, 0, 0, '8'], [['content'], 0, 0, 0, 0], [['pause'], 0]], [['Слово= ', 'а'], ['9', 0, 0, 0, 0, '200', 0, '8'], [['content'], 0, 0, 0, 0], [['pause'], 0]], [['Слово= ', 'потом'], ['10', 0, 0, '2', 0, 0, 0, '8'], [['content'], 0, 0, 0, 0], [['pause'], 0]], [['Слово= ', 'они'], ['12', '9', '8', 0, 0, '2', 0, '8'], [['content'], 0, 0, 0, 0], [['pause'], 0]], [['Слово= ', 'считают'], ['6', '66', 0, '2', 0, '10', 0, '8'], [['content'], 0, 0, 0, 0], [['pause'], 0]], [['Слово= ', 'твои'], ['3', '39', 0, '2', 0, '3', 0, '8'], [['content'], '1', 0, 0, 0], [['pause'], 0]], [['Слово= ', 'калории.'], ['2', '12', '5', '2', 0, 0, 0, '8'], [['content'], 0, 0, 0, 0], [['pause'], 0]], [['Слово= ', 'Муж'], ['1', '1', '1', '1', 0, 0, 0, '16'], [['content'], 0, 0, 0, 0], [['pause'], 0]], [['Слово= ', 'объелся'], ['6', '67', 0, '2', '100', 0, 0, '8'], [['content'], '12', 0, 0, 0], [['pause'], 0]], [['Слово= ', 'груш -'], ['2', '10', '5', '1', 0, 0, 0, '8'], [['content'], 0, 0, 0, 0], [['pause'], 0]], [['Слово= ', 'как'], ['10', 0, 0, '1', 0, 0, 0, '8'], [['content'], 0, 0, 0, 0], [['pause'], 0]], [['Слово= ', 'главный'], ['3', '20', 0, '1', 0, 0, 0, '8'], [['content'], 0, 0, 0, 0], [['pause'], 0]], [['Слово= ', 'итог'], ['1', '1', '4', '2', 0, 0, 0, '8'], [['content'], 0, 0, 0, 0], [['pause'], 0]], [['Слово= ', 'новогоднего'], ['3', '34', 0, '3', 0, 0, 0, '8'], [['content'], 0, 0, 0, 0], [['pause'], 0]], [['Слово= ', 'застолья'], ['1', '2', '6', '2', 0, 0, 0, '8'], [['content'], 0, 0, 0, 0], [['pause'], 0]], [['Слово= ', 'в'], ['9', 0, 0, 0, 0, '100', 0, 0], [['content'], 0, 0, 0, 0], [['pause'], 0]], [['Слово= ', 'семье'], ['1', '7', '5', '2', 0, 0, 0, '8'], [['content'], '1', 0, 0, 0], [['pause'], 0]], [['Слово= ', 'веганов.'], ['2', '10', '1', '1', '10', 0, 0, '8'], [['content'], 0, 0, 0, 0], [['pause'], 0]], [['Слово= ', 'Глинтвейн'], ['1', '5', '4', '2', 0, 0, 0, '16'], [['content'], 0, 0, 0, 0], [['pause'], 0]], [['Слово= ', 'варили'], ['6', '70', 0, '2', 0, '10', 0, '8'], [['content'], 0, 0, 0, 0], [['pause'], 0]], [['Слово= ', 'из'], ['9', 0, 0, 0, 0, '100', 0, '8'], [['content'], '2', 0, 0, 0], [['pause'], 0]], [['Слово= ', 'того,'], ['3', '34', 0, '2', 0, '3', 0, '8'], [['content'], 0, 0, 0, 0], [['pause'], 0]], [['Слово= ', 'что'], ['9', 0, 0, '1', 0, '200', 0, '8'], [['content'], 0, 0, 0, 0], [['pause'], 0]], [['Слово= ', 'нашлось'], ['6', '69', 0, '2', '100', 0, 0, '8'], [['content'], 0, 0, 0, 0], [['pause'], 0]], [['Слово= ', 'в'], ['9', 0, 0, 0, 0, '100', 0, 0], [['content'], '3', 0, 0, 0], [['pause'], 0]], [['Слово= ', 'квартире:'], ['1', '7', '5', '2', 0, 0, 0, '8'], [['content'], 0, 0, 0, 0], [['pause'], 0]], [['Слово= ', 'из'], ['9', 0, 0, 0, 0, '100', 0, '8'], [['content'], '12', 0, 0, 0], [['pause'], 0]], [['Слово= ', 'спиртного -'], ['1', '2', '6', '2', 0, '1', 0, '8'], [['content'], '2', 0, 0, 0], [['pause'], 0]], [['Слово= ', 'самогон,'], ['1', '1', '4', '3', 0, 0, 0, '8'], [['content'], 0, 0, 0, 0], [['pause'], 0]], [['Слово= ', 'из'], ['9', 0, 0, 0, 0, '100', 0, '8'], [['content'], '12', 0, 0, 0], [['pause'], 0]], [['Слово= ', 'специй -'], ['2', '10', '5', '1', 0, 0, 0, '8'], [['content'], 0, 0, 0, 0], [['pause'], 0]], [['Слово= ', 'черный'], ['3', '20', 0, '1', 0, 0, 0, '8'], [['content'], '2', 0, 0, 0], [['pause'], 0]], [['Слово= ', 'перец,'], ['1', '1', '4', '1', 0, 0, 0, '8'], [['content'], 0, 0, 0, 0], [['pause'], 0]], [['Слово= ', 'а'], ['9', 0, 0, 0, 0, '200', 0, '8'], [['content'], 0, 0, 0, 0], [['pause'], 0]], [['Слово= ', 'из'], ['9', 0, 0, 0, 0, '100', 0, '8'], [['content'], '12', 0, 0, 0], [['pause'], 0]], [['Слово= ', 'цитрусовых -'], ['3', '40', 0, '1', 0, 0, 0, '8'], [['content'], 0, 0, 0, 0], [['pause'], 0]], [['Слово= ', 'репчатый'], ['3', '20', 0, '1', 0, 0, 0, '8'], [['content'], '11', 0, 0, 0], [['pause'], 0]], [['Слово= ', 'лук...'], ['1', '1', '4', '1', 0, 0, 0, '8'], [['content'], 0, 0, 0, 0], [['pause'], 0]], [['Слово= ', 'Если'], ['9', 0, 0, 0, 0, '200', 0, '24'], [['content'], 0, 0, 0, 0], [['pause'], 0]], [['Слово= ', 'вам'], ['12', '11', '8', 0, 0, '2', 0, '8'], [['content'], 0, 0, 0, 0], [['pause'], 0]], [['Слово= ', 'уж'], ['10', 0, 0, 0, 0, 0, 0, '8'], [['content'], 0, 0, 0, 0], [['pause'], 0]], [['Слово= ', 'очень'], ['10', 0, 0, '1', 0, 0, 0, '8'], [['content'], 0, 0, 0, 0], [['pause'], 0]], [['Слово= ', 'надоели'], ['6', '70', 0, '3', '100', 0, 0, '8'], [['content'], '2', 0, 0, 0], [['pause'], 0]], [['Слово= ', 'гости,'], ['2', '9', '1', '1', 0, 0, 0, '8'], [['content'], 0, 0, 0, 0], [['pause'], 0]], [['Слово= ', 'то'], ['9', 0, 0, '1', 0, '200', 0, '8'], [['content'], 0, 0, 0, 0], [['pause'], 0]], [['Слово= ', 'взгляд'], ['1', '1', '4', '1', 0, 0, 0, '8'], [['content'], 0, 0, 0, 0], [['pause'], 0]], [['Слово= ', 'на'], ['9', 0, 0, 0, 0, '100', 0, '8'], [['content'], 0, 0, 0, 0], [['pause'], 0]], [['Слово= ', 'часы'], ['2', '12', 0, '2', 0, 0, 0, '8'], [['content'], 0, 0, 0, 0], [['pause'], 0]], [['Слово= ', 'будет'], ['6', '63', 0, '1', 0, 0, 0, '8'], [['content'], '2', 0, 0, 0], [['pause'], 0]], [['Слово= ', 'красноречивее,'], ['5', '50', 0, '4', 0, 0, 0, '8'], [['content'], 0, 0, 0, 0], [['pause'], 0]], [['Слово= ', 'если'], ['9', 0, 0, 0, 0, '200', 0, '8'], [['content'], 0, 0, 0, 0], [['pause'], 0]], [['Слово= ', 'вы'], ['12', '9', '8', 0, 0, '2', 0, '8'], [['content'], 0, 0, 0, 0], [['pause'], 0]], [['Слово= ', 'переведете'], ['6', '65', 0, '4', '100', '10', 0, '8'], [['content'], 0, 0, 0, 0], [['pause'], 0]], [['Слово= ', 'его'], ['11', '2', '1', 0, 0, '2', 0, '8'], [['content'], 0, 0, 0, 0], [['pause'], 0]], [['Слово= ', 'на'], ['9', 0, 0, 0, 0, '100', 0, '8'], [['content'], 0, 0, 0, 0], [['pause'], 0]], [['Слово= ', 'висящую'], ['7', '30', 0, '2', 0, 0, 0, '8'], [['content'], 0, 0, 0, 0], [['pause'], 0]], [['Слово= ', 'на'], ['9', 0, 0, 0, 0, '100', 0, '8'], [['content'], '1', 0, 0, 0], [['pause'], 0]], [['Слово= ', 'двустволку.'], ['1', '5', '5', '2', 0, 0, 0, '8'], [['content'], 0, 0, 0, 0], [['pause'], 0]], [['Слово= ', 'Три'], ['0', '1', 0, '1', 0, 0, 0, '16'], [['content'], 0, 0, 0, 0], [['pause'], 0]], [['Слово= ', 'дня'], ['1', '2', '4', '1', 0, 0, 0, '8'], [['content'], 0, 0, 0, 0], [['pause'], 0]], [['Слово= ', 'не'], ['9', 0, 0, 0, 0, '400', 0, '8'], [['content'], 0, 0, 0, 0], [['pause'], 0]], [['Слово= ', 'могут'], ['6', '66', 0, '1', 0, 0, 0, '8'], [['content'], 0, 0, 0, 0], [['pause'], 0]], [['Слово= ', 'остановить'], ['6', '60', 0, '4', '100', '10', 0, '8'], [['content'], '2', 0, 0, 0], [['pause'], 0]], [['Слово= ', 'девочку,'], ['1', '5', '2', '1', 0, 0, 0, '8'], [['content'], 0, 0, 0, 0], [['pause'], 0]], [['Слово= ', 'которая'], ['3', '27', 0, '2', 0, '3', 0, '8'], [['content'], 0, 0, 0, 0], [['pause'], 0]], [['Слово= ', 'прыгает'], ['6', '63', 0, '1', 0, 0, 0, '8'], [['content'], 0, 0, 0, 0], [['pause'], 0]], [['Слово= ', 'на'], ['9', 0, 0, 0, 0, '100', 0, '8'], [['content'], 0, 0, 0, 0], [['pause'], 0]], [['Слово= ', 'батуте'], ['1', '7', '4', '2', 0, 0, 0, '8'], [['content'], 0, 0, 0, 0], [['pause'], 0]], [['Слово= ', 'в'], ['9', 0, 0, 0, 0, '100', 0, 0], [['content'], 0, 0, 0, 0], [['pause'], 0]], [['Слово= ', 'комнате'], ['1', '7', '5', '1', 0, 0, 0, '8'], [['content'], 0, 0, 0, 0], [['pause'], 0]], [['Слово= ', 'с'], ['9', 0, 0, 0, 0, '100', 0, 0], [['content'], 0, 0, 0, 0], [['pause'], 0]], [['Слово= ', 'натяжным'], ['3', '25', 0, '3', 0, 0, 0, '8'], [['content'], '1', 0, 0, 0], [['pause'], 0]], [['Слово= ', 'потолком.'], ['1', '6', '4', '3', 0, 0, 0, '8'], [['content'], 0, 0, 0, 0], [['pause'], 0]], [['Слово= ', 'Новый'], ['3', '20', 0, '1', 0, 0, 0, '16'], [['content'], '12', 0, 0, 0], [['pause'], 0]], [['Слово= ', 'год -'], ['1', '1', '4', '1', 0, 0, 0, '8'], [['content'], 0, 0, 0, 0], [['pause'], 0]], [['Слово= ', 'это'], ['3', '33', 0, '1', 0, '3', 0, '8'], [['content'], 0, 0, 0, 0], [['pause'], 0]], [['Слово= ', 'то'], ['3', '33', 0, '1', 0, '3', 0, '8'], [['content'], 0, 0, 0, 0], [['pause'], 0]], [['Слово= ', 'обманчивое'], ['3', '33', 0, '2', 0, 0, 0, '8'], [['content'], '2', 0, 0, 0], [['pause'], 0]], [['Слово= ', 'время,'], ['1', '1', '6', '1', 0, 0, 0, '8'], [['content'], 0, 0, 0, 0], [['pause'], 0]], [['Слово= ', 'когда'], ['10', 0, 0, '2', 0, 0, 0, '8'], [['content'], 0, 0, 0, 0], [['pause'], 0]], [['Слово= ', 'ты'], ['11', '1', '8', 0, 0, '2', 0, '8'], [['content'], '2', 0, 0, 0], [['pause'], 0]], [['Слово= ', 'думаешь,'], ['6', '62', 0, '1', 0, 0, 0, '8'], [['content'], 0, 0, 0, 0], [['pause'], 0]], [['Слово= ', 'что'], ['9', 0, 0, '1', 0, '200', 0, '8'], [['content'], 0, 0, 0, 0], [['pause'], 0]], [['Слово= ', 'с'], ['9', 0, 0, 0, 0, '100', 0, 0], [['content'], 0, 0, 0, 0], [['pause'], 0]], [['Слово= ', 'тобой'], ['11', '6', '8', 0, 0, '2', 0, '8'], [['content'], 0, 0, 0, 0], [['pause'], 0]], [['Слово= ', 'по'], ['9', 0, 0, 0, 0, '100', 0, '8'], [['content'], 0, 0, 0, 0], [['pause'], 0]], [['Слово= ', 'телефону'], ['1', '4', '4', '3', 0, 0, 0, '8'], [['content'], 0, 0, 0, 0], [['pause'], 0]], [['Слово= ', 'говорит'], ['6', '63', 0, '3', 0, '10', 0, '8'], [['content'], '2', 0, 0, 0], [['pause'], 0]], [['Слово= ', 'человек,'], ['1', '1', '1', '3', 0, 0, 0, '8'], [['content'], 0, 0, 0, 0], [['pause'], 0]], [['Слово= ', 'а'], ['9', 0, 0, 0, 0, '200', 0, '8'], [['content'], 0, 0, 0, 0], [['pause'], 0]], [['Слово= ', 'на'], ['9', 0, 0, 0, 0, '100', 0, '8'], [['content'], 0, 0, 0, 0], [['pause'], 0]], [['Слово= ', 'самом'], ['3', '38', 0, '1', 0, '3', 0, '8'], [['content'], 0, 0, 0, 0], [['pause'], 0]], [['Слово= ', 'деле'], ['1', '7', '6', '1', 0, 0, 0, '8'], [['content'], 0, 0, 0, 0], [['pause'], 0]], [['Слово= ', 'тебе'], ['11', '4', '8', 0, 0, '2', 0, '8'], [['content'], 0, 0, 0, 0], [['pause'], 0]], [['Слово= ', 'звонит'], ['6', '63', 0, '2', 0, 0, 0, '8'], [['content'], 0, 0, 0, 0], [['pause'], 0]], [['Слово= ', 'залитый'], ['7', '20', 0, '1', '100', '20', 0, '8'], [['content'], 0, 0, 0, 0], [['pause'], 0]], [['Слово= ', 'водкой'], ['1', '6', '5', '1', 0, 0, 0, '8'], [['content'], 0, 0, 0, 0], [['pause'], 0]], [['Слово= ', 'салат'], ['1', '1', '4', '2', 0, 0, 0, '8'], [['content'], '1', 0, 0, 0], [['pause'], 0]], [['Слово= ', 'Оливье.'], ['1', 0, '4', '3', 0, 0, 0, '24'], [['content'], 0, 0, 0, 0], [['pause'], 0]], [['Слово= ', 'Курица'], ['1', '1', '2', '1', 0, 0, 0, '16'], [['content'], 0, 0, 0, 0], [['pause'], 0]], [['Слово= ', 'отчитывает'], ['6', '63', 0, '2', 0, '10', 0, '8'], [['content'], 0, 0, 0, 0], [['pause'], 0]], [['Слово= ', 'цыплят'], ['2', '12', '1', '2', 0, 0, 0, '8'], [['content'], 0, 0, 0, 0], [['pause'], 0]], [['Слово= ', 'за'], ['9', 0, 0, 0, 0, '100', 0, '8'], [['content'], '3', 0, 0, 0], [['pause'], 0]], [['Слово= ', 'проделки:'], ['2', '12', '5', '2', 0, 0, 0, '8'], [['content'], 0, 0, 0, 0], [['pause'], 0]], [['Слово= ', 'знал'], ['6', '67', 0, '1', 0, '10', 0, '8'], [['content'], 0, 0, 0, 0], [['pause'], 0]], [['Слово= ', 'бы'], ['9', 0, 0, 0, 0, '400', 0, '8'], [['content'], 0, 0, 0, 0], [['pause'], 0]], [['Слово= ', 'ваш'], ['3', '20', 0, '1', 0, '3', 0, '8'], [['content'], '2', 0, 0, 0], [['pause'], 0]], [['Слово= ', 'отец,'], ['1', '1', '1', '2', 0, 0, 0, '8'], [['content'], 0, 0, 0, 0], [['pause'], 0]], [['Слово= ', 'он'], ['11', '1', '1', 0, 0, '2', 0, '8'], [['content'], 0, 0, 0, 0], [['pause'], 0]], [['Слово= ', 'бы'], ['9', 0, 0, 0, 0, '400', 0, '8'], [['content'], 0, 0, 0, 0], [['pause'], 0]], [['Слово= ', 'на'], ['9', 0, 0, 0, 0, '100', 0, '8'], [['content'], 0, 0, 0, 0], [['pause'], 0]], [['Слово= ', 'гриле'], ['1', '7', '4', '1', 0, 0, 0, '8'], [['content'], '5', 0, 0, 0], [['pause'], 0]], [['Слово= ', 'перевернулся!'], ['6', '67', 0, '4', '100', 0, 0, '8'], [['content'], 0, 0, 0, 0], [['pause'], 0]], [['Слово= ', 'Женская'], ['3', '27', 0, '1', 0, 0, 0, '16'], [['content'], 0, 0, 0, 0], [['pause'], 0]], [['Слово= ', 'народная'], ['3', '27', 0, '2', 0, 0, 0, '8'], [['content'], '3', 0, 0, 0], [['pause'], 0]], [['Слово= ', 'забава:'], ['1', '1', '5', '2', 0, 0, 0, '8'], [['content'], 0, 0, 0, 0], [['pause'], 0]], [['Слово= ', 'сама'], ['3', '27', 0, '2', 0, '3', 0, '8'], [['content'], '2', 0, 0, 0], [['pause'], 0]], [['Слово= ', 'придумала,'], ['6', '68', 0, '2', '100', '10', 0, '8'], [['content'], 0, 0, 0, 0], [['pause'], 0]], [['Слово= ', 'сама'], ['3', '27', 0, '2', 0, '3', 0, '8'], [['content'], '1', 0, 0, 0], [['pause'], 0]], [['Слово= ', 'обиделась.'], ['6', '68', 0, '2', '100', 0, 0, '8'], [['content'], 0, 0, 0, 0], [['pause'], 0]], [['Слово= ', 'Счастье'], ['1', '1', '6', '1', 0, '1', 0, '16'], [['content'], 0, 0, 0, 0], [['pause'], 0]], [['Слово= ', 'состоит'], ['6', '63', 0, '3', 0, 0, 0, '8'], [['content'], 0, 0, 0, 0], [['pause'], 0]], [['Слово= ', 'из'], ['9', 0, 0, 0, 0, '100', 0, '8'], [['content'], 0, 0, 0, 0], [['pause'], 0]], [['Слово= ', 'четырех'], ['0', '2', 0, '3', 0, 0, 0, '8'], [['content'], '3', 0, 0, 0], [['pause'], 0]], [['Слово= ', 'составляющих:'], ['2', '10', '5', '3', 0, 0, 0, '8'], [['content'], 0, 0, 0, 0], [['pause'], 0]], [['Слово= ', 'живых'], ['3', '40', 0, '2', 0, 0, 0, '8'], [['content'], '2', 0, 0, 0], [['pause'], 0]], [['Слово= ', 'родителей,'], ['2', '10', '1', '2', 0, 0, 0, '8'], [['content'], 0, 0, 0, 0], [['pause'], 0]], [['Слово= ', 'здоровых'], ['3', '40', 0, '2', 0, 0, 0, '8'], [['content'], '2', 0, 0, 0], [['pause'], 0]], [['Слово= ', 'детей,'], ['2', '10', '1', '2', 0, 0, 0, '8'], [['content'], 0, 0, 0, 0], [['pause'], 0]], [['Слово= ', 'любимого'], ['3', '21', 0, '2', 0, 0, 0, '8'], [['content'], 0, 0, 0, 0], [['pause'], 0]], [['Слово= ', 'человека'], ['1', '2', '1', '3', 0, 0, 0, '8'], [['content'], 0, 0, 0, 0], [['pause'], 0]], [['Слово= ', 'и'], ['9', 0, 0, 0, 0, '200', 0, '8'], [['content'], 0, 0, 0, 0], [['pause'], 0]], [['Слово= ', 'верных'], ['3', '40', 0, '1', 0, 0, 0, '8'], [['content'], '5', 0, 0, 0], [['pause'], 0]], [['Слово= ', 'друзей!'], ['2', '10', '1', '2', 0, 0, 0, '8'], [['content'], 0, 0, 0, 0], [['pause'], 0]], [['Слово= ', 'Если'], ['9', 0, 0, 0, 0, '200', 0, '24'], [['content'], 0, 0, 0, 0], [['pause'], 0]], [['Слово= ', 'вам'], ['12', '11', '8', 0, 0, '2', 0, '8'], [['content'], 0, 0, 0, 0], [['pause'], 0]], [['Слово= ', 'не'], ['9', 0, 0, 0, 0, '400', 0, '8'], [['content'], '2', 0, 0, 0], [['pause'], 0]], [['Слово= ', 'понравилось,'], ['6', '69', 0, '2', '100', 0, 0, '8'], [['content'], 0, 0, 0, 0], [['pause'], 0]], [['Слово= ', 'как'], ['10', 0, 0, '1', 0, 0, 0, '8'], [['content'], 0, 0, 0, 0], [['pause'], 0]], [['Слово= ', 'вы'], ['12', '9', '8', 0, 0, '2', 0, '8'], [['content'], 0, 0, 0, 0], [['pause'], 0]], [['Слово= ', 'встретили'], ['6', '70', 0, '1', '100', '10', 0, '8'], [['content'], 0, 0, 0, 0], [['pause'], 0]], [['Слово= ', 'Новый'], ['3', '20', 0, '1', 0, 0, 0, '16'], [['content'], '2', 0, 0, 0], [['pause'], 0]], [['Слово= ', 'год,'], ['1', '5', '4', '1', 0, 0, 0, '8'], [['content'], 0, 0, 0, 0], [['pause'], 0]], [['Слово= ', 'просто'], ['10', 0, 0, '1', 0, 0, 0, '8'], [['content'], 0, 0, 0, 0], [['pause'], 0]], [['Слово= ', 'вспомните'], ['6', '72', 0, '1', '100', '10', 0, '8'], [['content'], 0, 0, 0, 0], [['pause'], 0]], [['Слово= ', 'о'], ['9', 0, 0, 0, 0, '100', 0, '8'], [['content'], '2', 0, 0, 0], [['pause'], 0]], [['Слово= ', 'том,'], ['1', '5', '4', '1', 0, 0, 0, '8'], [['content'], 0, 0, 0, 0], [['pause'], 0]], [['Слово= ', 'что'], ['9', 0, 0, '1', 0, '200', 0, '8'], [['content'], 0, 0, 0, 0], [['pause'], 0]], [['Слово= ', 'у'], ['9', 0, 0, 0, 0, '100', 0, '8'], [['content'], 0, 0, 0, 0], [['pause'], 0]], [['Слово= ', 'кого-то'], ['1', '2', '1', '2', 0, '2', 0, '8'], [['content'], 0, 0, 0, 0], [['pause'], 0]], [['Слово= ', 'на'], ['9', 0, 0, 0, 0, '100', 0, '8'], [['content'], 0, 0, 0, 0], [['pause'], 0]], [['Слово= ', 'новогоднем'], ['3', '26', 0, '3', 0, 0, 0, '8'], [['content'], 0, 0, 0, 0], [['pause'], 0]], [['Слово= ', 'корпоративе'], ['1', '7', '4', '4', 0, 0, 0, '8'], [['content'], 0, 0, 0, 0], [['pause'], 0]], [['Слово= ', 'пела'], ['6', '68', 0, '1', 0, '10', 0, '8'], [['content'], '1', 0, 0, 0], [['pause'], 0]], [['Слово= ', 'Бузова.'], ['1', '5', '1', '1', '20', 0, 0, '16'], [['content'], 0, 0, 0, 0], [['pause'], 0]], [['Слово= ', 'Не'], ['9', 0, 0, 0, 0, '400', 0, '16'], [['content'], 0, 0, 0, 0], [['pause'], 0]], [['Слово= ', 'так'], ['10', 0, 0, 0, 0, 0, 0, '8'], [['content'], '2', 0, 0, 0], [['pause'], 0]], [['Слово= ', 'плохо,'], ['10', 0, 0, '1', 0, 0, 0, '8'], [['content'], 0, 0, 0, 0], [['pause'], 0]], [['Слово= ', 'когда'], ['10', 0, 0, '2', 0, 0, 0, '8'], [['content'], 0, 0, 0, 0], [['pause'], 0]], [['Слово= ', 'вы'], ['12', '9', '8', 0, 0, '2', 0, '8'], [['content'], 0, 0, 0, 0], [['pause'], 0]], [['Слово= ', 'не'], ['9', 0, 0, 0, 0, '400', 0, '8'], [['content'], 0, 0, 0, 0], [['pause'], 0]], [['Слово= ', 'верите'], ['6', '65', 0, '1', 0, 0, 0, '8'], [['content'], 0, 0, 0, 0], [['pause'], 0]], [['Слово= ', 'в'], ['9', 0, 0, 0, 0, '100', 0, 0], [['content'], 0, 0, 0, 0], [['pause'], 0]], [['Слово= ', 'Деда'], ['1', '5', '1', '1', 0, 0, 0, '16'], [['content'], '2', 0, 0, 0], [['pause'], 0]], [['Слово= ', 'Мороза,'], ['1', '2', '1', '2', '20', 0, 0, '16'], [['content'], 0, 0, 0, 0], [['pause'], 0]], [['Слово= ', 'гораздо'], ['10', 0, 0, '2', 0, 0, 0, '8'], [['content'], '2', 0, 0, 0], [['pause'], 0]], [['Слово= ', 'хуже,'], ['5', '50', 0, '1', 0, 0, 0, '8'], [['content'], 0, 0, 0, 0], [['pause'], 0]], [['Слово= ', 'когда'], ['10', 0, 0, '2', 0, 0, 0, '8'], [['content'], 0, 0, 0, 0], [['pause'], 0]], [['Слово= ', 'он'], ['11', '1', '1', 0, 0, '2', 0, '8'], [['content'], 0, 0, 0, 0], [['pause'], 0]], [['Слово= ', 'в'], ['9', 0, 0, 0, 0, '100', 0, 0], [['content'], 0, 0, 0, 0], [['pause'], 0]], [['Слово= ', 'вас'], ['12', '12', '8', 0, 0, '2', 0, '8'], [['content'], 0, 0, 0, 0], [['pause'], 0]], [['Слово= ', 'не'], ['9', 0, 0, 0, 0, '400', 0, '8'], [['content'], '1', 0, 0, 0], [['pause'], 0]], [['Слово= ', 'верит.'], ['6', '63', 0, '1', 0, 0, 0, '8'], [['content'], 0, 0, 0, 0], [['pause'], 0]], [['Слово= ', 'Новый'], ['3', '20', 0, '1', 0, 0, 0, '16'], [['content'], '12', 0, 0, 0], [['pause'], 0]], [['Слово= ', 'год -'], ['1', '1', '4', '1', 0, 0, 0, '8'], [['content'], 0, 0, 0, 0], [['pause'], 0]], [['Слово= ', 'это'], ['9', 0, 0, '1', 0, '400', 0, '8'], [['content'], 0, 0, 0, 0], [['pause'], 0]], [['Слово= ', 'повод'], ['1', '1', '4', '1', 0, 0, 0, '8'], [['content'], 0, 0, 0, 0], [['pause'], 0]], [['Слово= ', 'встретиться'], ['6', '60', 0, '1', '100', 0, 0, '8'], [['content'], 0, 0, 0, 0], [['pause'], 0]], [['Слово= ', 'со'], ['9', 0, 0, 0, 0, '100', 0, '8'], [['content'], 0, 0, 0, 0], [['pause'], 0]], [['Слово= ', 'всеми'], ['3', '44', 0, '1', 0, '3', 0, '8'], [['content'], 0, 0, 0, 0], [['pause'], 0]], [['Слово= ', 'родственниками'], ['2', '13', '1', '1', 0, 0, 0, '8'], [['content'], 0, 0, 0, 0], [['pause'], 0]], [['Слово= ', 'и'], ['9', 0, 0, 0, 0, '200', 0, '8'], [['content'], '2', 0, 0, 0], [['pause'], 0]], [['Слово= ', 'вспомнить,'], ['6', '60', 0, '1', '100', '10', 0, '8'], [['content'], 0, 0, 0, 0], [['pause'], 0]], [['Слово= ', 'почему'], ['10', 0, 0, '3', 0, 0, 0, '8'], [['content'], 0, 0, 0, 0], [['pause'], 0]], [['Слово= ', 'конкретно'], ['4', '48', 0, '2', 0, 0, 0, '8'], [['content'], 0, 0, 0, 0], [['pause'], 0]], [['Слово= ', 'вы'], ['12', '9', '8', 0, 0, '2', 0, '8'], [['content'], 0, 0, 0, 0], [['pause'], 0]], [['Слово= ', 'живете'], ['6', '65', 0, '2', 0, 0, 0, '8'], [['content'], '1', 0, 0, 0], [['pause'], 0]], [['Слово= ', 'отдельно.'], ['10', 0, 0, '2', 0, 0, 0, '8'], [['content'], 0, 0, 0, 0], [['pause'], 0]], [['Слово= ', 'Оказалось,'], ['6', '69', 0, '3', '100', 0, 0, '24'], [['content'], 0, 0, 0, 0], [['pause'], 0]], [['Слово= ', 'что'], ['9', 0, 0, '1', 0, '200', 0, '8'], [['content'], 0, 0, 0, 0], [['pause'], 0]], [['Слово= ', 'динамичное'], ['3', '33', 0, '3', 0, 0, 0, '8'], [['content'], 0, 0, 0, 0], [['pause'], 0]], [['Слово= ', 'продвижение'], ['1', '1', '6', '3', 0, 0, 0, '8'], [['content'], '12', 0, 0, 0], [['pause'], 0]], [['Слово= ', 'вперед -'], ['10', 0, 0, '2', 0, 0, 0, '8'], [['content'], 0, 0, 0, 0], [['pause'], 0]], [['Слово= ', 'лишь'], ['9', 0, 0, 0, 0, '200', 0, '8'], [['content'], 0, 0, 0, 0], [['pause'], 0]], [['Слово= ', 'результат'], ['1', '1', '4', '3', 0, 0, 0, '8'], [['content'], 0, 0, 0, 0], [['pause'], 0]], [['Слово= ', 'регулярных'], ['3', '40', 0, '3', 0, 0, 0, '8'], [['content'], 0, 0, 0, 0], [['pause'], 0]], [['Слово= ', 'пинков'], ['2', '10', '4', '2', 0, 0, 0, '8'], [['content'], '1', 0, 0, 0], [['pause'], 0]], [['Слово= ', 'сзади.'], ['10', 0, 0, '1', 0, 0, 0, '8'], [['content'], 0, 0, 0, 0], [['pause'], 0]], [['Слово= ', 'Опубликовав'], ['6', '73', 0, '5', '100', '10', 0, '24'], [['content'], 0, 0, 0, 0], [['pause'], 0]], [['Слово= ', 'тайный'], ['3', '20', 0, '1', 0, 0, 0, '8'], [['content'], 0, 0, 0, 0], [['pause'], 0]], [['Слово= ', 'список'], ['1', '5', '4', '1', 0, 0, 0, '8'], [['content'], 0, 0, 0, 0], [['pause'], 0]], [['Слово= ', 'плохих'], ['3', '40', 0, '2', 0, 0, 0, '8'], [['content'], '2', 0, 0, 0], [['pause'], 0]], [['Слово= ', 'ребятишек,'], ['2', '10', '8', '3', 0, 0, 0, '8'], [['content'], 0, 0, 0, 0], [['pause'], 0]], [['Слово= ', 'которые'], ['3', '39', 0, '2', 0, '3', 0, '8'], [['content'], 0, 0, 0, 0], [['pause'], 0]], [['Слово= ', 'не'], ['9', 0, 0, 0, 0, '400', 0, '8'], [['content'], 0, 0, 0, 0], [['pause'], 0]], [['Слово= ', 'получат'], ['6', '66', 0, '2', '100', '10', 0, '8'], [['content'], 0, 0, 0, 0], [['pause'], 0]], [['Слово= ', 'подарков'], ['2', '10', '4', '2', 0, 0, 0, '8'], [['content'], 0, 0, 0, 0], [['pause'], 0]], [['Слово= ', 'на'], ['9', 0, 0, 0, 0, '100', 0, '8'], [['content'], 0, 0, 0, 0], [['pause'], 0]], [['Слово= ', 'Новый'], ['3', '23', 0, '1', 0, 0, 0, '16'], [['content'], '2', 0, 0, 0], [['pause'], 0]], [['Слово= ', 'год,'], ['1', '5', '4', '1', 0, 0, 0, '8'], [['content'], 0, 0, 0, 0], [['pause'], 0]], [['Слово= ', 'Эдвард'], ['1', '1', '1', '1', '10', 0, 0, '24'], [['content'], 0, 0, 0, 0], [['pause'], 0]], [['Слово= ', 'Сноуден'], ['1', '1', '1', '1', '20', 0, 0, '16'], [['content'], 0, 0, 0, 0], [['pause'], 0]], [['Слово= ', 'не'], ['9', 0, 0, 0, 0, '400', 0, '8'], [['content'], 0, 0, 0, 0], [['pause'], 0]], [['Слово= ', 'по-детски'], ['10', 0, 0, '2', 0, 0, 0, '8'], [['content'], 0, 0, 0, 0], [['pause'], 0]], [['Слово= ', 'разозлил'], ['6', '67', 0, '3', '100', '10', 0, '8'], [['content'], 0, 0, 0, 0], [['pause'], 0]], [['Слово= ', 'Деда'], ['1', '5', '1', '1', 0, 0, 0, '16'], [['content'], '1', 0, 0, 0], [['pause'], 0]], [['Слово= ', 'Мороза.'], ['1', '2', '1', '2', '20', 0, 0, '16'], [['content'], 0, 0, 0, 0], [['pause'], 0]], [['Слово= ', 'Прописные'], ['3', '39', 0, '3', 0, 0, 0, '16'], [['content'], 0, 0, 0, 0], [['pause'], 0]], [['Слово= ', 'истины'], ['2', '12', '5', '1', 0, 0, 0, '8'], [['content'], 0, 0, 0, 0], [['pause'], 0]], [['Слово= ', 'нужно'], ['9', 0, 0, '1', 0, '600', 0, '8'], [['content'], 0, 0, 0, 0], [['pause'], 0]], [['Слово= ', 'знать'], ['6', '60', 0, '1', 0, '10', 0, '8'], [['content'], 0, 0, 0, 0], [['pause'], 0]], [['Слово= ', 'для'], ['9', 0, 0, 0, 0, '100', 0, '8'], [['content'], '2', 0, 0, 0], [['pause'], 0]], [['Слово= ', 'того,'], ['3', '34', 0, '2', 0, '3', 0, '8'], [['content'], '2', 0, 0, 0], [['pause'], 0]], [['Слово= ', 'чтобы,'], ['9', 0, 0, 0, 0, '200', 0, '8'], [['content'], 0, 0, 0, 0], [['pause'], 0]], [['Слово= ', 'по'], ['9', 0, 0, 0, 0, '100', 0, '8'], [['content'], 0, 0, 0, 0], [['pause'], 0]], [['Слово= ', 'их'], ['3', 0, 0, 0, 0, '3', 0, '8'], [['content'], 0, 0, 0, 0], [['pause'], 0]], [['Слово= ', 'текущим'], ['3', '41', 0, '2', 0, 0, 0, '8'], [['content'], 0, 0, 0, 0], [['pause'], 0]], [['Слово= ', 'версиям'], ['2', '11', '5', '1', 0, 0, 0, '8'], [['content'], 0, 0, 0, 0], [['pause'], 0]], [['Слово= ', 'правильно'], ['10', 0, 0, '1', 0, 0, 0, '8'], [['content'], '2', 0, 0, 0], [['pause'], 0]], [['Слово= ', 'писать,'], ['6', '60', 0, '2', 0, '10', 0, '8'], [['content'], 0, 0, 0, 0], [['pause'], 0]], [['Слово= ', 'как'], ['10', 0, 0, '1', 0, 0, 0, '8'], [['content'], '2', 0, 0, 0], [['pause'], 0]], [['Слово= ', 'минимум,'], ['1', '1', '4', '1', 0, 0, 0, '8'], [['content'], '2', 0, 0, 0], [['pause'], 0]], [['Слово= ', 'диктанты,'], ['2', '9', '4', '2', 0, 0, 0, '8'], [['content'], 0, 0, 0, 0], [['pause'], 0]], [['Слово= ', 'и'], ['9', 0, 0, 0, 0, '200', 0, '8'], [['content'], 0, 0, 0, 0], [['pause'], 0]], [['Слово= ', 'как'], ['10', 0, 0, '1', 0, 0, 0, '8'], [['content'], '2', 0, 0, 0], [['pause'], 0]], [['Слово= ', 'максимум,'], ['1', '1', '4', '1', 0, 0, 0, '8'], [['content'], '1', 0, 0, 0], [['pause'], 0]], [['Слово= ', 'изложения.'], ['2', '9', '6', '3', 0, 0, 0, '8'], [['content'], 0, 0, 0, 0], [['pause'], 0]], [['Слово= ', 'Если'], ['9', 0, 0, 0, 0, '200', 0, '24'], [['content'], 0, 0, 0, 0], [['pause'], 0]], [['Слово= ', 'ты'], ['11', '1', '8', 0, 0, '2', 0, '8'], [['content'], '2', 0, 0, 0], [['pause'], 0]], [['Слово= ', 'споткнешься,'], ['6', '62', 0, '2', '100', 0, 0, '8'], [['content'], 0, 0, 0, 0], [['pause'], 0]], [['Слово= ', 'упадешь'], ['6', '62', 0, '3', '100', 0, 0, '8'], [['content'], 0, 0, 0, 0], [['pause'], 0]], [['Слово= ', 'и'], ['9', 0, 0, 0, 0, '200', 0, '8'], [['content'], '2', 0, 0, 0], [['pause'], 0]], [['Слово= ', 'выживешь,'], ['6', '62', 0, '1', '100', 0, 0, '8'], [['content'], 0, 0, 0, 0], [['pause'], 0]], [['Слово= ', 'то'], ['9', 0, 0, '1', 0, '200', 0, '8'], [['content'], 0, 0, 0, 0], [['pause'], 0]], [['Слово= ', 'впоследствии'], ['10', 0, 0, '2', 0, 0, 0, '8'], [['content'], 0, 0, 0, 0], [['pause'], 0]], [['Слово= ', 'можешь'], ['6', '62', 0, '1', 0, 0, 0, '8'], [['content'], 0, 0, 0, 0], [['pause'], 0]], [['Слово= ', 'смело'], ['10', 0, 0, '1', 0, 0, 0, '8'], [['content'], '2', 0, 0, 0], [['pause'], 0]], [['Слово= ', 'говорить,'], ['6', '60', 0, '3', 0, '10', 0, '8'], [['content'], 0, 0, 0, 0], [['pause'], 0]], [['Слово= ', 'что'], ['9', 0, 0, '1', 0, '200', 0, '8'], [['content'], 0, 0, 0, 0], [['pause'], 0]], [['Слово= ', 'пережил'], ['6', '67', 0, '1', '100', '10', 0, '8'], [['content'], 0, 0, 0, 0], [['pause'], 0]], [['Слово= ', 'столкновение'], ['1', '5', '6', '3', 0, 0, 0, '8'], [['content'], 0, 0, 0, 0], [['pause'], 0]], [['Слово= ', 'с'], ['9', 0, 0, 0, 0, '100', 0, 0], [['content'], '1', 0, 0, 0], [['pause'], 0]], [['Слово= ', 'планетой.'], ['1', '6', '5', '2', 0, 0, 0, '8'], [['content'], 0, 0, 0, 0], [['pause'], 0]], [['Слово= ', 'Самый'], ['3', '20', 0, '1', 0, '3', 0, '16'], [['content'], 0, 0, 0, 0], [['pause'], 0]], [['Слово= ', 'толерантный'], ['3', '20', 0, '3', 0, 0, 0, '8'], [['content'], 0, 0, 0, 0], [['pause'], 0]], [['Слово= ', 'на'], ['9', 0, 0, 0, 0, '100', 0, '8'], [['content'], '12', 0, 0, 0], [['pause'], 0]], [['Слово= ', 'свете -'], ['1', '7', '4', '1', 0, '1', 0, '8'], [['content'], 0, 0, 0, 0], [['pause'], 0]], [['Слово= ', 'это'], ['9', 0, 0, '1', 0, '400', 0, '8'], [['content'], 0, 0, 0, 0], [['pause'], 0]], [['Слово= ', 'лишний'], ['3', '20', 0, '1', 0, 0, 0, '8'], [['content'], '2', 0, 0, 0], [['pause'], 0]], [['Слово= ', 'вес,'], ['1', '1', '4', '1', 0, 0, 0, '8'], [['content'], 0, 0, 0, 0], [['pause'], 0]], [['Слово= ', 'он'], ['11', '1', '1', 0, 0, '2', 0, '8'], [['content'], 0, 0, 0, 0], [['pause'], 0]], [['Слово= ', 'легко'], ['10', 0, 0, '2', 0, 0, 0, '8'], [['content'], 0, 0, 0, 0], [['pause'], 0]], [['Слово= ', 'уживается'], ['6', '63', 0, '3', 0, 0, 0, '8'], [['content'], 0, 0, 0, 0], [['pause'], 0]], [['Слово= ', 'со'], ['9', 0, 0, 0, 0, '100', 0, '8'], [['content'], '1', 0, 0, 0], [['pause'], 0]], [['Слово= ', 'всеми.'], ['2', '13', 0, '1', 0, '2', 0, '8'], [['content'], 0, 0, 0, 0], [['pause'], 0]], [['Слово= ', 'Бойся'], ['6', '71', 0, '1', 0, 0, 0, '16'], [['content'], '2', 0, 0, 0], [['pause'], 0]], [['Слово= ', 'дурака,'], ['1', '2', '1', '3', 0, 0, 0, '8'], [['content'], 0, 0, 0, 0], [['pause'], 0]], [['Слово= ', 'который'], ['3', '20', 0, '2', 0, '3', 0, '8'], [['content'], 0, 0, 0, 0], [['pause'], 0]], [['Слово= ', 'знает'], ['6', '63', 0, '1', 0, '10', 0, '8'], [['content'], 0, 0, 0, 0], [['pause'], 0]], [['Слово= ', 'как'], ['10', 0, 0, '1', 0, 0, 0, '8'], [['content'], 0, 0, 0, 0], [['pause'], 0]], [['Слово= ', 'улучшить'], ['6', '60', 0, '2', '100', '10', 0, '8'], [['content'], '2', 0, 0, 0], [['pause'], 0]], [['Слово= ', 'то,'], ['9', 0, 0, '1', 0, '200', 0, '8'], [['content'], 0, 0, 0, 0], [['pause'], 0]], [['Слово= ', 'что'], ['9', 0, 0, '1', 0, '200', 0, '8'], [['content'], '1', 0, 0, 0], [['pause'], 0]], [['Слово= ', 'работает.'], ['6', '63', 0, '2', 0, 0, 0, '8'], [['content'], 0, 0, 0, 0], [['pause'], 0]], [['Слово= ', 'Заглянуть'], ['6', '60', 0, '3', '100', 0, 0, '16'], [['content'], 0, 0, 0, 0], [['pause'], 0]], [['Слово= ', 'в'], ['9', 0, 0, 0, 0, '100', 0, 0], [['content'], 0, 0, 0, 0], [['pause'], 0]], [['Слово= ', 'холодильник'], ['1', '5', '4', '3', 0, 0, 0, '8'], [['content'], 0, 0, 0, 0], [['pause'], 0]], [['Слово= ', 'как'], ['10', 0, 0, '1', 0, 0, 0, '8'], [['content'], '3', 0, 0, 0], [['pause'], 0]], [['Слово= ', 'рефлекс:'], ['1', '1', '4', '2', 0, 0, 0, '8'], [['content'], 0, 0, 0, 0], [['pause'], 0]], [['Слово= ', 'жрать'], ['6', '60', 0, '1', 0, '10', 0, '8'], [['content'], 0, 0, 0, 0], [['pause'], 0]], [['Слово= ', 'не'], ['9', 0, 0, 0, 0, '400', 0, '8'], [['content'], '2', 0, 0, 0], [['pause'], 0]], [['Слово= ', 'хотим,'], ['6', '64', 0, '2', 0, '10', 0, '8'], [['content'], 0, 0, 0, 0], [['pause'], 0]], [['Слово= ', 'но'], ['9', 0, 0, 0, 0, '200', 0, '8'], [['content'], 0, 0, 0, 0], [['pause'], 0]], [['Слово= ', 'открыть'], ['6', '60', 0, '2', '100', '10', 0, '8'], [['content'], '1', 0, 0, 0], [['pause'], 0]], [['Слово= ', 'надо.'], ['9', 0, 0, '1', 0, '100', 0, '8'], [['content'], 0, 0, 0, 0], [['pause'], 0]], [['Слово= ', 'Он'], ['11', '1', '1', 0, 0, '2', 0, '24'], [['content'], 0, 0, 0, 0], [['pause'], 0]], [['Слово= ', 'так'], ['10', 0, 0, 0, 0, 0, 0, '8'], [['content'], 0, 0, 0, 0], [['pause'], 0]], [['Слово= ', 'любил'], ['6', '67', 0, '2', 0, '10', 0, '8'], [['content'], 0, 0, 0, 0], [['pause'], 0]], [['Слово= ', 'читать'], ['6', '60', 0, '2', 0, '10', 0, '8'], [['content'], '2', 0, 0, 0], [['pause'], 0]], [['Слово= ', 'книги,'], ['2', '12', '5', '1', 0, 0, 0, '8'], [['content'], 0, 0, 0, 0], [['pause'], 0]], [['Слово= ', 'что'], ['9', 0, 0, '1', 0, '200', 0, '8'], [['content'], 0, 0, 0, 0], [['pause'], 0]], [['Слово= ', 'читал'], ['6', '67', 0, '2', 0, '10', 0, '8'], [['content'], 0, 0, 0, 0], [['pause'], 0]], [['Слово= ', 'даже'], ['9', 0, 0, 0, 0, '200', 0, '8'], [['content'], 0, 0, 0, 0], [['pause'], 0]], [['Слово= ', 'номера'], ['2', '12', '4', '3', 0, 0, 0, '8'], [['content'], '1', 0, 0, 0], [['pause'], 0]], [['Слово= ', 'страниц.'], ['2', '10', '5', '2', 0, 0, 0, '8'], [['content'], 0, 0, 0, 0], [['pause'], 0]], [['Слово= ', 'Если'], ['9', 0, 0, 0, 0, '200', 0, '24'], [['content'], 0, 0, 0, 0], [['pause'], 0]], [['Слово= ', 'в'], ['9', 0, 0, 0, 0, '100', 0, 0], [['content'], 0, 0, 0, 0], [['pause'], 0]], [['Слово= ', '40'], ['0', '5', 0, '1', 0, 0, 0, '9'], [['content'], 0, 0, 0, 0], [['pause'], 0]], [['Слово= ', 'перепрыгиваешь'], ['6', '62', 0, '3', 0, '10', 0, '8'], [['content'], '2', 0, 0, 0], [['pause'], 0]], [['Слово= ', 'турникет,'], ['1', '5', '4', '3', 0, 0, 0, '8'], [['content'], 0, 0, 0, 0], [['pause'], 0]], [['Слово= ', 'то'], ['3', '33', 0, '1', 0, '3', 0, '8'], [['content'], 0, 0, 0, 0], [['pause'], 0]], [['Слово= ', 'здоровье'], ['1', '1', '6', '2', 0, '1', 0, '8'], [['content'], 0, 0, 0, 0], [['pause'], 0]], [['Слово= ', 'в'], ['9', 0, 0, 0, 0, '100', 0, 0], [['content'], '2', 0, 0, 0], [['pause'], 0]], [['Слово= ', 'порядке,'], ['1', '7', '4', '2', 0, 0, 0, '8'], [['content'], 0, 0, 0, 0], [['pause'], 0]], [['Слово= ', 'но'], ['9', 0, 0, 0, 0, '200', 0, '8'], [['content'], 0, 0, 0, 0], [['pause'], 0]], [['Слово= ', 'над'], ['9', 0, 0, 0, 0, '100', 0, '8'], [['content'], 0, 0, 0, 0], [['pause'], 0]], [['Слово= ', 'жизнью'], ['1', '6', '5', '1', 0, 0, 0, '8'], [['content'], 0, 0, 0, 0], [['pause'], 0]], [['Слово= ', 'стоит'], ['6', '63', 0, '1', 0, 0, 0, '8'], [['content'], '1', 0, 0, 0], [['pause'], 0]], [['Слово= ', 'призадуматься.'], ['6', '60', 0, '3', '100', 0, 0, '8'], [['content'], 0, 0, 0, 0], [['pause'], 0]], [['Слово= ', 'Если'], ['9', 0, 0, 0, 0, '200', 0, '24'], [['content'], 0, 0, 0, 0], [['pause'], 0]], [['Слово= ', 'спящему'], ['7', '22', 0, '1', 0, 0, 0, '8'], [['content'], 0, 0, 0, 0], [['pause'], 0]], [['Слово= ', 'кошатнику'], ['1', '4', '1', '2', 0, 0, 0, '8'], [['content'], 0, 0, 0, 0], [['pause'], 0]], [['Слово= ', 'ночью'], ['10', 0, 0, '1', 0, 0, 0, '8'], [['content'], 0, 0, 0, 0], [['pause'], 0]], [['Слово= ', 'положить'], ['6', '60', 0, '3', '100', '10', 0, '8'], [['content'], 0, 0, 0, 0], [['pause'], 0]], [['Слово= ', 'на'], ['9', 0, 0, 0, 0, '100', 0, '8'], [['content'], 0, 0, 0, 0], [['pause'], 0]], [['Слово= ', 'грудь'], ['1', '5', '5', '1', 0, 0, 0, '8'], [['content'], '2', 0, 0, 0], [['pause'], 0]], [['Слово= ', 'кирпич,'], ['1', '5', '4', '2', 0, 0, 0, '8'], [['content'], 0, 0, 0, 0], [['pause'], 0]], [['Слово= ', 'то'], ['9', 0, 0, '1', 0, '200', 0, '8'], [['content'], 0, 0, 0, 0], [['pause'], 0]], [['Слово= ', 'он'], ['11', '1', '1', 0, 0, '2', 0, '8'], [['content'], 0, 0, 0, 0], [['pause'], 0]], [['Слово= ', 'всю'], ['3', '30', 0, '1', 0, '3', 0, '8'], [['content'], 0, 0, 0, 0], [['pause'], 0]], [['Слово= ', 'ночь'], ['1', '5', '5', '1', 0, 0, 0, '8'], [['content'], 0, 0, 0, 0], [['pause'], 0]], [['Слово= ', 'будет'], ['6', '63', 0, '1', 0, 0, 0, '8'], [['content'], 0, 0, 0, 0], [['pause'], 0]], [['Слово= ', 'заботиться'], ['6', '60', 0, '2', 0, 0, 0, '8'], [['content'], 0, 0, 0, 0], [['pause'], 0]], [['Слово= ', 'о'], ['9', 0, 0, 0, 0, '100', 0, '8'], [['content'], '2', 0, 0, 0], [['pause'], 0]], [['Слово= ', 'нем,'], ['11', '7', '1', 0, 0, '2', 0, '8'], [['content'], 0, 0, 0, 0], [['pause'], 0]], [['Слово= ', 'укрывать'], ['6', '60', 0, '3', 0, '10', 0, '8'], [['content'], 0, 0, 0, 0], [['pause'], 0]], [['Слово= ', 'и'], ['9', 0, 0, 0, 0, '200', 0, '8'], [['content'], 0, 0, 0, 0], [['pause'], 0]], [['Слово= ', 'бояться'], ['6', '60', 0, '2', 0, 0, 0, '8'], [['content'], '1', 0, 0, 0], [['pause'], 0]], [['Слово= ', 'повернуться.'], ['6', '60', 0, '3', '100', 0, 0, '8'], [['content'], 0, 0, 0, 0], [['pause'], 0]], [['Слово= ', 'В'], ['9', 0, 0, 0, 0, '100', 0, '16'], [['content'], 0, 0, 0, 0], [['pause'], 0]], [['Слово= ', 'логической'], ['3', '32', 0, '2', 0, 0, 0, '8'], [['content'], 0, 0, 0, 0], [['pause'], 0]], [['Слово= ', 'цепочке'], ['1', '7', '5', '2', 0, 0, 0, '8'], [['content'], 0, 0, 0, '1'], [['pause'], 0]], [['Слово= ', '\"мужик'], ['1', '1', '1', '2', 0, 0, 0, '8'], [['content'], '12', 0, 0, 0], [['pause'], 0]], [['Слово= ', 'сказал -'], ['6', '67', 0, '2', '100', '10', 0, '8'], [['content'], 0, 0, 0, 0], [['pause'], 0]], [['Слово= ', 'мужик'], ['1', '1', '1', '2', 0, 0, 0, '8'], [['content'], 0, 0, '1', 0], [['pause'], 0]], [['Слово= ', 'сделал\"'], ['6', '67', 0, '1', '100', '10', 0, '8'], [['content'], 0, 0, 0, 0], [['pause'], 0]], [['Слово= ', 'почти'], ['10', 0, 0, '2', 0, 0, 0, '8'], [['content'], 0, 0, 0, 0], [['pause'], 0]], [['Слово= ', 'всегда'], ['10', 0, 0, '2', 0, 0, 0, '8'], [['content'], 0, 0, 0, 0], [['pause'], 0]], [['Слово= ', 'отсутствует'], ['6', '63', 0, '2', 0, 0, 0, '8'], [['content'], 0, 0, 0, '1'], [['pause'], 0]], [['Слово= ', '\"мужик'], ['1', '1', '1', '2', 0, 0, 0, '8'], [['content'], '1', 0, '1', 0], [['pause'], 0]], [['Слово= ', 'подумал\".'], ['6', '67', 0, '2', '100', 0, 0, '8'], [['content'], 0, 0, 0, 0], [['pause'], 0]], [['Слово= ', 'Вегетарианство -'], ['1', '1', '6', '5', 0, '1', 0, '16'], [['content'], 0, 0, 0, 0], [['pause'], 0]], [['Слово= ', 'система'], ['1', '1', '5', '2', 0, 0, 0, '8'], [['content'], 0, 0, 0, 0], [['pause'], 0]], [['Слово= ', 'взглядов'], ['2', '10', '4', '1', 0, 0, 0, '8'], [['content'], 0, 0, 0, 0], [['pause'], 0]], [['Слово= ', 'на'], ['9', 0, 0, 0, 0, '100', 0, '8'], [['content'], '2', 0, 0, 0], [['pause'], 0]], [['Слово= ', 'мясо,'], ['1', '5', '6', '1', 0, '1', 0, '8'], [['content'], 0, 0, 0, 0], [['pause'], 0]], [['Слово= ', 'при'], ['9', 0, 0, 0, 0, '100', 0, '8'], [['content'], 0, 0, 0, 0], [['pause'], 0]], [['Слово= ', 'которой'], ['3', '32', 0, '2', 0, '3', 0, '8'], [['content'], 0, 0, 0, 0], [['pause'], 0]], [['Слово= ', 'есть'], ['6', '60', 0, '1', 0, '10', 0, '8'], [['content'], 0, 0, 0, 0], [['pause'], 0]], [['Слово= ', 'мясо'], ['1', '1', '6', '1', 0, '1', 0, '8'], [['content'], '2', 0, 0, 0], [['pause'], 0]], [['Слово= ', 'нельзя,'], ['9', 0, 0, '2', 0, '600', 0, '8'], [['content'], 0, 0, 0, 0], [['pause'], 0]], [['Слово= ', 'а'], ['9', 0, 0, 0, 0, '200', 0, '8'], [['content'], 0, 0, 0, 0], [['pause'], 0]], [['Слово= ', 'быть'], ['6', '60', 0, '1', 0, 0, 0, '8'], [['content'], 0, 0, 0, 0], [['pause'], 0]], [['Слово= ', 'из'], ['9', 0, 0, 0, 0, '100', 0, '8'], [['content'], '12', 0, 0, 0], [['pause'], 0]], [['Слово= ', 'мяса -'], ['1', '2', '6', '1', 0, '1', 0, '8'], [['content'], '1', 0, 0, 0], [['pause'], 0]], [['Слово= ', 'можно.'], ['9', 0, 0, '1', 0, '600', 0, '8'], [['content'], 0, 0, 0, 0], [['pause'], 0]], [['Слово= ', 'Он'], ['11', '1', '1', 0, 0, '2', 0, '24'], [['content'], 0, 0, 0, 0], [['pause'], 0]], [['Слово= ', 'открыл'], ['6', '67', 0, '2', '100', '10', 0, '8'], [['content'], 0, 0, 0, 0], [['pause'], 0]], [['Слово= ', 'утром'], ['10', 0, 0, '1', 0, 0, 0, '8'], [['content'], '2', 0, 0, 0], [['pause'], 0]], [['Слово= ', 'глаза,'], ['2', '12', '4', '2', 0, 0, 0, '8'], [['content'], 0, 0, 0, 0], [['pause'], 0]], [['Слово= ', 'это'], ['9', 0, 0, '1', 0, '400', 0, '8'], [['content'], 0, 0, 0, 0], [['pause'], 0]], [['Слово= ', 'была'], ['6', '68', 0, '2', 0, 0, 0, '8'], [['content'], 0, 0, 0, 0], [['pause'], 0]], [['Слово= ', 'последняя'], ['3', '27', 0, '2', 0, 0, 0, '8'], [['content'], 0, 0, 0, 0], [['pause'], 0]], [['Слово= ', 'хорошая'], ['3', '27', 0, '2', 0, 0, 0, '8'], [['content'], 0, 0, 0, 0], [['pause'], 0]], [['Слово= ', 'новость'], ['1', '1', '5', '1', 0, 0, 0, '8'], [['content'], 0, 0, 0, 0], [['pause'], 0]], [['Слово= ', 'за'], ['9', 0, 0, '1', 0, '100', 0, '8'], [['content'], '11', 0, 0, 0], [['pause'], 0]], [['Слово= ', 'день...'], ['1', '5', '4', 0, 0, 0, 0, '8'], [['content'], 0, 0, 0, 0], [['pause'], 0]], [['Слово= ', 'Сначала'], ['10', 0, 0, '2', 0, 0, 0, '16'], [['content'], '3', 0, 0, 0], [['pause'], 0]], [['Слово= ', 'говорят:'], ['6', '66', 0, '3', 0, '10', 0, '8'], [['content'], 0, 0, 0, '1'], [['pause'], 0]], [['Слово= ', '\"Как'], ['10', 0, 0, '1', 0, 0, 0, '16'], [['content'], 0, 0, 0, 0], [['pause'], 0]], [['Слово= ', 'Новый'], ['3', '20', 0, '1', 0, 0, 0, '16'], [['content'], 0, 0, 0, 0], [['pause'], 0]], [['Слово= ', 'год'], ['1', '5', '4', '1', 0, 0, 0, '8'], [['content'], '2', 0, 0, 0], [['pause'], 0]], [['Слово= ', 'встретишь,'], ['6', '62', 0, '1', '100', '10', 0, '8'], [['content'], 0, 0, 0, 0], [['pause'], 0]], [['Слово= ', 'так'], ['10', 0, 0, 0, 0, 0, 0, '8'], [['content'], 0, 0, 0, 0], [['pause'], 0]], [['Слово= ', 'его'], ['3', 0, 0, 0, 0, '3', 0, '8'], [['content'], 0, 0, 0, 0], [['pause'], 0]], [['Слово= ', 'и'], ['9', 0, 0, 0, 0, '200', 0, '8'], [['content'], '2', 0, '1', 0], [['pause'], 0]], [['Слово= ', 'проведешь\",'], ['6', '62', 0, '3', '100', '10', 0, '8'], [['content'], 0, 0, 0, 0], [['pause'], 0]], [['Слово= ', 'а'], ['9', 0, 0, 0, 0, '200', 0, '8'], [['content'], 0, 0, 0, 0], [['pause'], 0]], [['Слово= ', 'потом'], ['10', 0, 0, '2', 0, 0, 0, '8'], [['content'], '2', 0, 0, 0], [['pause'], 0]], [['Слово= ', 'удивляются,'], ['6', '66', 0, '3', 0, 0, 0, '8'], [['content'], 0, 0, 0, 0], [['pause'], 0]], [['Слово= ', 'почему'], ['10', 0, 0, '3', 0, 0, 0, '8'], [['content'], 0, 0, 0, 0], [['pause'], 0]], [['Слово= ', 'я'], ['11', '1', '8', 0, 0, '2', 0, '8'], [['content'], '1', 0, 0, 0], [['pause'], 0]], [['Слово= ', 'пью.'], ['6', '61', 0, '1', 0, '10', 0, '8'], [['content'], 0, 0, 0, 0], [['pause'], 0]], [['Слово= ', 'Александр'], ['1', '1', '1', '3', '10', 0, 0, '24'], [['content'], 0, 0, 0, 0], [['pause'], 0]], [['Слово= ', 'Македонский'], ['1', '1', '1', '3', '20', 0, 0, '16'], [['content'], 0, 0, 0, 0], [['pause'], 0]], [['Слово= ', 'на'], ['9', 0, 0, 0, 0, '100', 0, '8'], [['content'], 0, 0, 0, 0], [['pause'], 0]], [['Слово= ', 'то'], ['9', 0, 0, '1', 0, '200', 0, '8'], [['content'], 0, 0, 0, 0], [['pause'], 0]], [['Слово= ', 'и'], ['9', 0, 0, 0, 0, '200', 0, '8'], [['content'], '2', 0, 0, 0], [['pause'], 0]], [['Слово= ', 'великий,'], ['3', '20', 0, '2', 0, 0, 0, '8'], [['content'], 0, 0, 0, 0], [['pause'], 0]], [['Слово= ', 'что'], ['9', 0, 0, '1', 0, '200', 0, '8'], [['content'], 0, 0, 0, 0], [['pause'], 0]], [['Слово= ', 'после'], ['9', 0, 0, '1', 0, '100', 0, '8'], [['content'], 0, 0, 0, 0], [['pause'], 0]], [['Слово= ', 'слов'], ['2', '10', '6', '1', 0, 0, 0, '8'], [['content'], 0, 0, 0, 0], [['pause'], 0]], [['Слово= ', 'Диогена'], ['1', '2', '1', '3', '10', 0, 0, '16'], [['content'], '2', 0, 0, '1'], [['pause'], 0]], [['Слово= ', '\"Отойди,'], ['6', '71', 0, '3', '100', 0, 0, '24'], [['content'], 0, 0, 0, 0], [['pause'], 0]], [['Слово= ', 'ты'], ['11', '1', '8', 0, 0, '2', 0, '8'], [['content'], 0, 0, 0, 0], [['pause'], 0]], [['Слово= ', 'заслоняешь'], ['6', '62', 0, '3', 0, '10', 0, '8'], [['content'], 0, 0, 0, 0], [['pause'], 0]], [['Слово= ', 'мне'], ['11', '4', '8', 0, 0, '2', 0, '8'], [['content'], 0, 0, '1', 0], [['pause'], 0]], [['Слово= ', 'солнце\"'], ['1', '5', '6', '1', 0, 0, 0, '8'], [['content'], 0, 0, 0, 0], [['pause'], 0]], [['Слово= ', 'не'], ['9', 0, 0, 0, 0, '400', 0, '8'], [['content'], 0, 0, 0, 0], [['pause'], 0]], [['Слово= ', 'стал'], ['6', '67', 0, '1', '100', 0, 0, '8'], [['content'], 0, 0, 0, 0], [['pause'], 0]], [['Слово= ', 'катить'], ['6', '60', 0, '2', 0, '10', 0, '8'], [['content'], 0, 0, 0, 0], [['pause'], 0]], [['Слово= ', 'на'], ['9', 0, 0, 0, 0, '100', 0, '8'], [['content'], 0, 0, 0, 0], [['pause'], 0]], [['Слово= ', 'него'], ['11', '5', '1', 0, 0, '2', 0, '8'], [['content'], '1', 0, 0, 0], [['pause'], 0]], [['Слово= ', 'бочку.'], ['1', '5', '5', '1', 0, 0, 0, '8'], [['content'], 0, 0, 0, 0], [['pause'], 0]], [['Слово= ', 'Процент'], ['1', '1', '4', '2', 0, 0, 0, '16'], [['content'], '12', 0, 0, 0], [['pause'], 0]], [['Слово= ', 'неграмотных -'], ['3', '40', 0, '2', 0, 0, 0, '8'], [['content'], 0, 0, 0, 0], [['pause'], 0]], [['Слово= ', 'величина'], ['1', '1', '5', '4', 0, 0, 0, '8'], [['content'], '2', 0, 0, 0], [['pause'], 0]], [['Слово= ', 'постоянная,'], ['3', '27', 0, '3', 0, 0, 0, '8'], [['content'], 0, 0, 0, 0], [['pause'], 0]], [['Слово= ', 'просто'], ['10', 0, 0, '1', 0, 0, 0, '8'], [['content'], 0, 0, 0, 0], [['pause'], 0]], [['Слово= ', 'в'], ['9', 0, 0, 0, 0, '100', 0, 0], [['content'], 0, 0, 0, 0], [['pause'], 0]], [['Слово= ', 'наше'], ['3', '36', 0, '1', 0, '3', 0, '8'], [['content'], 0, 0, 0, 0], [['pause'], 0]], [['Слово= ', 'время'], ['1', '5', '6', '1', 0, 0, 0, '8'], [['content'], 0, 0, 0, 0], [['pause'], 0]], [['Слово= ', 'неграмотные'], ['3', '39', 0, '2', 0, 0, 0, '8'], [['content'], 0, 0, 0, 0], [['pause'], 0]], [['Слово= ', 'умеют'], ['6', '66', 0, '2', 0, 0, 0, '8'], [['content'], '1', 0, 0, 0], [['pause'], 0]], [['Слово= ', 'читать.'], ['6', '60', 0, '2', 0, '10', 0, '8'], [['content'], 0, 0, 0, 0], [['pause'], 0]], [['Слово= ', 'Впервые'], ['10', 0, 0, '2', 0, 0, 0, '16'], [['content'], 0, 0, 0, 0], [['pause'], 0]], [['Слово= ', 'я'], ['11', '1', '8', 0, 0, '2', 0, '8'], [['content'], 0, 0, 0, 0], [['pause'], 0]], [['Слово= ', 'осознал'], ['6', '67', 0, '3', '100', '10', 0, '8'], [['content'], 0, 0, 0, 0], [['pause'], 0]], [['Слово= ', 'что'], ['9', 0, 0, '1', 0, '200', 0, '8'], [['content'], '2', 0, 0, 0], [['pause'], 0]], [['Слово= ', 'лысею,'], ['6', '61', 0, '2', 0, 0, 0, '8'], [['content'], 0, 0, 0, 0], [['pause'], 0]], [['Слово= ', 'когда'], ['10', 0, 0, '2', 0, 0, 0, '8'], [['content'], 0, 0, 0, 0], [['pause'], 0]], [['Слово= ', 'по'], ['9', 0, 0, 0, 0, '100', 0, '8'], [['content'], 0, 0, 0, 0], [['pause'], 0]], [['Слово= ', 'утрам'], ['2', '11', '6', '2', 0, 0, 0, '8'], [['content'], 0, 0, 0, 0], [['pause'], 0]], [['Слово= ', 'мне'], ['11', '4', '8', 0, 0, '2', 0, '8'], [['content'], 0, 0, 0, 0], [['pause'], 0]], [['Слово= ', 'понадобилось'], ['6', '69', 0, '2', '100', 0, 0, '8'], [['content'], 0, 0, 0, 0], [['pause'], 0]], [['Слово= ', 'больше'], ['5', '50', 0, '1', 0, 0, 0, '8'], [['content'], 0, 0, 0, 0], [['pause'], 0]], [['Слово= ', 'времени'], ['1', '2', '6', '1', 0, 0, 0, '8'], [['content'], 0, 0, 0, 0], [['pause'], 0]], [['Слово= ', 'чтобы'], ['9', 0, 0, 0, 0, '200', 0, '8'], [['content'], 0, 0, 0, 0], [['pause'], 0]], [['Слово= ', 'помыть'], ['6', '60', 0, '2', '100', '10', 0, '8'], [['content'], '1', 0, 0, 0], [['pause'], 0]], [['Слово= ', 'лицо.'], ['1', '5', '3', '2', 0, 0, 0, '8'], [['content'], 0, 0, 0, 0], [['pause'], 0]], [['Слово= ', 'Абстракционизм -'], ['1', '1', '4', '5', 0, '1', 0, '24'], [['content'], 0, 0, 0, 0], [['pause'], 0]], [['Слово= ', 'это'], ['3', '33', 0, '1', 0, '3', 0, '8'], [['content'], '2', 0, 0, 0], [['pause'], 0]], [['Слово= ', 'искуство,'], ['1', '1', '6', '2', 0, 0, 0, '8'], [['content'], 0, 0, 0, 0], [['pause'], 0]], [['Слово= ', 'когда'], ['10', 0, 0, '2', 0, 0, 0, '8'], [['content'], 0, 0, 0, 0], [['pause'], 0]], [['Слово= ', 'бесталанные'], ['3', '39', 0, '3', 0, 0, 0, '8'], [['content'], 0, 0, 0, 0], [['pause'], 0]], [['Слово= ', 'создают'], ['6', '66', 0, '3', 0, '10', 0, '8'], [['content'], '2', 0, 0, 0], [['pause'], 0]], [['Слово= ', 'бессмыслицу,'], ['1', '5', '5', '2', 0, 0, 0, '8'], [['content'], 0, 0, 0, 0], [['pause'], 0]], [['Слово= ', 'которую'], ['3', '30', 0, '2', 0, '3', 0, '8'], [['content'], 0, 0, 0, 0], [['pause'], 0]], [['Слово= ', 'беспринципные'], ['3', '39', 0, '3', 0, 0, 0, '8'], [['content'], 0, 0, 0, 0], [['pause'], 0]], [['Слово= ', 'продают'], ['6', '66', 0, '3', 0, '10', 0, '8'], [['content'], '1', 0, 0, 0], [['pause'], 0]], [['Слово= ', 'бестолковым.'], ['3', '25', 0, '3', 0, 0, 0, '8'], [['content'], 0, 0, 0, 0], [['pause'], 0]], [['Слово= ', 'Новый'], ['3', '20', 0, '1', 0, 0, 0, '16'], [['content'], '12', 0, 0, 0], [['pause'], 0]], [['Слово= ', 'год -'], ['1', '1', '4', '1', 0, 0, 0, '8'], [['content'], 0, 0, 0, 0], [['pause'], 0]], [['Слово= ', 'это'], ['3', '33', 0, '1', 0, '3', 0, '8'], [['content'], 0, 0, 0, 0], [['pause'], 0]], [['Слово= ', 'такое'], ['3', '33', 0, '2', 0, '3', 0, '8'], [['content'], '2', 0, 0, 0], [['pause'], 0]], [['Слово= ', 'время,'], ['1', '1', '6', '1', 0, 0, 0, '8'], [['content'], 0, 0, 0, 0], [['pause'], 0]], [['Слово= ', 'когда'], ['10', 0, 0, '2', 0, 0, 0, '8'], [['content'], 0, 0, 0, 0], [['pause'], 0]], [['Слово= ', 'на'], ['9', 0, 0, 0, 0, '100', 0, '8'], [['content'], 0, 0, 0, 0], [['pause'], 0]], [['Слово= ', 'компьютерном'], ['3', '26', 0, '2', 0, 0, 0, '8'], [['content'], 0, 0, 0, 0], [['pause'], 0]], [['Слово= ', 'столе'], ['1', '7', '4', '2', 0, 0, 0, '8'], [['content'], 0, 0, 0, 0], [['pause'], 0]], [['Слово= ', 'помимо'], ['9', 0, 0, '2', 0, '100', 0, '8'], [['content'], 0, 0, 0, 0], [['pause'], 0]], [['Слово= ', 'пустых'], ['3', '40', 0, '2', 0, 0, 0, '8'], [['content'], '2', 0, 0, 0], [['pause'], 0]], [['Слово= ', 'кружек,'], ['2', '10', '5', '1', 0, 0, 0, '8'], [['content'], 0, 0, 0, 0], [['pause'], 0]], [['Слово= ', 'появляются'], ['6', '66', 0, '3', 0, 0, 0, '8'], [['content'], 0, 0, 0, 0], [['pause'], 0]], [['Слово= ', 'горы'], ['2', '9', '5', '1', 0, 0, 0, '8'], [['content'], 0, 0, 0, 0], [['pause'], 0]], [['Слово= ', 'кожуры'], ['1', '2', '5', '3', 0, '1', 0, '8'], [['content'], 0, 0, 0, 0], [['pause'], 0]], [['Слово= ', 'от'], ['9', 0, 0, 0, 0, '100', 0, '8'], [['content'], '1', 0, 0, 0], [['pause'], 0]], [['Слово= ', 'мандаринов.'], ['2', '10', '1', '3', 0, 0, 0, '8'], [['content'], 0, 0, 0, 0], [['pause'], 0]], [['Слово= ', 'Не'], ['9', 0, 0, 0, 0, '400', 0, '16'], [['content'], 0, 0, 0, 0], [['pause'], 0]], [['Слово= ', 'доверяю'], ['6', '61', 0, '3', 0, '10', 0, '8'], [['content'], '2', 0, 0, 0], [['pause'], 0]], [['Слово= ', 'верблюдам,'], ['2', '11', '1', '2', 0, 0, 0, '8'], [['content'], 0, 0, 0, 0], [['pause'], 0]], [['Слово= ', 'а'], ['9', 0, 0, 0, 0, '200', 0, '8'], [['content'], 0, 0, 0, 0], [['pause'], 0]], [['Слово= ', 'также'], ['9', 0, 0, 0, 0, '200', 0, '8'], [['content'], 0, 0, 0, 0], [['pause'], 0]], [['Слово= ', 'всем'], ['1', '6', '6', '1', 0, '2', 0, '8'], [['content'], '2', 0, 0, 0], [['pause'], 0]], [['Слово= ', 'тем,'], ['9', 0, 0, '1', 0, '200', 0, '8'], [['content'], 0, 0, 0, 0], [['pause'], 0]], [['Слово= ', 'кто'], ['1', '1', '1', 0, 0, '2', 0, '8'], [['content'], 0, 0, 0, 0], [['pause'], 0]], [['Слово= ', 'может'], ['6', '63', 0, '1', 0, 0, 0, '8'], [['content'], 0, 0, 0, 0], [['pause'], 0]], [['Слово= ', 'неделю'], ['1', '5', '5', '2', 0, 0, 0, '8'], [['content'], 0, 0, 0, 0], [['pause'], 0]], [['Слово= ', 'не'], ['9', 0, 0, 0, 0, '400', 0, '8'], [['content'], '5', 0, 0, 0], [['pause'], 0]], [['Слово= ', 'пить!'], ['6', '60', 0, '1', 0, '10', 0, '8'], [['content'], 0, 0, 0, 0], [['pause'], 0]], [['Слово= ', 'В'], ['9', 0, 0, 0, 0, '100', 0, '16'], [['content'], '2', 0, 0, 0], [['pause'], 0]], [['Слово= ', 'том,'], ['1', '5', '4', '1', 0, 0, 0, '8'], [['content'], 0, 0, 0, 0], [['pause'], 0]], [['Слово= ', 'что'], ['9', 0, 0, '1', 0, '200', 0, '8'], [['content'], 0, 0, 0, 0], [['pause'], 0]], [['Слово= ', 'вам'], ['12', '11', '8', 0, 0, '2', 0, '8'], [['content'], 0, 0, 0, 0], [['pause'], 0]], [['Слово= ', 'вчера'], ['10', 0, 0, '2', 0, 0, 0, '8'], [['content'], 0, 0, 0, 0], [['pause'], 0]], [['Слово= ', 'продали'], ['6', '70', 0, '1', '100', '10', 0, '8'], [['content'], 0, 0, 0, 0], [['pause'], 0]], [['Слово= ', 'бытовую'], ['3', '30', 0, '3', 0, 0, 0, '8'], [['content'], 0, 0, 0, 0], [['pause'], 0]], [['Слово= ', 'технику'], ['1', '5', '5', '1', 0, 0, 0, '8'], [['content'], 0, 0, 0, 0], [['pause'], 0]], [['Слово= ', 'по'], ['9', 0, 0, 0, 0, '100', 0, '8'], [['content'], 0, 0, 0, 0], [['pause'], 0]], [['Слово= ', 'действительно'], ['10', 0, 0, '2', 0, 0, 0, '8'], [['content'], 0, 0, 0, 0], [['pause'], 0]], [['Слово= ', 'выгодной'], ['3', '29', 0, '1', 0, 0, 0, '8'], [['content'], '2', 0, 0, 0], [['pause'], 0]], [['Слово= ', 'цене,'], ['1', '4', '5', '2', 0, 0, 0, '8'], [['content'], 0, 0, 0, 0], [['pause'], 0]], [['Слово= ', 'можно'], ['9', 0, 0, '1', 0, '600', 0, '8'], [['content'], 0, 0, 0, 0], [['pause'], 0]], [['Слово= ', 'быть'], ['6', '60', 0, '1', 0, 0, 0, '8'], [['content'], '2', 0, 0, 0], [['pause'], 0]], [['Слово= ', 'уверенным,'], ['3', '25', 0, '2', 0, 0, 0, '8'], [['content'], 0, 0, 0, 0], [['pause'], 0]], [['Слово= ', 'только'], ['9', 0, 0, 0, 0, '200', 0, '8'], [['content'], 0, 0, 0, 0], [['pause'], 0]], [['Слово= ', 'если'], ['9', 0, 0, 0, 0, '200', 0, '8'], [['content'], 0, 0, 0, 0], [['pause'], 0]], [['Слово= ', 'магазин'], ['1', '1', '4', '3', 0, 0, 0, '8'], [['content'], 0, 0, 0, 0], [['pause'], 0]], [['Слово= ', 'сегодня'], ['10', 0, 0, '2', 0, 0, 0, '8'], [['content'], '11', 0, 0, 0], [['pause'], 0]], [['Слово= ', 'обанкротился...'], ['6', '67', 0, '3', '100', 0, 0, '8'], [['content'], 0, 0, 0, 0], [['pause'], 0]], [['Слово= ', 'Настоящие'], ['3', '39', 0, '3', 0, 0, 0, '16'], [['content'], 0, 0, 0, 0], [['pause'], 0]], [['Слово= ', 'мужики'], ['2', '9', '1', '3', 0, 0, 0, '8'], [['content'], 0, 0, 0, 0], [['pause'], 0]], [['Слово= ', 'не'], ['9', 0, 0, 0, 0, '400', 0, '8'], [['content'], 0, 0, 0, 0], [['pause'], 0]], [['Слово= ', 'плачутся'], ['6', '66', 0, '1', 0, 0, 0, '8'], [['content'], 0, 0, 0, 0], [['pause'], 0]], [['Слово= ', 'начальству'], ['1', '4', '6', '2', 0, 0, 0, '8'], [['content'], 0, 0, 0, 0], [['pause'], 0]], [['Слово= ', 'в'], ['9', 0, 0, 0, 0, '100', 0, 0], [['content'], '2', 0, 0, 0], [['pause'], 0]], [['Слово= ', 'жилетку,'], ['1', '5', '5', '2', 0, 0, 0, '8'], [['content'], 0, 0, 0, 0], [['pause'], 0]], [['Слово= ', 'они'], ['12', '9', '8', 0, 0, '2', 0, '8'], [['content'], 0, 0, 0, 0], [['pause'], 0]], [['Слово= ', 'туда'], ['10', 0, 0, '2', 0, 0, 0, '8'], [['content'], '5', 0, 0, 0], [['pause'], 0]], [['Слово= ', 'сморкаются!'], ['6', '66', 0, '2', 0, 0, 0, '8'], [['content'], 0, 0, 0, 0], [['pause'], 0]], [['Слово= ', 'На'], ['9', 0, 0, 0, 0, '100', 0, '16'], [['content'], 0, 0, 0, 0], [['pause'], 0]], [['Слово= ', 'вопрос'], ['1', '5', '4', '2', 0, 0, 0, '8'], [['content'], 0, 0, 0, 0], [['pause'], 0]], [['Слово= ', 'по'], ['9', 0, 0, 0, 0, '100', 0, '8'], [['content'], '2', 0, 0, 0], [['pause'], 0]], [['Слово= ', 'химии,'], ['1', '4', '5', '1', 0, '1', 0, '8'], [['content'], 0, 0, 0, 0], [['pause'], 0]], [['Слово= ', 'что'], ['9', 0, 0, '1', 0, '200', 0, '8'], [['content'], 0, 0, 0, 0], [['pause'], 0]], [['Слово= ', 'я'], ['11', '1', '8', 0, 0, '2', 0, '8'], [['content'], 0, 0, 0, 0], [['pause'], 0]], [['Слово= ', 'могу'], ['6', '61', 0, '2', 0, 0, 0, '8'], [['content'], 0, 0, 0, 0], [['pause'], 0]], [['Слово= ', 'сказать'], ['6', '60', 0, '2', '100', '10', 0, '8'], [['content'], 0, 0, 0, 0], [['pause'], 0]], [['Слово= ', 'о'], ['9', 0, 0, 0, 0, '100', 0, '8'], [['content'], 0, 0, 0, 0], [['pause'], 0]], [['Слово= ', 'молекулах'], ['2', '14', '5', '2', 0, 0, 0, '8'], [['content'], '2', 0, 0, 0], [['pause'], 0]], [['Слово= ', 'соли,'], ['1', '2', '5', '1', 0, 0, 0, '8'], [['content'], '3', 0, 0, 0], [['pause'], 0]], [['Слово= ', 'отвечаю:'], ['6', '61', 0, '3', 0, 0, 0, '8'], [['content'], 0, 0, 0, '1'], [['pause'], 0]], [['Слово= ', '\"они'], ['12', '9', '8', 0, 0, '2', 0, '8'], [['content'], 0, 0, 0, 0], [['pause'], 0]], [['Слово= ', 'хорошо'], ['10', 0, 0, '3', 0, 0, 0, '8'], [['content'], 0, 0, 0, 0], [['pause'], 0]], [['Слово= ', 'сочетаются'], ['6', '66', 0, '3', 0, 0, 0, '8'], [['content'], 0, 0, 0, 0], [['pause'], 0]], [['Слово= ', 'с'], ['9', 0, 0, 0, 0, '100', 0, 0], [['content'], 0, 0, 0, 0], [['pause'], 0]], [['Слово= ', 'молекулами'], ['2', '13', '5', '2', 0, 0, 0, '8'], [['content'], '1', 0, '1', 0], [['pause'], 0]], [['Слово= ', 'огурца\".'], ['1', '2', '4', '3', 0, 0, 0, '8'], [['content'], 0, 0, 0, 0], [['pause'], 0]], [['Слово= ', 'Большая'], ['3', '27', 0, '1', 0, 0, 0, '16'], [['content'], 0, 0, 0, 0], [['pause'], 0]], [['Слово= ', 'часть'], ['1', '1', '5', '1', 0, 0, 0, '8'], [['content'], '12', 0, 0, 0], [['pause'], 0]], [['Слово= ', 'болезней -'], ['2', '10', '5', '2', 0, 0, 0, '8'], [['content'], 0, 0, 0, 0], [['pause'], 0]], [['Слово= ', 'от'], ['9', 0, 0, 0, 0, '100', 0, '8'], [['content'], '2', 0, 0, 0], [['pause'], 0]], [['Слово= ', 'нервов,'], ['2', '10', '4', '1', 0, 0, 0, '8'], [['content'], 0, 0, 0, 0], [['pause'], 0]], [['Слово= ', 'которые'], ['3', '39', 0, '2', 0, '3', 0, '8'], [['content'], 0, 0, 0, 0], [['pause'], 0]], [['Слово= ', 'расшатаны'], ['7', '49', 0, '2', '100', '20', 0, '8'], [['content'], 0, 0, 0, 0], [['pause'], 0]], [['Слово= ', 'постоянными'], ['3', '44', 0, '3', 0, 0, 0, '8'], [['content'], 0, 0, 0, 0], [['pause'], 0]], [['Слово= ', 'подозрениями'], ['2', '13', '6', '3', 0, 0, 0, '8'], [['content'], 0, 0, 0, 0], [['pause'], 0]], [['Слово= ', 'о'], ['9', 0, 0, 0, 0, '100', 0, '8'], [['content'], 0, 0, 0, 0], [['pause'], 0]], [['Слово= ', 'наличии'], ['1', '7', '6', '2', 0, '1', 0, '8'], [['content'], 0, 0, 0, 0], [['pause'], 0]], [['Слово= ', 'какой-нибудь'], ['3', '28', 0, '2', 0, '3', 0, '8'], [['content'], '1', 0, 0, 0], [['pause'], 0]], [['Слово= ', 'болезни.'], ['1', '2', '5', '2', 0, 0, 0, '8'], [['content'], 0, 0, 0, 0], [['pause'], 0]], [['Слово= ', 'Вы'], ['12', '9', '8', 0, 0, '2', 0, '16'], [['content'], 0, 0, 0, 0], [['pause'], 0]], [['Слово= ', 'ничего'], ['1', '2', '6', '3', 0, '2', 0, '8'], [['content'], 0, 0, 0, 0], [['pause'], 0]], [['Слово= ', 'не'], ['9', 0, 0, 0, 0, '400', 0, '8'], [['content'], 0, 0, 0, 0], [['pause'], 0]], [['Слово= ', 'знаете'], ['6', '65', 0, '1', 0, '10', 0, '8'], [['content'], 0, 0, 0, 0], [['pause'], 0]], [['Слово= ', 'о'], ['9', 0, 0, 0, 0, '100', 0, '8'], [['content'], '2', 0, 0, 0], [['pause'], 0]], [['Слово= ', 'страхе,'], ['1', '7', '4', '1', 0, 0, 0, '8'], [['content'], 0, 0, 0, 0], [['pause'], 0]], [['Слово= ', 'если'], ['9', 0, 0, 0, 0, '200', 0, '8'], [['content'], 0, 0, 0, 0], [['pause'], 0]], [['Слово= ', 'у'], ['9', 0, 0, 0, 0, '100', 0, '8'], [['content'], 0, 0, 0, 0], [['pause'], 0]], [['Слово= ', 'вас'], ['12', '10', '8', 0, 0, '2', 0, '8'], [['content'], 0, 0, 0, 0], [['pause'], 0]], [['Слово= ', 'среди'], ['9', 0, 0, '2', 0, '100', 0, '8'], [['content'], 0, 0, 0, 0], [['pause'], 0]], [['Слово= ', 'ночи'], ['1', '2', '5', '1', 0, 0, 0, '8'], [['content'], 0, 0, 0, 0], [['pause'], 0]], [['Слово= ', 'не'], ['9', 0, 0, 0, 0, '400', 0, '8'], [['content'], 0, 0, 0, 0], [['pause'], 0]], [['Слово= ', 'падала'], ['6', '68', 0, '1', 0, 0, 0, '8'], [['content'], 0, 0, 0, 0], [['pause'], 0]], [['Слово= ', 'стоящая'], ['7', '27', 0, '2', 0, 0, 0, '8'], [['content'], 0, 0, 0, 0], [['pause'], 0]], [['Слово= ', 'у'], ['9', 0, 0, 0, 0, '100', 0, '8'], [['content'], 0, 0, 0, 0], [['pause'], 0]], [['Слово= ', 'изголовья'], ['1', '2', '6', '3', 0, 0, 0, '8'], [['content'], 0, 0, 0, 0], [['pause'], 0]], [['Слово= ', 'кровати'], ['1', '2', '5', '2', 0, 0, 0, '8'], [['content'], '1', 0, 0, 0], [['pause'], 0]], [['Слово= ', 'гитара.'], ['1', '1', '5', '2', 0, 0, 0, '8'], [['content'], 0, 0, 0, 0], [['pause'], 0]], [['Слово= ', 'В'], ['9', 0, 0, 0, 0, '100', 0, '16'], [['content'], 0, 0, 0, 0], [['pause'], 0]], [['Слово= ', 'фильмах'], ['2', '14', '4', '1', 0, 0, 0, '8'], [['content'], 0, 0, 0, 0], [['pause'], 0]], [['Слово= ', 'ужасов'], ['2', '10', '4', '1', 0, 0, 0, '8'], [['content'], 0, 0, 0, 0], [['pause'], 0]], [['Слово= ', 'для'], ['9', 0, 0, 0, 0, '100', 0, '8'], [['content'], 0, 0, 0, 0], [['pause'], 0]], [['Слово= ', 'снеговиков'], ['2', '10', '1', '4', 0, 0, 0, '8'], [['content'], '2', 0, 0, 0], [['pause'], 0]], [['Слово= ', 'показывают,'], ['6', '66', 0, '2', 0, '10', 0, '8'], [['content'], 0, 0, 0, 0], [['pause'], 0]], [['Слово= ', 'как'], ['10', 0, 0, '1', 0, 0, 0, '8'], [['content'], 0, 0, 0, 0], [['pause'], 0]], [['Слово= ', 'люди'], ['2', '9', '1', '1', 0, 0, 0, '8'], [['content'], 0, 0, 0, 0], [['pause'], 0]], [['Слово= ', 'едят'], ['6', '66', 0, '2', 0, '10', 0, '8'], [['content'], 0, 0, 0, 0], [['pause'], 0]], [['Слово= ', 'мороженое'], ['1', '5', '6', '2', 0, 0, 0, '8'], [['content'], 0, 0, 0, 0], [['pause'], 0]], [['Слово= ', 'и'], ['9', 0, 0, 0, 0, '200', 0, '8'], [['content'], 0, 0, 0, 0], [['pause'], 0]], [['Слово= ', 'делают'], ['6', '66', 0, '1', 0, '10', 0, '8'], [['content'], 0, 0, 0, 0], [['pause'], 0]], [['Слово= ', 'морковь'], ['1', '5', '5', '2', 0, 0, 0, '8'], [['content'], 0, 0, 0, 0], [['pause'], 0]], [['Слово= ', 'по'], ['9', 0, 0, 0, 0, '100', 0, '8'], [['content'], '1', 0, 0, 0], [['pause'], 0]], [['Слово= ', 'корейски.'], ['10', 0, 0, '2', 0, 0, 0, '8'], [['content'], 0, 0, 0, 0], [['pause'], 0]], [['Слово= ', 'Прошу'], ['6', '61', 0, '2', 0, '10', 0, '16'], [['content'], 0, 0, 0, 0], [['pause'], 0]], [['Слово= ', 'дать'], ['6', '60', 0, '1', '100', '10', 0, '8'], [['content'], 0, 0, 0, 0], [['pause'], 0]], [['Слово= ', 'мне'], ['11', '4', '8', 0, 0, '2', 0, '8'], [['content'], 0, 0, 0, 0], [['pause'], 0]], [['Слово= ', 'отгул'], ['1', '5', '4', '2', 0, 0, 0, '8'], [['content'], 0, 0, 0, 0], [['pause'], 0]], [['Слово= ', 'за'], ['9', 0, 0, 0, 0, '100', 0, '8'], [['content'], 0, 0, 0, 0], [['pause'], 0]], [['Слово= ', 'желание'], ['1', '5', '6', '2', 0, 0, 0, '8'], [['content'], 0, 0, 0, 0], [['pause'], 0]], [['Слово= ', 'поработать'], ['6', '60', 0, '3', '100', 0, 0, '8'], [['content'], 0, 0, 0, 0], [['pause'], 0]], [['Слово= ', 'в'], ['9', 0, 0, 0, 0, '100', 0, 0], [['content'], '2', 0, 0, 0], [['pause'], 0]], [['Слово= ', 'выходные,'], ['2', '12', '4', '3', 0, 0, 0, '8'], [['content'], 0, 0, 0, 0], [['pause'], 0]], [['Слово= ', 'несостоявшееся'], ['3', '33', 0, '4', 0, 0, 0, '8'], [['content'], 0, 0, 0, 0], [['pause'], 0]], [['Слово= ', 'не'], ['9', 0, 0, 0, 0, '400', 0, '8'], [['content'], 0, 0, 0, 0], [['pause'], 0]], [['Слово= ', 'по'], ['9', 0, 0, 0, 0, '100', 0, '8'], [['content'], 0, 0, 0, 0], [['pause'], 0]], [['Слово= ', 'моей'], ['3', '29', 0, '2', 0, '3', 0, '8'], [['content'], '5', 0, 0, 0], [['pause'], 0]], [['Слово= ', 'вине!'], ['1', '4', '5', '2', 0, 0, 0, '8'], [['content'], 0, 0, 0, 0], [['pause'], 0]], [['Слово= ', 'Группа'], ['1', '1', '5', '1', 0, 0, 0, '16'], [['content'], '2', 0, 0, 0], [['pause'], 0]], [['Слово= ', 'россиян,'], ['2', '10', '1', '3', 0, 0, 0, '8'], [['content'], 0, 0, 0, 0], [['pause'], 0]], [['Слово= ', 'потерявшихся'], ['7', '40', 0, '3', '100', 0, 0, '8'], [['content'], 0, 0, 0, 0], [['pause'], 0]], [['Слово= ', 'в'], ['9', 0, 0, 0, 0, '100', 0, 0], [['content'], 0, 0, 0, 0], [['pause'], 0]], [['Слово= ', 'американских'], ['3', '45', 0, '4', 0, 0, 0, '8'], [['content'], '2', 0, 0, 0], [['pause'], 0]], [['Слово= ', 'джунглях,'], ['2', '14', 0, '1', 0, 0, 0, '8'], [['content'], 0, 0, 0, 0], [['pause'], 0]], [['Слово= ', 'была'], ['6', '68', 0, '2', 0, 0, 0, '8'], [['content'], 0, 0, 0, 0], [['pause'], 0]], [['Слово= ', 'найдена'], ['7', '47', 0, '1', '100', '20', 0, '8'], [['content'], 0, 0, 0, 0], [['pause'], 0]], [['Слово= ', 'благодаря'], ['9', 0, 0, '4', 0, '100', 0, '8'], [['content'], '13', 0, 0, 0], [['pause'], 0]], [['Слово= ', 'полиглотам-попугаям,'], ['2', '11', '1', '3', 0, 0, 0, '8'], [['content'], '2', 0, 0, 0], [['pause'], 0]], [['Слово= ', 'которые'], ['3', '39', 0, '2', 0, '3', 0, '8'], [['content'], 0, 0, 0, 0], [['pause'], 0]], [['Слово= ', 'покрыли'], ['6', '70', 0, '2', '100', '10', 0, '8'], [['content'], 0, 0, 0, 0], [['pause'], 0]], [['Слово= ', 'матом'], ['1', '6', '4', '1', 0, 0, 0, '8'], [['content'], 0, 0, 0, 0], [['pause'], 0]], [['Слово= ', 'весь'], ['3', '20', 0, '1', 0, '3', 0, '8'], [['content'], 0, 0, 0, 0], [['pause'], 0]], [['Слово= ', 'путь'], ['1', '5', '4', '1', 0, 0, 0, '8'], [['content'], 0, 0, 0, 0], [['pause'], 0]], [['Слово= ', 'следования'], ['1', '2', '6', '1', 0, 0, 0, '8'], [['content'], '11', 0, 0, 0], [['pause'], 0]], [['Слово= ', 'туристов...'], ['2', '10', '1', '2', 0, 0, 0, '8'], [['content'], 0, 0, 0, 0], [['pause'], 0]], [['Слово= ', 'Кто-нибудь'], ['1', '1', '1', '1', 0, '2', 0, '16'], [['content'], 0, 0, 0, 0], [['pause'], 0]], [['Слово= ', 'может'], ['6', '63', 0, '1', 0, 0, 0, '8'], [['content'], '2', 0, 0, 0], [['pause'], 0]], [['Слово= ', 'объяснить,'], ['6', '60', 0, '3', '100', '10', 0, '8'], [['content'], 0, 0, 0, 0], [['pause'], 0]], [['Слово= ', 'зачем'], ['10', 0, 0, '2', 0, 0, 0, '8'], [['content'], 0, 0, 0, 0], [['pause'], 0]], [['Слово= ', 'летающие'], ['7', '39', 0, '2', 0, 0, 0, '8'], [['content'], '2', 0, 0, 0], [['pause'], 0]], [['Слово= ', 'тарелки,'], ['2', '12', '5', '2', 0, 0, 0, '8'], [['content'], 0, 0, 0, 0], [['pause'], 0]], [['Слово= ', 'с'], ['9', 0, 0, 0, 0, '100', 0, 0], [['content'], 0, 0, 0, 0], [['pause'], 0]], [['Слово= ', 'которых'], ['3', '40', 0, '2', 0, '3', 0, '8'], [['content'], 0, 0, 0, 0], [['pause'], 0]], [['Слово= ', 'инопланетяне'], ['2', '9', '1', '5', 0, 0, 0, '8'], [['content'], 0, 0, 0, 0], [['pause'], 0]], [['Слово= ', 'тайком'], ['10', 0, 0, '2', 0, 0, 0, '8'], [['content'], 0, 0, 0, 0], [['pause'], 0]], [['Слово= ', 'следят'], ['6', '66', 0, '2', 0, 0, 0, '8'], [['content'], 0, 0, 0, 0], [['pause'], 0]], [['Слово= ', 'за'], ['9', 0, 0, 0, 0, '100', 0, '8'], [['content'], '2', 0, 0, 0], [['pause'], 0]], [['Слово= ', 'нами,'], ['12', '13', '8', 0, 0, '2', 0, '8'], [['content'], 0, 0, 0, 0], [['pause'], 0]], [['Слово= ', 'всегда'], ['10', 0, 0, '2', 0, 0, 0, '8'], [['content'], 0, 0, 0, 0], [['pause'], 0]], [['Слово= ', 'так'], ['10', 0, 0, 0, 0, 0, 0, '8'], [['content'], 0, 0, 0, 0], [['pause'], 0]], [['Слово= ', 'ярко'], ['10', 0, 0, '1', 0, 0, 0, '8'], [['content'], '6', 0, 0, 0], [['pause'], 0]], [['Слово= ', 'светятся?'], ['6', '66', 0, '1', 0, 0, 0, '8'], [['content'], 0, 0, 0, 0], [['pause'], 0]], [['Слово= ', 'Если'], ['9', 0, 0, 0, 0, '200', 0, '24'], [['content'], 0, 0, 0, 0], [['pause'], 0]], [['Слово= ', 'у'], ['9', 0, 0, 0, 0, '100', 0, '8'], [['content'], 0, 0, 0, 0], [['pause'], 0]], [['Слово= ', 'вас'], ['12', '10', '8', 0, 0, '2', 0, '8'], [['content'], 0, 0, 0, 0], [['pause'], 0]], [['Слово= ', 'нет'], ['9', 0, 0, '1', 0, '400', 0, '8'], [['content'], '2', 0, 0, 0], [['pause'], 0]], [['Слово= ', 'знакомого,'], ['1', '2', '1', '2', 0, 0, 0, '8'], [['content'], 0, 0, 0, 0], [['pause'], 0]], [['Слово= ', 'чей'], ['3', '20', 0, 0, 0, '3', 0, '8'], [['content'], 0, 0, 0, 0], [['pause'], 0]], [['Слово= ', 'смех'], ['1', '1', '4', '1', 0, 0, 0, '8'], [['content'], 0, 0, 0, 0], [['pause'], 0]], [['Слово= ', 'похож'], ['4', '46', 0, '2', 0, 0, 0, '8'], [['content'], 0, 0, 0, 0], [['pause'], 0]], [['Слово= ', 'на'], ['9', 0, 0, 0, 0, '100', 0, '8'], [['content'], 0, 0, 0, 0], [['pause'], 0]], [['Слово= ', 'скрипящую'], ['7', '30', 0, '2', 0, 0, 0, '8'], [['content'], '2', 0, 0, 0], [['pause'], 0]], [['Слово= ', 'дверь,'], ['1', '5', '5', '1', 0, 0, 0, '8'], [['content'], 0, 0, 0, 0], [['pause'], 0]], [['Слово= ', 'скорее'], ['5', '50', 0, '2', 0, 0, 0, '8'], [['content'], '2', 0, 0, 0], [['pause'], 0]], [['Слово= ', 'всего,'], ['1', '2', '6', '2', 0, '2', 0, '8'], [['content'], 0, 0, 0, 0], [['pause'], 0]], [['Слово= ', 'этот'], ['3', '20', 0, '1', 0, '3', 0, '8'], [['content'], '12', 0, 0, 0], [['pause'], 0]], [['Слово= ', 'знакомый -'], ['1', '1', '1', '2', 0, 0, 0, '8'], [['content'], '1', 0, 0, 0], [['pause'], 0]], [['Слово= ', 'вы.'], ['12', '9', '8', 0, 0, '2', 0, '8'], [['content'], 0, 0, 0, 0], [['pause'], 0]], [['Слово= ', 'В'], ['9', 0, 0, 0, 0, '100', 0, '16'], [['content'], 0, 0, 0, 0], [['pause'], 0]], [['Слово= ', 'кофейнях'], ['2', '14', '5', '2', 0, 0, 0, '8'], [['content'], 0, 0, 0, 0], [['pause'], 0]], [['Слово= ', 'всегда'], ['10', 0, 0, '2', 0, 0, 0, '8'], [['content'], 0, 0, 0, 0], [['pause'], 0]], [['Слово= ', 'лежат'], ['6', '66', 0, '2', 0, 0, 0, '8'], [['content'], 0, 0, 0, 0], [['pause'], 0]], [['Слово= ', 'такие'], ['3', '39', 0, '2', 0, '3', 0, '8'], [['content'], '2', 0, 0, 0], [['pause'], 0]], [['Слово= ', 'книги,'], ['2', '9', '5', '1', 0, 0, 0, '8'], [['content'], 0, 0, 0, 0], [['pause'], 0]], [['Слово= ', 'будто'], ['9', 0, 0, 0, 0, '200', 0, '8'], [['content'], 0, 0, 0, 0], [['pause'], 0]], [['Слово= ', 'какой-то'], ['3', '20', 0, '2', 0, '3', 0, '8'], [['content'], 0, 0, 0, 0], [['pause'], 0]], [['Слово= ', 'сумасшедший'], ['3', '20', 0, '3', 0, 0, 0, '8'], [['content'], 0, 0, 0, 0], [['pause'], 0]], [['Слово= ', 'дед'], ['1', '1', '1', '1', 0, 0, 0, '8'], [['content'], 0, 0, 0, 0], [['pause'], 0]], [['Слово= ', 'умер'], ['6', '67', 0, '1', '100', 0, 0, '8'], [['content'], 0, 0, 0, 0], [['pause'], 0]], [['Слово= ', 'и'], ['9', 0, 0, 0, 0, '200', 0, '8'], [['content'], 0, 0, 0, 0], [['pause'], 0]], [['Слово= ', 'завещал'], ['6', '67', 0, '3', '100', '10', 0, '8'], [['content'], 0, 0, 0, 0], [['pause'], 0]], [['Слово= ', 'им'], ['11', '6', '1', 0, 0, '2', 0, '8'], [['content'], 0, 0, 0, 0], [['pause'], 0]], [['Слово= ', 'свою'], ['3', '30', 0, '2', 0, '3', 0, '8'], [['content'], '1', 0, 0, 0], [['pause'], 0]], [['Слово= ', 'библиотеку.'], ['1', '5', '5', '4', 0, 0, 0, '8'], [['content'], 0, 0, 0, 0], [['pause'], 0]], [['Слово= ', 'Глупый'], ['3', '20', 0, '1', 0, 0, 0, '16'], [['content'], 0, 0, 0, 0], [['pause'], 0]], [['Слово= ', 'человек'], ['1', '1', '1', '3', 0, 0, 0, '8'], [['content'], 0, 0, 0, 0], [['pause'], 0]], [['Слово= ', 'заблудившись'], ['6', '73', 0, '3', '100', 0, 0, '8'], [['content'], 0, 0, 0, 0], [['pause'], 0]], [['Слово= ', 'в'], ['9', 0, 0, 0, 0, '100', 0, 0], [['content'], 0, 0, 0, 0], [['pause'], 0]], [['Слово= ', 'горах'], ['2', '14', '5', '2', 0, 0, 0, '8'], [['content'], 0, 0, 0, 0], [['pause'], 0]], [['Слово= ', 'определяет'], ['6', '63', 0, '4', 0, '10', 0, '8'], [['content'], 0, 0, 0, 0], [['pause'], 0]], [['Слово= ', 'свое'], ['3', '33', 0, '2', 0, '3', 0, '8'], [['content'], 0, 0, 0, 0], [['pause'], 0]], [['Слово= ', 'местоположение'], ['1', '5', '6', '5', 0, '1', 0, '8'], [['content'], 0, 0, 0, 0], [['pause'], 0]], [['Слово= ', 'по'], ['9', 0, 0, 0, 0, '100', 0, '8'], [['content'], 0, 0, 0, 0], [['pause'], 0]], [['Слово= ', 'звездам'], ['2', '11', '2', '1', 0, 0, 0, '8'], [['content'], 0, 0, 0, 0], [['pause'], 0]], [['Слово= ', 'и'], ['9', 0, 0, 0, 0, '200', 0, '8'], [['content'], '2', 0, 0, 0], [['pause'], 0]], [['Слово= ', 'компасу,'], ['1', '4', '4', '1', 0, 0, 0, '8'], [['content'], 0, 0, 0, 0], [['pause'], 0]], [['Слово= ', 'а'], ['9', 0, 0, 0, 0, '200', 0, '8'], [['content'], 0, 0, 0, 0], [['pause'], 0]], [['Слово= ', 'умный'], ['3', '20', 0, '1', 0, 0, 0, '8'], [['content'], 0, 0, 0, 0], [['pause'], 0]], [['Слово= ', 'просто'], ['10', 0, 0, '1', 0, 0, 0, '8'], [['content'], 0, 0, 0, 0], [['pause'], 0]], [['Слово= ', 'идет'], ['6', '63', 0, '2', 0, 0, 0, '8'], [['content'], '1', 0, 0, 0], [['pause'], 0]], [['Слово= ', 'вниз.'], ['10', 0, 0, '1', 0, 0, 0, '8'], [['content'], 0, 0, 0, 0], [['pause'], 0]], [['Слово= ', 'По'], ['9', 0, 0, 0, 0, '100', 0, '16'], [['content'], '2', 0, 0, 0], [['pause'], 0]], [['Слово= ', 'статистике,'], ['1', '4', '5', '2', 0, '1', 0, '8'], [['content'], 0, 0, 0, 0], [['pause'], 0]], [['Слово= ', 'каждый'], ['3', '20', 0, '1', 0, '3', 0, '8'], [['content'], 0, 0, 0, 0], [['pause'], 0]], [['Слово= ', 'четвертый'], ['3', '20', 0, '2', 0, 0, 0, '8'], [['content'], 0, 0, 0, 0], [['pause'], 0]], [['Слово= ', 'россиянин'], ['1', '1', '1', '3', 0, 0, 0, '8'], [['content'], 0, 0, 0, 0], [['pause'], 0]], [['Слово= ', 'встречается'], ['6', '63', 0, '2', 0, 0, 0, '8'], [['content'], 0, 0, 0, 0], [['pause'], 0]], [['Слово= ', 'в'], ['9', 0, 0, 0, 0, '100', 0, 0], [['content'], 0, 0, 0, 0], [['pause'], 0]], [['Слово= ', '2'], ['0', '5', '4', '1', 0, 0, 0, '9'], [['content'], 0, 0, 0, 0], [['pause'], 0]], [['Слово= ', 'раза'], ['1', '2', '4', '1', 0, 0, 0, '8'], [['content'], '2', 0, 0, 0], [['pause'], 0]], [['Слово= ', 'реже,'], ['5', '50', 0, '1', 0, 0, 0, '8'], [['content'], 0, 0, 0, 0], [['pause'], 0]], [['Слово= ', 'чем'], ['9', 0, 0, '1', 0, '200', 0, '8'], [['content'], 0, 0, 0, 0], [['pause'], 0]], [['Слово= ', 'каждый'], ['1', '1', '1', '1', 0, 0, 0, '8'], [['content'], '1', 0, 0, 0], [['pause'], 0]], [['Слово= ', 'второй.'], ['3', '20', 0, '2', 0, 0, 0, '8'], [['content'], 0, 0, 0, 0], [['pause'], 0]], [['Слово= ', 'По'], ['9', 0, 0, 0, 0, '100', 0, '16'], [['content'], 0, 0, 0, 0], [['pause'], 0]], [['Слово= ', 'пузырькам'], ['2', '11', '4', '3', 0, 0, 0, '8'], [['content'], 0, 0, 0, 0], [['pause'], 0]], [['Слово= ', 'на'], ['9', 0, 0, 0, 0, '100', 0, '8'], [['content'], 0, 0, 0, 0], [['pause'], 0]], [['Слово= ', 'воде'], ['1', '7', '5', '2', 0, 0, 0, '8'], [['content'], 0, 0, 0, 0], [['pause'], 0]], [['Слово= ', 'легко'], ['10', 0, 0, '2', 0, 0, 0, '8'], [['content'], '2', 0, 0, 0], [['pause'], 0]], [['Слово= ', 'определить,'], ['6', '60', 0, '4', '100', '10', 0, '8'], [['content'], 0, 0, 0, 0], [['pause'], 0]], [['Слово= ', 'какой'], ['3', '29', 0, '2', 0, '3', 0, '8'], [['content'], 0, 0, 0, 0], [['pause'], 0]], [['Слово= ', 'из'], ['9', 0, 0, 0, 0, '100', 0, '8'], [['content'], 0, 0, 0, 0], [['pause'], 0]], [['Слово= ', 'ватерполистов'], ['2', '10', '1', '4', 0, 0, 0, '8'], [['content'], 0, 0, 0, 0], [['pause'], 0]], [['Слово= ', 'старается'], ['6', '63', 0, '2', 0, 0, 0, '8'], [['content'], 0, 0, 0, 0], [['pause'], 0]], [['Слово= ', 'больше'], ['5', '50', 0, '1', 0, 0, 0, '8'], [['content'], '1', 0, 0, 0], [['pause'], 0]], [['Слово= ', 'всех.'], ['2', '10', 0, '1', 0, '2', 0, '8'], [['content'], 0, 0, 0, 0], [['pause'], 0]], [['Слово= ', 'Можно'], ['9', 0, 0, '1', 0, '600', 0, '16'], [['content'], 0, 0, 0, 0], [['pause'], 0]], [['Слово= ', 'построить'], ['6', '60', 0, '2', '100', '10', 0, '8'], [['content'], '2', 0, 0, 0], [['pause'], 0]], [['Слово= ', 'дом,'], ['1', '5', '4', '1', 0, 0, 0, '8'], [['content'], 0, 0, 0, 0], [['pause'], 0]], [['Слово= ', 'посадить'], ['6', '60', 0, '3', '100', '10', 0, '8'], [['content'], '2', 0, 0, 0], [['pause'], 0]], [['Слово= ', 'дерево,'], ['1', '5', '6', '1', 0, 0, 0, '8'], [['content'], 0, 0, 0, 0], [['pause'], 0]], [['Слово= ', 'вырастить'], ['6', '60', 0, '1', '100', '10', 0, '8'], [['content'], '2', 0, 0, 0], [['pause'], 0]], [['Слово= ', 'сына,'], ['1', '5', '1', '1', 0, 0, 0, '8'], [['content'], 0, 0, 0, 0], [['pause'], 0]], [['Слово= ', 'но'], ['9', 0, 0, 0, 0, '200', 0, '8'], [['content'], 0, 0, 0, 0], [['pause'], 0]], [['Слово= ', 'если'], ['9', 0, 0, 0, 0, '200', 0, '8'], [['content'], 0, 0, 0, 0], [['pause'], 0]], [['Слово= ', 'однажды'], ['10', 0, 0, '2', 0, 0, 0, '8'], [['content'], 0, 0, 0, 0], [['pause'], 0]], [['Слово= ', 'ты'], ['11', '1', '8', 0, 0, '2', 0, '8'], [['content'], 0, 0, 0, 0], [['pause'], 0]], [['Слово= ', 'не'], ['9', 0, 0, 0, 0, '400', 0, '8'], [['content'], 0, 0, 0, 0], [['pause'], 0]], [['Слово= ', 'сумел'], ['6', '67', 0, '2', '100', 0, 0, '8'], [['content'], 0, 0, 0, 0], [['pause'], 0]], [['Слово= ', 'вбить'], ['6', '60', 0, '1', '100', '10', 0, '8'], [['content'], '2', 0, 0, 0], [['pause'], 0]], [['Слово= ', 'гвоздь,'], ['1', '5', '4', '1', 0, 0, 0, '8'], [['content'], 0, 0, 0, 0], [['pause'], 0]], [['Слово= ', 'то'], ['9', 0, 0, '1', 0, '200', 0, '8'], [['content'], '12', 0, 0, 0], [['pause'], 0]], [['Слово= ', 'все -'], ['1', '1', '6', '1', 0, '2', 0, '8'], [['content'], 0, 0, 0, 0], [['pause'], 0]], [['Слово= ', 'ты'], ['11', '1', '8', 0, 0, '2', 0, '8'], [['content'], 0, 0, 0, 0], [['pause'], 0]], [['Слово= ', 'не'], ['9', 0, 0, 0, 0, '400', 0, '8'], [['content'], '5', 0, 0, 0], [['pause'], 0]], [['Слово= ', 'мужик!'], ['1', '1', '1', '2', 0, 0, 0, '8'], [['content'], 0, 0, 0, 0], [['pause'], 0]], [['Слово= ', 'В'], ['9', 0, 0, 0, 0, '100', 0, '16'], [['content'], 0, 0, 0, 0], [['pause'], 0]], [['Слово= ', 'медицинских'], ['3', '45', 0, '3', 0, 0, 0, '8'], [['content'], 0, 0, 0, 0], [['pause'], 0]], [['Слово= ', 'кругах'], ['2', '14', '4', '2', 0, 0, 0, '8'], [['content'], 0, 0, 0, 0], [['pause'], 0]], [['Слово= ', 'набирает'], ['6', '63', 0, '3', 0, '10', 0, '8'], [['content'], 0, 0, 0, 0], [['pause'], 0]], [['Слово= ', 'популярность'], ['1', '5', '5', '3', 0, '1', 0, '8'], [['content'], '2', 0, 0, 0], [['pause'], 0]], [['Слово= ', 'теория,'], ['1', '1', '5', '2', 0, 0, 0, '8'], [['content'], 0, 0, 0, 0], [['pause'], 0]], [['Слово= ', 'что'], ['9', 0, 0, '1', 0, '200', 0, '8'], [['content'], 0, 0, 0, 0], [['pause'], 0]], [['Слово= ', 'проблемы'], ['2', '9', '5', '2', 0, 0, 0, '8'], [['content'], 0, 0, 0, 0], [['pause'], 0]], [['Слово= ', 'с'], ['9', 0, 0, 0, 0, '100', 0, 0], [['content'], '12', 0, 0, 0], [['pause'], 0]], [['Слово= ', 'алкоголем -'], ['1', '6', '4', '3', 0, 0, 0, '8'], [['content'], 0, 0, 0, 0], [['pause'], 0]], [['Слово= ', 'это'], ['9', 0, 0, '1', 0, '400', 0, '8'], [['content'], 0, 0, 0, 0], [['pause'], 0]], [['Слово= ', 'когда'], ['10', 0, 0, '2', 0, 0, 0, '8'], [['content'], 0, 0, 0, 0], [['pause'], 0]], [['Слово= ', 'ты'], ['11', '1', '8', 0, 0, '2', 0, '8'], [['content'], 0, 0, 0, 0], [['pause'], 0]], [['Слово= ', 'не'], ['9', 0, 0, 0, 0, '400', 0, '8'], [['content'], 0, 0, 0, 0], [['pause'], 0]], [['Слово= ', 'любишь'], ['6', '62', 0, '1', 0, '10', 0, '8'], [['content'], '1', 0, 0, 0], [['pause'], 0]], [['Слово= ', 'выпить.'], ['6', '60', 0, '1', '100', '10', 0, '8'], [['content'], 0, 0, 0, 0], [['pause'], 0]], [['Слово= ', 'Народная'], ['3', '27', 0, '2', 0, 0, 0, '16'], [['content'], '3', 0, 0, 0], [['pause'], 0]], [['Слово= ', 'примета:'], ['1', '1', '5', '2', 0, 0, 0, '8'], [['content'], 0, 0, 0, 0], [['pause'], 0]], [['Слово= ', 'если'], ['9', 0, 0, 0, 0, '200', 0, '8'], [['content'], 0, 0, 0, 0], [['pause'], 0]], [['Слово= ', 'у'], ['9', 0, 0, 0, 0, '100', 0, '8'], [['content'], 0, 0, 0, 0], [['pause'], 0]], [['Слово= ', 'вас'], ['12', '10', '8', 0, 0, '2', 0, '8'], [['content'], 0, 0, 0, 0], [['pause'], 0]], [['Слово= ', 'закончились'], ['6', '70', 0, '2', '100', 0, 0, '8'], [['content'], '2', 0, 0, 0], [['pause'], 0]], [['Слово= ', 'деньги,'], ['2', '9', 0, '1', 0, 0, 0, '8'], [['content'], 0, 0, 0, 0], [['pause'], 0]], [['Слово= ', 'то'], ['9', 0, 0, '1', 0, '200', 0, '8'], [['content'], 0, 0, 0, 0], [['pause'], 0]], [['Слово= ', 'в'], ['9', 0, 0, 0, 0, '100', 0, 0], [['content'], 0, 0, 0, 0], [['pause'], 0]], [['Слово= ', 'ближайшее'], ['3', '36', 0, '2', 0, 0, 0, '8'], [['content'], 0, 0, 0, 0], [['pause'], 0]], [['Слово= ', 'время'], ['1', '5', '6', '1', 0, 0, 0, '8'], [['content'], 0, 0, 0, 0], [['pause'], 0]], [['Слово= ', 'обязательно'], ['10', 0, 0, '3', 0, 0, 0, '8'], [['content'], 0, 0, 0, 0], [['pause'], 0]], [['Слово= ', 'закончится'], ['6', '63', 0, '2', '100', 0, 0, '8'], [['content'], 0, 0, 0, 0], [['pause'], 0]], [['Слово= ', 'зубная'], ['3', '27', 0, '2', 0, 0, 0, '8'], [['content'], '2', 0, 0, 0], [['pause'], 0]], [['Слово= ', 'паста,'], ['1', '1', '5', '1', 0, 0, 0, '8'], [['content'], '2', 0, 0, 0], [['pause'], 0]], [['Слово= ', 'шампунь,'], ['1', '1', '4', '2', 0, 0, 0, '8'], [['content'], 0, 0, 0, 0], [['pause'], 0]], [['Слово= ', 'жидкость'], ['1', '1', '5', '1', 0, 0, 0, '8'], [['content'], 0, 0, 0, 0], [['pause'], 0]], [['Слово= ', 'для'], ['9', 0, 0, 0, 0, '100', 0, '8'], [['content'], 0, 0, 0, 0], [['pause'], 0]], [['Слово= ', 'мытья'], ['1', '2', '6', '2', 0, '1', 0, '8'], [['content'], '2', 0, 0, 0], [['pause'], 0]], [['Слово= ', 'посуды,'], ['1', '2', '5', '2', 0, 0, 0, '8'], [['content'], 0, 0, 0, 0], [['pause'], 0]], [['Слово= ', 'туалетная'], ['3', '27', 0, '3', 0, 0, 0, '8'], [['content'], 0, 0, 0, 0], [['pause'], 0]], [['Слово= ', 'бумага'], ['1', '1', '5', '2', 0, 0, 0, '8'], [['content'], 0, 0, 0, 0], [['pause'], 0]], [['Слово= ', 'и'], ['9', 0, 0, 0, 0, '200', 0, '8'], [['content'], 0, 0, 0, 0], [['pause'], 0]], [['Слово= ', 'крем'], ['1', '1', '4', '1', 0, 0, 0, '8'], [['content'], 0, 0, 0, 0], [['pause'], 0]], [['Слово= ', 'для'], ['9', 0, 0, 0, 0, '100', 0, '8'], [['content'], '1', 0, 0, 0], [['pause'], 0]], [['Слово= ', 'обуви.'], ['1', '2', '5', '1', 0, 0, 0, '8'], [['content'], 0, 0, 0, 0], [['pause'], 0]], [['Слово= ', 'Если'], ['9', 0, 0, 0, 0, '200', 0, '24'], [['content'], 0, 0, 0, 0], [['pause'], 0]], [['Слово= ', 'вы'], ['12', '9', '8', 0, 0, '2', 0, '8'], [['content'], 0, 0, 0, 0], [['pause'], 0]], [['Слово= ', 'видите'], ['6', '65', 0, '1', 0, '10', 0, '8'], [['content'], 0, 0, 0, 0], [['pause'], 0]], [['Слово= ', 'массу'], ['1', '5', '5', '1', 0, 0, 0, '8'], [['content'], 0, 0, 0, 0], [['pause'], 0]], [['Слово= ', 'разнообразных'], ['3', '40', 0, '4', 0, 0, 0, '8'], [['content'], 0, 0, 0, 0], [['pause'], 0]], [['Слово= ', 'выходов'], ['2', '10', '4', '1', 0, 0, 0, '8'], [['content'], 0, 0, 0, 0], [['pause'], 0]], [['Слово= ', 'из'], ['9', 0, 0, 0, 0, '100', 0, '8'], [['content'], 0, 0, 0, 0], [['pause'], 0]], [['Слово= ', 'сложной'], ['3', '28', 0, '1', 0, 0, 0, '8'], [['content'], '2', 0, 0, 0], [['pause'], 0]], [['Слово= ', 'ситуации,'], ['1', '2', '5', '3', 0, 0, 0, '8'], [['content'], 0, 0, 0, 0], [['pause'], 0]], [['Слово= ', 'не'], ['9', 0, 0, 0, 0, '400', 0, '8'], [['content'], 0, 0, 0, 0], [['pause'], 0]], [['Слово= ', 'спешите'], ['6', '72', 0, '2', 0, 0, 0, '8'], [['content'], '12', 0, 0, 0], [['pause'], 0]], [['Слово= ', 'радоваться -'], ['6', '60', 0, '1', 0, 0, 0, '8'], [['content'], 0, 0, 0, 0], [['pause'], 0]], [['Слово= ', 'возможно'], ['10', 0, 0, '2', 0, 0, 0, '8'], [['content'], 0, 0, 0, 0], [['pause'], 0]], [['Слово= ', 'вы'], ['12', '9', '8', 0, 0, '2', 0, '8'], [['content'], 0, 0, 0, 0], [['pause'], 0]], [['Слово= ', 'в'], ['9', 0, 0, 0, 0, '100', 0, 0], [['content'], '1', 0, 0, 0], [['pause'], 0]], [['Слово= ', 'мясорубке.'], ['1', '7', '5', '3', 0, 0, 0, '8'], [['content'], 0, 0, 0, 0], [['pause'], 0]], [['Слово= ', 'Совершенство'], ['1', '1', '6', '3', 0, 0, 0, '16'], [['content'], 0, 0, 0, 0], [['pause'], 0]], [['Слово= ', 'в'], ['9', 0, 0, 0, 0, '100', 0, 0], [['content'], 0, 0, 0, 0], [['pause'], 0]], [['Слово= ', 'русском'], ['3', '26', 0, '1', 0, 0, 0, '8'], [['content'], 0, 0, 0, 0], [['pause'], 0]], [['Слово= ', 'мате'], ['1', '7', '4', '1', 0, 0, 0, '8'], [['content'], 0, 0, 0, 0], [['pause'], 0]], [['Слово= ', 'достигается'], ['6', '63', 0, '3', 0, 0, 0, '8'], [['content'], 0, 0, 0, 0], [['pause'], 0]], [['Слово= ', 'при'], ['9', 0, 0, 0, 0, '100', 0, '8'], [['content'], 0, 0, 0, 0], [['pause'], 0]], [['Слово= ', 'вождении'], ['1', '7', '6', '2', 0, '1', 0, '8'], [['content'], 0, 0, 0, 0], [['pause'], 0]], [['Слово= ', 'автомобиля'], ['1', '2', '4', '4', 0, 0, 0, '8'], [['content'], 0, 0, 0, 0], [['pause'], 0]], [['Слово= ', 'и'], ['9', 0, 0, 0, 0, '200', 0, '8'], [['content'], 0, 0, 0, 0], [['pause'], 0]], [['Слово= ', 'работе'], ['1', '4', '5', '2', 0, 0, 0, '8'], [['content'], 0, 0, 0, 0], [['pause'], 0]], [['Слово= ', 'с'], ['9', 0, 0, 0, 0, '100', 0, 0], [['content'], 0, 0, 0, 0], [['pause'], 0]], [['Слово= ', 'продукцией'], ['1', '6', '5', '2', 0, '1', 0, '8'], [['content'], 0, 0, 0, 0], [['pause'], 0]], [['Слово= ', 'фирмы'], ['1', '2', '5', '1', 0, 0, 0, '8'], [['content'], '1', 0, 0, 0], [['pause'], 0]], [['Слово= ', 'Microsoft.'], ['1', 0, 0, '3', 0, 0, 0, '16'], [['content'], 0, 0, 0, 0], [['pause'], 0]], [['Слово= ', 'Я'], ['11', '1', '8', 0, 0, '2', 0, '24'], [['content'], 0, 0, 0, 0], [['pause'], 0]], [['Слово= ', 'никак'], ['10', 0, 0, '2', 0, 0, 0, '8'], [['content'], 0, 0, 0, 0], [['pause'], 0]], [['Слово= ', 'не'], ['9', 0, 0, 0, 0, '400', 0, '8'], [['content'], 0, 0, 0, 0], [['pause'], 0]], [['Слово= ', 'могу'], ['6', '61', 0, '2', 0, 0, 0, '8'], [['content'], '2', 0, 0, 0], [['pause'], 0]], [['Слово= ', 'понять,'], ['6', '60', 0, '2', '100', '10', 0, '8'], [['content'], 0, 0, 0, 0], [['pause'], 0]], [['Слово= ', 'каким'], ['3', '25', 0, '2', 0, '3', 0, '8'], [['content'], '2', 0, 0, 0], [['pause'], 0]], [['Слово= ', 'образом,'], ['1', '6', '4', '1', 0, 0, 0, '8'], [['content'], 0, 0, 0, 0], [['pause'], 0]], [['Слово= ', 'наши'], ['3', '39', 0, '1', 0, '3', 0, '8'], [['content'], 0, 0, 0, 0], [['pause'], 0]], [['Слово= ', 'дорожники'], ['2', '9', '1', '2', 0, 0, 0, '8'], [['content'], 0, 0, 0, 0], [['pause'], 0]], [['Слово= ', 'умудряются'], ['6', '66', 0, '3', 0, 0, 0, '8'], [['content'], 0, 0, 0, 0], [['pause'], 0]], [['Слово= ', 'так'], ['10', 0, 0, 0, 0, 0, 0, '8'], [['content'], 0, 0, 0, 0], [['pause'], 0]], [['Слово= ', 'ювелирно'], ['10', 0, 0, '3', 0, 0, 0, '8'], [['content'], 0, 0, 0, 0], [['pause'], 0]], [['Слово= ', 'воспроизвести'], ['6', '60', 0, '5', '100', '10', 0, '8'], [['content'], 0, 0, 0, 0], [['pause'], 0]], [['Слово= ', 'все'], ['3', '39', 0, '1', 0, '3', 0, '8'], [['content'], 0, 0, 0, 0], [['pause'], 0]], [['Слово= ', 'ямы'], ['2', '12', '4', '1', 0, 0, 0, '8'], [['content'], 0, 0, 0, 0], [['pause'], 0]], [['Слово= ', 'и'], ['9', 0, 0, 0, 0, '200', 0, '8'], [['content'], 0, 0, 0, 0], [['pause'], 0]], [['Слово= ', 'колдобины'], ['2', '12', '5', '2', 0, 0, 0, '8'], [['content'], 0, 0, 0, 0], [['pause'], 0]], [['Слово= ', 'на'], ['9', 0, 0, 0, 0, '100', 0, '8'], [['content'], '2', 0, 0, 0], [['pause'], 0]], [['Слово= ', 'дороге,'], ['1', '7', '5', '2', 0, 0, 0, '8'], [['content'], 0, 0, 0, 0], [['pause'], 0]], [['Слово= ', 'всего'], ['10', 0, 0, '2', 0, 0, 0, '8'], [['content'], 0, 0, 0, 0], [['pause'], 0]], [['Слово= ', 'лишь'], ['9', 0, 0, 0, 0, '200', 0, '8'], [['content'], 0, 0, 0, 0], [['pause'], 0]], [['Слово= ', 'через'], ['9', 0, 0, 0, 0, '100', 0, '8'], [['content'], 0, 0, 0, 0], [['pause'], 0]], [['Слово= ', 'три'], ['0', '5', 0, '1', 0, 0, 0, '8'], [['content'], 0, 0, 0, 0], [['pause'], 0]], [['Слово= ', 'месяца'], ['1', '2', '4', '1', 0, 0, 0, '8'], [['content'], 0, 0, 0, 0], [['pause'], 0]], [['Слово= ', 'после'], ['9', 0, 0, '1', 0, '100', 0, '8'], [['content'], '1', 0, 0, 0], [['pause'], 0]], [['Слово= ', 'ремонта.'], ['1', '2', '4', '2', 0, 0, 0, '8'], [['content'], 0, 0, 0, 0], [['pause'], 0]], [['Слово= ', 'Закинул'], ['6', '67', 0, '2', '100', '10', 0, '16'], [['content'], 0, 0, 0, 0], [['pause'], 0]], [['Слово= ', 'старик'], ['1', '1', '1', '2', 0, 0, 0, '8'], [['content'], 0, 0, 0, 0], [['pause'], 0]], [['Слово= ', 'сеть'], ['1', '5', '5', '1', 0, 0, 0, '8'], [['content'], 0, 0, 0, 0], [['pause'], 0]], [['Слово= ', 'в'], ['9', 0, 0, 0, 0, '100', 0, 0], [['content'], 0, 0, 0, 0], [['pause'], 0]], [['Слово= ', 'синее'], ['3', '36', 0, '1', 0, 0, 0, '8'], [['content'], '2', 0, 0, 0], [['pause'], 0]], [['Слово= ', 'море,'], ['1', '5', '6', '1', 0, 0, 0, '8'], [['content'], 0, 0, 0, 0], [['pause'], 0]], [['Слово= ', 'тянет'], ['6', '63', 0, '1', 0, '10', 0, '8'], [['content'], '2', 0, 0, 0], [['pause'], 0]], [['Слово= ', 'назад,'], ['10', 0, 0, '2', 0, 0, 0, '8'], [['content'], '2', 0, 0, 0], [['pause'], 0]], [['Слово= ', 'тянет,'], ['6', '63', 0, '1', 0, '10', 0, '8'], [['content'], 0, 0, 0, 0], [['pause'], 0]], [['Слово= ', 'а'], ['9', 0, 0, 0, 0, '200', 0, '8'], [['content'], 0, 0, 0, 0], [['pause'], 0]], [['Слово= ', 'ему'], ['11', '4', '1', 0, 0, '2', 0, '8'], [['content'], 0, 0, 0, 0], [['pause'], 0]], [['Слово= ', 'и'], ['9', 0, 0, 0, 0, '200', 0, '8'], [['content'], '3', 0, 0, 0], [['pause'], 0]], [['Слово= ', 'отвечают:'], ['6', '66', 0, '3', 0, 0, 0, '8'], [['content'], 0, 0, 0, '1'], [['pause'], 0]], [['Слово= ', '\"Сеть'], ['1', '1', '5', '1', 0, 0, 0, '16'], [['content'], '5', 0, '1', 0], [['pause'], 0]], [['Слово= ', 'недоступна!\".'], ['4', '47', 0, '3', 0, 0, 0, '8'], [['content'], 0, 0, 0, 0], [['pause'], 0]], [['Слово= ', 'А'], ['9', 0, 0, 0, 0, '200', 0, '24'], [['content'], 0, 0, 0, 0], [['pause'], 0]], [['Слово= ', 'ведь'], ['9', 0, 0, 0, 0, '200', 0, '8'], [['content'], 0, 0, 0, 0], [['pause'], 0]], [['Слово= ', 'никто'], ['1', '1', '1', '2', 0, '2', 0, '8'], [['content'], 0, 0, 0, 0], [['pause'], 0]], [['Слово= ', 'и'], ['9', 0, 0, 0, 0, '200', 0, '8'], [['content'], 0, 0, 0, 0], [['pause'], 0]], [['Слово= ', 'не'], ['9', 0, 0, 0, 0, '400', 0, '8'], [['content'], '2', 0, 0, 0], [['pause'], 0]], [['Слово= ', 'подозревал,'], ['6', '67', 0, '4', 0, '10', 0, '8'], [['content'], 0, 0, 0, 0], [['pause'], 0]], [['Слово= ', 'что'], ['9', 0, 0, '1', 0, '200', 0, '8'], [['content'], '12', 0, 0, 0], [['pause'], 0]], [['Слово= ', 'Матроскин -'], ['1', '1', '1', '2', '20', 0, 0, '16'], [['content'], 0, 0, 0, 0], [['pause'], 0]], [['Слово= ', 'хорошо'], ['10', 0, 0, '3', 0, 0, 0, '8'], [['content'], 0, 0, 0, 0], [['pause'], 0]], [['Слово= ', 'законспирированный'], ['7', '20', 0, '4', '100', '20', 0, '8'], [['content'], '11', 0, 0, 0], [['pause'], 0]], [['Слово= ', 'Шелленберг...'], ['1', '1', '1', '1', '20', 0, 0, '16'], [['content'], 0, 0, 0, 0], [['pause'], 0]], [['Слово= ', 'Настоящий'], ['3', '20', 0, '3', 0, 0, 0, '16'], [['content'], 0, 0, 0, 0], [['pause'], 0]], [['Слово= ', 'эстонец'], ['1', '1', '1', '2', 0, 0, 0, '8'], [['content'], 0, 0, 0, 0], [['pause'], 0]], [['Слово= ', 'в'], ['9', 0, 0, 0, 0, '100', 0, 0], [['content'], 0, 0, 0, 0], [['pause'], 0]], [['Слово= ', 'жизни'], ['1', '7', '5', '1', 0, 0, 0, '8'], [['content'], 0, 0, 0, 0], [['pause'], 0]], [['Слово= ', 'должен'], ['4', '46', 0, '1', 0, 0, 0, '8'], [['content'], 0, 0, 0, 0], [['pause'], 0]], [['Слово= ', 'сделать'], ['6', '60', 0, '1', '100', '10', 0, '8'], [['content'], 0, 0, 0, 0], [['pause'], 0]], [['Слово= ', '3'], ['0', '1', 0, '1', 0, 0, 0, '9'], [['content'], '2', 0, 0, 0], [['pause'], 0]], [['Слово= ', 'вещи,'], ['1', '2', '5', '1', 0, 0, 0, '8'], [['content'], 0, 0, 0, 0], [['pause'], 0]], [['Слово= ', 'если'], ['9', 0, 0, 0, 0, '200', 0, '8'], [['content'], '1', 0, 0, 0], [['pause'], 0]], [['Слово= ', 'успеет.'], ['6', '63', 0, '2', '100', 0, 0, '8'], [['content'], 0, 0, 0, 0], [['pause'], 0]], [['Слово= ', 'Мой'], ['3', '20', 0, '1', 0, '3', 0, '16'], [['content'], 0, 0, 0, 0], [['pause'], 0]], [['Слово= ', 'айфон'], ['1', '5', '4', '2', 0, 0, 0, '8'], [['content'], 0, 0, 0, 0], [['pause'], 0]], [['Слово= ', 'так'], ['10', 0, 0, 0, 0, 0, 0, '8'], [['content'], 0, 0, 0, 0], [['pause'], 0]], [['Слово= ', 'увлеченно'], ['10', 0, 0, '3', 0, 0, 0, '8'], [['content'], 0, 0, 0, 0], [['pause'], 0]], [['Слово= ', 'покрывается'], ['6', '63', 0, '3', 0, 0, 0, '8'], [['content'], '2', 0, 0, 0], [['pause'], 0]], [['Слово= ', 'трещинами,'], ['2', '13', '5', '1', 0, 0, 0, '8'], [['content'], 0, 0, 0, 0], [['pause'], 0]], [['Слово= ', 'что'], ['9', 0, 0, '1', 0, '200', 0, '8'], [['content'], 0, 0, 0, 0], [['pause'], 0]], [['Слово= ', 'я'], ['11', '1', '8', 0, 0, '2', 0, '8'], [['content'], 0, 0, 0, 0], [['pause'], 0]], [['Слово= ', 'уже'], ['10', 0, 0, '2', 0, 0, 0, '8'], [['content'], 0, 0, 0, 0], [['pause'], 0]], [['Слово= ', 'начинаю'], ['6', '61', 0, '3', 0, '10', 0, '8'], [['content'], '2', 0, 0, 0], [['pause'], 0]], [['Слово= ', 'надеяться,'], ['6', '60', 0, '2', 0, 0, 0, '8'], [['content'], 0, 0, 0, 0], [['pause'], 0]], [['Слово= ', 'что'], ['9', 0, 0, 0, 0, '200', 0, '8'], [['content'], 0, 0, 0, 0], [['pause'], 0]], [['Слово= ', 'из'], ['9', 0, 0, 0, 0, '100', 0, '8'], [['content'], 0, 0, 0, 0], [['pause'], 0]], [['Слово= ', 'него'], ['11', '2', '1', 0, 0, '2', 0, '8'], [['content'], 0, 0, 0, 0], [['pause'], 0]], [['Слово= ', 'скоро'], ['10', 0, 0, '1', 0, 0, 0, '8'], [['content'], 0, 0, 0, 0], [['pause'], 0]], [['Слово= ', 'вылупится'], ['6', '63', 0, '1', '100', 0, 0, '8'], [['content'], 0, 0, 0, 0], [['pause'], 0]], [['Слово= ', 'айфон'], ['1', '1', '4', '2', 0, 0, 0, '8'], [['content'], '1', 0, 0, 0], [['pause'], 0]], [['Слово= ', 'поновее.'], ['5', '50', 0, '3', 0, 0, 0, '8'], [['content'], 0, 0, 0, 0], [['pause'], 0]], [['Слово= ', 'Петух,'], ['1', '1', '1', '2', 0, 0, 0, '16'], [['content'], 0, 0, 0, 0], [['pause'], 0]], [['Слово= ', 'случайно'], ['10', 0, 0, '2', 0, 0, 0, '8'], [['content'], 0, 0, 0, 0], [['pause'], 0]], [['Слово= ', 'взлетевший'], ['7', '20', 0, '2', '100', 0, 0, '8'], [['content'], 0, 0, 0, 0], [['pause'], 0]], [['Слово= ', 'на'], ['9', 0, 0, 0, 0, '100', 0, '8'], [['content'], 0, 0, 0, 0], [['pause'], 0]], [['Слово= ', 'крышу'], ['1', '5', '5', '1', 0, 0, 0, '8'], [['content'], '2', 0, 0, 0], [['pause'], 0]], [['Слово= ', 'курятника,'], ['1', '2', '1', '2', 0, 0, 0, '8'], [['content'], 0, 0, 0, 0], [['pause'], 0]], [['Слово= ', 'мнит'], ['6', '63', 0, '1', 0, '10', 0, '8'], [['content'], 0, 0, 0, 0], [['pause'], 0]], [['Слово= ', 'себя'], ['1', '5', 0, 0, 0, '2', 0, '8'], [['content'], '1', 0, 0, 0], [['pause'], 0]], [['Слово= ', 'орлом.'], ['1', '6', '1', '2', 0, 0, 0, '8'], [['content'], 0, 0, 0, 0], [['pause'], 0]], [['Слово= ', 'После'], ['9', 0, 0, '1', 0, '100', 0, '16'], [['content'], 0, 0, 0, 0], [['pause'], 0]], [['Слово= ', 'прочтения'], ['1', '2', '6', '2', 0, 0, 0, '8'], [['content'], 0, 0, 0, 0], [['pause'], 0]], [['Слово= ', 'предупреждающей'], ['7', '28', 0, '4', 0, '10', 0, '8'], [['content'], 0, 0, 0, 0], [['pause'], 0]], [['Слово= ', 'надписи'], ['1', '2', '5', '1', 0, 0, 0, '8'], [['content'], 0, 0, 0, '1'], [['pause'], 0]], [['Слово= ', '\"Мусор'], ['1', '1', '4', '1', 0, '1', 0, '16'], [['content'], 0, 0, 0, 0], [['pause'], 0]], [['Слово= ', 'не'], ['9', 0, 0, 0, 0, '400', 0, '8'], [['content'], '5', 0, '1', 0], [['pause'], 0]], [['Слово= ', 'бросать!\"'], ['6', '60', 0, '2', 0, '10', 0, '8'], [['content'], 0, 0, 0, 0], [['pause'], 0]], [['Слово= ', 'хочется'], ['6', '63', 0, '1', 0, 0, 0, '8'], [['content'], 0, 0, 0, 0], [['pause'], 0]], [['Слово= ', 'бережно'], ['10', 0, 0, '1', 0, 0, 0, '8'], [['content'], 0, 0, 0, 0], [['pause'], 0]], [['Слово= ', 'положить'], ['6', '60', 0, '3', '100', '10', 0, '8'], [['content'], 0, 0, 0, 0], [['pause'], 0]], [['Слово= ', 'его'], ['11', '2', '1', 0, 0, '2', 0, '8'], [['content'], 0, 0, 0, 0], [['pause'], 0]], [['Слово= ', 'на'], ['9', 0, 0, 0, 0, '100', 0, '8'], [['content'], 0, 0, 0, 0], [['pause'], 0]], [['Слово= ', 'это'], ['3', '36', 0, '1', 0, '3', 0, '8'], [['content'], '11', 0, 0, 0], [['pause'], 0]], [['Слово= ', 'место...'], ['1', '5', '6', '1', 0, 0, 0, '8'], [['content'], 0, 0, 0, 0], [['pause'], 0]], [['Слово= ', 'Как-то'], ['10', 0, 0, '1', 0, 0, 0, '16'], [['content'], 0, 0, 0, 0], [['pause'], 0]], [['Слово= ', 'внезапно'], ['10', 0, 0, '2', 0, 0, 0, '8'], [['content'], 0, 0, 0, 0], [['pause'], 0]], [['Слово= ', 'попал'], ['6', '67', 0, '2', '100', 0, 0, '8'], [['content'], 0, 0, 0, 0], [['pause'], 0]], [['Слово= ', 'в'], ['9', 0, 0, 0, 0, '100', 0, 0], [['content'], '2', 0, 0, 0], [['pause'], 0]], [['Слово= ', 'возраст,'], ['1', '5', '4', '1', 0, 0, 0, '8'], [['content'], 0, 0, 0, 0], [['pause'], 0]], [['Слово= ', 'когда'], ['10', 0, 0, '2', 0, 0, 0, '8'], [['content'], 0, 0, 0, 0], [['pause'], 0]], [['Слово= ', 'можно'], ['9', 0, 0, '1', 0, '600', 0, '8'], [['content'], 0, 0, 0, 0], [['pause'], 0]], [['Слово= ', 'уже'], ['10', 0, 0, '2', 0, 0, 0, '8'], [['content'], 0, 0, 0, 0], [['pause'], 0]], [['Слово= ', 'не'], ['9', 0, 0, 0, 0, '400', 0, '8'], [['content'], 0, 0, 0, 0], [['pause'], 0]], [['Слово= ', 'специально'], ['10', 0, 0, '3', 0, 0, 0, '8'], [['content'], 0, 0, 0, 0], [['pause'], 0]], [['Слово= ', 'не'], ['9', 0, 0, 0, 0, '400', 0, '8'], [['content'], 0, 0, 0, 0], [['pause'], 0]], [['Слово= ', 'узнать'], ['6', '60', 0, '2', '100', '10', 0, '8'], [['content'], 0, 0, 0, 0], [['pause'], 0]], [['Слово= ', 'бывшую'], ['3', '30', 0, '1', 0, 0, 0, '8'], [['content'], 0, 0, 0, 0], [['pause'], 0]], [['Слово= ', 'одноклассницу'], ['1', '5', '2', '3', 0, 0, 0, '8'], [['content'], 0, 0, 0, 0], [['pause'], 0]], [['Слово= ', 'на'], ['9', 0, 0, 0, 0, '100', 0, '8'], [['content'], '1', 0, 0, 0], [['pause'], 0]], [['Слово= ', 'улице.'], ['1', '7', '5', '1', 0, 0, 0, '8'], [['content'], 0, 0, 0, 0], [['pause'], 0]], [['Слово= ', 'Венеция -'], ['1', '1', '5', '2', '40', '1', 0, '16'], [['content'], 0, 0, 0, 0], [['pause'], 0]], [['Слово= ', 'единственный'], ['3', '20', 0, '2', 0, 0, 0, '8'], [['content'], 0, 0, 0, 0], [['pause'], 0]], [['Слово= ', 'город'], ['1', '1', '4', '1', 0, 0, 0, '8'], [['content'], 0, 0, 0, 0], [['pause'], 0]], [['Слово= ', 'на'], ['9', 0, 0, 0, 0, '100', 0, '8'], [['content'], '2', 0, 0, 0], [['pause'], 0]], [['Слово= ', 'земле,'], ['1', '7', '5', '2', 0, 0, 0, '8'], [['content'], 0, 0, 0, 0], [['pause'], 0]], [['Слово= ', 'в'], ['9', 0, 0, 0, 0, '100', 0, 0], [['content'], 0, 0, 0, 0], [['pause'], 0]], [['Слово= ', 'котором'], ['3', '26', 0, '2', 0, '3', 0, '8'], [['content'], 0, 0, 0, 0], [['pause'], 0]], [['Слово= ', 'вас'], ['12', '10', '8', 0, 0, '2', 0, '8'], [['content'], 0, 0, 0, 0], [['pause'], 0]], [['Слово= ', 'могут'], ['6', '66', 0, '1', 0, 0, 0, '8'], [['content'], 0, 0, 0, 0], [['pause'], 0]], [['Слово= ', 'залить'], ['6', '60', 0, '2', '100', '10', 0, '8'], [['content'], '1', 0, 0, 0], [['pause'], 0]], [['Слово= ', 'снизу.'], ['10', 0, 0, '1', 0, 0, 0, '8'], [['content'], 0, 0, 0, 0], [['pause'], 0]], [['Слово= ', 'Поговорка:'], ['1', '1', '5', '3', 0, 0, 0, '16'], [['content'], 0, 0, 0, '1'], [['pause'], 0]], [['Слово= ', '\"Зимой'], ['10', 0, 0, '2', 0, 0, 0, '16'], [['content'], 0, 0, 0, 0], [['pause'], 0]], [['Слово= ', 'снега'], ['1', '2', '4', '1', 0, 0, 0, '8'], [['content'], 0, 0, 0, 0], [['pause'], 0]], [['Слово= ', 'не'], ['9', 0, 0, 0, 0, '400', 0, '8'], [['content'], 0, 0, '1', 0], [['pause'], 0]], [['Слово= ', 'выпросишь\"'], ['6', '62', 0, '1', '100', '10', 0, '8'], [['content'], 0, 0, 0, 0], [['pause'], 0]], [['Слово= ', 'в'], ['9', 0, 0, 0, 0, '100', 0, 0], [['content'], 0, 0, 0, 0], [['pause'], 0]], [['Слово= ', 'этом'], ['3', '26', 0, '1', 0, '3', 0, '8'], [['content'], 0, 0, 0, 0], [['pause'], 0]], [['Слово= ', 'году'], ['1', '8', '4', '2', 0, 0, 0, '8'], [['content'], 0, 0, 0, 0], [['pause'], 0]], [['Слово= ', 'заиграла'], ['6', '68', 0, '3', '100', '10', 0, '8'], [['content'], 0, 0, 0, 0], [['pause'], 0]], [['Слово= ', 'новыми'], ['3', '44', 0, '1', 0, 0, 0, '8'], [['content'], 0, 0, 0, 0], [['pause'], 0]], [['Слово= ', 'зелеными'], ['3', '44', 0, '2', 0, 0, 0, '8'], [['content'], '1', 0, 0, 0], [['pause'], 0]], [['Слово= ', 'красками.'], ['2', '13', '5', '1', 0, 0, 0, '8'], [['content'], 0, 0, 0, 0], [['pause'], 0]], [['Слово= ', 'Закупилась'], ['6', '68', 0, '3', '100', 0, 0, '16'], [['content'], 0, 0, 0, 0], [['pause'], 0]], [['Слово= ', 'косметикой'], ['1', '6', '5', '2', 0, '1', 0, '8'], [['content'], 0, 0, 0, 0], [['pause'], 0]], [['Слово= ', 'на'], ['9', 0, 0, 0, 0, '100', 0, '8'], [['content'], 0, 0, 0, 0], [['pause'], 0]], [['Слово= ', 'несколько'], ['0', '5', 0, '1', 0, 0, 0, '8'], [['content'], '2', 0, 0, 0], [['pause'], 0]], [['Слово= ', 'тысяч,'], ['2', '10', '5', '1', 0, 0, 0, '8'], [['content'], 0, 0, 0, 0], [['pause'], 0]], [['Слово= ', 'сочетание'], ['1', '1', '6', '3', 0, 0, 0, '8'], [['content'], 0, 0, 0, 0], [['pause'], 0]], [['Слово= ', 'блеска'], ['1', '2', '4', '1', 0, 0, 0, '8'], [['content'], 0, 0, 0, 0], [['pause'], 0]], [['Слово= ', 'и'], ['9', 0, 0, 0, 0, '200', 0, '8'], [['content'], 0, 0, 0, 0], [['pause'], 0]], [['Слово= ', 'нищеты'], ['1', '2', '5', '3', 0, '1', 0, '8'], [['content'], 0, 0, 0, 0], [['pause'], 0]], [['Слово= ', 'еще'], ['10', 0, 0, '2', 0, 0, 0, '8'], [['content'], 0, 0, 0, 0], [['pause'], 0]], [['Слово= ', 'никогда'], ['10', 0, 0, '3', 0, 0, 0, '8'], [['content'], 0, 0, 0, 0], [['pause'], 0]], [['Слово= ', 'не'], ['9', 0, 0, '1', 0, '400', 0, '8'], [['content'], 0, 0, 0, 0], [['pause'], 0]], [['Слово= ', 'было'], ['6', '69', 0, 0, 0, 0, 0, '8'], [['content'], 0, 0, 0, 0], [['pause'], 0]], [['Слово= ', 'так'], ['10', 0, 0, 0, 0, 0, 0, '8'], [['content'], '11', 0, 0, 0], [['pause'], 0]], [['Слово= ', 'актуально...'], ['4', '48', 0, '3', 0, 0, 0, '8'], [['content'], 0, 0, 0, 0], [['pause'], 0]], [['Слово= ', 'Человек'], ['1', '1', '1', '3', 0, 0, 0, '16'], [['content'], 0, 0, 0, 0], [['pause'], 0]], [['Слово= ', 'взрослеет'], ['6', '63', 0, '2', 0, 0, 0, '8'], [['content'], '2', 0, 0, 0], [['pause'], 0]], [['Слово= ', 'тогда,'], ['10', 0, 0, '2', 0, 0, 0, '8'], [['content'], 0, 0, 0, 0], [['pause'], 0]], [['Слово= ', 'когда'], ['10', 0, 0, '2', 0, 0, 0, '8'], [['content'], 0, 0, 0, 0], [['pause'], 0]], [['Слово= ', 'при'], ['9', 0, 0, 0, 0, '100', 0, '8'], [['content'], 0, 0, 0, 0], [['pause'], 0]], [['Слово= ', 'визите'], ['1', '7', '4', '2', 0, 0, 0, '8'], [['content'], 0, 0, 0, 0], [['pause'], 0]], [['Слово= ', 'к'], ['9', 0, 0, 0, 0, '100', 0, 0], [['content'], '2', 0, 0, 0], [['pause'], 0]], [['Слово= ', 'стоматологу,'], ['1', '4', '1', '3', 0, 0, 0, '8'], [['content'], 0, 0, 0, 0], [['pause'], 0]], [['Слово= ', 'его'], ['3', 0, 0, 0, 0, '3', 0, '8'], [['content'], 0, 0, 0, 0], [['pause'], 0]], [['Слово= ', 'больше'], ['5', '50', 0, '1', 0, 0, 0, '8'], [['content'], 0, 0, 0, 0], [['pause'], 0]], [['Слово= ', 'всего'], ['1', '2', '6', '2', 0, '2', 0, '8'], [['content'], 0, 0, 0, 0], [['pause'], 0]], [['Слово= ', 'пугает'], ['6', '63', 0, '2', 0, '10', 0, '8'], [['content'], 0, 0, 0, 0], [['pause'], 0]], [['Слово= ', 'не'], ['9', 0, 0, 0, 0, '400', 0, '8'], [['content'], '2', 0, 0, 0], [['pause'], 0]], [['Слово= ', 'бормашина,'], ['1', '1', '5', '3', 0, 0, 0, '8'], [['content'], 0, 0, 0, 0], [['pause'], 0]], [['Слово= ', 'а'], ['9', 0, 0, 0, 0, '200', 0, '8'], [['content'], '1', 0, 0, 0], [['pause'], 0]], [['Слово= ', 'счет.'], ['1', '1', '4', '1', 0, 0, 0, '8'], [['content'], 0, 0, 0, 0], [['pause'], 0]], [['Слово= ', 'Мама,'], ['1', '1', '2', '1', 0, 0, 0, '16'], [['content'], 0, 0, 0, 0], [['pause'], 0]], [['Слово= ', 'я'], ['11', '1', '8', 0, 0, '2', 0, '8'], [['content'], 0, 0, 0, 0], [['pause'], 0]], [['Слово= ', 'посуду'], ['1', '5', '5', '2', 0, 0, 0, '8'], [['content'], '2', 0, 0, 0], [['pause'], 0]], [['Слово= ', 'помыла,'], ['6', '68', 0, '2', '100', '10', 0, '8'], [['content'], 0, 0, 0, 0], [['pause'], 0]], [['Слово= ', 'в'], ['9', 0, 0, 0, 0, '100', 0, 0], [['content'], 0, 0, 0, 0], [['pause'], 0]], [['Слово= ', 'комнате'], ['1', '7', '5', '1', 0, 0, 0, '8'], [['content'], '2', 0, 0, 0], [['pause'], 0]], [['Слово= ', 'убралась,'], ['6', '68', 0, '3', '100', 0, 0, '8'], [['content'], 0, 0, 0, 0], [['pause'], 0]], [['Слово= ', 'уроки'], ['2', '12', '4', '2', 0, 0, 0, '8'], [['content'], '2', 0, 0, 0], [['pause'], 0]], [['Слово= ', 'сделала,'], ['6', '68', 0, '1', '100', '10', 0, '8'], [['content'], 0, 0, 0, 0], [['pause'], 0]], [['Слово= ', 'универ'], ['1', '5', '4', '3', 0, 0, 0, '8'], [['content'], '2', 0, 0, 0], [['pause'], 0]], [['Слово= ', 'закончила,'], ['6', '68', 0, '2', '100', '10', 0, '8'], [['content'], 0, 0, 0, 0], [['pause'], 0]], [['Слово= ', 'замуж'], ['10', 0, 0, '1', 0, 0, 0, '8'], [['content'], '2', 0, 0, 0], [['pause'], 0]], [['Слово= ', 'вышла,'], ['6', '68', 0, '1', '100', 0, 0, '8'], [['content'], '11', 0, 0, 0], [['pause'], 0]], [['Слово= ', 'родила...'], ['6', '68', 0, '3', '100', '10', 0, '8'], [['content'], 0, 0, 0, 0], [['pause'], 0]], [['Слово= ', 'Можно,'], ['9', 0, 0, '1', 0, '600', 0, '16'], [['content'], 0, 0, 0, 0], [['pause'], 0]], [['Слово= ', 'я'], ['11', '1', '8', 0, 0, '2', 0, '8'], [['content'], 0, 0, 0, 0], [['pause'], 0]], [['Слово= ', 'теперь'], ['10', 0, 0, '2', 0, 0, 0, '8'], [['content'], 0, 0, 0, 0], [['pause'], 0]], [['Слово= ', 'пойду'], ['6', '61', 0, '2', '100', 0, 0, '8'], [['content'], '6', 0, 0, 0], [['pause'], 0]], [['Слово= ', 'погуляю?'], ['6', '61', 0, '3', '100', 0, 0, '8'], [['content'], 0, 0, 0, 0], [['pause'], 0]], [['Слово= ', 'Монстры'], ['2', '9', '1', '1', 0, 0, 0, '16'], [['content'], 0, 0, 0, 0], [['pause'], 0]], [['Слово= ', 'из'], ['9', 0, 0, 0, 0, '100', 0, '8'], [['content'], 0, 0, 0, 0], [['pause'], 0]], [['Слово= ', 'американских'], ['3', '40', 0, '4', 0, 0, 0, '8'], [['content'], '12', 0, 0, 0], [['pause'], 0]], [['Слово= ', 'ужастиков -'], ['2', '10', '4', '2', 0, 0, 0, '8'], [['content'], 0, 0, 0, 0], [['pause'], 0]], [['Слово= ', 'единственные'], ['3', '39', 0, '2', 0, 0, 0, '8'], [['content'], 0, 0, 0, 0], [['pause'], 0]], [['Слово= ', 'монстры'], ['2', '9', '1', '1', 0, 0, 0, '8'], [['content'], 0, 0, 0, 0], [['pause'], 0]], [['Слово= ', 'в'], ['9', 0, 0, 0, 0, '100', 0, 0], [['content'], 0, 0, 0, 0], [['pause'], 0]], [['Слово= ', 'мировом'], ['3', '26', 0, '3', 0, 0, 0, '8'], [['content'], '2', 0, 0, 0], [['pause'], 0]], [['Слово= ', 'кинематографе,'], ['1', '7', '4', '4', 0, 0, 0, '8'], [['content'], 0, 0, 0, 0], [['pause'], 0]], [['Слово= ', 'которым'], ['3', '37', 0, '2', 0, '3', 0, '8'], [['content'], 0, 0, 0, 0], [['pause'], 0]], [['Слово= ', 'сопереживаешь'], ['6', '62', 0, '5', 0, '10', 0, '8'], [['content'], 0, 0, 0, 0], [['pause'], 0]], [['Слово= ', 'гораздо'], ['10', 0, 0, '2', 0, 0, 0, '8'], [['content'], '2', 0, 0, 0], [['pause'], 0]], [['Слово= ', 'больше,'], ['5', '50', 0, '1', 0, 0, 0, '8'], [['content'], 0, 0, 0, 0], [['pause'], 0]], [['Слово= ', 'чем'], ['9', 0, 0, '1', 0, '200', 0, '8'], [['content'], 0, 0, 0, 0], [['pause'], 0]], [['Слово= ', 'главным'], ['3', '41', 0, '1', 0, 0, 0, '8'], [['content'], '1', 0, 0, 0], [['pause'], 0]], [['Слово= ', 'героям.'], ['2', '11', '1', '2', 0, 0, 0, '8'], [['content'], 0, 0, 0, 0], [['pause'], 0]], [['Слово= ', 'Слон,'], ['1', '1', '1', '1', 0, 0, 0, '16'], [['content'], 0, 0, 0, 0], [['pause'], 0]], [['Слово= ', 'случайно'], ['10', 0, 0, '2', 0, 0, 0, '8'], [['content'], 0, 0, 0, 0], [['pause'], 0]], [['Слово= ', 'наступивший'], ['7', '20', 0, '3', '100', 0, 0, '8'], [['content'], 0, 0, 0, 0], [['pause'], 0]], [['Слово= ', 'на'], ['9', 0, 0, 0, 0, '100', 0, '8'], [['content'], 0, 0, 0, 0], [['pause'], 0]], [['Слово= ', 'финишную'], ['3', '30', 0, '1', 0, 0, 0, '8'], [['content'], '2', 0, 0, 0], [['pause'], 0]], [['Слово= ', 'черту,'], ['1', '5', '5', '2', 0, 0, 0, '8'], [['content'], 0, 0, 0, 0], [['pause'], 0]], [['Слово= ', 'невольно'], ['10', 0, 0, '2', 0, 0, 0, '8'], [['content'], 0, 0, 0, 0], [['pause'], 0]], [['Слово= ', 'зафиксировал'], ['6', '67', 0, '3', '100', '10', 0, '8'], [['content'], 0, 0, 0, 0], [['pause'], 0]], [['Слово= ', 'результаты'], ['2', '12', '4', '3', 0, 0, 0, '8'], [['content'], 0, 0, 0, 0], [['pause'], 0]], [['Слово= ', 'тараканьих'], ['3', '40', 0, '3', 0, 0, 0, '8'], [['content'], '1', 0, 0, 0], [['pause'], 0]], [['Слово= ', 'бегов.'], ['2', '10', 0, '2', 0, 0, 0, '8'], [['content'], 0, 0, 0, 0], [['pause'], 0]], [['Слово= ', 'От'], ['9', 0, 0, 0, 0, '100', 0, '24'], [['content'], 0, 0, 0, 0], [['pause'], 0]], [['Слово= ', 'смеха'], ['1', '2', '4', '1', 0, 0, 0, '8'], [['content'], 0, 0, 0, 0], [['pause'], 0]], [['Слово= ', 'еще'], ['10', 0, 0, '2', 0, 0, 0, '8'], [['content'], 0, 0, 0, 0], [['pause'], 0]], [['Слово= ', 'никто'], ['1', '1', '1', '2', 0, '2', 0, '8'], [['content'], 0, 0, 0, 0], [['pause'], 0]], [['Слово= ', 'не'], ['9', 0, 0, 0, 0, '400', 0, '8'], [['content'], '2', 0, 0, 0], [['pause'], 0]], [['Слово= ', 'умирал,'], ['6', '67', 0, '3', 0, 0, 0, '8'], [['content'], 0, 0, 0, 0], [['pause'], 0]], [['Слово= ', 'кроме'], ['9', 0, 0, 0, 0, '100', 0, '8'], [['content'], '2', 0, 0, 0], [['pause'], 0]], [['Слово= ', 'тех,'], ['3', '40', 0, '1', 0, '3', 0, '8'], [['content'], 0, 0, 0, 0], [['pause'], 0]], [['Слово= ', 'кто'], ['1', '1', '1', 0, 0, '2', 0, '8'], [['content'], 0, 0, 0, 0], [['pause'], 0]], [['Слово= ', 'пошутил'], ['6', '67', 0, '3', '100', 0, 0, '8'], [['content'], '1', 0, 0, 0], [['pause'], 0]], [['Слово= ', 'неудачно.'], ['10', 0, 0, '3', 0, 0, 0, '8'], [['content'], 0, 0, 0, 0], [['pause'], 0]], [['Слово= ', 'Интересный'], ['3', '20', 0, '3', 0, 0, 0, '24'], [['content'], '3', 0, 0, 0], [['pause'], 0]], [['Слово= ', 'факт:'], ['1', '1', '4', '1', 0, 0, 0, '8'], [['content'], 0, 0, 0, 0], [['pause'], 0]], [['Слово= ', 'когда'], ['10', 0, 0, '2', 0, 0, 0, '8'], [['content'], 0, 0, 0, 0], [['pause'], 0]], [['Слово= ', 'женщины'], ['2', '9', '2', '1', 0, 0, 0, '8'], [['content'], 0, 0, 0, 0], [['pause'], 0]], [['Слово= ', 'общаются'], ['6', '66', 0, '2', 0, 0, 0, '8'], [['content'], 0, 0, 0, 0], [['pause'], 0]], [['Слово= ', 'друг'], ['1', '1', '1', 0, 0, 0, 0, '8'], [['content'], 0, 0, 0, 0], [['pause'], 0]], [['Слово= ', 'с'], ['9', 0, 0, 0, 0, '100', 0, 0], [['content'], '2', 0, 0, 0], [['pause'], 0]], [['Слово= ', 'другом,'], ['1', '6', '1', '1', 0, 0, 0, '8'], [['content'], 0, 0, 0, 0], [['pause'], 0]], [['Слово= ', 'они'], ['12', '9', '8', 0, 0, '2', 0, '8'], [['content'], 0, 0, 0, 0], [['pause'], 0]], [['Слово= ', 'используют'], ['6', '66', 0, '2', '100', '10', 0, '8'], [['content'], 0, 0, 0, 0], [['pause'], 0]], [['Слово= ', 'технологию'], ['1', '5', '5', '3', 0, 0, 0, '8'], [['content'], 0, 0, 0, 0], [['pause'], 0]], [['Слово= ', 'потокового'], ['3', '34', 0, '2', 0, 0, 0, '8'], [['content'], '1', 0, 0, 0], [['pause'], 0]], [['Слово= ', 'вещания.'], ['1', '2', '6', '2', 0, '1', 0, '8'], [['content'], 0, 0, 0, 0], [['pause'], 0]], [['Слово= ', 'В'], ['9', 0, 0, 0, 0, '100', 0, '16'], [['content'], 0, 0, 0, 0], [['pause'], 0]], [['Слово= ', 'новом'], ['3', '26', 0, '1', 0, 0, 0, '8'], [['content'], 0, 0, 0, 0], [['pause'], 0]], [['Слово= ', 'году'], ['1', '8', '4', '2', 0, 0, 0, '8'], [['content'], 0, 0, 0, 0], [['pause'], 0]], [['Слово= ', 'я'], ['11', '1', '8', 0, 0, '2', 0, '8'], [['content'], 0, 0, 0, 0], [['pause'], 0]], [['Слово= ', 'буду'], ['6', '61', 0, '1', 0, 0, 0, '8'], [['content'], 0, 0, 0, 0], [['pause'], 0]], [['Слово= ', 'каждое'], ['3', '33', 0, '1', 0, '3', 0, '8'], [['content'], 0, 0, 0, 0], [['pause'], 0]], [['Слово= ', 'утро'], ['1', '1', '6', '1', 0, 0, 0, '8'], [['content'], 0, 0, 0, 0], [['pause'], 0]], [['Слово= ', 'вставать'], ['6', '60', 0, '2', 0, 0, 0, '8'], [['content'], 0, 0, 0, 0], [['pause'], 0]], [['Слово= ', 'рано'], ['10', 0, 0, '1', 0, 0, 0, '8'], [['content'], 0, 0, 0, 0], [['pause'], 0]], [['Слово= ', 'и'], ['9', 0, 0, 0, 0, '200', 0, '8'], [['content'], '2', 0, 0, 0], [['pause'], 0]], [['Слово= ', 'бегать,'], ['6', '60', 0, '1', 0, 0, 0, '8'], [['content'], 0, 0, 0, 0], [['pause'], 0]], [['Слово= ', 'а'], ['9', 0, 0, 0, 0, '200', 0, '8'], [['content'], 0, 0, 0, 0], [['pause'], 0]], [['Слово= ', 'еще'], ['10', 0, 0, '2', 0, 0, 0, '8'], [['content'], '2', 0, 0, 0], [['pause'], 0]], [['Слово= ', 'возможно,'], ['10', 0, 0, '2', 0, 0, 0, '8'], [['content'], 0, 0, 0, 0], [['pause'], 0]], [['Слово= ', 'что'], ['9', 0, 0, '1', 0, '200', 0, '8'], [['content'], 0, 0, 0, 0], [['pause'], 0]], [['Слово= ', 'выиграю'], ['6', '61', 0, '1', '100', '10', 0, '8'], [['content'], 0, 0, 0, 0], [['pause'], 0]], [['Слово= ', 'по'], ['9', 0, 0, 0, 0, '100', 0, '8'], [['content'], 0, 0, 0, 0], [['pause'], 0]], [['Слово= ', 'лотерее'], ['1', '4', '5', '3', 0, 0, 0, '8'], [['content'], '12', 0, 0, 0], [['pause'], 0]], [['Слово= ', 'миллион -'], ['1', '5', '4', '3', 0, 0, 0, '8'], [['content'], 0, 0, 0, 0], [['pause'], 0]], [['Слово= ', 'шансы'], ['2', '9', '4', '1', 0, 0, 0, '8'], [['content'], 0, 0, 0, 0], [['pause'], 0]], [['Слово= ', 'примерно'], ['10', 0, 0, '2', 0, 0, 0, '8'], [['content'], '1', 0, 0, 0], [['pause'], 0]], [['Слово= ', 'равные.'], ['3', '39', 0, '1', 0, 0, 0, '8'], [['content'], 0, 0, 0, 0], [['pause'], 0]], [['Слово= ', 'Больше'], ['5', '50', 0, '1', 0, 0, 0, '16'], [['content'], 0, 0, 0, 0], [['pause'], 0]], [['Слово= ', 'всего'], ['1', '2', '6', '2', 0, '2', 0, '8'], [['content'], 0, 0, 0, 0], [['pause'], 0]], [['Слово= ', 'человек'], ['1', '1', '1', '3', 0, 0, 0, '8'], [['content'], 0, 0, 0, 0], [['pause'], 0]], [['Слово= ', 'ненавидит'], ['6', '63', 0, '3', 0, '10', 0, '8'], [['content'], '2', 0, 0, 0], [['pause'], 0]], [['Слово= ', 'тех,'], ['3', '40', 0, '1', 0, '3', 0, '8'], [['content'], 0, 0, 0, 0], [['pause'], 0]], [['Слово= ', 'кто'], ['1', '1', '1', 0, 0, '2', 0, '8'], [['content'], 0, 0, 0, 0], [['pause'], 0]], [['Слово= ', 'смеется'], ['6', '63', 0, '2', 0, 0, 0, '8'], [['content'], 0, 0, 0, 0], [['pause'], 0]], [['Слово= ', 'ему'], ['11', '4', '1', 0, 0, '2', 0, '8'], [['content'], 0, 0, 0, 0], [['pause'], 0]], [['Слово= ', 'прямо'], ['10', 0, 0, '1', 0, 0, 0, '8'], [['content'], 0, 0, 0, 0], [['pause'], 0]], [['Слово= ', 'в'], ['9', 0, 0, 0, 0, '100', 0, 0], [['content'], '2', 0, 0, 0], [['pause'], 0]], [['Слово= ', 'глаза,'], ['2', '12', '4', '2', 0, 0, 0, '8'], [['content'], 0, 0, 0, 0], [['pause'], 0]], [['Слово= ', 'а'], ['9', 0, 0, 0, 0, '200', 0, '8'], [['content'], 0, 0, 0, 0], [['pause'], 0]], [['Слово= ', 'не'], ['9', 0, 0, 0, 0, '400', 0, '8'], [['content'], '2', 0, 0, 0], [['pause'], 0]], [['Слово= ', 'тех,'], ['3', '40', 0, '1', 0, '3', 0, '8'], [['content'], 0, 0, 0, 0], [['pause'], 0]], [['Слово= ', 'кто'], ['1', '1', '1', 0, 0, '2', 0, '8'], [['content'], 0, 0, 0, 0], [['pause'], 0]], [['Слово= ', 'смеется'], ['6', '63', 0, '2', 0, 0, 0, '8'], [['content'], 0, 0, 0, 0], [['pause'], 0]], [['Слово= ', 'за'], ['9', 0, 0, 0, 0, '100', 0, '8'], [['content'], 0, 0, 0, 0], [['pause'], 0]], [['Слово= ', 'его'], ['3', 0, 0, 0, 0, '3', 0, '8'], [['content'], '1', 0, 0, 0], [['pause'], 0]], [['Слово= ', 'спиной.'], ['1', '6', '5', '2', 0, 0, 0, '8'], [['content'], 0, 0, 0, 0], [['pause'], 0]]]\n"
          ]
        },
        {
          "output_type": "display_data",
          "data": {
            "application/vnd.jupyter.widget-view+json": {
              "model_id": "2e778d27ca1841889e2a9eb4d538cb24",
              "version_minor": 0,
              "version_major": 2
            },
            "text/plain": [
              "  0%|          | 0/3004 [00:00<?, ?it/s]"
            ]
          },
          "metadata": {}
        }
      ]
    },
    {
      "cell_type": "markdown",
      "metadata": {
        "id": "2frdsDEu8ue9"
      },
      "source": [
        "# Обучение"
      ]
    },
    {
      "cell_type": "markdown",
      "metadata": {
        "id": "Qq231_kyVeB-"
      },
      "source": [
        "### Отдельное обучение трёх Random Forest"
      ]
    },
    {
      "cell_type": "markdown",
      "metadata": {
        "id": "WREtYSVYVrQT"
      },
      "source": [
        "Random Forest для места пауз"
      ]
    },
    {
      "cell_type": "code",
      "metadata": {
        "colab": {
          "base_uri": "https://localhost:8080/"
        },
        "id": "GrMec7Lg8xbY",
        "outputId": "c04fb56d-2548-40f7-f515-41a51f051293"
      },
      "source": [
        "from sklearn.ensemble import RandomForestClassifier\n",
        "\n",
        "clf_pause = RandomForestClassifier(max_depth=10, random_state=4)\n",
        "clf_pause.fit(X[:73000], paus[:73000])\n",
        "predicted = clf_pause.predict(X[73000:])\n",
        "print(metrics.classification_report(paus[73000:], predicted))"
      ],
      "execution_count": 15,
      "outputs": [
        {
          "output_type": "stream",
          "name": "stdout",
          "text": [
            "              precision    recall  f1-score   support\n",
            "\n",
            "           0       0.87      0.88      0.88      1401\n",
            "           1       0.62      0.60      0.61       457\n",
            "\n",
            "    accuracy                           0.81      1858\n",
            "   macro avg       0.75      0.74      0.74      1858\n",
            "weighted avg       0.81      0.81      0.81      1858\n",
            "\n"
          ]
        }
      ]
    },
    {
      "cell_type": "markdown",
      "metadata": {
        "id": "T5iMbq2jVwZa"
      },
      "source": [
        "Random Forest для длины пауз"
      ]
    },
    {
      "cell_type": "code",
      "metadata": {
        "colab": {
          "base_uri": "https://localhost:8080/"
        },
        "id": "16PfDro1KAtS",
        "outputId": "c4c5125e-0734-4ec3-c5ee-3c1d200234ea"
      },
      "source": [
        "clf_dlin = RandomForestClassifier(max_depth=10, random_state=4)\n",
        "clf_dlin.fit(X[:73000], dlin_paus[:73000])\n",
        "predicted = clf_dlin.predict(X[73000:])\n",
        "print(metrics.classification_report(dlin_paus[73000:], predicted))"
      ],
      "execution_count": 16,
      "outputs": [
        {
          "output_type": "stream",
          "name": "stdout",
          "text": [
            "              precision    recall  f1-score   support\n",
            "\n",
            "           0       0.78      0.98      0.87      1401\n",
            "           1       0.86      0.04      0.07       161\n",
            "           2       0.57      0.17      0.26       296\n",
            "\n",
            "    accuracy                           0.77      1858\n",
            "   macro avg       0.74      0.40      0.40      1858\n",
            "weighted avg       0.75      0.77      0.71      1858\n",
            "\n"
          ]
        }
      ]
    },
    {
      "cell_type": "markdown",
      "metadata": {
        "id": "QvwPv1THV7Q8"
      },
      "source": [
        "Random Forest для места ударений"
      ]
    },
    {
      "cell_type": "code",
      "metadata": {
        "colab": {
          "base_uri": "https://localhost:8080/"
        },
        "id": "9dveZilFKA3Q",
        "outputId": "1d164f4d-f883-4c5d-9009-385cc6d51190"
      },
      "source": [
        "clf_udar = RandomForestClassifier(max_depth=10, random_state=4)\n",
        "clf_udar.fit(X[:73000], udar[:73000])\n",
        "predicted = clf_udar.predict(X[73000:])\n",
        "print(metrics.classification_report(udar[73000:], predicted))"
      ],
      "execution_count": 17,
      "outputs": [
        {
          "output_type": "stream",
          "name": "stdout",
          "text": [
            "              precision    recall  f1-score   support\n",
            "\n",
            "           0       0.87      0.88      0.87      1389\n",
            "           1       0.63      0.60      0.61       469\n",
            "\n",
            "    accuracy                           0.81      1858\n",
            "   macro avg       0.75      0.74      0.74      1858\n",
            "weighted avg       0.81      0.81      0.81      1858\n",
            "\n"
          ]
        }
      ]
    },
    {
      "cell_type": "markdown",
      "metadata": {
        "id": "OKcbfhgform3"
      },
      "source": [
        "# JSON"
      ]
    },
    {
      "cell_type": "code",
      "metadata": {
        "id": "BmwGI2O3sNts"
      },
      "source": [
        "udar_test = clf_udar.predict(X_test)\n",
        "pause_test = clf_dlin.predict(X_test) + clf_pause.predict(X_test)"
      ],
      "execution_count": 20,
      "outputs": []
    },
    {
      "cell_type": "markdown",
      "metadata": {
        "id": "GOJiHVV-WCDk"
      },
      "source": [
        "Функция для приведения результатов к нужному виду"
      ]
    },
    {
      "cell_type": "code",
      "metadata": {
        "id": "D1E4s_pGql04"
      },
      "source": [
        "def create_json(sents_test, X_test, udar_test, pause_test):\n",
        "    s = []\n",
        "    i = 0\n",
        "    while i < len(sents_test):\n",
        "        w = {'words': []}\n",
        "        count = 0\n",
        "        z = -1\n",
        "        while z != 0 and i < len(sents_test):\n",
        "            w_i = {\"content\": 0, \"phrasal_stress\": False, \"pause_len\": -1}\n",
        "            w_i[\"content\"] = sents_test[i][0][1]\n",
        "            if udar_test[i] == 1:\n",
        "                w_i[\"phrasal_stress\"] = True\n",
        "            if pause_test[i] == 1:\n",
        "                w_i[\"pause_len\"] = 200\n",
        "            elif pause_test[i] >= 2:\n",
        "                w_i[\"pause_len\"] = 500\n",
        "            w['words'].append(w_i)\n",
        "            if count != 0:\n",
        "                s.append(w)\n",
        "                z = 0\n",
        "            if X_test[i][7] == 1 or X_test[i][7] == 5 or X_test[i][7] == 6 or X_test[i][7] == 7:\n",
        "                count = 1\n",
        "            i += 1\n",
        "    return s"
      ],
      "execution_count": 21,
      "outputs": []
    },
    {
      "cell_type": "markdown",
      "metadata": {
        "id": "-K7Ay8uNWRCB"
      },
      "source": [
        "Сохранение результатов в формате json"
      ]
    },
    {
      "cell_type": "code",
      "metadata": {
        "id": "nXqOFt74x0qn"
      },
      "source": [
        "import json\n",
        "json_file = create_json(sents_test, X_test, udar_test, pause_test)\n",
        "to_json= json.dumps(json_file, ensure_ascii=False)"
      ],
      "execution_count": 22,
      "outputs": []
    },
    {
      "cell_type": "code",
      "metadata": {
        "id": "qqtsspcQyJ1B"
      },
      "source": [
        "with open('/content/drive/MyDrive/3_семестр/Синтез_речи/test_file.json', 'w') as file:\n",
        "    json.dump(to_json, file)"
      ],
      "execution_count": 25,
      "outputs": []
    },
    {
      "cell_type": "markdown",
      "metadata": {
        "id": "B6JwVd6SWYo-"
      },
      "source": [
        "Результаты"
      ]
    },
    {
      "cell_type": "code",
      "metadata": {
        "colab": {
          "base_uri": "https://localhost:8080/",
          "height": 0
        },
        "id": "7hcsFuNcWXqH",
        "outputId": "27272d9b-7e53-48af-fe83-874885536f69"
      },
      "source": [
        "to_json[:1000]"
      ],
      "execution_count": 34,
      "outputs": [
        {
          "output_type": "execute_result",
          "data": {
            "application/vnd.google.colaboratory.intrinsic+json": {
              "type": "string"
            },
            "text/plain": [
              "'[{\"words\": [{\"content\": \"Реально\", \"phrasal_stress\": false, \"pause_len\": -1}, {\"content\": \"начать\", \"phrasal_stress\": false, \"pause_len\": -1}, {\"content\": \"день\", \"phrasal_stress\": true, \"pause_len\": 200}, {\"content\": \"с\", \"phrasal_stress\": false, \"pause_len\": -1}, {\"content\": \"улыбки -\", \"phrasal_stress\": true, \"pause_len\": 500}, {\"content\": \"это\", \"phrasal_stress\": false, \"pause_len\": -1}, {\"content\": \"проснуться\", \"phrasal_stress\": false, \"pause_len\": -1}, {\"content\": \"от\", \"phrasal_stress\": false, \"pause_len\": -1}, {\"content\": \"звонка\", \"phrasal_stress\": true, \"pause_len\": 500}, {\"content\": \"будильника\", \"phrasal_stress\": true, \"pause_len\": 500}, {\"content\": \"в\", \"phrasal_stress\": false, \"pause_len\": -1}, {\"content\": \"одну\", \"phrasal_stress\": false, \"pause_len\": -1}, {\"content\": \"минуту\", \"phrasal_stress\": true, \"pause_len\": 200}, {\"content\": \"первого\", \"phrasal_stress\": false, \"pause_len\": -1}, {\"content\": \"ночи,\", \"phrasal_stress\": true, \"pause_len\": 500}, {\"content\": \"широко\", \"'"
            ]
          },
          "metadata": {},
          "execution_count": 34
        }
      ]
    }
  ]
}