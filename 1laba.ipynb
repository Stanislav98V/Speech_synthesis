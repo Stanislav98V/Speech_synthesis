{
  "nbformat": 4,
  "nbformat_minor": 0,
  "metadata": {
    "accelerator": "GPU",
    "colab": {
      "name": "1laba.ipynb",
      "provenance": [],
      "collapsed_sections": [
        "nFgquqn9rJiw",
        "99_uXo-hbWxf",
        "wBsj20MKctCw",
        "2frdsDEu8ue9",
        "Qq231_kyVeB-",
        "OKcbfhgform3"
      ],
      "authorship_tag": "ABX9TyP1fi8XiEe3e8kwO8GcBBHB",
      "include_colab_link": true
    },
    "kernelspec": {
      "display_name": "Python 3",
      "name": "python3"
    },
    "language_info": {
      "name": "python"
    },
    "widgets": {
      "application/vnd.jupyter.widget-state+json": {
        "de32169054534568ac8f0d8a3505d7f9": {
          "model_module": "@jupyter-widgets/controls",
          "model_name": "HBoxModel",
          "model_module_version": "1.5.0",
          "state": {
            "_view_name": "HBoxView",
            "_dom_classes": [],
            "_model_name": "HBoxModel",
            "_view_module": "@jupyter-widgets/controls",
            "_model_module_version": "1.5.0",
            "_view_count": null,
            "_view_module_version": "1.5.0",
            "box_style": "",
            "layout": "IPY_MODEL_bfdb2466485e46c596926a2d0bdea16a",
            "_model_module": "@jupyter-widgets/controls",
            "children": [
              "IPY_MODEL_b2d05cc1724448058eb06f9170034bc8",
              "IPY_MODEL_9a14601467fb4a2583233051889b506a",
              "IPY_MODEL_ebe888715e5f4c0e87e69328fd3900bf"
            ]
          }
        },
        "bfdb2466485e46c596926a2d0bdea16a": {
          "model_module": "@jupyter-widgets/base",
          "model_name": "LayoutModel",
          "model_module_version": "1.2.0",
          "state": {
            "_view_name": "LayoutView",
            "grid_template_rows": null,
            "right": null,
            "justify_content": null,
            "_view_module": "@jupyter-widgets/base",
            "overflow": null,
            "_model_module_version": "1.2.0",
            "_view_count": null,
            "flex_flow": null,
            "width": null,
            "min_width": null,
            "border": null,
            "align_items": null,
            "bottom": null,
            "_model_module": "@jupyter-widgets/base",
            "top": null,
            "grid_column": null,
            "overflow_y": null,
            "overflow_x": null,
            "grid_auto_flow": null,
            "grid_area": null,
            "grid_template_columns": null,
            "flex": null,
            "_model_name": "LayoutModel",
            "justify_items": null,
            "grid_row": null,
            "max_height": null,
            "align_content": null,
            "visibility": null,
            "align_self": null,
            "height": null,
            "min_height": null,
            "padding": null,
            "grid_auto_rows": null,
            "grid_gap": null,
            "max_width": null,
            "order": null,
            "_view_module_version": "1.2.0",
            "grid_template_areas": null,
            "object_position": null,
            "object_fit": null,
            "grid_auto_columns": null,
            "margin": null,
            "display": null,
            "left": null
          }
        },
        "b2d05cc1724448058eb06f9170034bc8": {
          "model_module": "@jupyter-widgets/controls",
          "model_name": "HTMLModel",
          "model_module_version": "1.5.0",
          "state": {
            "_view_name": "HTMLView",
            "style": "IPY_MODEL_bb2807143f9d47f39b3369d5b205c189",
            "_dom_classes": [],
            "description": "",
            "_model_name": "HTMLModel",
            "placeholder": "​",
            "_view_module": "@jupyter-widgets/controls",
            "_model_module_version": "1.5.0",
            "value": "100%",
            "_view_count": null,
            "_view_module_version": "1.5.0",
            "description_tooltip": null,
            "_model_module": "@jupyter-widgets/controls",
            "layout": "IPY_MODEL_c00c326b2dbe4bcea3233b6e369398d1"
          }
        },
        "9a14601467fb4a2583233051889b506a": {
          "model_module": "@jupyter-widgets/controls",
          "model_name": "FloatProgressModel",
          "model_module_version": "1.5.0",
          "state": {
            "_view_name": "ProgressView",
            "style": "IPY_MODEL_4c21b231525649ceabc2e0deea2c8d59",
            "_dom_classes": [],
            "description": "",
            "_model_name": "FloatProgressModel",
            "bar_style": "success",
            "max": 8594,
            "_view_module": "@jupyter-widgets/controls",
            "_model_module_version": "1.5.0",
            "value": 8594,
            "_view_count": null,
            "_view_module_version": "1.5.0",
            "orientation": "horizontal",
            "min": 0,
            "description_tooltip": null,
            "_model_module": "@jupyter-widgets/controls",
            "layout": "IPY_MODEL_19415cd6b22a41feae217990798e467f"
          }
        },
        "ebe888715e5f4c0e87e69328fd3900bf": {
          "model_module": "@jupyter-widgets/controls",
          "model_name": "HTMLModel",
          "model_module_version": "1.5.0",
          "state": {
            "_view_name": "HTMLView",
            "style": "IPY_MODEL_f1133b6ee8ed4a1fa2fb1a82d7987886",
            "_dom_classes": [],
            "description": "",
            "_model_name": "HTMLModel",
            "placeholder": "​",
            "_view_module": "@jupyter-widgets/controls",
            "_model_module_version": "1.5.0",
            "value": " 8594/8594 [01:46&lt;00:00, 63.38it/s]",
            "_view_count": null,
            "_view_module_version": "1.5.0",
            "description_tooltip": null,
            "_model_module": "@jupyter-widgets/controls",
            "layout": "IPY_MODEL_60b44a4f9819427cad5b291f2f1ecbde"
          }
        },
        "bb2807143f9d47f39b3369d5b205c189": {
          "model_module": "@jupyter-widgets/controls",
          "model_name": "DescriptionStyleModel",
          "model_module_version": "1.5.0",
          "state": {
            "_view_name": "StyleView",
            "_model_name": "DescriptionStyleModel",
            "description_width": "",
            "_view_module": "@jupyter-widgets/base",
            "_model_module_version": "1.5.0",
            "_view_count": null,
            "_view_module_version": "1.2.0",
            "_model_module": "@jupyter-widgets/controls"
          }
        },
        "c00c326b2dbe4bcea3233b6e369398d1": {
          "model_module": "@jupyter-widgets/base",
          "model_name": "LayoutModel",
          "model_module_version": "1.2.0",
          "state": {
            "_view_name": "LayoutView",
            "grid_template_rows": null,
            "right": null,
            "justify_content": null,
            "_view_module": "@jupyter-widgets/base",
            "overflow": null,
            "_model_module_version": "1.2.0",
            "_view_count": null,
            "flex_flow": null,
            "width": null,
            "min_width": null,
            "border": null,
            "align_items": null,
            "bottom": null,
            "_model_module": "@jupyter-widgets/base",
            "top": null,
            "grid_column": null,
            "overflow_y": null,
            "overflow_x": null,
            "grid_auto_flow": null,
            "grid_area": null,
            "grid_template_columns": null,
            "flex": null,
            "_model_name": "LayoutModel",
            "justify_items": null,
            "grid_row": null,
            "max_height": null,
            "align_content": null,
            "visibility": null,
            "align_self": null,
            "height": null,
            "min_height": null,
            "padding": null,
            "grid_auto_rows": null,
            "grid_gap": null,
            "max_width": null,
            "order": null,
            "_view_module_version": "1.2.0",
            "grid_template_areas": null,
            "object_position": null,
            "object_fit": null,
            "grid_auto_columns": null,
            "margin": null,
            "display": null,
            "left": null
          }
        },
        "4c21b231525649ceabc2e0deea2c8d59": {
          "model_module": "@jupyter-widgets/controls",
          "model_name": "ProgressStyleModel",
          "model_module_version": "1.5.0",
          "state": {
            "_view_name": "StyleView",
            "_model_name": "ProgressStyleModel",
            "description_width": "",
            "_view_module": "@jupyter-widgets/base",
            "_model_module_version": "1.5.0",
            "_view_count": null,
            "_view_module_version": "1.2.0",
            "bar_color": null,
            "_model_module": "@jupyter-widgets/controls"
          }
        },
        "19415cd6b22a41feae217990798e467f": {
          "model_module": "@jupyter-widgets/base",
          "model_name": "LayoutModel",
          "model_module_version": "1.2.0",
          "state": {
            "_view_name": "LayoutView",
            "grid_template_rows": null,
            "right": null,
            "justify_content": null,
            "_view_module": "@jupyter-widgets/base",
            "overflow": null,
            "_model_module_version": "1.2.0",
            "_view_count": null,
            "flex_flow": null,
            "width": null,
            "min_width": null,
            "border": null,
            "align_items": null,
            "bottom": null,
            "_model_module": "@jupyter-widgets/base",
            "top": null,
            "grid_column": null,
            "overflow_y": null,
            "overflow_x": null,
            "grid_auto_flow": null,
            "grid_area": null,
            "grid_template_columns": null,
            "flex": null,
            "_model_name": "LayoutModel",
            "justify_items": null,
            "grid_row": null,
            "max_height": null,
            "align_content": null,
            "visibility": null,
            "align_self": null,
            "height": null,
            "min_height": null,
            "padding": null,
            "grid_auto_rows": null,
            "grid_gap": null,
            "max_width": null,
            "order": null,
            "_view_module_version": "1.2.0",
            "grid_template_areas": null,
            "object_position": null,
            "object_fit": null,
            "grid_auto_columns": null,
            "margin": null,
            "display": null,
            "left": null
          }
        },
        "f1133b6ee8ed4a1fa2fb1a82d7987886": {
          "model_module": "@jupyter-widgets/controls",
          "model_name": "DescriptionStyleModel",
          "model_module_version": "1.5.0",
          "state": {
            "_view_name": "StyleView",
            "_model_name": "DescriptionStyleModel",
            "description_width": "",
            "_view_module": "@jupyter-widgets/base",
            "_model_module_version": "1.5.0",
            "_view_count": null,
            "_view_module_version": "1.2.0",
            "_model_module": "@jupyter-widgets/controls"
          }
        },
        "60b44a4f9819427cad5b291f2f1ecbde": {
          "model_module": "@jupyter-widgets/base",
          "model_name": "LayoutModel",
          "model_module_version": "1.2.0",
          "state": {
            "_view_name": "LayoutView",
            "grid_template_rows": null,
            "right": null,
            "justify_content": null,
            "_view_module": "@jupyter-widgets/base",
            "overflow": null,
            "_model_module_version": "1.2.0",
            "_view_count": null,
            "flex_flow": null,
            "width": null,
            "min_width": null,
            "border": null,
            "align_items": null,
            "bottom": null,
            "_model_module": "@jupyter-widgets/base",
            "top": null,
            "grid_column": null,
            "overflow_y": null,
            "overflow_x": null,
            "grid_auto_flow": null,
            "grid_area": null,
            "grid_template_columns": null,
            "flex": null,
            "_model_name": "LayoutModel",
            "justify_items": null,
            "grid_row": null,
            "max_height": null,
            "align_content": null,
            "visibility": null,
            "align_self": null,
            "height": null,
            "min_height": null,
            "padding": null,
            "grid_auto_rows": null,
            "grid_gap": null,
            "max_width": null,
            "order": null,
            "_view_module_version": "1.2.0",
            "grid_template_areas": null,
            "object_position": null,
            "object_fit": null,
            "grid_auto_columns": null,
            "margin": null,
            "display": null,
            "left": null
          }
        },
        "9436edaa8e2e48aa9127c1ae49694f99": {
          "model_module": "@jupyter-widgets/controls",
          "model_name": "HBoxModel",
          "model_module_version": "1.5.0",
          "state": {
            "_view_name": "HBoxView",
            "_dom_classes": [],
            "_model_name": "HBoxModel",
            "_view_module": "@jupyter-widgets/controls",
            "_model_module_version": "1.5.0",
            "_view_count": null,
            "_view_module_version": "1.5.0",
            "box_style": "",
            "layout": "IPY_MODEL_ceba3a072fb548daa550304331e89b8b",
            "_model_module": "@jupyter-widgets/controls",
            "children": [
              "IPY_MODEL_39892d8906e9432f88dba5aef96a54eb",
              "IPY_MODEL_b931ba7bab6d42ef9b6f85c6b149b068",
              "IPY_MODEL_2353fdb645b44585bf683fca4150a74d"
            ]
          }
        },
        "ceba3a072fb548daa550304331e89b8b": {
          "model_module": "@jupyter-widgets/base",
          "model_name": "LayoutModel",
          "model_module_version": "1.2.0",
          "state": {
            "_view_name": "LayoutView",
            "grid_template_rows": null,
            "right": null,
            "justify_content": null,
            "_view_module": "@jupyter-widgets/base",
            "overflow": null,
            "_model_module_version": "1.2.0",
            "_view_count": null,
            "flex_flow": null,
            "width": null,
            "min_width": null,
            "border": null,
            "align_items": null,
            "bottom": null,
            "_model_module": "@jupyter-widgets/base",
            "top": null,
            "grid_column": null,
            "overflow_y": null,
            "overflow_x": null,
            "grid_auto_flow": null,
            "grid_area": null,
            "grid_template_columns": null,
            "flex": null,
            "_model_name": "LayoutModel",
            "justify_items": null,
            "grid_row": null,
            "max_height": null,
            "align_content": null,
            "visibility": null,
            "align_self": null,
            "height": null,
            "min_height": null,
            "padding": null,
            "grid_auto_rows": null,
            "grid_gap": null,
            "max_width": null,
            "order": null,
            "_view_module_version": "1.2.0",
            "grid_template_areas": null,
            "object_position": null,
            "object_fit": null,
            "grid_auto_columns": null,
            "margin": null,
            "display": null,
            "left": null
          }
        },
        "39892d8906e9432f88dba5aef96a54eb": {
          "model_module": "@jupyter-widgets/controls",
          "model_name": "HTMLModel",
          "model_module_version": "1.5.0",
          "state": {
            "_view_name": "HTMLView",
            "style": "IPY_MODEL_e4613dce775040688b68f1993d3888f6",
            "_dom_classes": [],
            "description": "",
            "_model_name": "HTMLModel",
            "placeholder": "​",
            "_view_module": "@jupyter-widgets/controls",
            "_model_module_version": "1.5.0",
            "value": "100%",
            "_view_count": null,
            "_view_module_version": "1.5.0",
            "description_tooltip": null,
            "_model_module": "@jupyter-widgets/controls",
            "layout": "IPY_MODEL_480d7632fa0e41419caa4665b83f4e49"
          }
        },
        "b931ba7bab6d42ef9b6f85c6b149b068": {
          "model_module": "@jupyter-widgets/controls",
          "model_name": "FloatProgressModel",
          "model_module_version": "1.5.0",
          "state": {
            "_view_name": "ProgressView",
            "style": "IPY_MODEL_92e73dc2b86441b382e6670360575286",
            "_dom_classes": [],
            "description": "",
            "_model_name": "FloatProgressModel",
            "bar_style": "success",
            "max": 74858,
            "_view_module": "@jupyter-widgets/controls",
            "_model_module_version": "1.5.0",
            "value": 74858,
            "_view_count": null,
            "_view_module_version": "1.5.0",
            "orientation": "horizontal",
            "min": 0,
            "description_tooltip": null,
            "_model_module": "@jupyter-widgets/controls",
            "layout": "IPY_MODEL_d3565d6dede5412a8977f01461d1ddce"
          }
        },
        "2353fdb645b44585bf683fca4150a74d": {
          "model_module": "@jupyter-widgets/controls",
          "model_name": "HTMLModel",
          "model_module_version": "1.5.0",
          "state": {
            "_view_name": "HTMLView",
            "style": "IPY_MODEL_6fa2d04eed714313923b2cfe807982be",
            "_dom_classes": [],
            "description": "",
            "_model_name": "HTMLModel",
            "placeholder": "​",
            "_view_module": "@jupyter-widgets/controls",
            "_model_module_version": "1.5.0",
            "value": " 74858/74858 [00:00&lt;00:00, 134793.95it/s]",
            "_view_count": null,
            "_view_module_version": "1.5.0",
            "description_tooltip": null,
            "_model_module": "@jupyter-widgets/controls",
            "layout": "IPY_MODEL_28b3dd4bfb694721b93bb23078da3642"
          }
        },
        "e4613dce775040688b68f1993d3888f6": {
          "model_module": "@jupyter-widgets/controls",
          "model_name": "DescriptionStyleModel",
          "model_module_version": "1.5.0",
          "state": {
            "_view_name": "StyleView",
            "_model_name": "DescriptionStyleModel",
            "description_width": "",
            "_view_module": "@jupyter-widgets/base",
            "_model_module_version": "1.5.0",
            "_view_count": null,
            "_view_module_version": "1.2.0",
            "_model_module": "@jupyter-widgets/controls"
          }
        },
        "480d7632fa0e41419caa4665b83f4e49": {
          "model_module": "@jupyter-widgets/base",
          "model_name": "LayoutModel",
          "model_module_version": "1.2.0",
          "state": {
            "_view_name": "LayoutView",
            "grid_template_rows": null,
            "right": null,
            "justify_content": null,
            "_view_module": "@jupyter-widgets/base",
            "overflow": null,
            "_model_module_version": "1.2.0",
            "_view_count": null,
            "flex_flow": null,
            "width": null,
            "min_width": null,
            "border": null,
            "align_items": null,
            "bottom": null,
            "_model_module": "@jupyter-widgets/base",
            "top": null,
            "grid_column": null,
            "overflow_y": null,
            "overflow_x": null,
            "grid_auto_flow": null,
            "grid_area": null,
            "grid_template_columns": null,
            "flex": null,
            "_model_name": "LayoutModel",
            "justify_items": null,
            "grid_row": null,
            "max_height": null,
            "align_content": null,
            "visibility": null,
            "align_self": null,
            "height": null,
            "min_height": null,
            "padding": null,
            "grid_auto_rows": null,
            "grid_gap": null,
            "max_width": null,
            "order": null,
            "_view_module_version": "1.2.0",
            "grid_template_areas": null,
            "object_position": null,
            "object_fit": null,
            "grid_auto_columns": null,
            "margin": null,
            "display": null,
            "left": null
          }
        },
        "92e73dc2b86441b382e6670360575286": {
          "model_module": "@jupyter-widgets/controls",
          "model_name": "ProgressStyleModel",
          "model_module_version": "1.5.0",
          "state": {
            "_view_name": "StyleView",
            "_model_name": "ProgressStyleModel",
            "description_width": "",
            "_view_module": "@jupyter-widgets/base",
            "_model_module_version": "1.5.0",
            "_view_count": null,
            "_view_module_version": "1.2.0",
            "bar_color": null,
            "_model_module": "@jupyter-widgets/controls"
          }
        },
        "d3565d6dede5412a8977f01461d1ddce": {
          "model_module": "@jupyter-widgets/base",
          "model_name": "LayoutModel",
          "model_module_version": "1.2.0",
          "state": {
            "_view_name": "LayoutView",
            "grid_template_rows": null,
            "right": null,
            "justify_content": null,
            "_view_module": "@jupyter-widgets/base",
            "overflow": null,
            "_model_module_version": "1.2.0",
            "_view_count": null,
            "flex_flow": null,
            "width": null,
            "min_width": null,
            "border": null,
            "align_items": null,
            "bottom": null,
            "_model_module": "@jupyter-widgets/base",
            "top": null,
            "grid_column": null,
            "overflow_y": null,
            "overflow_x": null,
            "grid_auto_flow": null,
            "grid_area": null,
            "grid_template_columns": null,
            "flex": null,
            "_model_name": "LayoutModel",
            "justify_items": null,
            "grid_row": null,
            "max_height": null,
            "align_content": null,
            "visibility": null,
            "align_self": null,
            "height": null,
            "min_height": null,
            "padding": null,
            "grid_auto_rows": null,
            "grid_gap": null,
            "max_width": null,
            "order": null,
            "_view_module_version": "1.2.0",
            "grid_template_areas": null,
            "object_position": null,
            "object_fit": null,
            "grid_auto_columns": null,
            "margin": null,
            "display": null,
            "left": null
          }
        },
        "6fa2d04eed714313923b2cfe807982be": {
          "model_module": "@jupyter-widgets/controls",
          "model_name": "DescriptionStyleModel",
          "model_module_version": "1.5.0",
          "state": {
            "_view_name": "StyleView",
            "_model_name": "DescriptionStyleModel",
            "description_width": "",
            "_view_module": "@jupyter-widgets/base",
            "_model_module_version": "1.5.0",
            "_view_count": null,
            "_view_module_version": "1.2.0",
            "_model_module": "@jupyter-widgets/controls"
          }
        },
        "28b3dd4bfb694721b93bb23078da3642": {
          "model_module": "@jupyter-widgets/base",
          "model_name": "LayoutModel",
          "model_module_version": "1.2.0",
          "state": {
            "_view_name": "LayoutView",
            "grid_template_rows": null,
            "right": null,
            "justify_content": null,
            "_view_module": "@jupyter-widgets/base",
            "overflow": null,
            "_model_module_version": "1.2.0",
            "_view_count": null,
            "flex_flow": null,
            "width": null,
            "min_width": null,
            "border": null,
            "align_items": null,
            "bottom": null,
            "_model_module": "@jupyter-widgets/base",
            "top": null,
            "grid_column": null,
            "overflow_y": null,
            "overflow_x": null,
            "grid_auto_flow": null,
            "grid_area": null,
            "grid_template_columns": null,
            "flex": null,
            "_model_name": "LayoutModel",
            "justify_items": null,
            "grid_row": null,
            "max_height": null,
            "align_content": null,
            "visibility": null,
            "align_self": null,
            "height": null,
            "min_height": null,
            "padding": null,
            "grid_auto_rows": null,
            "grid_gap": null,
            "max_width": null,
            "order": null,
            "_view_module_version": "1.2.0",
            "grid_template_areas": null,
            "object_position": null,
            "object_fit": null,
            "grid_auto_columns": null,
            "margin": null,
            "display": null,
            "left": null
          }
        },
        "019d01aecc98452ea4cca56597826bc0": {
          "model_module": "@jupyter-widgets/controls",
          "model_name": "HBoxModel",
          "model_module_version": "1.5.0",
          "state": {
            "_view_name": "HBoxView",
            "_dom_classes": [],
            "_model_name": "HBoxModel",
            "_view_module": "@jupyter-widgets/controls",
            "_model_module_version": "1.5.0",
            "_view_count": null,
            "_view_module_version": "1.5.0",
            "box_style": "",
            "layout": "IPY_MODEL_1261a68fa1dc42dcb96b3c3fd32a3ce0",
            "_model_module": "@jupyter-widgets/controls",
            "children": [
              "IPY_MODEL_812de23b465c49e3a798513a22881787",
              "IPY_MODEL_981db764ad5240acade50e091ca7f078",
              "IPY_MODEL_b62a4de3154c4963b6b85321bfdc9f36"
            ]
          }
        },
        "1261a68fa1dc42dcb96b3c3fd32a3ce0": {
          "model_module": "@jupyter-widgets/base",
          "model_name": "LayoutModel",
          "model_module_version": "1.2.0",
          "state": {
            "_view_name": "LayoutView",
            "grid_template_rows": null,
            "right": null,
            "justify_content": null,
            "_view_module": "@jupyter-widgets/base",
            "overflow": null,
            "_model_module_version": "1.2.0",
            "_view_count": null,
            "flex_flow": null,
            "width": null,
            "min_width": null,
            "border": null,
            "align_items": null,
            "bottom": null,
            "_model_module": "@jupyter-widgets/base",
            "top": null,
            "grid_column": null,
            "overflow_y": null,
            "overflow_x": null,
            "grid_auto_flow": null,
            "grid_area": null,
            "grid_template_columns": null,
            "flex": null,
            "_model_name": "LayoutModel",
            "justify_items": null,
            "grid_row": null,
            "max_height": null,
            "align_content": null,
            "visibility": null,
            "align_self": null,
            "height": null,
            "min_height": null,
            "padding": null,
            "grid_auto_rows": null,
            "grid_gap": null,
            "max_width": null,
            "order": null,
            "_view_module_version": "1.2.0",
            "grid_template_areas": null,
            "object_position": null,
            "object_fit": null,
            "grid_auto_columns": null,
            "margin": null,
            "display": null,
            "left": null
          }
        },
        "812de23b465c49e3a798513a22881787": {
          "model_module": "@jupyter-widgets/controls",
          "model_name": "HTMLModel",
          "model_module_version": "1.5.0",
          "state": {
            "_view_name": "HTMLView",
            "style": "IPY_MODEL_aff38deec5314a6da3921c8c23404bda",
            "_dom_classes": [],
            "description": "",
            "_model_name": "HTMLModel",
            "placeholder": "​",
            "_view_module": "@jupyter-widgets/controls",
            "_model_module_version": "1.5.0",
            "value": "100%",
            "_view_count": null,
            "_view_module_version": "1.5.0",
            "description_tooltip": null,
            "_model_module": "@jupyter-widgets/controls",
            "layout": "IPY_MODEL_9face408721c4e73bf7b56f115cc7eb8"
          }
        },
        "981db764ad5240acade50e091ca7f078": {
          "model_module": "@jupyter-widgets/controls",
          "model_name": "FloatProgressModel",
          "model_module_version": "1.5.0",
          "state": {
            "_view_name": "ProgressView",
            "style": "IPY_MODEL_a7437db2061c402dad859227ae92dffb",
            "_dom_classes": [],
            "description": "",
            "_model_name": "FloatProgressModel",
            "bar_style": "success",
            "max": 200,
            "_view_module": "@jupyter-widgets/controls",
            "_model_module_version": "1.5.0",
            "value": 200,
            "_view_count": null,
            "_view_module_version": "1.5.0",
            "orientation": "horizontal",
            "min": 0,
            "description_tooltip": null,
            "_model_module": "@jupyter-widgets/controls",
            "layout": "IPY_MODEL_fc876631cbf64d7499eaf2373cb50d72"
          }
        },
        "b62a4de3154c4963b6b85321bfdc9f36": {
          "model_module": "@jupyter-widgets/controls",
          "model_name": "HTMLModel",
          "model_module_version": "1.5.0",
          "state": {
            "_view_name": "HTMLView",
            "style": "IPY_MODEL_4881f896c6d64d608163f376be7f565c",
            "_dom_classes": [],
            "description": "",
            "_model_name": "HTMLModel",
            "placeholder": "​",
            "_view_module": "@jupyter-widgets/controls",
            "_model_module_version": "1.5.0",
            "value": " 200/200 [00:01&lt;00:00, 145.61it/s]",
            "_view_count": null,
            "_view_module_version": "1.5.0",
            "description_tooltip": null,
            "_model_module": "@jupyter-widgets/controls",
            "layout": "IPY_MODEL_69b70d316ff54dbfb8eb727a751799b0"
          }
        },
        "aff38deec5314a6da3921c8c23404bda": {
          "model_module": "@jupyter-widgets/controls",
          "model_name": "DescriptionStyleModel",
          "model_module_version": "1.5.0",
          "state": {
            "_view_name": "StyleView",
            "_model_name": "DescriptionStyleModel",
            "description_width": "",
            "_view_module": "@jupyter-widgets/base",
            "_model_module_version": "1.5.0",
            "_view_count": null,
            "_view_module_version": "1.2.0",
            "_model_module": "@jupyter-widgets/controls"
          }
        },
        "9face408721c4e73bf7b56f115cc7eb8": {
          "model_module": "@jupyter-widgets/base",
          "model_name": "LayoutModel",
          "model_module_version": "1.2.0",
          "state": {
            "_view_name": "LayoutView",
            "grid_template_rows": null,
            "right": null,
            "justify_content": null,
            "_view_module": "@jupyter-widgets/base",
            "overflow": null,
            "_model_module_version": "1.2.0",
            "_view_count": null,
            "flex_flow": null,
            "width": null,
            "min_width": null,
            "border": null,
            "align_items": null,
            "bottom": null,
            "_model_module": "@jupyter-widgets/base",
            "top": null,
            "grid_column": null,
            "overflow_y": null,
            "overflow_x": null,
            "grid_auto_flow": null,
            "grid_area": null,
            "grid_template_columns": null,
            "flex": null,
            "_model_name": "LayoutModel",
            "justify_items": null,
            "grid_row": null,
            "max_height": null,
            "align_content": null,
            "visibility": null,
            "align_self": null,
            "height": null,
            "min_height": null,
            "padding": null,
            "grid_auto_rows": null,
            "grid_gap": null,
            "max_width": null,
            "order": null,
            "_view_module_version": "1.2.0",
            "grid_template_areas": null,
            "object_position": null,
            "object_fit": null,
            "grid_auto_columns": null,
            "margin": null,
            "display": null,
            "left": null
          }
        },
        "a7437db2061c402dad859227ae92dffb": {
          "model_module": "@jupyter-widgets/controls",
          "model_name": "ProgressStyleModel",
          "model_module_version": "1.5.0",
          "state": {
            "_view_name": "StyleView",
            "_model_name": "ProgressStyleModel",
            "description_width": "",
            "_view_module": "@jupyter-widgets/base",
            "_model_module_version": "1.5.0",
            "_view_count": null,
            "_view_module_version": "1.2.0",
            "bar_color": null,
            "_model_module": "@jupyter-widgets/controls"
          }
        },
        "fc876631cbf64d7499eaf2373cb50d72": {
          "model_module": "@jupyter-widgets/base",
          "model_name": "LayoutModel",
          "model_module_version": "1.2.0",
          "state": {
            "_view_name": "LayoutView",
            "grid_template_rows": null,
            "right": null,
            "justify_content": null,
            "_view_module": "@jupyter-widgets/base",
            "overflow": null,
            "_model_module_version": "1.2.0",
            "_view_count": null,
            "flex_flow": null,
            "width": null,
            "min_width": null,
            "border": null,
            "align_items": null,
            "bottom": null,
            "_model_module": "@jupyter-widgets/base",
            "top": null,
            "grid_column": null,
            "overflow_y": null,
            "overflow_x": null,
            "grid_auto_flow": null,
            "grid_area": null,
            "grid_template_columns": null,
            "flex": null,
            "_model_name": "LayoutModel",
            "justify_items": null,
            "grid_row": null,
            "max_height": null,
            "align_content": null,
            "visibility": null,
            "align_self": null,
            "height": null,
            "min_height": null,
            "padding": null,
            "grid_auto_rows": null,
            "grid_gap": null,
            "max_width": null,
            "order": null,
            "_view_module_version": "1.2.0",
            "grid_template_areas": null,
            "object_position": null,
            "object_fit": null,
            "grid_auto_columns": null,
            "margin": null,
            "display": null,
            "left": null
          }
        },
        "4881f896c6d64d608163f376be7f565c": {
          "model_module": "@jupyter-widgets/controls",
          "model_name": "DescriptionStyleModel",
          "model_module_version": "1.5.0",
          "state": {
            "_view_name": "StyleView",
            "_model_name": "DescriptionStyleModel",
            "description_width": "",
            "_view_module": "@jupyter-widgets/base",
            "_model_module_version": "1.5.0",
            "_view_count": null,
            "_view_module_version": "1.2.0",
            "_model_module": "@jupyter-widgets/controls"
          }
        },
        "69b70d316ff54dbfb8eb727a751799b0": {
          "model_module": "@jupyter-widgets/base",
          "model_name": "LayoutModel",
          "model_module_version": "1.2.0",
          "state": {
            "_view_name": "LayoutView",
            "grid_template_rows": null,
            "right": null,
            "justify_content": null,
            "_view_module": "@jupyter-widgets/base",
            "overflow": null,
            "_model_module_version": "1.2.0",
            "_view_count": null,
            "flex_flow": null,
            "width": null,
            "min_width": null,
            "border": null,
            "align_items": null,
            "bottom": null,
            "_model_module": "@jupyter-widgets/base",
            "top": null,
            "grid_column": null,
            "overflow_y": null,
            "overflow_x": null,
            "grid_auto_flow": null,
            "grid_area": null,
            "grid_template_columns": null,
            "flex": null,
            "_model_name": "LayoutModel",
            "justify_items": null,
            "grid_row": null,
            "max_height": null,
            "align_content": null,
            "visibility": null,
            "align_self": null,
            "height": null,
            "min_height": null,
            "padding": null,
            "grid_auto_rows": null,
            "grid_gap": null,
            "max_width": null,
            "order": null,
            "_view_module_version": "1.2.0",
            "grid_template_areas": null,
            "object_position": null,
            "object_fit": null,
            "grid_auto_columns": null,
            "margin": null,
            "display": null,
            "left": null
          }
        },
        "32c09b4c1d72411f927e931faf8b1644": {
          "model_module": "@jupyter-widgets/controls",
          "model_name": "HBoxModel",
          "model_module_version": "1.5.0",
          "state": {
            "_view_name": "HBoxView",
            "_dom_classes": [],
            "_model_name": "HBoxModel",
            "_view_module": "@jupyter-widgets/controls",
            "_model_module_version": "1.5.0",
            "_view_count": null,
            "_view_module_version": "1.5.0",
            "box_style": "",
            "layout": "IPY_MODEL_e04d9082731a4cb4a97ce35f622f6f80",
            "_model_module": "@jupyter-widgets/controls",
            "children": [
              "IPY_MODEL_4c7810594ecf46d1b14261bc5282abe8",
              "IPY_MODEL_daac302946614a648ba67cd341141c52",
              "IPY_MODEL_2e52cf8cbc8a4f7d81a36cd525ffc5ef"
            ]
          }
        },
        "e04d9082731a4cb4a97ce35f622f6f80": {
          "model_module": "@jupyter-widgets/base",
          "model_name": "LayoutModel",
          "model_module_version": "1.2.0",
          "state": {
            "_view_name": "LayoutView",
            "grid_template_rows": null,
            "right": null,
            "justify_content": null,
            "_view_module": "@jupyter-widgets/base",
            "overflow": null,
            "_model_module_version": "1.2.0",
            "_view_count": null,
            "flex_flow": null,
            "width": null,
            "min_width": null,
            "border": null,
            "align_items": null,
            "bottom": null,
            "_model_module": "@jupyter-widgets/base",
            "top": null,
            "grid_column": null,
            "overflow_y": null,
            "overflow_x": null,
            "grid_auto_flow": null,
            "grid_area": null,
            "grid_template_columns": null,
            "flex": null,
            "_model_name": "LayoutModel",
            "justify_items": null,
            "grid_row": null,
            "max_height": null,
            "align_content": null,
            "visibility": null,
            "align_self": null,
            "height": null,
            "min_height": null,
            "padding": null,
            "grid_auto_rows": null,
            "grid_gap": null,
            "max_width": null,
            "order": null,
            "_view_module_version": "1.2.0",
            "grid_template_areas": null,
            "object_position": null,
            "object_fit": null,
            "grid_auto_columns": null,
            "margin": null,
            "display": null,
            "left": null
          }
        },
        "4c7810594ecf46d1b14261bc5282abe8": {
          "model_module": "@jupyter-widgets/controls",
          "model_name": "HTMLModel",
          "model_module_version": "1.5.0",
          "state": {
            "_view_name": "HTMLView",
            "style": "IPY_MODEL_600558fb93714b29be1b97927405b86a",
            "_dom_classes": [],
            "description": "",
            "_model_name": "HTMLModel",
            "placeholder": "​",
            "_view_module": "@jupyter-widgets/controls",
            "_model_module_version": "1.5.0",
            "value": "100%",
            "_view_count": null,
            "_view_module_version": "1.5.0",
            "description_tooltip": null,
            "_model_module": "@jupyter-widgets/controls",
            "layout": "IPY_MODEL_40a40272c79d403daf94a82f52e5768d"
          }
        },
        "daac302946614a648ba67cd341141c52": {
          "model_module": "@jupyter-widgets/controls",
          "model_name": "FloatProgressModel",
          "model_module_version": "1.5.0",
          "state": {
            "_view_name": "ProgressView",
            "style": "IPY_MODEL_afb8a16b9fb843c397c544011306d7e8",
            "_dom_classes": [],
            "description": "",
            "_model_name": "FloatProgressModel",
            "bar_style": "success",
            "max": 3004,
            "_view_module": "@jupyter-widgets/controls",
            "_model_module_version": "1.5.0",
            "value": 3004,
            "_view_count": null,
            "_view_module_version": "1.5.0",
            "orientation": "horizontal",
            "min": 0,
            "description_tooltip": null,
            "_model_module": "@jupyter-widgets/controls",
            "layout": "IPY_MODEL_e33ee6deebc8406bbd2f23d7911d2995"
          }
        },
        "2e52cf8cbc8a4f7d81a36cd525ffc5ef": {
          "model_module": "@jupyter-widgets/controls",
          "model_name": "HTMLModel",
          "model_module_version": "1.5.0",
          "state": {
            "_view_name": "HTMLView",
            "style": "IPY_MODEL_d0fbbcd86cb040f68a46b948cdad2304",
            "_dom_classes": [],
            "description": "",
            "_model_name": "HTMLModel",
            "placeholder": "​",
            "_view_module": "@jupyter-widgets/controls",
            "_model_module_version": "1.5.0",
            "value": " 3004/3004 [00:00&lt;00:00, 40074.33it/s]",
            "_view_count": null,
            "_view_module_version": "1.5.0",
            "description_tooltip": null,
            "_model_module": "@jupyter-widgets/controls",
            "layout": "IPY_MODEL_3c36d3155f0a4f768f4bfdc1fd34d2ab"
          }
        },
        "600558fb93714b29be1b97927405b86a": {
          "model_module": "@jupyter-widgets/controls",
          "model_name": "DescriptionStyleModel",
          "model_module_version": "1.5.0",
          "state": {
            "_view_name": "StyleView",
            "_model_name": "DescriptionStyleModel",
            "description_width": "",
            "_view_module": "@jupyter-widgets/base",
            "_model_module_version": "1.5.0",
            "_view_count": null,
            "_view_module_version": "1.2.0",
            "_model_module": "@jupyter-widgets/controls"
          }
        },
        "40a40272c79d403daf94a82f52e5768d": {
          "model_module": "@jupyter-widgets/base",
          "model_name": "LayoutModel",
          "model_module_version": "1.2.0",
          "state": {
            "_view_name": "LayoutView",
            "grid_template_rows": null,
            "right": null,
            "justify_content": null,
            "_view_module": "@jupyter-widgets/base",
            "overflow": null,
            "_model_module_version": "1.2.0",
            "_view_count": null,
            "flex_flow": null,
            "width": null,
            "min_width": null,
            "border": null,
            "align_items": null,
            "bottom": null,
            "_model_module": "@jupyter-widgets/base",
            "top": null,
            "grid_column": null,
            "overflow_y": null,
            "overflow_x": null,
            "grid_auto_flow": null,
            "grid_area": null,
            "grid_template_columns": null,
            "flex": null,
            "_model_name": "LayoutModel",
            "justify_items": null,
            "grid_row": null,
            "max_height": null,
            "align_content": null,
            "visibility": null,
            "align_self": null,
            "height": null,
            "min_height": null,
            "padding": null,
            "grid_auto_rows": null,
            "grid_gap": null,
            "max_width": null,
            "order": null,
            "_view_module_version": "1.2.0",
            "grid_template_areas": null,
            "object_position": null,
            "object_fit": null,
            "grid_auto_columns": null,
            "margin": null,
            "display": null,
            "left": null
          }
        },
        "afb8a16b9fb843c397c544011306d7e8": {
          "model_module": "@jupyter-widgets/controls",
          "model_name": "ProgressStyleModel",
          "model_module_version": "1.5.0",
          "state": {
            "_view_name": "StyleView",
            "_model_name": "ProgressStyleModel",
            "description_width": "",
            "_view_module": "@jupyter-widgets/base",
            "_model_module_version": "1.5.0",
            "_view_count": null,
            "_view_module_version": "1.2.0",
            "bar_color": null,
            "_model_module": "@jupyter-widgets/controls"
          }
        },
        "e33ee6deebc8406bbd2f23d7911d2995": {
          "model_module": "@jupyter-widgets/base",
          "model_name": "LayoutModel",
          "model_module_version": "1.2.0",
          "state": {
            "_view_name": "LayoutView",
            "grid_template_rows": null,
            "right": null,
            "justify_content": null,
            "_view_module": "@jupyter-widgets/base",
            "overflow": null,
            "_model_module_version": "1.2.0",
            "_view_count": null,
            "flex_flow": null,
            "width": null,
            "min_width": null,
            "border": null,
            "align_items": null,
            "bottom": null,
            "_model_module": "@jupyter-widgets/base",
            "top": null,
            "grid_column": null,
            "overflow_y": null,
            "overflow_x": null,
            "grid_auto_flow": null,
            "grid_area": null,
            "grid_template_columns": null,
            "flex": null,
            "_model_name": "LayoutModel",
            "justify_items": null,
            "grid_row": null,
            "max_height": null,
            "align_content": null,
            "visibility": null,
            "align_self": null,
            "height": null,
            "min_height": null,
            "padding": null,
            "grid_auto_rows": null,
            "grid_gap": null,
            "max_width": null,
            "order": null,
            "_view_module_version": "1.2.0",
            "grid_template_areas": null,
            "object_position": null,
            "object_fit": null,
            "grid_auto_columns": null,
            "margin": null,
            "display": null,
            "left": null
          }
        },
        "d0fbbcd86cb040f68a46b948cdad2304": {
          "model_module": "@jupyter-widgets/controls",
          "model_name": "DescriptionStyleModel",
          "model_module_version": "1.5.0",
          "state": {
            "_view_name": "StyleView",
            "_model_name": "DescriptionStyleModel",
            "description_width": "",
            "_view_module": "@jupyter-widgets/base",
            "_model_module_version": "1.5.0",
            "_view_count": null,
            "_view_module_version": "1.2.0",
            "_model_module": "@jupyter-widgets/controls"
          }
        },
        "3c36d3155f0a4f768f4bfdc1fd34d2ab": {
          "model_module": "@jupyter-widgets/base",
          "model_name": "LayoutModel",
          "model_module_version": "1.2.0",
          "state": {
            "_view_name": "LayoutView",
            "grid_template_rows": null,
            "right": null,
            "justify_content": null,
            "_view_module": "@jupyter-widgets/base",
            "overflow": null,
            "_model_module_version": "1.2.0",
            "_view_count": null,
            "flex_flow": null,
            "width": null,
            "min_width": null,
            "border": null,
            "align_items": null,
            "bottom": null,
            "_model_module": "@jupyter-widgets/base",
            "top": null,
            "grid_column": null,
            "overflow_y": null,
            "overflow_x": null,
            "grid_auto_flow": null,
            "grid_area": null,
            "grid_template_columns": null,
            "flex": null,
            "_model_name": "LayoutModel",
            "justify_items": null,
            "grid_row": null,
            "max_height": null,
            "align_content": null,
            "visibility": null,
            "align_self": null,
            "height": null,
            "min_height": null,
            "padding": null,
            "grid_auto_rows": null,
            "grid_gap": null,
            "max_width": null,
            "order": null,
            "_view_module_version": "1.2.0",
            "grid_template_areas": null,
            "object_position": null,
            "object_fit": null,
            "grid_auto_columns": null,
            "margin": null,
            "display": null,
            "left": null
          }
        }
      }
    }
  },
  "cells": [
    {
      "cell_type": "markdown",
      "metadata": {
        "id": "view-in-github",
        "colab_type": "text"
      },
      "source": [
        "<a href=\"https://colab.research.google.com/github/Stanislav98V/Speech_synthesis/blob/main/1laba.ipynb\" target=\"_parent\"><img src=\"https://colab.research.google.com/assets/colab-badge.svg\" alt=\"Open In Colab\"/></a>"
      ]
    },
    {
      "cell_type": "markdown",
      "metadata": {
        "id": "nFgquqn9rJiw"
      },
      "source": [
        "# Библиотеки"
      ]
    },
    {
      "cell_type": "code",
      "metadata": {
        "colab": {
          "base_uri": "https://localhost:8080/"
        },
        "id": "EpduOx7_B6Nv",
        "outputId": "76e79b5c-909a-499d-9c15-af762aeac77d"
      },
      "source": [
        "!pip install lxml"
      ],
      "execution_count": 1,
      "outputs": [
        {
          "output_type": "stream",
          "name": "stdout",
          "text": [
            "Requirement already satisfied: lxml in /usr/local/lib/python3.7/dist-packages (4.2.6)\n"
          ]
        }
      ]
    },
    {
      "cell_type": "code",
      "metadata": {
        "colab": {
          "base_uri": "https://localhost:8080/"
        },
        "id": "amlV8QZIB-0u",
        "outputId": "ba934827-1e8e-49ef-dc4e-34130f94c684"
      },
      "source": [
        "!pip install bs4"
      ],
      "execution_count": 2,
      "outputs": [
        {
          "output_type": "stream",
          "name": "stdout",
          "text": [
            "Requirement already satisfied: bs4 in /usr/local/lib/python3.7/dist-packages (0.0.1)\n",
            "Requirement already satisfied: beautifulsoup4 in /usr/local/lib/python3.7/dist-packages (from bs4) (4.6.3)\n"
          ]
        }
      ]
    },
    {
      "cell_type": "code",
      "metadata": {
        "id": "FUa2ZI6fbHFz"
      },
      "source": [
        "from google.colab import drive\n",
        "from html.parser import HTMLParser\n",
        "from bs4 import BeautifulSoup\n",
        "from tqdm.notebook import tqdm\n",
        "from sklearn import metrics\n",
        "from sklearn.metrics import classification_report, f1_score"
      ],
      "execution_count": 3,
      "outputs": []
    },
    {
      "cell_type": "markdown",
      "metadata": {
        "id": "bo6ObprfSI_u"
      },
      "source": [
        "Подключаем диск"
      ]
    },
    {
      "cell_type": "code",
      "metadata": {
        "colab": {
          "base_uri": "https://localhost:8080/"
        },
        "id": "GQsJSg_UZJK_",
        "outputId": "4e037cf8-062f-4c83-956b-3d96fa9c0c31"
      },
      "source": [
        "drive.mount('/content/drive')"
      ],
      "execution_count": 4,
      "outputs": [
        {
          "output_type": "stream",
          "name": "stdout",
          "text": [
            "Mounted at /content/drive\n"
          ]
        }
      ]
    },
    {
      "cell_type": "markdown",
      "metadata": {
        "id": "sivXDSdxSlnp"
      },
      "source": [
        "Загружаем файлы"
      ]
    },
    {
      "cell_type": "code",
      "metadata": {
        "id": "_GcsSv7RZ6An"
      },
      "source": [
        "with open('/content/drive/MyDrive/3_семестр/Синтез_речи/Text_Вобликов.xml', 'r') as f:\n",
        "    line = f.read()\n",
        "soup = BeautifulSoup(line, features=\"html.parser\")"
      ],
      "execution_count": 5,
      "outputs": []
    },
    {
      "cell_type": "code",
      "metadata": {
        "id": "9hGk0cWOeZIh"
      },
      "source": [
        "with open('/content/drive/MyDrive/3_семестр/Синтез_речи/Test!.xml', 'r') as f:\n",
        "    line = f.read()\n",
        "soup_test = BeautifulSoup(line, features=\"html.parser\")"
      ],
      "execution_count": 18,
      "outputs": []
    },
    {
      "cell_type": "markdown",
      "metadata": {
        "id": "99_uXo-hbWxf"
      },
      "source": [
        "# Функции"
      ]
    },
    {
      "cell_type": "markdown",
      "metadata": {
        "id": "EJCAiXx1TsfM"
      },
      "source": [
        "Фукция для выделения признаков из слов"
      ]
    },
    {
      "cell_type": "code",
      "metadata": {
        "id": "j1HAIS5nbRF3"
      },
      "source": [
        "def fea_word(tag_word):\n",
        "    feats = []\n",
        "    if 'subpart_of_speech' in tag_word.dictitem.attrs:\n",
        "        feats.append(tag_word.dictitem.attrs['subpart_of_speech'])\n",
        "    else:\n",
        "        feats.append(0)\n",
        "    if 'form' in tag_word.dictitem.attrs:\n",
        "        feats.append(tag_word.dictitem.attrs['form'])\n",
        "    else:\n",
        "        feats.append(0)\n",
        "    if 'genesys' in tag_word.dictitem.attrs:\n",
        "        feats.append(tag_word.dictitem.attrs['genesys'])\n",
        "    else:\n",
        "        feats.append(0)\n",
        "    if 'stress_dict' in tag_word.dictitem.attrs:\n",
        "        feats.append(tag_word.dictitem.attrs['stress_dict'])\n",
        "    else:\n",
        "        feats.append(0)\n",
        "    if 'semantics1' in tag_word.dictitem.attrs:\n",
        "        feats.append(tag_word.dictitem.attrs['semantics1'])\n",
        "    else:\n",
        "        feats.append(0)\n",
        "    if 'semantics2' in tag_word.dictitem.attrs:\n",
        "        feats.append(tag_word.dictitem.attrs['semantics2'])\n",
        "    else:\n",
        "        feats.append(0)\n",
        "    return feats"
      ],
      "execution_count": 7,
      "outputs": []
    },
    {
      "cell_type": "markdown",
      "metadata": {
        "id": "ETAJUcSVTzHc"
      },
      "source": [
        "Фукция для выделения признаков из пауз"
      ]
    },
    {
      "cell_type": "code",
      "metadata": {
        "id": "ZqqIPJDHbRI2"
      },
      "source": [
        "def fea_pause(tag_word):\n",
        "    feats = []\n",
        "    feats.append(['pause'])\n",
        "    feats.append(tag_word['time'])\n",
        "    return feats"
      ],
      "execution_count": 8,
      "outputs": []
    },
    {
      "cell_type": "markdown",
      "metadata": {
        "id": "S_D7kYKgUDrR"
      },
      "source": [
        "Фукция для выделения признаков из знаков препинания"
      ]
    },
    {
      "cell_type": "code",
      "metadata": {
        "id": "3WD-_1oRbRL-"
      },
      "source": [
        "def fea_content(tag_word):\n",
        "    feats = []\n",
        "    feats.append(['content'])\n",
        "    if len(tag_word.attrs) > 0:\n",
        "        if 'punktend' in tag_word.attrs:\n",
        "            feats.append(tag_word.attrs['punktend'])\n",
        "        else:\n",
        "            feats.append(0)\n",
        "        if 'punktbeg' in tag_word.attrs:\n",
        "            feats.append(tag_word.attrs['punktbeg'])\n",
        "        else:\n",
        "            feats.append(0)\n",
        "        if 'emphend' in tag_word.attrs:\n",
        "            feats.append(tag_word.attrs['emphend'])\n",
        "        else:\n",
        "            feats.append(0)\n",
        "        if 'emphbeg' in tag_word.attrs:\n",
        "            feats.append(tag_word.attrs['emphbeg'])\n",
        "        else:\n",
        "            feats.append(0)\n",
        "    else:\n",
        "        for i in range(4):\n",
        "            feats.append(0)\n",
        "    return feats"
      ],
      "execution_count": 9,
      "outputs": []
    },
    {
      "cell_type": "markdown",
      "metadata": {
        "id": "XFqc3fAnUN2c"
      },
      "source": [
        "Фукция для парсинга "
      ]
    },
    {
      "cell_type": "code",
      "metadata": {
        "id": "nkQTJtFWbiRj"
      },
      "source": [
        "def parse(soup):\n",
        "    sents = []\n",
        "    tags_sents = soup.find_all(['sentence'])\n",
        "    for tag_sent in tqdm(tags_sents):\n",
        "        tags_words = tag_sent.find_all(['pause', 'word', 'content'])\n",
        "        for i in range(len(tags_words)):\n",
        "            if tags_words[i].name == 'word':\n",
        "                if 'original' in tags_words[i].attrs:\n",
        "                    wor = []\n",
        "                    wor.append(['Слово= ', tags_words[i].attrs['original']])\n",
        "                    if tags_words[i].dictitem != None:\n",
        "                        feats_word = fea_word(tags_words[i])\n",
        "                    else:\n",
        "                        feats_word = []\n",
        "                        for i in range(6):\n",
        "                            feats_word.append(0)\n",
        "                    if 'nucleus' in tags_words[i].attrs:\n",
        "                        feats_word.append(tags_words[i].attrs['nucleus'])\n",
        "                    else:\n",
        "                        feats_word.append(0)\n",
        "                    if tags_words[i].letter != None:\n",
        "                        if 'flag' in tags_words[i].letter.attrs:\n",
        "                            feats_word.append(tags_words[i].letter.attrs['flag'])\n",
        "                        else:\n",
        "                            feats_word.append(0)\n",
        "                    else:\n",
        "                        feats_word.append(0)\n",
        "                    wor.append(feats_word)\n",
        "                    if len(tags_words) > i + 1:\n",
        "                        if tags_words[i + 1].name == 'pause':\n",
        "                            feats_pause = fea_pause(tags_words[i + 1])\n",
        "                            wor.append(feats_pause)\n",
        "                        elif tags_words[i + 1].name == 'content':\n",
        "                            feats_content = fea_content(tags_words[i + 1])\n",
        "                            wor.append(feats_content)\n",
        "                    if len(tags_words) > i + 2:\n",
        "                        if tags_words[i + 2].name == 'pause':\n",
        "                            feats_pause = fea_pause(tags_words[i + 2])\n",
        "                            wor.append(feats_pause)\n",
        "                        elif tags_words[i + 2].name == 'content':\n",
        "                            feats_content = fea_content(tags_words[i + 2])\n",
        "                            wor.append(feats_content)\n",
        "                    if len(wor) == 3:\n",
        "                        if wor[2][0] == ['content']:\n",
        "                            fe = []\n",
        "                            fe.append(['pause'])\n",
        "                            fe.append(0)\n",
        "                            wor.append(fe)\n",
        "                        elif wor[2][0] == ['pause']:\n",
        "                            copyz = wor[2]\n",
        "                            del wor[2]\n",
        "                            fe = []\n",
        "                            fe.append(['content'])\n",
        "                            for i in range(4):\n",
        "                                fe.append(0)\n",
        "                            wor.append(fe)\n",
        "                            fe = []\n",
        "                            fe.append(['pause'])\n",
        "                            fe.append(copyz[1])\n",
        "                            wor.append(fe)\n",
        "                    elif len(wor) == 2:\n",
        "                        fe = []\n",
        "                        fe.append(['content'])\n",
        "                        for i in range(4):\n",
        "                            fe.append(0)\n",
        "                        wor.append(fe)\n",
        "                        fe = []\n",
        "                        fe.append(['pause'])\n",
        "                        fe.append(0)\n",
        "                        wor.append(fe)\n",
        "                    elif len(wor) == 4:\n",
        "                        copyz = wor[2]\n",
        "                        del wor[2]\n",
        "                        fe = []\n",
        "                        fe.append(['pause'])\n",
        "                        fe.append(copyz[1])\n",
        "                        wor.append(fe)\n",
        "                    sents.append(wor)\n",
        "    print('Файл распарсин')\n",
        "    return sents"
      ],
      "execution_count": 10,
      "outputs": []
    },
    {
      "cell_type": "markdown",
      "metadata": {
        "id": "Evvq6bTdUiin"
      },
      "source": [
        "Функция для компенсации нулями недостающих признаков"
      ]
    },
    {
      "cell_type": "code",
      "metadata": {
        "id": "XVdT14FzbiUr"
      },
      "source": [
        "def completion(sents):\n",
        "    X = []\n",
        "    paus = []\n",
        "    dlin_paus = []\n",
        "    udar = []\n",
        "    for sent in tqdm(sents):\n",
        "        line = []\n",
        "        for i in range(8):\n",
        "            if i == 6:\n",
        "                if int(sent[1][i]) == 0:\n",
        "                    udar.append(0)\n",
        "                else:\n",
        "                    udar.append(1)\n",
        "            else:\n",
        "                line.append(int(sent[1][i]))\n",
        "        for i in range(1, 5):\n",
        "            line.append(int(sent[2][i]))\n",
        "        if int(sent[3][1]) == 0:\n",
        "            dlin_paus.append(0)\n",
        "        elif 300 > int(sent[3][1]) > 0:\n",
        "            dlin_paus.append(1)\n",
        "        else:\n",
        "            dlin_paus.append(2)\n",
        "        if sent[3][1] == 0:\n",
        "            paus.append(0)\n",
        "        else:\n",
        "            paus.append(1)\n",
        "        X.append(line)\n",
        "    return X, paus, dlin_paus, udar"
      ],
      "execution_count": 36,
      "outputs": []
    },
    {
      "cell_type": "markdown",
      "metadata": {
        "id": "wBsj20MKctCw"
      },
      "source": [
        "# Основа"
      ]
    },
    {
      "cell_type": "markdown",
      "metadata": {
        "id": "7QPVw3_5VI0R"
      },
      "source": [
        "Обработка тренировочного файла"
      ]
    },
    {
      "cell_type": "code",
      "metadata": {
        "colab": {
          "base_uri": "https://localhost:8080/",
          "height": 0,
          "referenced_widgets": [
            "de32169054534568ac8f0d8a3505d7f9",
            "bfdb2466485e46c596926a2d0bdea16a",
            "b2d05cc1724448058eb06f9170034bc8",
            "9a14601467fb4a2583233051889b506a",
            "ebe888715e5f4c0e87e69328fd3900bf",
            "bb2807143f9d47f39b3369d5b205c189",
            "c00c326b2dbe4bcea3233b6e369398d1",
            "4c21b231525649ceabc2e0deea2c8d59",
            "19415cd6b22a41feae217990798e467f",
            "f1133b6ee8ed4a1fa2fb1a82d7987886",
            "60b44a4f9819427cad5b291f2f1ecbde",
            "9436edaa8e2e48aa9127c1ae49694f99",
            "ceba3a072fb548daa550304331e89b8b",
            "39892d8906e9432f88dba5aef96a54eb",
            "b931ba7bab6d42ef9b6f85c6b149b068",
            "2353fdb645b44585bf683fca4150a74d",
            "e4613dce775040688b68f1993d3888f6",
            "480d7632fa0e41419caa4665b83f4e49",
            "92e73dc2b86441b382e6670360575286",
            "d3565d6dede5412a8977f01461d1ddce",
            "6fa2d04eed714313923b2cfe807982be",
            "28b3dd4bfb694721b93bb23078da3642"
          ]
        },
        "id": "-o_WzTNxcQA-",
        "outputId": "6331e66b-a5df-4df3-b65a-468f2a3ace4f"
      },
      "source": [
        "sents = parse(soup)\n",
        "print(len(sents))\n",
        "X, paus, dlin_paus, udar = completion(sents)"
      ],
      "execution_count": 39,
      "outputs": [
        {
          "output_type": "display_data",
          "data": {
            "application/vnd.jupyter.widget-view+json": {
              "model_id": "de32169054534568ac8f0d8a3505d7f9",
              "version_minor": 0,
              "version_major": 2
            },
            "text/plain": [
              "  0%|          | 0/8594 [00:00<?, ?it/s]"
            ]
          },
          "metadata": {}
        },
        {
          "output_type": "stream",
          "name": "stdout",
          "text": [
            "Файл распарсин\n",
            "74858\n"
          ]
        },
        {
          "output_type": "display_data",
          "data": {
            "application/vnd.jupyter.widget-view+json": {
              "model_id": "9436edaa8e2e48aa9127c1ae49694f99",
              "version_minor": 0,
              "version_major": 2
            },
            "text/plain": [
              "  0%|          | 0/74858 [00:00<?, ?it/s]"
            ]
          },
          "metadata": {}
        }
      ]
    },
    {
      "cell_type": "markdown",
      "metadata": {
        "id": "C3XydC90VN4U"
      },
      "source": [
        "Обработка тестового файла"
      ]
    },
    {
      "cell_type": "code",
      "metadata": {
        "colab": {
          "base_uri": "https://localhost:8080/",
          "height": 0,
          "referenced_widgets": [
            "019d01aecc98452ea4cca56597826bc0",
            "1261a68fa1dc42dcb96b3c3fd32a3ce0",
            "812de23b465c49e3a798513a22881787",
            "981db764ad5240acade50e091ca7f078",
            "b62a4de3154c4963b6b85321bfdc9f36",
            "aff38deec5314a6da3921c8c23404bda",
            "9face408721c4e73bf7b56f115cc7eb8",
            "a7437db2061c402dad859227ae92dffb",
            "fc876631cbf64d7499eaf2373cb50d72",
            "4881f896c6d64d608163f376be7f565c",
            "69b70d316ff54dbfb8eb727a751799b0",
            "32c09b4c1d72411f927e931faf8b1644",
            "e04d9082731a4cb4a97ce35f622f6f80",
            "4c7810594ecf46d1b14261bc5282abe8",
            "daac302946614a648ba67cd341141c52",
            "2e52cf8cbc8a4f7d81a36cd525ffc5ef",
            "600558fb93714b29be1b97927405b86a",
            "40a40272c79d403daf94a82f52e5768d",
            "afb8a16b9fb843c397c544011306d7e8",
            "e33ee6deebc8406bbd2f23d7911d2995",
            "d0fbbcd86cb040f68a46b948cdad2304",
            "3c36d3155f0a4f768f4bfdc1fd34d2ab"
          ]
        },
        "id": "yPNrKCpXfK0F",
        "outputId": "c266a08f-1b34-4508-ec9d-efa18a093c52"
      },
      "source": [
        "sents_test = parse(soup_test)\n",
        "print(len(sents_test))\n",
        "X_test, paus_test, dlin_paus_test, udar_test = completion(sents_test)"
      ],
      "execution_count": 38,
      "outputs": [
        {
          "output_type": "display_data",
          "data": {
            "application/vnd.jupyter.widget-view+json": {
              "model_id": "019d01aecc98452ea4cca56597826bc0",
              "version_minor": 0,
              "version_major": 2
            },
            "text/plain": [
              "  0%|          | 0/200 [00:00<?, ?it/s]"
            ]
          },
          "metadata": {}
        },
        {
          "output_type": "stream",
          "name": "stdout",
          "text": [
            "Файл распарсин\n",
            "3004\n"
          ]
        },
        {
          "output_type": "display_data",
          "data": {
            "application/vnd.jupyter.widget-view+json": {
              "model_id": "32c09b4c1d72411f927e931faf8b1644",
              "version_minor": 0,
              "version_major": 2
            },
            "text/plain": [
              "  0%|          | 0/3004 [00:00<?, ?it/s]"
            ]
          },
          "metadata": {}
        }
      ]
    },
    {
      "cell_type": "markdown",
      "metadata": {
        "id": "2frdsDEu8ue9"
      },
      "source": [
        "# Обучение"
      ]
    },
    {
      "cell_type": "markdown",
      "metadata": {
        "id": "Qq231_kyVeB-"
      },
      "source": [
        "### Отдельное обучение трёх Random Forest"
      ]
    },
    {
      "cell_type": "markdown",
      "metadata": {
        "id": "WREtYSVYVrQT"
      },
      "source": [
        "Random Forest для места пауз"
      ]
    },
    {
      "cell_type": "code",
      "metadata": {
        "colab": {
          "base_uri": "https://localhost:8080/"
        },
        "id": "GrMec7Lg8xbY",
        "outputId": "c04fb56d-2548-40f7-f515-41a51f051293"
      },
      "source": [
        "from sklearn.ensemble import RandomForestClassifier\n",
        "\n",
        "clf_pause = RandomForestClassifier(max_depth=10, random_state=4)\n",
        "clf_pause.fit(X[:73000], paus[:73000])\n",
        "predicted = clf_pause.predict(X[73000:])\n",
        "print(metrics.classification_report(paus[73000:], predicted))"
      ],
      "execution_count": 15,
      "outputs": [
        {
          "output_type": "stream",
          "name": "stdout",
          "text": [
            "              precision    recall  f1-score   support\n",
            "\n",
            "           0       0.87      0.88      0.88      1401\n",
            "           1       0.62      0.60      0.61       457\n",
            "\n",
            "    accuracy                           0.81      1858\n",
            "   macro avg       0.75      0.74      0.74      1858\n",
            "weighted avg       0.81      0.81      0.81      1858\n",
            "\n"
          ]
        }
      ]
    },
    {
      "cell_type": "markdown",
      "metadata": {
        "id": "T5iMbq2jVwZa"
      },
      "source": [
        "Random Forest для длины пауз"
      ]
    },
    {
      "cell_type": "code",
      "metadata": {
        "colab": {
          "base_uri": "https://localhost:8080/"
        },
        "id": "16PfDro1KAtS",
        "outputId": "c4c5125e-0734-4ec3-c5ee-3c1d200234ea"
      },
      "source": [
        "clf_dlin = RandomForestClassifier(max_depth=10, random_state=4)\n",
        "clf_dlin.fit(X[:73000], dlin_paus[:73000])\n",
        "predicted = clf_dlin.predict(X[73000:])\n",
        "print(metrics.classification_report(dlin_paus[73000:], predicted))"
      ],
      "execution_count": 16,
      "outputs": [
        {
          "output_type": "stream",
          "name": "stdout",
          "text": [
            "              precision    recall  f1-score   support\n",
            "\n",
            "           0       0.78      0.98      0.87      1401\n",
            "           1       0.86      0.04      0.07       161\n",
            "           2       0.57      0.17      0.26       296\n",
            "\n",
            "    accuracy                           0.77      1858\n",
            "   macro avg       0.74      0.40      0.40      1858\n",
            "weighted avg       0.75      0.77      0.71      1858\n",
            "\n"
          ]
        }
      ]
    },
    {
      "cell_type": "markdown",
      "metadata": {
        "id": "QvwPv1THV7Q8"
      },
      "source": [
        "Random Forest для места ударений"
      ]
    },
    {
      "cell_type": "code",
      "metadata": {
        "colab": {
          "base_uri": "https://localhost:8080/"
        },
        "id": "9dveZilFKA3Q",
        "outputId": "1d164f4d-f883-4c5d-9009-385cc6d51190"
      },
      "source": [
        "clf_udar = RandomForestClassifier(max_depth=10, random_state=4)\n",
        "clf_udar.fit(X[:73000], udar[:73000])\n",
        "predicted = clf_udar.predict(X[73000:])\n",
        "print(metrics.classification_report(udar[73000:], predicted))"
      ],
      "execution_count": 17,
      "outputs": [
        {
          "output_type": "stream",
          "name": "stdout",
          "text": [
            "              precision    recall  f1-score   support\n",
            "\n",
            "           0       0.87      0.88      0.87      1389\n",
            "           1       0.63      0.60      0.61       469\n",
            "\n",
            "    accuracy                           0.81      1858\n",
            "   macro avg       0.75      0.74      0.74      1858\n",
            "weighted avg       0.81      0.81      0.81      1858\n",
            "\n"
          ]
        }
      ]
    },
    {
      "cell_type": "markdown",
      "metadata": {
        "id": "OKcbfhgform3"
      },
      "source": [
        "# JSON"
      ]
    },
    {
      "cell_type": "code",
      "metadata": {
        "id": "BmwGI2O3sNts"
      },
      "source": [
        "udar_test = clf_udar.predict(X_test)\n",
        "pause_test = clf_dlin.predict(X_test) + clf_pause.predict(X_test)"
      ],
      "execution_count": 20,
      "outputs": []
    },
    {
      "cell_type": "markdown",
      "metadata": {
        "id": "GOJiHVV-WCDk"
      },
      "source": [
        "Функция для приведения результатов к нужному виду"
      ]
    },
    {
      "cell_type": "code",
      "metadata": {
        "id": "D1E4s_pGql04"
      },
      "source": [
        "def create_json(sents_test, X_test, udar_test, pause_test):\n",
        "    s = []\n",
        "    i = 0\n",
        "    while i < len(sents_test):\n",
        "        w = {'words': []}\n",
        "        count = 0\n",
        "        z = -1\n",
        "        while z != 0 and i < len(sents_test):\n",
        "            w_i = {\"content\": 0, \"phrasal_stress\": False, \"pause_len\": -1}\n",
        "            w_i[\"content\"] = sents_test[i][0][1]\n",
        "            if udar_test[i] == 1:\n",
        "                w_i[\"phrasal_stress\"] = True\n",
        "            if pause_test[i] == 1:\n",
        "                w_i[\"pause_len\"] = 200\n",
        "            elif pause_test[i] >= 2:\n",
        "                w_i[\"pause_len\"] = 500\n",
        "            w['words'].append(w_i)\n",
        "            if count != 0:\n",
        "                s.append(w)\n",
        "                z = 0\n",
        "            if X_test[i][7] == 1 or X_test[i][7] == 5 or X_test[i][7] == 6 or X_test[i][7] == 7:\n",
        "                count = 1\n",
        "            i += 1\n",
        "    return s"
      ],
      "execution_count": 21,
      "outputs": []
    },
    {
      "cell_type": "markdown",
      "metadata": {
        "id": "-K7Ay8uNWRCB"
      },
      "source": [
        "Сохранение результатов в формате json"
      ]
    },
    {
      "cell_type": "code",
      "metadata": {
        "id": "nXqOFt74x0qn"
      },
      "source": [
        "import json\n",
        "json_file = create_json(sents_test, X_test, udar_test, pause_test)\n",
        "to_json= json.dumps(json_file, ensure_ascii=False)"
      ],
      "execution_count": 22,
      "outputs": []
    },
    {
      "cell_type": "code",
      "metadata": {
        "id": "qqtsspcQyJ1B"
      },
      "source": [
        "with open('/content/drive/MyDrive/3_семестр/Синтез_речи/test_file.json', 'w') as file:\n",
        "    json.dump(to_json, file)"
      ],
      "execution_count": 25,
      "outputs": []
    }
  ]
}